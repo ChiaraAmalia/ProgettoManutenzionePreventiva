{
 "cells": [
  {
   "attachments": {},
   "cell_type": "markdown",
   "metadata": {},
   "source": [
    "IMPORTAZIONE LIBRERIE"
   ]
  },
  {
   "cell_type": "code",
   "execution_count": 1,
   "metadata": {},
   "outputs": [],
   "source": [
    "import os\n",
    "import pandas as pd\n",
    "import matplotlib.pyplot as plt\n",
    "import numpy as np\n",
    "import glob\n",
    "import array \n",
    "import scipy.signal as signal\n",
    "#Processing libraries\n",
    "from sklearn.preprocessing import StandardScaler,MinMaxScaler\n",
    "import seaborn as sns\n",
    "from scipy.stats import zscore\n",
    "\n",
    "# Model libraries\n",
    "from sklearn.linear_model import LogisticRegression\n",
    "from sklearn.neighbors import KNeighborsClassifier\n",
    "from sklearn.svm import SVC, LinearSVC, NuSVC\n",
    "from sklearn.tree import DecisionTreeClassifier\n",
    "from sklearn.ensemble import RandomForestClassifier, AdaBoostClassifier, GradientBoostingClassifier, ExtraTreesClassifier, VotingClassifier\n",
    "from sklearn.neural_network import MLPClassifier\n",
    "from sklearn.discriminant_analysis import LinearDiscriminantAnalysis, QuadraticDiscriminantAnalysis\n",
    "from sklearn.naive_bayes import GaussianNB\n",
    "from sklearn.decomposition import PCA\n",
    "\n",
    "# Testing libraries\n",
    "from sklearn.model_selection import train_test_split, cross_val_score, StratifiedKFold, GridSearchCV, learning_curve\n",
    "from sklearn.metrics import accuracy_score, log_loss, confusion_matrix, classification_report, roc_curve, auc\n",
    "\n",
    "# remove warnings\n",
    "import warnings\n",
    "warnings.filterwarnings('ignore')"
   ]
  },
  {
   "attachments": {},
   "cell_type": "markdown",
   "metadata": {},
   "source": [
    "CAMBIO PATH PER ANALISI RISPETTO AL LOG DI VOLO CONSIDERATO"
   ]
  },
  {
   "cell_type": "code",
   "execution_count": 2,
   "metadata": {},
   "outputs": [
    {
     "name": "stdout",
     "output_type": "stream",
     "text": [
      "c:\\Users\\chiar\\OneDrive\\Desktop\\MantenzionePreventiva\\ProgettoManutenzionePreventiva\n"
     ]
    }
   ],
   "source": [
    "path_file = os.path.abspath(os.getcwd())\n",
    "print(path_file)\n",
    "os.chdir(path_file)"
   ]
  },
  {
   "attachments": {},
   "cell_type": "markdown",
   "metadata": {},
   "source": [
    "ARRAY CHE CONTERRA' I DATAFRAME DI CIASCUN VOLO (PER UN TOTALE DI 18)"
   ]
  },
  {
   "cell_type": "code",
   "execution_count": 3,
   "metadata": {},
   "outputs": [],
   "source": [
    "data_path = os.path.join(path_file,'*.csv') #lista di tutti gli elementi di estensione csv nella cartella path\n",
    "csv_list = glob.glob(data_path) #converte data path in un output Unix-like (ls) (*.csv -> lista di elementi con estensione csv)\n",
    "dataframe_collection = []\n",
    "df_1 = pd.DataFrame()\n",
    "\n",
    "# ciclo per scorrere tutti i csv\n",
    "for csv_file in csv_list: # ciclo che scorre i csv nella cartella path\n",
    "    df = pd.read_csv(csv_file) \n",
    "    #df = df.to_numpy()\n",
    "    #df = df.to_records(index=False)\n",
    "    #dataframe_collection.append(df)\n",
    "    df_1 = df_1.append(df,ignore_index=True)\n",
    "    #print(df)\n",
    "\n",
    "# ciclo per scorrere tutti i csv\n",
    "for csv_file in csv_list: # ciclo che scorre i csv nella cartella path\n",
    "    df = pd.read_csv(csv_file) \n",
    "    #df = df.to_numpy()\n",
    "    df = df.to_records(index=False)\n",
    "    dataframe_collection.append(df)\n",
    "\n",
    "#prova = pd.DataFrame(dataframe_collection)\n"
   ]
  },
  {
   "cell_type": "code",
   "execution_count": 4,
   "metadata": {},
   "outputs": [
    {
     "name": "stdout",
     "output_type": "stream",
     "text": [
      "      tempo  <>(GyrX)  var(GyrX)  kurt(GyrX)  RMS(GyrX)  freq1(GyrX)  \\\n",
      "0       0.0 -0.032100   0.017081   -0.399284   0.134398         78.0   \n",
      "1       1.0 -0.032346   0.017054   -0.400010   0.134356        102.0   \n",
      "2       2.0 -0.032590   0.017026   -0.400594   0.134314         98.0   \n",
      "3       3.0 -0.032832   0.016999   -0.401113   0.134271        102.0   \n",
      "4       4.0 -0.033265   0.017017   -0.412325   0.134447        102.0   \n",
      "...     ...       ...        ...         ...        ...          ...   \n",
      "1344   62.0 -0.048472   0.006254   -0.082119   0.092673          0.0   \n",
      "1345   63.0 -0.048289   0.006253   -0.081993   0.092571          0.0   \n",
      "1346   64.0 -0.048212   0.006240   -0.075446   0.092463          0.0   \n",
      "1347   65.0 -0.048179   0.006225   -0.068067   0.092367          0.0   \n",
      "1348   66.0 -0.048194   0.006211   -0.061448   0.092295          0.0   \n",
      "\n",
      "      freq2(GyrX)  amp1(GyrX)  amp2(GyrX)  <>(GyrY)  ...  amp2(RPM(ESC_5))  \\\n",
      "0            96.0    3.596543    3.414090 -0.014483  ...       5812.008175   \n",
      "1            80.0    3.601798    3.359201 -0.014131  ...       5704.453240   \n",
      "2            79.0    3.785400    3.155365 -0.013642  ...       5587.855979   \n",
      "3            71.0    3.964024    3.257887 -0.013156  ...       5462.279375   \n",
      "4            87.0    4.069144    2.898697 -0.013003  ...       5327.792013   \n",
      "...           ...         ...         ...       ...  ...               ...   \n",
      "1344        119.0   13.705592    4.427470  0.036188  ...      13757.613392   \n",
      "1345        118.0   13.703035    4.344276  0.036631  ...      13259.009540   \n",
      "1346        119.0   13.655833    4.213446  0.037145  ...      12751.414008   \n",
      "1347        130.0   13.590221    4.061607  0.037632  ...      12235.461935   \n",
      "1348        113.0   13.503484    3.886491  0.038055  ...      11711.766618   \n",
      "\n",
      "      <>(Curr(ESC_5))  var(Curr(ESC_5))  kurt(Curr(ESC_5))  RMS(Curr(ESC_5))  \\\n",
      "0            3.227550          0.201562          -1.034645          3.258537   \n",
      "1            3.229687          0.202596          -1.035832          3.260813   \n",
      "2            3.231813          0.203615          -1.037158          3.263074   \n",
      "3            3.233927          0.204620          -1.038609          3.265321   \n",
      "4            3.236028          0.205610          -1.040173          3.267554   \n",
      "...               ...               ...                ...               ...   \n",
      "1344         3.538935          0.562466          -1.024534          3.617342   \n",
      "1345         3.540628          0.562292          -1.018466          3.618975   \n",
      "1346         3.542313          0.562112          -1.012392          3.620599   \n",
      "1347         3.543990          0.561928          -1.006311          3.622215   \n",
      "1348         3.545659          0.561739          -1.000224          3.623823   \n",
      "\n",
      "      freq1(Curr(ESC_5))  freq2(Curr(ESC_5))  amp1(Curr(ESC_5))  \\\n",
      "0                  120.0               119.0          15.414952   \n",
      "1                  128.0               127.0          15.447674   \n",
      "2                  136.0               134.0          15.463306   \n",
      "3                  130.0               128.0          15.462261   \n",
      "4                  138.0               135.0          15.444971   \n",
      "...                  ...                 ...                ...   \n",
      "1344               108.0               109.0          20.020166   \n",
      "1345               110.0               111.0          20.217965   \n",
      "1346               108.0               109.0          20.375260   \n",
      "1347               108.0               109.0          20.489324   \n",
      "1348               110.0               111.0          20.557632   \n",
      "\n",
      "      amp2(Curr(ESC_5))  Guasto  \n",
      "0              8.888416       2  \n",
      "1              8.483140       2  \n",
      "2              8.173170       2  \n",
      "3              8.871637       2  \n",
      "4              9.516132       2  \n",
      "...                 ...     ...  \n",
      "1344          14.751039       0  \n",
      "1345          15.384214       0  \n",
      "1346          16.025541       0  \n",
      "1347          16.674333       0  \n",
      "1348          17.329899       0  \n",
      "\n",
      "[1349 rows x 170 columns]\n"
     ]
    }
   ],
   "source": [
    "print(df_1)"
   ]
  },
  {
   "cell_type": "code",
   "execution_count": 5,
   "metadata": {},
   "outputs": [
    {
     "name": "stdout",
     "output_type": "stream",
     "text": [
      "      tempo  <>(GyrX)  var(GyrX)  kurt(GyrX)  RMS(GyrX)  freq1(GyrX)  \\\n",
      "0       4.0 -0.062441   0.012834    0.178231   0.129216          0.0   \n",
      "1      17.0 -0.058863   0.005912    0.047303   0.096749          0.0   \n",
      "2      70.0 -0.014774   0.017749    3.548264   0.133886          0.0   \n",
      "3      86.0 -0.052679   0.025397   -0.909265   0.167673          0.0   \n",
      "4      10.0 -0.140203   0.034049   -0.827969   0.231542        103.0   \n",
      "...     ...       ...        ...         ...        ...          ...   \n",
      "1344   76.0 -0.011131   0.057593    1.920927   0.239962         88.0   \n",
      "1345   14.0 -0.043772   0.019178   -0.871602   0.145055         73.0   \n",
      "1346   66.0 -0.048194   0.006211   -0.061448   0.092295          0.0   \n",
      "1347   69.0  0.001150   0.007084   -0.282288   0.084075          0.0   \n",
      "1348   51.0 -0.129222   0.032372   -0.700008   0.221338          0.0   \n",
      "\n",
      "      freq2(GyrX)  amp1(GyrX)  amp2(GyrX)  <>(GyrY)  ...  amp2(RPM(ESC_5))  \\\n",
      "0            67.0   11.975022    5.459079  0.024647  ...       8431.644832   \n",
      "1            98.0   12.568746    2.397765  0.032566  ...      13168.966883   \n",
      "2           116.0   16.194125    5.649139 -0.011660  ...       6491.599183   \n",
      "3            98.0   29.208577    4.011628 -0.016885  ...       7143.636619   \n",
      "4             0.0    9.774118    5.730251  0.012884  ...       6634.794802   \n",
      "...           ...         ...         ...       ...  ...               ...   \n",
      "1344         87.0   14.925763   14.481597 -0.040079  ...      10956.763455   \n",
      "1345         56.0    9.764612    3.061290  0.014904  ...       9623.431275   \n",
      "1346        113.0   13.503484    3.886491  0.038055  ...      11711.766618   \n",
      "1347        119.0    5.438656    3.565059  0.014009  ...       7305.315708   \n",
      "1348        129.0   23.220755    4.594344 -0.000120  ...       4425.643157   \n",
      "\n",
      "      <>(Curr(ESC_5))  var(Curr(ESC_5))  kurt(Curr(ESC_5))  RMS(Curr(ESC_5))  \\\n",
      "0            3.513634          1.280974          -0.944253          3.690933   \n",
      "1            3.470190          0.586822          -1.301858          3.553512   \n",
      "2            3.223302          0.080045          -1.069284          3.235665   \n",
      "3            4.956636          0.653619          -1.096988          5.021988   \n",
      "4            3.365679          0.502361           0.135712          3.439297   \n",
      "...               ...               ...                ...               ...   \n",
      "1344         3.840398          0.226436          -0.674628          3.869698   \n",
      "1345         3.259370          0.539354          -1.011007          3.340863   \n",
      "1346         3.545659          0.561739          -1.000224          3.623823   \n",
      "1347         3.981786          0.775264          -1.212136          4.077749   \n",
      "1348         3.447711          0.510397           0.376142          3.520773   \n",
      "\n",
      "      freq1(Curr(ESC_5))  freq2(Curr(ESC_5))  amp1(Curr(ESC_5))  \\\n",
      "0                  107.0               106.0          15.987575   \n",
      "1                  109.0               107.0          33.634970   \n",
      "2                  135.0               132.0          15.132122   \n",
      "3                  119.0               118.0          23.752530   \n",
      "4                   89.0                90.0           8.830776   \n",
      "...                  ...                 ...                ...   \n",
      "1344               165.0               163.0          53.222606   \n",
      "1345               107.0               105.0          39.636339   \n",
      "1346               110.0               111.0          20.557632   \n",
      "1347               161.0               162.0          58.590403   \n",
      "1348                95.0                96.0           6.404712   \n",
      "\n",
      "      amp2(Curr(ESC_5))  Guasto  \n",
      "0             10.844545       0  \n",
      "1              6.816820       0  \n",
      "2              5.122848       2  \n",
      "3              8.947464       2  \n",
      "4              3.028571       0  \n",
      "...                 ...     ...  \n",
      "1344          17.188724       2  \n",
      "1345           6.897102       0  \n",
      "1346          17.329899       0  \n",
      "1347          36.642732       1  \n",
      "1348           4.443442       0  \n",
      "\n",
      "[1349 rows x 170 columns]\n"
     ]
    }
   ],
   "source": [
    "df_1 = df_1.sample(frac=1).reset_index(drop=True)\n",
    "print(df_1)"
   ]
  },
  {
   "cell_type": "code",
   "execution_count": 6,
   "metadata": {},
   "outputs": [
    {
     "name": "stdout",
     "output_type": "stream",
     "text": [
      "      <>(GyrX)  var(GyrX)  kurt(GyrX)  RMS(GyrX)  freq1(GyrX)  freq2(GyrX)  \\\n",
      "0    -0.062441   0.012834    0.178231   0.129216          0.0         67.0   \n",
      "1    -0.058863   0.005912    0.047303   0.096749          0.0         98.0   \n",
      "2    -0.014774   0.017749    3.548264   0.133886          0.0        116.0   \n",
      "3    -0.052679   0.025397   -0.909265   0.167673          0.0         98.0   \n",
      "4    -0.140203   0.034049   -0.827969   0.231542        103.0          0.0   \n",
      "...        ...        ...         ...        ...          ...          ...   \n",
      "1344 -0.011131   0.057593    1.920927   0.239962         88.0         87.0   \n",
      "1345 -0.043772   0.019178   -0.871602   0.145055         73.0         56.0   \n",
      "1346 -0.048194   0.006211   -0.061448   0.092295          0.0        113.0   \n",
      "1347  0.001150   0.007084   -0.282288   0.084075          0.0        119.0   \n",
      "1348 -0.129222   0.032372   -0.700008   0.221338          0.0        129.0   \n",
      "\n",
      "      amp1(GyrX)  amp2(GyrX)  <>(GyrY)  var(GyrY)  ...  amp2(RPM(ESC_5))  \\\n",
      "0      11.975022    5.459079  0.024647   0.005951  ...       8431.644832   \n",
      "1      12.568746    2.397765  0.032566   0.003681  ...      13168.966883   \n",
      "2      16.194125    5.649139 -0.011660   0.013270  ...       6491.599183   \n",
      "3      29.208577    4.011628 -0.016885   0.007936  ...       7143.636619   \n",
      "4       9.774118    5.730251  0.012884   0.004053  ...       6634.794802   \n",
      "...          ...         ...       ...        ...  ...               ...   \n",
      "1344   14.925763   14.481597 -0.040079   0.035108  ...      10956.763455   \n",
      "1345    9.764612    3.061290  0.014904   0.003195  ...       9623.431275   \n",
      "1346   13.503484    3.886491  0.038055   0.004395  ...      11711.766618   \n",
      "1347    5.438656    3.565059  0.014009   0.005382  ...       7305.315708   \n",
      "1348   23.220755    4.594344 -0.000120   0.005560  ...       4425.643157   \n",
      "\n",
      "      <>(Curr(ESC_5))  var(Curr(ESC_5))  kurt(Curr(ESC_5))  RMS(Curr(ESC_5))  \\\n",
      "0            3.513634          1.280974          -0.944253          3.690933   \n",
      "1            3.470190          0.586822          -1.301858          3.553512   \n",
      "2            3.223302          0.080045          -1.069284          3.235665   \n",
      "3            4.956636          0.653619          -1.096988          5.021988   \n",
      "4            3.365679          0.502361           0.135712          3.439297   \n",
      "...               ...               ...                ...               ...   \n",
      "1344         3.840398          0.226436          -0.674628          3.869698   \n",
      "1345         3.259370          0.539354          -1.011007          3.340863   \n",
      "1346         3.545659          0.561739          -1.000224          3.623823   \n",
      "1347         3.981786          0.775264          -1.212136          4.077749   \n",
      "1348         3.447711          0.510397           0.376142          3.520773   \n",
      "\n",
      "      freq1(Curr(ESC_5))  freq2(Curr(ESC_5))  amp1(Curr(ESC_5))  \\\n",
      "0                  107.0               106.0          15.987575   \n",
      "1                  109.0               107.0          33.634970   \n",
      "2                  135.0               132.0          15.132122   \n",
      "3                  119.0               118.0          23.752530   \n",
      "4                   89.0                90.0           8.830776   \n",
      "...                  ...                 ...                ...   \n",
      "1344               165.0               163.0          53.222606   \n",
      "1345               107.0               105.0          39.636339   \n",
      "1346               110.0               111.0          20.557632   \n",
      "1347               161.0               162.0          58.590403   \n",
      "1348                95.0                96.0           6.404712   \n",
      "\n",
      "      amp2(Curr(ESC_5))  Guasto  \n",
      "0             10.844545       0  \n",
      "1              6.816820       0  \n",
      "2              5.122848       2  \n",
      "3              8.947464       2  \n",
      "4              3.028571       0  \n",
      "...                 ...     ...  \n",
      "1344          17.188724       2  \n",
      "1345           6.897102       0  \n",
      "1346          17.329899       0  \n",
      "1347          36.642732       1  \n",
      "1348           4.443442       0  \n",
      "\n",
      "[1349 rows x 169 columns]\n"
     ]
    }
   ],
   "source": [
    "df_1 = df_1.drop(['tempo'], axis=1)\n",
    "print(df_1)"
   ]
  },
  {
   "cell_type": "code",
   "execution_count": null,
   "metadata": {},
   "outputs": [],
   "source": [
    "'''correlated_features = set()\n",
    "correlation_matrix = df_1.corr()\n",
    "print(correlation_matrix)\n",
    "\n",
    "for i in range(len(correlation_matrix.columns)):\n",
    "    for j in range(i):\n",
    "        if abs(correlation_matrix.iloc[i, j]) > 0.8:\n",
    "            colname = correlation_matrix.columns[i]\n",
    "            correlated_features.add(colname)\n",
    "\n",
    "print(len(correlated_features))\n",
    "print(correlated_features)\n",
    "\n",
    "df_1 = df_1.drop([col for col in df_1.columns if col in correlated_features],axis=1)\n",
    "print(df_1)'''"
   ]
  },
  {
   "cell_type": "code",
   "execution_count": null,
   "metadata": {},
   "outputs": [],
   "source": [
    "index_list = [470]\n",
    "df_test = df_1.query('index in @index_list')\n",
    "#df_test = pd.DataFrame(df_test)\n",
    "print(df_test)"
   ]
  },
  {
   "cell_type": "code",
   "execution_count": null,
   "metadata": {},
   "outputs": [],
   "source": [
    "#df_1 = df_1.drop([df_1.index[1330], df_1.index[1331]])\n",
    "df_1 = df_1.drop([df_1.index[470]])\n",
    "print(df_1)"
   ]
  },
  {
   "cell_type": "code",
   "execution_count": 7,
   "metadata": {},
   "outputs": [
    {
     "name": "stdout",
     "output_type": "stream",
     "text": [
      "No guasto:  390 Guasto 5%:  418 Guasto 10%:  541\n"
     ]
    }
   ],
   "source": [
    "guasto_10 = df_1[df_1['Guasto'] == 2]\n",
    "no_guasto = df_1[df_1['Guasto'] == 0]\n",
    "guasto_5 = df_1[df_1['Guasto'] == 1]\n",
    "\n",
    "print(\"No guasto: \", len(no_guasto), \"Guasto 5%: \", len(guasto_5), \"Guasto 10%: \", len(guasto_10))"
   ]
  },
  {
   "attachments": {},
   "cell_type": "markdown",
   "metadata": {},
   "source": [
    "### Bilanciamento del dataset"
   ]
  },
  {
   "cell_type": "code",
   "execution_count": 8,
   "metadata": {},
   "outputs": [
    {
     "data": {
      "text/plain": [
       "(1170, 169)"
      ]
     },
     "execution_count": 8,
     "metadata": {},
     "output_type": "execute_result"
    }
   ],
   "source": [
    "#bilanciamento del dataset con undersampling rispetto al no_guasto\n",
    "balanced_d = pd.concat([no_guasto, guasto_10.sample(len(no_guasto)), guasto_5.sample(len(no_guasto))])\n",
    "x = balanced_d.iloc[:,:-1]\n",
    "y = balanced_d.iloc[:,-1:]\n",
    "balanced_d.shape"
   ]
  },
  {
   "cell_type": "code",
   "execution_count": null,
   "metadata": {},
   "outputs": [],
   "source": [
    "x = df_1.iloc[:,:-1]\n",
    "y = df_1.iloc[:,-1:]"
   ]
  },
  {
   "cell_type": "code",
   "execution_count": 9,
   "metadata": {},
   "outputs": [
    {
     "name": "stdout",
     "output_type": "stream",
     "text": [
      "SelectKBest(score_func=<function f_regression at 0x00000221F9E551B0>)\n",
      "[False False False False False False False False False  True False  True\n",
      "  True False False False False False False False False False False False\n",
      " False False False False  True False False False False False  True False\n",
      " False False False False False False False False False False False False\n",
      " False False False False False False False False False False False False\n",
      " False False False False False False False False False False False False\n",
      " False False False False False False False False False False False False\n",
      " False False False False False False False False  True  True False False\n",
      " False False False False False False False False False False False False\n",
      " False False False False False False False False False False False False\n",
      " False False False False False False False False False False False False\n",
      " False False False False False False False False False False False False\n",
      " False False False False False False False False  True False  True  True\n",
      " False False False False False False False False False False False False]\n"
     ]
    }
   ],
   "source": [
    "from sklearn.feature_selection import SelectKBest, mutual_info_classif, f_classif, f_regression\n",
    "fvalue_Best = SelectKBest(score_func=f_regression, k=10)\n",
    "fit = fvalue_Best.fit(x, y)\n",
    "print(fit)\n",
    "print(fvalue_Best.get_support())"
   ]
  },
  {
   "cell_type": "code",
   "execution_count": 10,
   "metadata": {},
   "outputs": [
    {
     "name": "stdout",
     "output_type": "stream",
     "text": [
      "        Input_Features   F_Score\n",
      "152     <>(RPM(ESC_5))  6.640353\n",
      "155    RMS(RPM(ESC_5))  4.963286\n",
      "34          kurt(AccY)  3.855262\n",
      "28         freq1(AccX)  2.579611\n",
      "12         freq1(GyrY)  2.194645\n",
      "11           RMS(GyrY)  2.066293\n",
      "93   freq2(RPM(ESC_1))  2.029870\n",
      "92   freq1(RPM(ESC_1))  2.023110\n",
      "154   kurt(RPM(ESC_5))  1.986209\n",
      "9            var(GyrY)  1.975595\n",
      "14          amp1(GyrY)  1.767075\n",
      "104     <>(RPM(ESC_2))  1.661637\n",
      "161   var(Curr(ESC_5))  1.544159\n",
      "107    RMS(RPM(ESC_2))  1.407990\n",
      "78    amp1(RPM(ESC_0))  1.386471\n"
     ]
    }
   ],
   "source": [
    "features_score = pd.DataFrame(fit.scores_)\n",
    "features_score = zscore(features_score)\n",
    "features = pd.DataFrame(x.columns)\n",
    "feature_score = pd.concat([features,features_score],axis=1)\n",
    "# Assigning column names\n",
    "feature_score.columns = [\"Input_Features\",\"F_Score\"]\n",
    "print(feature_score.nlargest(15,columns=\"F_Score\"))"
   ]
  },
  {
   "cell_type": "code",
   "execution_count": 11,
   "metadata": {},
   "outputs": [
    {
     "name": "stdout",
     "output_type": "stream",
     "text": [
      "[0, 1, 2, 3, 4, 5, 6, 7, 8, 10, 13, 14, 15, 16, 17, 18, 19, 20, 21, 22, 23, 24, 25, 26, 27, 29, 30, 31, 32, 33, 35, 36, 37, 38, 39, 40, 41, 42, 43, 44, 45, 46, 47, 48, 49, 50, 51, 52, 53, 54, 55, 56, 57, 58, 59, 60, 61, 62, 63, 64, 65, 66, 67, 68, 69, 70, 71, 72, 73, 74, 75, 76, 77, 78, 79, 80, 81, 82, 83, 84, 85, 86, 87, 88, 89, 90, 91, 94, 95, 96, 97, 98, 99, 100, 101, 102, 103, 104, 105, 106, 107, 108, 109, 110, 111, 112, 113, 114, 115, 116, 117, 118, 119, 120, 121, 122, 123, 124, 125, 126, 127, 128, 129, 130, 131, 132, 133, 134, 135, 136, 137, 138, 139, 140, 141, 142, 143, 144, 145, 146, 147, 148, 149, 150, 151, 153, 156, 157, 158, 159, 160, 161, 162, 163, 164, 165, 166, 167]\n"
     ]
    }
   ],
   "source": [
    "i=0\n",
    "index_false=[]\n",
    "for el in list(fvalue_Best.get_support()):\n",
    "    if not el:\n",
    "        index_false.append(i)\n",
    "    i=i+1\n",
    "print(index_false)"
   ]
  },
  {
   "cell_type": "code",
   "execution_count": 12,
   "metadata": {},
   "outputs": [
    {
     "name": "stdout",
     "output_type": "stream",
     "text": [
      "      var(GyrY)  RMS(GyrY)  freq1(GyrY)  freq1(AccX)  kurt(AccY)  \\\n",
      "0      0.005951   0.080883         63.0        104.0   -0.457875   \n",
      "1      0.003681   0.068790         97.0        120.0   -0.706177   \n",
      "4      0.004053   0.064866         71.0        107.0   -0.410029   \n",
      "8      0.003118   0.057395         95.0        119.0   -0.593661   \n",
      "9      0.007137   0.088343         93.0        109.0   -0.480917   \n",
      "...         ...        ...          ...          ...         ...   \n",
      "371    0.011735   0.126812         95.0        108.0    0.180708   \n",
      "884    0.005646   0.077599         82.0        119.0    0.139346   \n",
      "909    0.012405   0.122436        118.0        120.0    0.133475   \n",
      "893    0.005297   0.073924        128.0        122.0    0.480803   \n",
      "1032   0.006214   0.079168        108.0         84.0    0.151073   \n",
      "\n",
      "      freq1(RPM(ESC_1))  freq2(RPM(ESC_1))  <>(RPM(ESC_5))  kurt(RPM(ESC_5))  \\\n",
      "0                  32.0               30.0     4952.402817         -1.239046   \n",
      "1                  97.0               96.0     5038.798913         -1.471290   \n",
      "4                  64.0               59.0     5135.700831         -0.750526   \n",
      "8                  63.0               62.0     5086.887435         -0.971002   \n",
      "9                  52.0               49.0     4815.002841         -0.695062   \n",
      "...                 ...                ...             ...               ...   \n",
      "371                45.0               43.0     4849.997199         -1.146129   \n",
      "884                94.0               93.0     5229.527473          0.487611   \n",
      "909                78.0               77.0     5120.697561         -0.100918   \n",
      "893                94.0               93.0     5335.583721          1.342128   \n",
      "1032              127.0              126.0     5231.422977         -0.833810   \n",
      "\n",
      "      RMS(RPM(ESC_5))  \n",
      "0         5093.373561  \n",
      "1         5144.106980  \n",
      "4         5210.033340  \n",
      "8         5178.059732  \n",
      "9         4916.215219  \n",
      "...               ...  \n",
      "371       4954.846707  \n",
      "884       5450.604381  \n",
      "909       5228.700675  \n",
      "893       5525.399412  \n",
      "1032      5322.325028  \n",
      "\n",
      "[1170 rows x 10 columns]\n"
     ]
    }
   ],
   "source": [
    "x=x.drop(x.columns[index_false],axis = 1)\n",
    "print(x)"
   ]
  },
  {
   "attachments": {},
   "cell_type": "markdown",
   "metadata": {},
   "source": [
    "### Separazione del dataset in training e test"
   ]
  },
  {
   "cell_type": "code",
   "execution_count": 13,
   "metadata": {},
   "outputs": [
    {
     "name": "stdout",
     "output_type": "stream",
     "text": [
      "(936, 10)\n",
      "(234, 10)\n",
      "(936, 1)\n",
      "(234, 1)\n"
     ]
    }
   ],
   "source": [
    "# Random state\n",
    "rs = 42\n",
    "\n",
    "# Split the data to check which algorithms learn better (later on we can check )\n",
    "x_train, x_test, y_train, y_test = train_test_split(x, y, test_size=0.2, random_state=rs)\n",
    "y_train = y_train.astype(int)\n",
    "y_test = y_test.astype(int)\n",
    "\n",
    "# look at the shape of the data (many problems can arise from wrong shape)\n",
    "print(x_train.shape)\n",
    "print(x_test.shape)\n",
    "print(y_train.shape)\n",
    "print(y_test.shape)"
   ]
  },
  {
   "cell_type": "code",
   "execution_count": null,
   "metadata": {},
   "outputs": [],
   "source": [
    "#from sklearn.feature_selection import SelectKBest, mutual_info_classif\n",
    "#sel_mutual = SelectKBest(mutual_info_classif, k=6)\n",
    "#X_train_mutual = sel_mutual.fit_transform(x_train, y_train)\n",
    "#print(sel_mutual.get_support())\n",
    "\n",
    "#i=0\n",
    "#index_false=[]\n",
    "#for el in list(sel_mutual.get_support()):\n",
    "#    if not el:\n",
    "#        index_false.append(i)\n",
    "#    i=i+1\n",
    "#print(index_false)"
   ]
  },
  {
   "cell_type": "code",
   "execution_count": null,
   "metadata": {},
   "outputs": [],
   "source": [
    "#x_train=x_train.drop(x_train.columns[index_false],axis = 1)\n",
    "#x_test=x_test.drop(x_test.columns[index_false],axis = 1)"
   ]
  },
  {
   "cell_type": "code",
   "execution_count": null,
   "metadata": {},
   "outputs": [],
   "source": [
    "x_train"
   ]
  },
  {
   "cell_type": "code",
   "execution_count": 14,
   "metadata": {},
   "outputs": [],
   "source": [
    "# List of classifiers:\n",
    "classifiers = [\n",
    "    LogisticRegression(random_state = rs),\n",
    "    DecisionTreeClassifier(random_state=rs),\n",
    "    RandomForestClassifier(n_estimators = 10, random_state=rs),\n",
    "    GradientBoostingClassifier(random_state= rs, n_estimators=10),\n",
    "    AdaBoostClassifier(n_estimators=10, random_state= rs),\n",
    "    LinearDiscriminantAnalysis(),\n",
    "    SVC(probability=True),\n",
    "    GaussianNB(),\n",
    "    KNeighborsClassifier(n_neighbors=10)\n",
    "]\n",
    "\n",
    "# List of results that will occure:\n",
    "clf_name = [] # names of the classifiers\n",
    "model_results = pd.DataFrame.copy(y_test) #resulting of prediction from the models\n",
    "\n",
    "kfold = StratifiedKFold(n_splits=5) #cross-validation\n",
    "cv_results = [] # scores from cross validation\n",
    "cv_acc = [] # mean accuracy from cross validation, need to maximize\n",
    "cv_std = [] # standard deviation from cross validation, need to minimise\n",
    "\n",
    "cnfm = [] #confusion matrix\n",
    "clr = [] #classification report\n",
    "roc_auc = [] #roc curve:\n",
    "roc_tpr = []\n",
    "roc_fpr = []"
   ]
  },
  {
   "attachments": {},
   "cell_type": "markdown",
   "metadata": {},
   "source": [
    "### Classificazione"
   ]
  },
  {
   "cell_type": "code",
   "execution_count": 15,
   "metadata": {},
   "outputs": [
    {
     "name": "stdout",
     "output_type": "stream",
     "text": [
      "Accuracy: 0.81 \t ---> LogisticRegression \n",
      "Accuracy: 1.0 \t ---> DecisionTreeClassifier \n",
      "Accuracy: 1.0 \t ---> RandomForestClassifier \n",
      "Accuracy: 1.0 \t ---> GradientBoostingClassifier \n",
      "Accuracy: 0.94 \t ---> AdaBoostClassifier \n",
      "Accuracy: 0.99 \t ---> LinearDiscriminantAnalysis \n",
      "Accuracy: 0.61 \t ---> SVC \n",
      "Accuracy: 0.98 \t ---> GaussianNB \n",
      "Accuracy: 0.99 \t ---> KNeighborsClassifier \n"
     ]
    }
   ],
   "source": [
    "# Training the algorithms and results\n",
    "for clf in classifiers:\n",
    "    name = clf.__class__.__name__\n",
    "    clf_name.append(name)\n",
    "    \n",
    "    #fitting and predictions\n",
    "    model = clf.fit(x_train, y_train.values.ravel())\n",
    "    y_pred = model.predict(x_test)\n",
    "    model_results[name] = y_pred\n",
    "    \n",
    "    #accuracy and log loss\n",
    "    cv_results.append(cross_val_score(clf, x_train, y_train.values.ravel(), scoring = \"accuracy\",cv = kfold))\n",
    "    acc = round(accuracy_score(y_test.values.ravel(), y_pred), 2) #need to maximize\n",
    "    train_pred = clf.predict_proba(x_test)\n",
    "    print(f'Accuracy: {acc} \\t ---> {name} ')\n",
    "    \n",
    "    #confusion matrix, clasification report, roc curve\n",
    "    cnfm.append(confusion_matrix(y_test.values.ravel(), y_pred))\n",
    "    clr.append(classification_report(y_test.values.ravel(), y_pred))\n",
    "    fpr, tpr, thresholds = roc_curve(y_pred, y_test.values.ravel(), pos_label=1)\n",
    "    roc_auc.append(auc(fpr, tpr))\n",
    "    roc_tpr.append(tpr)\n",
    "    roc_fpr.append(fpr)\n",
    "    \n",
    "\n",
    "for i in cv_results:\n",
    "    cv_acc.append(i.mean())\n",
    "    cv_std.append(i.std())"
   ]
  },
  {
   "attachments": {},
   "cell_type": "markdown",
   "metadata": {},
   "source": [
    "### Matrici di confusione"
   ]
  },
  {
   "cell_type": "code",
   "execution_count": null,
   "metadata": {},
   "outputs": [],
   "source": [
    "import seaborn as sns\n",
    "# Confusion matrixes (not-normalized confusion matrix)\n",
    "plt.figure(figsize=(20,15))\n",
    "sns.set(font_scale=1.4)\n",
    "for i in range(len(classifiers)):\n",
    "    plt.subplot(3,3,i+1) #adjust this acourding to the number of algorithms\n",
    "    sns.heatmap(cnfm[i], annot=True, fmt=\"d\",cmap=\"Reds\")\n",
    "    plt.subplots_adjust(hspace = 0.5)\n",
    "    plt.xlabel('Predicted')\n",
    "    plt.ylabel('Actual')\n",
    "    plt.title(clf_name[i])"
   ]
  },
  {
   "cell_type": "code",
   "execution_count": null,
   "metadata": {},
   "outputs": [],
   "source": [
    "#Classification reports\n",
    "for i in range(len(classifiers)):\n",
    "    print (f\"{clf_name[i]} Classification Report:\" )\n",
    "    print (clr[i])"
   ]
  },
  {
   "cell_type": "code",
   "execution_count": null,
   "metadata": {},
   "outputs": [],
   "source": [
    "#clf = SVC(probability=True).fit(x_train, y_train)\n",
    "clf = GaussianNB().fit(x_train, y_train)\n",
    "scores = cross_val_score(clf, x_test, y_test, cv=5)\n",
    "print(scores)"
   ]
  },
  {
   "attachments": {},
   "cell_type": "markdown",
   "metadata": {},
   "source": [
    "TESTING DEL MODELLO"
   ]
  },
  {
   "cell_type": "code",
   "execution_count": null,
   "metadata": {},
   "outputs": [],
   "source": [
    "# Drop values to avoid multicolinearity\n",
    "df_test = df_test.drop(['Guasto'], axis=1)"
   ]
  },
  {
   "cell_type": "code",
   "execution_count": null,
   "metadata": {},
   "outputs": [],
   "source": [
    "df_test=df_test.drop(df_test.columns[index_false],axis = 1)\n",
    "print(df_test)"
   ]
  },
  {
   "cell_type": "code",
   "execution_count": null,
   "metadata": {},
   "outputs": [],
   "source": [
    "guasto_pred = pd.Series(clf.predict(df_test), name='Guasto_test')\n",
    "guasto_pred.value_counts()"
   ]
  }
 ],
 "metadata": {
  "kernelspec": {
   "display_name": "Python 3",
   "language": "python",
   "name": "python3"
  },
  "language_info": {
   "codemirror_mode": {
    "name": "ipython",
    "version": 3
   },
   "file_extension": ".py",
   "mimetype": "text/x-python",
   "name": "python",
   "nbconvert_exporter": "python",
   "pygments_lexer": "ipython3",
   "version": "3.10.2"
  },
  "orig_nbformat": 4,
  "vscode": {
   "interpreter": {
    "hash": "369f2c481f4da34e4445cda3fffd2e751bd1c4d706f27375911949ba6bb62e1c"
   }
  }
 },
 "nbformat": 4,
 "nbformat_minor": 2
}
