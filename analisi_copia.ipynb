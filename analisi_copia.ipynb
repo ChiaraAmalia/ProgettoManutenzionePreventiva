{
 "cells": [
  {
   "attachments": {},
   "cell_type": "markdown",
   "metadata": {},
   "source": [
    "IMPORTAZIONE LIBRERIE"
   ]
  },
  {
   "cell_type": "code",
   "execution_count": 1,
   "metadata": {},
   "outputs": [],
   "source": [
    "import os\n",
    "import pandas as pd\n",
    "import matplotlib.pyplot as plt\n",
    "import numpy as np\n",
    "import glob\n",
    "import array \n",
    "import scipy.signal as signal\n",
    "#Processing libraries\n",
    "from sklearn.preprocessing import StandardScaler,MinMaxScaler\n",
    "import seaborn as sns\n",
    "from scipy.stats import zscore\n",
    "from sklearn.multiclass import OneVsRestClassifier\n",
    "\n",
    "# Model libraries\n",
    "from sklearn.linear_model import LogisticRegression, SGDClassifier, Perceptron\n",
    "from sklearn.neighbors import KNeighborsClassifier\n",
    "from sklearn.svm import SVC, LinearSVC, NuSVC\n",
    "from sklearn.tree import DecisionTreeClassifier\n",
    "from sklearn.ensemble import RandomForestClassifier, AdaBoostClassifier, GradientBoostingClassifier, ExtraTreesClassifier, VotingClassifier\n",
    "from sklearn.neural_network import MLPClassifier\n",
    "from sklearn.discriminant_analysis import LinearDiscriminantAnalysis, QuadraticDiscriminantAnalysis\n",
    "from sklearn.naive_bayes import GaussianNB\n",
    "from sklearn.decomposition import PCA\n",
    "from imblearn.over_sampling import SMOTE\n",
    "\n",
    "# Testing libraries\n",
    "from sklearn.model_selection import train_test_split, cross_val_score, StratifiedKFold, GridSearchCV, learning_curve\n",
    "from sklearn.metrics import accuracy_score, log_loss, confusion_matrix, classification_report, roc_curve, auc\n",
    "\n",
    "# remove warnings\n",
    "import warnings\n",
    "warnings.filterwarnings('ignore')"
   ]
  },
  {
   "attachments": {},
   "cell_type": "markdown",
   "metadata": {},
   "source": [
    "CAMBIO PATH PER ANALISI RISPETTO AL LOG DI VOLO CONSIDERAT"
   ]
  },
  {
   "cell_type": "code",
   "execution_count": 2,
   "metadata": {},
   "outputs": [
    {
     "name": "stdout",
     "output_type": "stream",
     "text": [
      "c:\\Users\\chiar\\OneDrive\\Desktop\\MantenzionePreventiva\\ProgettoManutenzionePreventiva\n"
     ]
    }
   ],
   "source": [
    "path_file = os.path.abspath(os.getcwd())\n",
    "print(path_file)\n",
    "os.chdir(path_file)"
   ]
  },
  {
   "attachments": {},
   "cell_type": "markdown",
   "metadata": {},
   "source": [
    "ARRAY CHE CONTERRA' I DATAFRAME DI CIASCUN VOLO (PER UN TOTALE DI 18)"
   ]
  },
  {
   "cell_type": "code",
   "execution_count": 3,
   "metadata": {},
   "outputs": [],
   "source": [
    "data_path = os.path.join(path_file,'*.csv') #lista di tutti gli elementi di estensione csv nella cartella path\n",
    "csv_list = glob.glob(data_path) #converte data path in un output Unix-like (ls) (*.csv -> lista di elementi con estensione csv)\n",
    "dataframe_collection = []\n",
    "df_1 = pd.DataFrame()\n",
    "\n",
    "# ciclo per scorrere tutti i csv\n",
    "for csv_file in csv_list: # ciclo che scorre i csv nella cartella path\n",
    "    df = pd.read_csv(csv_file) \n",
    "    #df = df.to_numpy()\n",
    "    #df = df.to_records(index=False)\n",
    "    #dataframe_collection.append(df)\n",
    "    df_1 = df_1.append(df,ignore_index=True)\n",
    "    #print(df)\n",
    "\n",
    "# ciclo per scorrere tutti i csv\n",
    "for csv_file in csv_list: # ciclo che scorre i csv nella cartella path\n",
    "    df = pd.read_csv(csv_file) \n",
    "    #df = df.to_numpy()\n",
    "    df = df.to_records(index=False)\n",
    "    dataframe_collection.append(df)\n",
    "\n",
    "#prova = pd.DataFrame(dataframe_collection)\n"
   ]
  },
  {
   "cell_type": "code",
   "execution_count": 4,
   "metadata": {},
   "outputs": [
    {
     "name": "stdout",
     "output_type": "stream",
     "text": [
      "      tempo  <>(GyrX)  var(GyrX)  kurt(GyrX)  RMS(GyrX)  freq1(GyrX)  \\\n",
      "0       0.0 -0.032100   0.017081   -0.399284   0.134398         78.0   \n",
      "1       1.0 -0.032346   0.017054   -0.400010   0.134356        102.0   \n",
      "2       2.0 -0.032590   0.017026   -0.400594   0.134314         98.0   \n",
      "3       3.0 -0.032832   0.016999   -0.401113   0.134271        102.0   \n",
      "4       4.0 -0.033265   0.017017   -0.412325   0.134447        102.0   \n",
      "...     ...       ...        ...         ...        ...          ...   \n",
      "1344   62.0 -0.048472   0.006254   -0.082119   0.092673          0.0   \n",
      "1345   63.0 -0.048289   0.006253   -0.081993   0.092571          0.0   \n",
      "1346   64.0 -0.048212   0.006240   -0.075446   0.092463          0.0   \n",
      "1347   65.0 -0.048179   0.006225   -0.068067   0.092367          0.0   \n",
      "1348   66.0 -0.048194   0.006211   -0.061448   0.092295          0.0   \n",
      "\n",
      "      freq2(GyrX)  amp1(GyrX)  amp2(GyrX)  <>(GyrY)  ...  amp2(RPM(ESC_5))  \\\n",
      "0            96.0    3.596543    3.414090 -0.014483  ...       5812.008175   \n",
      "1            80.0    3.601798    3.359201 -0.014131  ...       5704.453240   \n",
      "2            79.0    3.785400    3.155365 -0.013642  ...       5587.855979   \n",
      "3            71.0    3.964024    3.257887 -0.013156  ...       5462.279375   \n",
      "4            87.0    4.069144    2.898697 -0.013003  ...       5327.792013   \n",
      "...           ...         ...         ...       ...  ...               ...   \n",
      "1344        119.0   13.705592    4.427470  0.036188  ...      13757.613392   \n",
      "1345        118.0   13.703035    4.344276  0.036631  ...      13259.009540   \n",
      "1346        119.0   13.655833    4.213446  0.037145  ...      12751.414008   \n",
      "1347        130.0   13.590221    4.061607  0.037632  ...      12235.461935   \n",
      "1348        113.0   13.503484    3.886491  0.038055  ...      11711.766618   \n",
      "\n",
      "      <>(Curr(ESC_5))  var(Curr(ESC_5))  kurt(Curr(ESC_5))  RMS(Curr(ESC_5))  \\\n",
      "0            3.227550          0.201562          -1.034645          3.258537   \n",
      "1            3.229687          0.202596          -1.035832          3.260813   \n",
      "2            3.231813          0.203615          -1.037158          3.263074   \n",
      "3            3.233927          0.204620          -1.038609          3.265321   \n",
      "4            3.236028          0.205610          -1.040173          3.267554   \n",
      "...               ...               ...                ...               ...   \n",
      "1344         3.538935          0.562466          -1.024534          3.617342   \n",
      "1345         3.540628          0.562292          -1.018466          3.618975   \n",
      "1346         3.542313          0.562112          -1.012392          3.620599   \n",
      "1347         3.543990          0.561928          -1.006311          3.622215   \n",
      "1348         3.545659          0.561739          -1.000224          3.623823   \n",
      "\n",
      "      freq1(Curr(ESC_5))  freq2(Curr(ESC_5))  amp1(Curr(ESC_5))  \\\n",
      "0                  120.0               119.0          15.414952   \n",
      "1                  128.0               127.0          15.447674   \n",
      "2                  136.0               134.0          15.463306   \n",
      "3                  130.0               128.0          15.462261   \n",
      "4                  138.0               135.0          15.444971   \n",
      "...                  ...                 ...                ...   \n",
      "1344               108.0               109.0          20.020166   \n",
      "1345               110.0               111.0          20.217965   \n",
      "1346               108.0               109.0          20.375260   \n",
      "1347               108.0               109.0          20.489324   \n",
      "1348               110.0               111.0          20.557632   \n",
      "\n",
      "      amp2(Curr(ESC_5))  Guasto  \n",
      "0              8.888416       2  \n",
      "1              8.483140       2  \n",
      "2              8.173170       2  \n",
      "3              8.871637       2  \n",
      "4              9.516132       2  \n",
      "...                 ...     ...  \n",
      "1344          14.751039       0  \n",
      "1345          15.384214       0  \n",
      "1346          16.025541       0  \n",
      "1347          16.674333       0  \n",
      "1348          17.329899       0  \n",
      "\n",
      "[1349 rows x 170 columns]\n"
     ]
    }
   ],
   "source": [
    "print(df_1)"
   ]
  },
  {
   "cell_type": "code",
   "execution_count": 5,
   "metadata": {},
   "outputs": [
    {
     "name": "stdout",
     "output_type": "stream",
     "text": [
      "      tempo  <>(GyrX)  var(GyrX)  kurt(GyrX)  RMS(GyrX)  freq1(GyrX)  \\\n",
      "0      24.0 -0.040961   0.026739    1.541107   0.168360         82.0   \n",
      "1      75.0 -0.009756   0.056919    1.966266   0.238497         97.0   \n",
      "2      10.0 -0.110983   0.039892   -0.447007   0.228251         48.0   \n",
      "3      74.0 -0.049007   0.016068   -0.482525   0.135766        104.0   \n",
      "4      22.0 -0.062540   0.012313    0.288847   0.127247          0.0   \n",
      "...     ...       ...        ...         ...        ...          ...   \n",
      "1344   47.0 -0.069582   0.010484    0.902041   0.123690          0.0   \n",
      "1345   40.0 -0.043344   0.018032   -0.745439   0.140943         81.0   \n",
      "1346   95.0 -0.003539   0.007143   -0.259690   0.084493          0.0   \n",
      "1347   64.0  0.001337   0.052682    2.293287   0.229253         85.0   \n",
      "1348   11.0  0.001594   0.011049    3.216197   0.104983         64.0   \n",
      "\n",
      "      freq2(GyrX)  amp1(GyrX)  amp2(GyrX)  <>(GyrY)  ...  amp2(RPM(ESC_5))  \\\n",
      "0            81.0    8.678891    6.266745 -0.012120  ...       5311.407962   \n",
      "1            96.0   11.743167    9.073536 -0.040524  ...      10880.660758   \n",
      "2            67.0    6.807462    3.340458  0.047647  ...       4653.111688   \n",
      "3            90.0    3.673577    3.496694  0.006356  ...       9593.215346   \n",
      "4            66.0   12.740832    5.414982  0.018269  ...      11533.859046   \n",
      "...           ...         ...         ...       ...  ...               ...   \n",
      "1344         86.0   11.751792    3.980369  0.019075  ...       8297.234540   \n",
      "1345         79.0   13.096595    3.555755  0.012679  ...       7755.946307   \n",
      "1346         95.0    5.372192    2.070122  0.012078  ...      13353.735986   \n",
      "1347        108.0   16.453111    6.232954 -0.041464  ...      11628.694767   \n",
      "1348         85.0    5.303017    3.757308  0.066306  ...      11868.897981   \n",
      "\n",
      "      <>(Curr(ESC_5))  var(Curr(ESC_5))  kurt(Curr(ESC_5))  RMS(Curr(ESC_5))  \\\n",
      "0            3.847547          0.099499           0.396893          3.860421   \n",
      "1            3.839249          0.226403          -0.677097          3.868553   \n",
      "2            3.199834          0.570203          -0.913110          3.287485   \n",
      "3            3.395741          0.304257          -1.003083          3.440145   \n",
      "4            3.541448          1.234290          -0.801062          3.711177   \n",
      "...               ...               ...                ...               ...   \n",
      "1344         2.947010          0.222559           0.669751          2.984438   \n",
      "1345         3.293990          0.520266          -0.839636          3.371840   \n",
      "1346         4.022489          0.756790          -1.308451          4.115278   \n",
      "1347         3.826241          0.225850          -0.701906          3.855571   \n",
      "1348         3.431906          0.689054          -0.708963          3.530599   \n",
      "\n",
      "      freq1(Curr(ESC_5))  freq2(Curr(ESC_5))  amp1(Curr(ESC_5))  \\\n",
      "0                  122.0               121.0          22.017148   \n",
      "1                  170.0               168.0          52.382834   \n",
      "2                  139.0               138.0          59.171875   \n",
      "3                  148.0               151.0           9.526945   \n",
      "4                  107.0               109.0          14.907368   \n",
      "...                  ...                 ...                ...   \n",
      "1344               118.0               117.0          33.550100   \n",
      "1345               117.0               115.0          22.905421   \n",
      "1346               169.0               170.0          48.624276   \n",
      "1347               165.0               163.0          41.789340   \n",
      "1348                93.0                91.0          11.920655   \n",
      "\n",
      "      amp2(Curr(ESC_5))  Guasto  \n",
      "0             10.271169       2  \n",
      "1             17.434840       2  \n",
      "2             16.256488       1  \n",
      "3              8.721390       2  \n",
      "4             11.351456       0  \n",
      "...                 ...     ...  \n",
      "1344          29.839759       0  \n",
      "1345           9.402588       0  \n",
      "1346          44.308898       1  \n",
      "1347          16.479337       2  \n",
      "1348           9.707324       1  \n",
      "\n",
      "[1349 rows x 170 columns]\n"
     ]
    }
   ],
   "source": [
    "df_1 = df_1.sample(frac=1).reset_index(drop=True)\n",
    "print(df_1)"
   ]
  },
  {
   "cell_type": "code",
   "execution_count": 6,
   "metadata": {},
   "outputs": [
    {
     "name": "stdout",
     "output_type": "stream",
     "text": [
      "      <>(GyrX)  var(GyrX)  kurt(GyrX)  RMS(GyrX)  freq1(GyrX)  freq2(GyrX)  \\\n",
      "0    -0.040961   0.026739    1.541107   0.168360         82.0         81.0   \n",
      "1    -0.009756   0.056919    1.966266   0.238497         97.0         96.0   \n",
      "2    -0.110983   0.039892   -0.447007   0.228251         48.0         67.0   \n",
      "3    -0.049007   0.016068   -0.482525   0.135766        104.0         90.0   \n",
      "4    -0.062540   0.012313    0.288847   0.127247          0.0         66.0   \n",
      "...        ...        ...         ...        ...          ...          ...   \n",
      "1344 -0.069582   0.010484    0.902041   0.123690          0.0         86.0   \n",
      "1345 -0.043344   0.018032   -0.745439   0.140943         81.0         79.0   \n",
      "1346 -0.003539   0.007143   -0.259690   0.084493          0.0         95.0   \n",
      "1347  0.001337   0.052682    2.293287   0.229253         85.0        108.0   \n",
      "1348  0.001594   0.011049    3.216197   0.104983         64.0         85.0   \n",
      "\n",
      "      amp1(GyrX)  amp2(GyrX)  <>(GyrY)  var(GyrY)  ...  amp2(RPM(ESC_5))  \\\n",
      "0       8.678891    6.266745 -0.012120   0.009008  ...       5311.407962   \n",
      "1      11.743167    9.073536 -0.040524   0.035106  ...      10880.660758   \n",
      "2       6.807462    3.340458  0.047647   0.010558  ...       4653.111688   \n",
      "3       3.673577    3.496694  0.006356   0.025680  ...       9593.215346   \n",
      "4      12.740832    5.414982  0.018269   0.006557  ...      11533.859046   \n",
      "...          ...         ...       ...        ...  ...               ...   \n",
      "1344   11.751792    3.980369  0.019075   0.007048  ...       8297.234540   \n",
      "1345   13.096595    3.555755  0.012679   0.003101  ...       7755.946307   \n",
      "1346    5.372192    2.070122  0.012078   0.005171  ...      13353.735986   \n",
      "1347   16.453111    6.232954 -0.041464   0.035825  ...      11628.694767   \n",
      "1348    5.303017    3.757308  0.066306   0.011576  ...      11868.897981   \n",
      "\n",
      "      <>(Curr(ESC_5))  var(Curr(ESC_5))  kurt(Curr(ESC_5))  RMS(Curr(ESC_5))  \\\n",
      "0            3.847547          0.099499           0.396893          3.860421   \n",
      "1            3.839249          0.226403          -0.677097          3.868553   \n",
      "2            3.199834          0.570203          -0.913110          3.287485   \n",
      "3            3.395741          0.304257          -1.003083          3.440145   \n",
      "4            3.541448          1.234290          -0.801062          3.711177   \n",
      "...               ...               ...                ...               ...   \n",
      "1344         2.947010          0.222559           0.669751          2.984438   \n",
      "1345         3.293990          0.520266          -0.839636          3.371840   \n",
      "1346         4.022489          0.756790          -1.308451          4.115278   \n",
      "1347         3.826241          0.225850          -0.701906          3.855571   \n",
      "1348         3.431906          0.689054          -0.708963          3.530599   \n",
      "\n",
      "      freq1(Curr(ESC_5))  freq2(Curr(ESC_5))  amp1(Curr(ESC_5))  \\\n",
      "0                  122.0               121.0          22.017148   \n",
      "1                  170.0               168.0          52.382834   \n",
      "2                  139.0               138.0          59.171875   \n",
      "3                  148.0               151.0           9.526945   \n",
      "4                  107.0               109.0          14.907368   \n",
      "...                  ...                 ...                ...   \n",
      "1344               118.0               117.0          33.550100   \n",
      "1345               117.0               115.0          22.905421   \n",
      "1346               169.0               170.0          48.624276   \n",
      "1347               165.0               163.0          41.789340   \n",
      "1348                93.0                91.0          11.920655   \n",
      "\n",
      "      amp2(Curr(ESC_5))  Guasto  \n",
      "0             10.271169       2  \n",
      "1             17.434840       2  \n",
      "2             16.256488       1  \n",
      "3              8.721390       2  \n",
      "4             11.351456       0  \n",
      "...                 ...     ...  \n",
      "1344          29.839759       0  \n",
      "1345           9.402588       0  \n",
      "1346          44.308898       1  \n",
      "1347          16.479337       2  \n",
      "1348           9.707324       1  \n",
      "\n",
      "[1349 rows x 169 columns]\n"
     ]
    }
   ],
   "source": [
    "df_1 = df_1.drop(['tempo'], axis=1)\n",
    "print(df_1)"
   ]
  },
  {
   "cell_type": "code",
   "execution_count": 7,
   "metadata": {},
   "outputs": [
    {
     "name": "stdout",
     "output_type": "stream",
     "text": [
      "Index(['<>(RPM(ESC_5))', 'RMS(RPM(ESC_5))'], dtype='object')\n",
      "Index(['<>(GyrX)', 'var(GyrX)', 'kurt(GyrX)', 'RMS(GyrX)', 'freq1(GyrX)',\n",
      "       'freq2(GyrX)', 'amp1(GyrX)', 'amp2(GyrX)', '<>(GyrY)', 'var(GyrY)',\n",
      "       ...\n",
      "       'amp2(RPM(ESC_5))', '<>(Curr(ESC_5))', 'var(Curr(ESC_5))',\n",
      "       'kurt(Curr(ESC_5))', 'RMS(Curr(ESC_5))', 'freq1(Curr(ESC_5))',\n",
      "       'freq2(Curr(ESC_5))', 'amp1(Curr(ESC_5))', 'amp2(Curr(ESC_5))',\n",
      "       'Guasto'],\n",
      "      dtype='object', length=167)\n"
     ]
    }
   ],
   "source": [
    "correlated_features = set()\n",
    "correlation = df_1[df_1.columns[1:]].corr()['Guasto'][:].abs()\n",
    "correlation = correlation.loc[lambda x : ((x > 0.7) & (x < 1))]\n",
    "index = correlation.index\n",
    "print(index)\n",
    "df_1 = df_1.drop([col for col in df_1.columns if col in index],axis=1)\n",
    "print(df_1.columns)"
   ]
  },
  {
   "cell_type": "code",
   "execution_count": 8,
   "metadata": {},
   "outputs": [
    {
     "name": "stdout",
     "output_type": "stream",
     "text": [
      "     <>(GyrX)  var(GyrX)  kurt(GyrX)  RMS(GyrX)  freq1(GyrX)  freq2(GyrX)  \\\n",
      "340 -0.039874   0.016941   -0.502188   0.135965        114.0         92.0   \n",
      "\n",
      "     amp1(GyrX)  amp2(GyrX)  <>(GyrY)  var(GyrY)  ...  amp2(RPM(ESC_5))  \\\n",
      "340    5.540051    3.474806 -0.004834   0.027543  ...       7366.584245   \n",
      "\n",
      "     <>(Curr(ESC_5))  var(Curr(ESC_5))  kurt(Curr(ESC_5))  RMS(Curr(ESC_5))  \\\n",
      "340         3.285491          0.233687          -1.009548           3.32077   \n",
      "\n",
      "     freq1(Curr(ESC_5))  freq2(Curr(ESC_5))  amp1(Curr(ESC_5))  \\\n",
      "340               135.0               136.0          14.529117   \n",
      "\n",
      "     amp2(Curr(ESC_5))  Guasto  \n",
      "340          14.130003       2  \n",
      "\n",
      "[1 rows x 167 columns]\n"
     ]
    }
   ],
   "source": [
    "index_list = [340]\n",
    "df_test = df_1.query('index in @index_list')\n",
    "#df_test = pd.DataFrame(df_test)\n",
    "print(df_test)"
   ]
  },
  {
   "cell_type": "code",
   "execution_count": 9,
   "metadata": {},
   "outputs": [],
   "source": [
    "# Drop values to avoid multicolinearity\n",
    "df_test = df_test.drop(['Guasto'], axis=1)"
   ]
  },
  {
   "cell_type": "code",
   "execution_count": 10,
   "metadata": {},
   "outputs": [
    {
     "name": "stdout",
     "output_type": "stream",
     "text": [
      "      <>(GyrX)  var(GyrX)  kurt(GyrX)  RMS(GyrX)  freq1(GyrX)  freq2(GyrX)  \\\n",
      "0    -0.040961   0.026739    1.541107   0.168360         82.0         81.0   \n",
      "1    -0.009756   0.056919    1.966266   0.238497         97.0         96.0   \n",
      "2    -0.110983   0.039892   -0.447007   0.228251         48.0         67.0   \n",
      "3    -0.049007   0.016068   -0.482525   0.135766        104.0         90.0   \n",
      "4    -0.062540   0.012313    0.288847   0.127247          0.0         66.0   \n",
      "...        ...        ...         ...        ...          ...          ...   \n",
      "1344 -0.069582   0.010484    0.902041   0.123690          0.0         86.0   \n",
      "1345 -0.043344   0.018032   -0.745439   0.140943         81.0         79.0   \n",
      "1346 -0.003539   0.007143   -0.259690   0.084493          0.0         95.0   \n",
      "1347  0.001337   0.052682    2.293287   0.229253         85.0        108.0   \n",
      "1348  0.001594   0.011049    3.216197   0.104983         64.0         85.0   \n",
      "\n",
      "      amp1(GyrX)  amp2(GyrX)  <>(GyrY)  var(GyrY)  ...  amp2(RPM(ESC_5))  \\\n",
      "0       8.678891    6.266745 -0.012120   0.009008  ...       5311.407962   \n",
      "1      11.743167    9.073536 -0.040524   0.035106  ...      10880.660758   \n",
      "2       6.807462    3.340458  0.047647   0.010558  ...       4653.111688   \n",
      "3       3.673577    3.496694  0.006356   0.025680  ...       9593.215346   \n",
      "4      12.740832    5.414982  0.018269   0.006557  ...      11533.859046   \n",
      "...          ...         ...       ...        ...  ...               ...   \n",
      "1344   11.751792    3.980369  0.019075   0.007048  ...       8297.234540   \n",
      "1345   13.096595    3.555755  0.012679   0.003101  ...       7755.946307   \n",
      "1346    5.372192    2.070122  0.012078   0.005171  ...      13353.735986   \n",
      "1347   16.453111    6.232954 -0.041464   0.035825  ...      11628.694767   \n",
      "1348    5.303017    3.757308  0.066306   0.011576  ...      11868.897981   \n",
      "\n",
      "      <>(Curr(ESC_5))  var(Curr(ESC_5))  kurt(Curr(ESC_5))  RMS(Curr(ESC_5))  \\\n",
      "0            3.847547          0.099499           0.396893          3.860421   \n",
      "1            3.839249          0.226403          -0.677097          3.868553   \n",
      "2            3.199834          0.570203          -0.913110          3.287485   \n",
      "3            3.395741          0.304257          -1.003083          3.440145   \n",
      "4            3.541448          1.234290          -0.801062          3.711177   \n",
      "...               ...               ...                ...               ...   \n",
      "1344         2.947010          0.222559           0.669751          2.984438   \n",
      "1345         3.293990          0.520266          -0.839636          3.371840   \n",
      "1346         4.022489          0.756790          -1.308451          4.115278   \n",
      "1347         3.826241          0.225850          -0.701906          3.855571   \n",
      "1348         3.431906          0.689054          -0.708963          3.530599   \n",
      "\n",
      "      freq1(Curr(ESC_5))  freq2(Curr(ESC_5))  amp1(Curr(ESC_5))  \\\n",
      "0                  122.0               121.0          22.017148   \n",
      "1                  170.0               168.0          52.382834   \n",
      "2                  139.0               138.0          59.171875   \n",
      "3                  148.0               151.0           9.526945   \n",
      "4                  107.0               109.0          14.907368   \n",
      "...                  ...                 ...                ...   \n",
      "1344               118.0               117.0          33.550100   \n",
      "1345               117.0               115.0          22.905421   \n",
      "1346               169.0               170.0          48.624276   \n",
      "1347               165.0               163.0          41.789340   \n",
      "1348                93.0                91.0          11.920655   \n",
      "\n",
      "      amp2(Curr(ESC_5))  Guasto  \n",
      "0             10.271169       2  \n",
      "1             17.434840       2  \n",
      "2             16.256488       1  \n",
      "3              8.721390       2  \n",
      "4             11.351456       0  \n",
      "...                 ...     ...  \n",
      "1344          29.839759       0  \n",
      "1345           9.402588       0  \n",
      "1346          44.308898       1  \n",
      "1347          16.479337       2  \n",
      "1348           9.707324       1  \n",
      "\n",
      "[1348 rows x 167 columns]\n"
     ]
    }
   ],
   "source": [
    "#df_1 = df_1.drop([df_1.index[1330], df_1.index[1331]])\n",
    "df_1 = df_1.drop([df_1.index[340]])\n",
    "print(df_1)"
   ]
  },
  {
   "attachments": {},
   "cell_type": "markdown",
   "metadata": {},
   "source": [
    "### Bilanciamento del dataset"
   ]
  },
  {
   "cell_type": "code",
   "execution_count": 11,
   "metadata": {},
   "outputs": [],
   "source": [
    "x = df_1.iloc[:,:-1]\n",
    "y = df_1.iloc[:,-1:]"
   ]
  },
  {
   "cell_type": "code",
   "execution_count": 12,
   "metadata": {},
   "outputs": [
    {
     "name": "stdout",
     "output_type": "stream",
     "text": [
      "      <>(GyrX)  var(GyrX)  kurt(GyrX)  RMS(GyrX)  freq1(GyrX)  freq2(GyrX)  \\\n",
      "0    -0.040961   0.026739    1.541107   0.168360    82.000000    81.000000   \n",
      "1    -0.009756   0.056919    1.966266   0.238497    97.000000    96.000000   \n",
      "2    -0.110983   0.039892   -0.447007   0.228251    48.000000    67.000000   \n",
      "3    -0.049007   0.016068   -0.482525   0.135766   104.000000    90.000000   \n",
      "4    -0.062540   0.012313    0.288847   0.127247     0.000000    66.000000   \n",
      "...        ...        ...         ...        ...          ...          ...   \n",
      "1615 -0.029641   0.010017    2.084826   0.104261    63.199168    83.370478   \n",
      "1616 -0.140203   0.040973   -1.521426   0.246018    87.610916    70.914692   \n",
      "1617 -0.116205   0.039946   -0.469398   0.230958    53.627752    59.533026   \n",
      "1618 -0.020896   0.009787    2.527312   0.100977    54.939982    74.626655   \n",
      "1619  0.009623   0.007576   -0.459771   0.087451    69.784200    88.568399   \n",
      "\n",
      "      amp1(GyrX)  amp2(GyrX)  <>(GyrY)  var(GyrY)  ...  amp1(RPM(ESC_5))  \\\n",
      "0       8.678891    6.266745 -0.012120   0.009008  ...       6773.014412   \n",
      "1      11.743167    9.073536 -0.040524   0.035106  ...      16940.644879   \n",
      "2       6.807462    3.340458  0.047647   0.010558  ...      10350.353447   \n",
      "3       3.673577    3.496694  0.006356   0.025680  ...      10374.520432   \n",
      "4      12.740832    5.414982  0.018269   0.006557  ...      18070.486343   \n",
      "...          ...         ...       ...        ...  ...               ...   \n",
      "1615    4.469951    4.023824 -0.008888   0.006053  ...       7317.546969   \n",
      "1616    5.375549    4.951639  0.028066   0.008933  ...      22262.647984   \n",
      "1617    6.331485    5.095659  0.045726   0.010461  ...      11110.644595   \n",
      "1618    4.854870    3.710983 -0.007790   0.006545  ...       6331.111458   \n",
      "1619    1.978689    1.822208  0.021252   0.005599  ...      14876.472674   \n",
      "\n",
      "      amp2(RPM(ESC_5))  <>(Curr(ESC_5))  var(Curr(ESC_5))  kurt(Curr(ESC_5))  \\\n",
      "0          5311.407962         3.847547          0.099499           0.396893   \n",
      "1         10880.660758         3.839249          0.226403          -0.677097   \n",
      "2          4653.111688         3.199834          0.570203          -0.913110   \n",
      "3          9593.215346         3.395741          0.304257          -1.003083   \n",
      "4         11533.859046         3.541448          1.234290          -0.801062   \n",
      "...                ...              ...               ...                ...   \n",
      "1615       5179.875027         3.396142          0.474167          -0.173996   \n",
      "1616      11256.457490         4.151909          0.793911          -0.227142   \n",
      "1617      10855.749123         3.216722          0.566158          -0.895997   \n",
      "1618       2809.254521         3.417816          0.508384          -0.269080   \n",
      "1619      11547.320956         4.056074          0.864798          -1.481419   \n",
      "\n",
      "      RMS(Curr(ESC_5))  freq1(Curr(ESC_5))  freq2(Curr(ESC_5))  \\\n",
      "0             3.860421          122.000000          121.000000   \n",
      "1             3.868553          170.000000          168.000000   \n",
      "2             3.287485          139.000000          138.000000   \n",
      "3             3.440145          148.000000          151.000000   \n",
      "4             3.711177          107.000000          109.000000   \n",
      "...                ...                 ...                 ...   \n",
      "1615          3.465075          137.342620          136.342620   \n",
      "1616          4.246201          123.505122          120.505122   \n",
      "1617          3.303321          137.000000          136.000000   \n",
      "1618          3.491196          139.373345          140.373345   \n",
      "1619          4.161023          140.928067          141.928067   \n",
      "\n",
      "      amp1(Curr(ESC_5))  amp2(Curr(ESC_5))  \n",
      "0             22.017148          10.271169  \n",
      "1             52.382834          17.434840  \n",
      "2             59.171875          16.256488  \n",
      "3              9.526945           8.721390  \n",
      "4             14.907368          11.351456  \n",
      "...                 ...                ...  \n",
      "1615          16.505442          13.616079  \n",
      "1616          46.123572          15.167259  \n",
      "1617          58.413353          20.023345  \n",
      "1618          11.846073          10.733566  \n",
      "1619          54.201697          26.700996  \n",
      "\n",
      "[1620 rows x 166 columns]\n"
     ]
    }
   ],
   "source": [
    "oversample = SMOTE()\n",
    "x, y = oversample.fit_resample(x,y)\n",
    "print(x)"
   ]
  },
  {
   "attachments": {},
   "cell_type": "markdown",
   "metadata": {},
   "source": [
    "# Selezione feature più importanti"
   ]
  },
  {
   "cell_type": "code",
   "execution_count": 13,
   "metadata": {},
   "outputs": [
    {
     "name": "stdout",
     "output_type": "stream",
     "text": [
      "SelectKBest(k=40, score_func=<function f_regression at 0x000001E02E549120>)\n",
      "[ True  True False False  True False False False  True  True False  True\n",
      "  True False  True  True False  True  True  True False False  True False\n",
      " False False False False  True False  True False  True False  True  True\n",
      " False False False False False False False False False False False  True\n",
      " False False False False False False False False False  True False  True\n",
      " False False  True False False False False False False False False False\n",
      " False False False False  True  True  True False  True  True False  True\n",
      " False False False False False False False False  True  True False False\n",
      " False  True False False False False False False  True False False  True\n",
      " False False False False False False False False False False False False\n",
      " False False False False False False False False False False False False\n",
      " False False False False False False  True False False False False False\n",
      " False False  True False False False False False  True  True False False\n",
      "  True False  True  True False False False False False False]\n"
     ]
    }
   ],
   "source": [
    "from sklearn.feature_selection import SelectKBest, mutual_info_classif, f_classif, f_regression\n",
    "fvalue_Best = SelectKBest(score_func=f_regression, k=40)\n",
    "fit = fvalue_Best.fit(x, y)\n",
    "print(fit)\n",
    "print(fvalue_Best.get_support())"
   ]
  },
  {
   "cell_type": "code",
   "execution_count": 14,
   "metadata": {},
   "outputs": [
    {
     "name": "stdout",
     "output_type": "stream",
     "text": [
      "        Input_Features   F_Score\n",
      "34          kurt(AccY)  5.409782\n",
      "28         freq1(AccX)  3.554892\n",
      "12         freq1(GyrY)  3.229126\n",
      "11           RMS(GyrY)  2.893122\n",
      "9            var(GyrY)  2.715083\n",
      "93   freq2(RPM(ESC_1))  2.543377\n",
      "92   freq1(RPM(ESC_1))  2.532720\n",
      "153   kurt(RPM(ESC_5))  2.464323\n",
      "14          amp1(GyrY)  2.390665\n",
      "104     <>(RPM(ESC_2))  2.058774\n",
      "159   var(Curr(ESC_5))  2.032805\n",
      "8             <>(GyrY)  1.835882\n",
      "107    RMS(RPM(ESC_2))  1.747569\n",
      "22          amp1(GyrZ)  1.723756\n",
      "78    amp1(RPM(ESC_0))  1.703911\n",
      "152    var(RPM(ESC_5))  1.612495\n",
      "32            <>(AccY)  1.571581\n",
      "62         amp1(Pitch)  1.295796\n",
      "80     <>(Curr(ESC_0))  1.136346\n",
      "30          amp1(AccX)  1.063145\n",
      "17           var(GyrZ)  1.032293\n",
      "57          var(Pitch)  0.926246\n",
      "76   freq1(RPM(ESC_0))  0.916036\n",
      "4          freq1(GyrX)  0.879062\n",
      "19           RMS(GyrZ)  0.828379\n",
      "77   freq2(RPM(ESC_0))  0.774766\n",
      "83    RMS(Curr(ESC_0))  0.727042\n",
      "156   amp1(RPM(ESC_5))  0.693912\n",
      "97    var(Curr(ESC_1))  0.657164\n",
      "0             <>(GyrX)  0.597450\n",
      "15          amp2(GyrY)  0.591052\n",
      "59          RMS(Pitch)  0.548976\n",
      "81    var(Curr(ESC_0))  0.533623\n",
      "158    <>(Curr(ESC_5))  0.421510\n",
      "146  kurt(Curr(ESC_4))  0.294438\n",
      "138   kurt(RPM(ESC_4))  0.263689\n",
      "1            var(GyrX)  0.202337\n",
      "47          amp2(AccZ)  0.190872\n",
      "18          kurt(GyrZ)  0.189214\n",
      "35           RMS(AccY)  0.178951\n",
      "103  amp2(Curr(ESC_1))  0.178270\n",
      "125  freq2(RPM(ESC_3))  0.165073\n",
      "124  freq1(RPM(ESC_3))  0.160764\n",
      "60        freq1(Pitch)  0.160697\n",
      "90    kurt(RPM(ESC_1))  0.154966\n",
      "113   var(Curr(ESC_2))  0.128628\n",
      "24            <>(AccX)  0.093299\n",
      "157   amp2(RPM(ESC_5))  0.080616\n",
      "161   RMS(Curr(ESC_5))  0.037499\n",
      "31          amp2(AccX)  0.031358\n",
      "99    RMS(Curr(ESC_1))  0.028470\n",
      "122   kurt(RPM(ESC_3))  0.025640\n",
      "72      <>(RPM(ESC_0)) -0.005477\n",
      "46          amp1(AccZ) -0.027501\n",
      "61        freq2(Pitch) -0.027742\n",
      "51           RMS(Roll) -0.071420\n",
      "50          kurt(Roll) -0.076053\n",
      "112    <>(Curr(ESC_2)) -0.089497\n",
      "33           var(AccY) -0.129516\n",
      "2           kurt(GyrX) -0.147551\n"
     ]
    }
   ],
   "source": [
    "features_score = pd.DataFrame(fit.scores_)\n",
    "features_score = zscore(features_score)\n",
    "features = pd.DataFrame(x.columns)\n",
    "feature_score = pd.concat([features,features_score],axis=1)\n",
    "# Assigning column names\n",
    "feature_score.columns = [\"Input_Features\",\"F_Score\"]\n",
    "print(feature_score.nlargest(60,columns=\"F_Score\"))"
   ]
  },
  {
   "cell_type": "code",
   "execution_count": 15,
   "metadata": {},
   "outputs": [
    {
     "name": "stdout",
     "output_type": "stream",
     "text": [
      "[2, 3, 5, 6, 7, 10, 13, 16, 20, 21, 23, 24, 25, 26, 27, 29, 31, 33, 36, 37, 38, 39, 40, 41, 42, 43, 44, 45, 46, 48, 49, 50, 51, 52, 53, 54, 55, 56, 58, 60, 61, 63, 64, 65, 66, 67, 68, 69, 70, 71, 72, 73, 74, 75, 79, 82, 84, 85, 86, 87, 88, 89, 90, 91, 94, 95, 96, 98, 99, 100, 101, 102, 103, 105, 106, 108, 109, 110, 111, 112, 113, 114, 115, 116, 117, 118, 119, 120, 121, 122, 123, 124, 125, 126, 127, 128, 129, 130, 131, 132, 133, 134, 135, 136, 137, 139, 140, 141, 142, 143, 144, 145, 147, 148, 149, 150, 151, 154, 155, 157, 160, 161, 162, 163, 164, 165]\n"
     ]
    }
   ],
   "source": [
    "i=0\n",
    "index_false=[]\n",
    "for el in list(fvalue_Best.get_support()):\n",
    "    if not el:\n",
    "        index_false.append(i)\n",
    "    i=i+1\n",
    "print(index_false)"
   ]
  },
  {
   "cell_type": "code",
   "execution_count": 16,
   "metadata": {},
   "outputs": [
    {
     "name": "stdout",
     "output_type": "stream",
     "text": [
      "      <>(GyrX)  var(GyrX)  freq1(GyrX)  <>(GyrY)  var(GyrY)  RMS(GyrY)  \\\n",
      "0    -0.040961   0.026739    82.000000 -0.012120   0.009008   0.095557   \n",
      "1    -0.009756   0.056919    97.000000 -0.040524   0.035106   0.191483   \n",
      "2    -0.110983   0.039892    48.000000  0.047647   0.010558   0.113132   \n",
      "3    -0.049007   0.016068   104.000000  0.006356   0.025680   0.160187   \n",
      "4    -0.062540   0.012313     0.000000  0.018269   0.006557   0.082904   \n",
      "...        ...        ...          ...       ...        ...        ...   \n",
      "1615 -0.029641   0.010017    63.199168 -0.008888   0.006053   0.078208   \n",
      "1616 -0.140203   0.040973    87.610916  0.028066   0.008933   0.098476   \n",
      "1617 -0.116205   0.039946    53.627752  0.045726   0.010461   0.111911   \n",
      "1618 -0.020896   0.009787    54.939982 -0.007790   0.006545   0.081162   \n",
      "1619  0.009623   0.007576    69.784200  0.021252   0.005599   0.077686   \n",
      "\n",
      "      freq1(GyrY)  amp1(GyrY)  amp2(GyrY)  var(GyrZ)  ...  var(Curr(ESC_1))  \\\n",
      "0        0.000000    6.381705    3.451224   0.007125  ...          1.249967   \n",
      "1        0.000000   23.081574    5.015988   0.017802  ...          1.050199   \n",
      "2       93.000000    6.745280    2.095832   0.004514  ...          0.503154   \n",
      "3        0.000000   16.890651    2.272048   0.021739  ...          0.590154   \n",
      "4       95.000000    2.260965    1.637041   0.004795  ...          0.208814   \n",
      "...           ...         ...         ...        ...  ...               ...   \n",
      "1615   106.171310    7.391167    2.427298   0.004509  ...          0.551790   \n",
      "1616    83.378841    3.003654    1.978673   0.005502  ...          0.344224   \n",
      "1617    93.000000    6.093607    2.179325   0.004474  ...          0.517134   \n",
      "1618   105.120035    4.543212    3.022789   0.004920  ...          0.551997   \n",
      "1619    78.510603    2.142768    1.777369   0.005977  ...          2.094138   \n",
      "\n",
      "      <>(RPM(ESC_2))  RMS(RPM(ESC_2))  kurt(RPM(ESC_4))  kurt(Curr(ESC_4))  \\\n",
      "0        5443.661333      5487.924731          1.136079          -0.929177   \n",
      "1        5166.582160      5288.216777         -1.029608          -1.453784   \n",
      "2        5343.725762      5419.082143         -1.424394          -0.710814   \n",
      "3        5576.550588      5618.168975         -0.655033          -0.703492   \n",
      "4        5176.576408      5254.579401         -0.984975          -1.614459   \n",
      "...              ...              ...               ...                ...   \n",
      "1615     5170.971377      5249.051839         -0.836403          -1.109404   \n",
      "1616     5457.862768      5597.771666         -1.332731          -1.167342   \n",
      "1617     5367.536200      5442.557231         -1.367491          -0.671015   \n",
      "1618     5126.796363      5210.577608         -1.048686          -1.298754   \n",
      "1619     5236.509722      5425.798072          0.063056          -0.994800   \n",
      "\n",
      "      var(RPM(ESC_5))  kurt(RPM(ESC_5))  amp1(RPM(ESC_5))  <>(Curr(ESC_5))  \\\n",
      "0        6.813841e+05          0.319798       6773.014412         3.847547   \n",
      "1        4.526142e+05         -0.109982      16940.644879         3.839249   \n",
      "2        8.996799e+05         -1.600789      10350.353447         3.199834   \n",
      "3        2.692781e+05          0.230701      10374.520432         3.395741   \n",
      "4        1.434951e+06         -1.158046      18070.486343         3.541448   \n",
      "...               ...               ...               ...              ...   \n",
      "1615     9.454786e+05         -0.751333       7317.546969         3.396142   \n",
      "1616     9.587673e+05         -0.831527      22262.647984         4.151909   \n",
      "1617     8.992170e+05         -1.576551      11110.644595         3.216722   \n",
      "1618     9.908180e+05         -0.971739       6331.111458         3.417816   \n",
      "1619     2.396855e+06          0.410742      14876.472674         4.056074   \n",
      "\n",
      "      var(Curr(ESC_5))  \n",
      "0             0.099499  \n",
      "1             0.226403  \n",
      "2             0.570203  \n",
      "3             0.304257  \n",
      "4             1.234290  \n",
      "...                ...  \n",
      "1615          0.474167  \n",
      "1616          0.793911  \n",
      "1617          0.566158  \n",
      "1618          0.508384  \n",
      "1619          0.864798  \n",
      "\n",
      "[1620 rows x 40 columns]\n"
     ]
    }
   ],
   "source": [
    "x=x.drop(x.columns[index_false],axis = 1)\n",
    "print(x)"
   ]
  },
  {
   "cell_type": "code",
   "execution_count": 17,
   "metadata": {},
   "outputs": [
    {
     "name": "stdout",
     "output_type": "stream",
     "text": [
      "     <>(GyrX)  var(GyrX)  freq1(GyrX)  <>(GyrY)  var(GyrY)  RMS(GyrY)  \\\n",
      "340 -0.039874   0.016941        114.0 -0.004834   0.027543   0.165812   \n",
      "\n",
      "     freq1(GyrY)  amp1(GyrY)  amp2(GyrY)  var(GyrZ)  ...  var(Curr(ESC_1))  \\\n",
      "340          0.0   27.119525    2.375004   0.014405  ...          0.568046   \n",
      "\n",
      "     <>(RPM(ESC_2))  RMS(RPM(ESC_2))  kurt(RPM(ESC_4))  kurt(Curr(ESC_4))  \\\n",
      "340     5471.485411      5510.379897         -0.882152          -0.732242   \n",
      "\n",
      "     var(RPM(ESC_5))  kurt(RPM(ESC_5))  amp1(RPM(ESC_5))  <>(Curr(ESC_5))  \\\n",
      "340    240405.218664          0.078826      10169.912468         3.285491   \n",
      "\n",
      "     var(Curr(ESC_5))  \n",
      "340          0.233687  \n",
      "\n",
      "[1 rows x 40 columns]\n"
     ]
    }
   ],
   "source": [
    "df_test=df_test.drop(df_test.columns[index_false],axis = 1)\n",
    "print(df_test)"
   ]
  },
  {
   "cell_type": "code",
   "execution_count": null,
   "metadata": {},
   "outputs": [],
   "source": [
    "plt.figure(figsize=(30,15))\n",
    "ax = sns.heatmap(x[x.columns].corr(),cmap=\"Blues\",annot=True,annot_kws={\"size\": 18})"
   ]
  },
  {
   "cell_type": "code",
   "execution_count": 18,
   "metadata": {},
   "outputs": [
    {
     "name": "stdout",
     "output_type": "stream",
     "text": [
      "      <>(GyrX)  var(GyrX)  freq1(GyrX)  <>(GyrY)  var(GyrZ)  kurt(GyrZ)  \\\n",
      "0    -0.040961   0.026739    82.000000 -0.012120   0.007125   -1.160519   \n",
      "1    -0.009756   0.056919    97.000000 -0.040524   0.017802   -1.515971   \n",
      "2    -0.110983   0.039892    48.000000  0.047647   0.004514   -0.947979   \n",
      "3    -0.049007   0.016068   104.000000  0.006356   0.021739   -0.709966   \n",
      "4    -0.062540   0.012313     0.000000  0.018269   0.004795   -1.294870   \n",
      "...        ...        ...          ...       ...        ...         ...   \n",
      "1615 -0.029641   0.010017    63.199168 -0.008888   0.004509   -1.320486   \n",
      "1616 -0.140203   0.040973    87.610916  0.028066   0.005502   -1.047097   \n",
      "1617 -0.116205   0.039946    53.627752  0.045726   0.004474   -1.007557   \n",
      "1618 -0.020896   0.009787    54.939982 -0.007790   0.004920   -1.462328   \n",
      "1619  0.009623   0.007576    69.784200  0.021252   0.005977   -0.886880   \n",
      "\n",
      "      RMS(GyrZ)  amp1(GyrZ)  amp2(AccZ)  var(Curr(ESC_0))  var(Curr(ESC_1))  \\\n",
      "0      0.163311    1.068656    8.655906          0.099083          1.249967   \n",
      "1      0.214565    0.846851   10.942946          0.313201          1.050199   \n",
      "2      0.131148    0.634002   11.711620          0.448883          0.503154   \n",
      "3      0.187618    1.650372   11.084887          0.403501          0.590154   \n",
      "4      0.124399    3.858103   13.734958          0.751755          0.208814   \n",
      "...         ...         ...         ...               ...               ...   \n",
      "1615   0.110710    3.585974   13.164251          0.393544          0.551790   \n",
      "1616   0.152294    1.224601    5.116378          1.035543          0.344224   \n",
      "1617   0.129814    0.633468   11.531277          0.447221          0.517134   \n",
      "1618   0.112297    1.197661   26.843116          0.428241          0.551997   \n",
      "1619   0.164407    0.893764   42.365375          0.708102          2.094138   \n",
      "\n",
      "      <>(RPM(ESC_2))  kurt(RPM(ESC_4))  kurt(Curr(ESC_4))  kurt(RPM(ESC_5))  \\\n",
      "0        5443.661333          1.136079          -0.929177          0.319798   \n",
      "1        5166.582160         -1.029608          -1.453784         -0.109982   \n",
      "2        5343.725762         -1.424394          -0.710814         -1.600789   \n",
      "3        5576.550588         -0.655033          -0.703492          0.230701   \n",
      "4        5176.576408         -0.984975          -1.614459         -1.158046   \n",
      "...              ...               ...                ...               ...   \n",
      "1615     5170.971377         -0.836403          -1.109404         -0.751333   \n",
      "1616     5457.862768         -1.332731          -1.167342         -0.831527   \n",
      "1617     5367.536200         -1.367491          -0.671015         -1.576551   \n",
      "1618     5126.796363         -1.048686          -1.298754         -0.971739   \n",
      "1619     5236.509722          0.063056          -0.994800          0.410742   \n",
      "\n",
      "      var(Curr(ESC_5))  \n",
      "0             0.099499  \n",
      "1             0.226403  \n",
      "2             0.570203  \n",
      "3             0.304257  \n",
      "4             1.234290  \n",
      "...                ...  \n",
      "1615          0.474167  \n",
      "1616          0.793911  \n",
      "1617          0.566158  \n",
      "1618          0.508384  \n",
      "1619          0.864798  \n",
      "\n",
      "[1620 rows x 16 columns]\n"
     ]
    }
   ],
   "source": [
    "correlated_features = set()\n",
    "correlation_matrix = x.corr()\n",
    "\n",
    "for i in range(len(correlation_matrix.columns)):\n",
    "    for j in range(i):\n",
    "        if (correlation_matrix.iloc[i, j] > 0.8) | (correlation_matrix.iloc[i, j] < -0.5):\n",
    "            colname = correlation_matrix.columns[i]\n",
    "            correlated_features.add(colname)\n",
    "\n",
    "x = x.drop([col for col in x.columns if col in correlated_features],axis=1)\n",
    "print(x)"
   ]
  },
  {
   "cell_type": "code",
   "execution_count": 19,
   "metadata": {},
   "outputs": [
    {
     "name": "stdout",
     "output_type": "stream",
     "text": [
      "     <>(GyrX)  var(GyrX)  freq1(GyrX)  <>(GyrY)  var(GyrZ)  kurt(GyrZ)  \\\n",
      "340 -0.039874   0.016941        114.0 -0.004834   0.014405   -1.454879   \n",
      "\n",
      "     RMS(GyrZ)  amp1(GyrZ)  amp2(AccZ)  var(Curr(ESC_0))  var(Curr(ESC_1))  \\\n",
      "340   0.191282    1.106274      8.9883          0.284728          0.568046   \n",
      "\n",
      "     <>(RPM(ESC_2))  kurt(RPM(ESC_4))  kurt(Curr(ESC_4))  kurt(RPM(ESC_5))  \\\n",
      "340     5471.485411         -0.882152          -0.732242          0.078826   \n",
      "\n",
      "     var(Curr(ESC_5))  \n",
      "340          0.233687  \n"
     ]
    }
   ],
   "source": [
    "df_test=df_test.drop([col for col in df_test.columns if col in correlated_features],axis=1)\n",
    "print(df_test)"
   ]
  },
  {
   "cell_type": "code",
   "execution_count": null,
   "metadata": {},
   "outputs": [],
   "source": [
    "plt.figure(figsize=(30,15))\n",
    "ax = sns.heatmap(x[x.columns].corr(),cmap=\"Blues\",annot=True,annot_kws={\"size\": 18})"
   ]
  },
  {
   "attachments": {},
   "cell_type": "markdown",
   "metadata": {},
   "source": [
    "### Separazione del dataset in training e test"
   ]
  },
  {
   "cell_type": "code",
   "execution_count": 20,
   "metadata": {},
   "outputs": [
    {
     "name": "stdout",
     "output_type": "stream",
     "text": [
      "(1296, 16)\n",
      "(324, 16)\n",
      "(1296, 1)\n",
      "(324, 1)\n"
     ]
    }
   ],
   "source": [
    "# Random state\n",
    "rs = 42\n",
    "\n",
    "# Split the data to check which algorithms learn better (later on we can check )\n",
    "x_train, x_test, y_train, y_test = train_test_split(x, y, test_size=0.2, random_state=rs)\n",
    "y_train = y_train.astype(int)\n",
    "y_test = y_test.astype(int)\n",
    "\n",
    "# look at the shape of the data (many problems can arise from wrong shape)\n",
    "print(x_train.shape)\n",
    "print(x_test.shape)\n",
    "print(y_train.shape)\n",
    "print(y_test.shape)"
   ]
  },
  {
   "cell_type": "code",
   "execution_count": 21,
   "metadata": {},
   "outputs": [],
   "source": [
    "from sklearn.calibration import CalibratedClassifierCV\n",
    "\n",
    "# List of classifiers:\n",
    "classifiers = [\n",
    "    LogisticRegression(random_state = rs),\n",
    "    SVC(probability=True),\n",
    "    MLPClassifier(random_state=rs), # Multi Layer Perceptron\n",
    "    SGDClassifier(random_state=rs), # Stochastic Gradient Descent \n",
    "    Perceptron(random_state=rs)\n",
    "]\n",
    "\n",
    "# List of results that will occure:\n",
    "clf_name = [] # names of the classifiers\n",
    "model_results = pd.DataFrame.copy(y_test) #resulting of prediction from the models\n",
    "\n",
    "kfold = StratifiedKFold(n_splits=5) #cross-validation\n",
    "cv_results = [] # scores from cross validation\n",
    "cv_acc = [] # mean accuracy from cross validation, need to maximize\n",
    "cv_std = [] # standard deviation from cross validation, need to minimise\n",
    "\n",
    "cnfm = [] #confusion matrix\n",
    "clr = [] #classification report\n",
    "roc_auc = [] #roc curve:\n",
    "roc_tpr = []\n",
    "roc_fpr = []"
   ]
  },
  {
   "attachments": {},
   "cell_type": "markdown",
   "metadata": {},
   "source": [
    "### Classificazione"
   ]
  },
  {
   "cell_type": "code",
   "execution_count": 22,
   "metadata": {},
   "outputs": [
    {
     "name": "stdout",
     "output_type": "stream",
     "text": [
      "Cross-Validation: [0.73846154 0.74131274 0.7953668  0.74903475 0.66023166]\n",
      "Accuracy: 0.76 \t ---> LogisticRegression \n",
      "Test: 2    1\n",
      "Name: Guasto_test, dtype: int64\n",
      "----------------------------------------------------\n",
      "Cross-Validation: [0.66923077 0.67953668 0.64478764 0.65637066 0.59073359]\n",
      "Accuracy: 0.6 \t ---> SVC \n",
      "Test: 1    1\n",
      "Name: Guasto_test, dtype: int64\n",
      "----------------------------------------------------\n",
      "Cross-Validation: [0.37692308 0.48262548 0.46332046 0.63706564 0.59459459]\n",
      "Accuracy: 0.81 \t ---> MLPClassifier \n",
      "Test: 2    1\n",
      "Name: Guasto_test, dtype: int64\n",
      "----------------------------------------------------\n",
      "Cross-Validation: [0.38076923 0.54440154 0.40540541 0.53281853 0.60617761]\n",
      "Accuracy: 0.51 \t ---> SGDClassifier \n",
      "Test: 1    1\n",
      "Name: Guasto_test, dtype: int64\n",
      "----------------------------------------------------\n",
      "Cross-Validation: [0.56153846 0.4980695  0.32818533 0.32818533 0.34749035]\n",
      "Accuracy: 0.38 \t ---> Perceptron \n",
      "Test: 1    1\n",
      "Name: Guasto_test, dtype: int64\n",
      "----------------------------------------------------\n"
     ]
    }
   ],
   "source": [
    "# Training the algorithms and results\n",
    "for clf in classifiers:\n",
    "    name = clf.__class__.__name__\n",
    "    clf_name.append(name)\n",
    "    \n",
    "    #fitting and predictions\n",
    "    model = clf.fit(x_train, y_train.values.ravel())\n",
    "    y_pred = model.predict(x_test)\n",
    "    model_results[name] = y_pred\n",
    "    \n",
    "    #accuracy and log loss\n",
    "    cv_results.append(cross_val_score(clf, x_train, y_train.values.ravel(), scoring = \"accuracy\",cv = kfold)) # qui invece abbiamo cross validation\n",
    "    acc = round(accuracy_score(y_test.values.ravel(), y_pred), 2) # accuratezza semplice con training e test\n",
    "    train_pred = clf.predict(x_test)\n",
    "    print(f'Cross-Validation: {cross_val_score(clf, x_train, y_train.values.ravel(), scoring = \"accuracy\",cv = kfold)}') \n",
    "    \n",
    "    print(f'Accuracy: {acc} \\t ---> {name} ')\n",
    "\n",
    "    guasto_pred = pd.Series(model.predict(df_test), name='Guasto_test')\n",
    "    conteggio = guasto_pred.value_counts()\n",
    "    print(f'Test: {conteggio}')\n",
    "\n",
    "    print(\"----------------------------------------------------\")\n",
    "    \n",
    "    \n",
    "    #confusion matrix, clasification report, roc curve\n",
    "    cnfm.append(confusion_matrix(y_test.values.ravel(), y_pred))\n",
    "    clr.append(classification_report(y_test.values.ravel(), y_pred))\n",
    "    fpr, tpr, thresholds = roc_curve(y_pred, y_test.values.ravel(), pos_label=1)\n",
    "    roc_auc.append(auc(fpr, tpr))\n",
    "    roc_tpr.append(tpr)\n",
    "    roc_fpr.append(fpr)\n",
    "    \n",
    "    i += 1\n",
    "\n",
    "for i in cv_results:\n",
    "    cv_acc.append(i.mean())\n",
    "    cv_std.append(i.std())\n"
   ]
  },
  {
   "attachments": {},
   "cell_type": "markdown",
   "metadata": {},
   "source": [
    "### Matrici di confusione"
   ]
  },
  {
   "cell_type": "code",
   "execution_count": 23,
   "metadata": {},
   "outputs": [
    {
     "data": {
      "image/png": "[encoded data removed]",
      "text/plain": [
       "<Figure size 1440x1080 with 10 Axes>"
      ]
     },
     "metadata": {
      "needs_background": "light"
     },
     "output_type": "display_data"
    }
   ],
   "source": [
    "import seaborn as sns\n",
    "# Confusion matrixes (not-normalized confusion matrix)\n",
    "plt.figure(figsize=(20,15))\n",
    "sns.set(font_scale=1.4)\n",
    "for i in range(len(classifiers)):\n",
    "    plt.subplot(3,3,i+1) #adjust this acourding to the number of algorithms\n",
    "    sns.heatmap(cnfm[i], annot=True, fmt=\"d\",cmap=\"Reds\")\n",
    "    plt.subplots_adjust(hspace = 0.5)\n",
    "    plt.xlabel('Predicted')\n",
    "    plt.ylabel('Actual')\n",
    "    plt.title(clf_name[i])"
   ]
  },
  {
   "cell_type": "code",
   "execution_count": null,
   "metadata": {},
   "outputs": [],
   "source": [
    "#Classification reports\n",
    "for i in range(len(classifiers)):\n",
    "    print (f\"{clf_name[i]} Classification Report:\" )\n",
    "    print (clr[i])"
   ]
  }
 ],
 "metadata": {
  "kernelspec": {
   "display_name": "Python 3",
   "language": "python",
   "name": "python3"
  },
  "language_info": {
   "codemirror_mode": {
    "name": "ipython",
    "version": 3
   },
   "file_extension": ".py",
   "mimetype": "text/x-python",
   "name": "python",
   "nbconvert_exporter": "python",
   "pygments_lexer": "ipython3",
   "version": "3.10.2"
  },
  "orig_nbformat": 4,
  "vscode": {
   "interpreter": {
    "hash": "369f2c481f4da34e4445cda3fffd2e751bd1c4d706f27375911949ba6bb62e1c"
   }
  }
 },
 "nbformat": 4,
 "nbformat_minor": 2
}
