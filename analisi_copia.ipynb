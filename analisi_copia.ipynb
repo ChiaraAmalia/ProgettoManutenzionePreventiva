{
 "cells": [
  {
   "attachments": {},
   "cell_type": "markdown",
   "metadata": {},
   "source": [
    "IMPORTAZIONE LIBRERIE"
   ]
  },
  {
   "cell_type": "code",
   "execution_count": 1,
   "metadata": {},
   "outputs": [],
   "source": [
    "import os\n",
    "import pandas as pd\n",
    "import matplotlib.pyplot as plt\n",
    "import numpy as np\n",
    "import glob\n",
    "import array \n",
    "import scipy.signal as signal\n",
    "#Processing libraries\n",
    "from sklearn.preprocessing import StandardScaler,MinMaxScaler\n",
    "import seaborn as sns\n",
    "from scipy.stats import zscore\n",
    "\n",
    "# Model libraries\n",
    "from sklearn.linear_model import LogisticRegression\n",
    "from sklearn.neighbors import KNeighborsClassifier\n",
    "from sklearn.svm import SVC, LinearSVC, NuSVC\n",
    "from sklearn.tree import DecisionTreeClassifier\n",
    "from sklearn.ensemble import RandomForestClassifier, AdaBoostClassifier, GradientBoostingClassifier, ExtraTreesClassifier, VotingClassifier\n",
    "from sklearn.neural_network import MLPClassifier\n",
    "from sklearn.discriminant_analysis import LinearDiscriminantAnalysis, QuadraticDiscriminantAnalysis\n",
    "from sklearn.naive_bayes import GaussianNB\n",
    "from sklearn.decomposition import PCA\n",
    "from imblearn.over_sampling import SMOTE\n",
    "\n",
    "# Testing libraries\n",
    "from sklearn.model_selection import train_test_split, cross_val_score, StratifiedKFold, GridSearchCV, learning_curve\n",
    "from sklearn.metrics import accuracy_score, log_loss, confusion_matrix, classification_report, roc_curve, auc\n",
    "\n",
    "# remove warnings\n",
    "import warnings\n",
    "warnings.filterwarnings('ignore')"
   ]
  },
  {
   "attachments": {},
   "cell_type": "markdown",
   "metadata": {},
   "source": [
    "CAMBIO PATH PER ANALISI RISPETTO AL LOG DI VOLO CONSIDERATO"
   ]
  },
  {
   "cell_type": "code",
   "execution_count": 2,
   "metadata": {},
   "outputs": [
    {
     "name": "stdout",
     "output_type": "stream",
     "text": [
      "c:\\Users\\chiar\\OneDrive\\Desktop\\MantenzionePreventiva\\ProgettoManutenzionePreventiva\n"
     ]
    }
   ],
   "source": [
    "path_file = os.path.abspath(os.getcwd())\n",
    "print(path_file)\n",
    "os.chdir(path_file)"
   ]
  },
  {
   "attachments": {},
   "cell_type": "markdown",
   "metadata": {},
   "source": [
    "ARRAY CHE CONTERRA' I DATAFRAME DI CIASCUN VOLO (PER UN TOTALE DI 18)"
   ]
  },
  {
   "cell_type": "code",
   "execution_count": 3,
   "metadata": {},
   "outputs": [],
   "source": [
    "data_path = os.path.join(path_file,'*.csv') #lista di tutti gli elementi di estensione csv nella cartella path\n",
    "csv_list = glob.glob(data_path) #converte data path in un output Unix-like (ls) (*.csv -> lista di elementi con estensione csv)\n",
    "dataframe_collection = []\n",
    "df_1 = pd.DataFrame()\n",
    "\n",
    "# ciclo per scorrere tutti i csv\n",
    "for csv_file in csv_list: # ciclo che scorre i csv nella cartella path\n",
    "    df = pd.read_csv(csv_file) \n",
    "    #df = df.to_numpy()\n",
    "    #df = df.to_records(index=False)\n",
    "    #dataframe_collection.append(df)\n",
    "    df_1 = df_1.append(df,ignore_index=True)\n",
    "    #print(df)\n",
    "\n",
    "# ciclo per scorrere tutti i csv\n",
    "for csv_file in csv_list: # ciclo che scorre i csv nella cartella path\n",
    "    df = pd.read_csv(csv_file) \n",
    "    #df = df.to_numpy()\n",
    "    df = df.to_records(index=False)\n",
    "    dataframe_collection.append(df)\n",
    "\n",
    "#prova = pd.DataFrame(dataframe_collection)\n"
   ]
  },
  {
   "cell_type": "code",
   "execution_count": null,
   "metadata": {},
   "outputs": [],
   "source": [
    "print(df_1)"
   ]
  },
  {
   "cell_type": "code",
   "execution_count": 4,
   "metadata": {},
   "outputs": [
    {
     "name": "stdout",
     "output_type": "stream",
     "text": [
      "      tempo  <>(GyrX)  var(GyrX)  kurt(GyrX)  RMS(GyrX)  freq1(GyrX)  \\\n",
      "0      55.0 -0.127930   0.032253   -0.688095   0.220317          0.0   \n",
      "1       1.0 -0.028396   0.018838    4.208332   0.139966         82.0   \n",
      "2      11.0 -0.044832   0.010056    0.419137   0.109720          0.0   \n",
      "3       3.0 -0.062557   0.012866    0.172529   0.129393          0.0   \n",
      "4      51.0 -0.044564   0.009214    0.667704   0.105721          0.0   \n",
      "...     ...       ...        ...         ...        ...          ...   \n",
      "1344   82.0 -0.038779   0.010136    1.782745   0.107779         73.0   \n",
      "1345   66.0 -0.048194   0.006211   -0.061448   0.092295          0.0   \n",
      "1346   73.0 -0.006767   0.055270    2.034169   0.234917         89.0   \n",
      "1347   64.0 -0.055693   0.025889   -0.882235   0.170082          0.0   \n",
      "1348    1.0  0.003542   0.011095    3.317703   0.105244         71.0   \n",
      "\n",
      "      freq2(GyrX)  amp1(GyrX)  amp2(GyrX)  <>(GyrY)  ...  amp2(RPM(ESC_5))  \\\n",
      "0           126.0   24.826384    4.557485 -0.001463  ...       5204.363441   \n",
      "1             0.0    6.145259    5.815276 -0.011204  ...      13012.211003   \n",
      "2            77.0    5.566562    4.322923  0.047102  ...      11953.420844   \n",
      "3            63.0   11.877089    4.982702  0.025167  ...       8624.634920   \n",
      "4            79.0    9.836239    5.009126  0.053342  ...      14220.468596   \n",
      "...           ...         ...         ...       ...  ...               ...   \n",
      "1344         96.0    5.451847    5.443634 -0.010509  ...       5747.915612   \n",
      "1345        113.0   13.503484    3.886491  0.038055  ...      11711.766618   \n",
      "1346         88.0   16.413221    6.626310 -0.041197  ...      10688.425849   \n",
      "1347         80.0   24.638780    3.367308 -0.017344  ...       9318.287458   \n",
      "1348         53.0    6.720523    5.221725  0.065261  ...       8070.001507   \n",
      "\n",
      "      <>(Curr(ESC_5))  var(Curr(ESC_5))  kurt(Curr(ESC_5))  RMS(Curr(ESC_5))  \\\n",
      "0            3.454828          0.510458           0.400936          3.527752   \n",
      "1            3.200256          0.088885          -1.094214          3.214074   \n",
      "2            3.366657          0.602613          -1.555760          3.454755   \n",
      "3            3.512006          1.283659          -0.952090          3.689745   \n",
      "4            3.427935          0.576572          -1.369660          3.510823   \n",
      "...               ...               ...                ...               ...   \n",
      "1344         3.406420          0.434015           0.103147          3.469396   \n",
      "1345         3.545659          0.561739          -1.000224          3.623823   \n",
      "1346         3.836934          0.226330          -0.681932          3.866246   \n",
      "1347         4.887542          0.593295          -0.885069          4.947720   \n",
      "1348         3.407812          0.687611          -0.738169          3.506971   \n",
      "\n",
      "      freq1(Curr(ESC_5))  freq2(Curr(ESC_5))  amp1(Curr(ESC_5))  \\\n",
      "0                   97.0                96.0           8.764272   \n",
      "1                  113.0               114.0           4.593057   \n",
      "2                  125.0               123.0          48.719341   \n",
      "3                  103.0               102.0          16.315747   \n",
      "4                  149.0               146.0          32.008262   \n",
      "...                  ...                 ...                ...   \n",
      "1344               148.0               146.0          16.432055   \n",
      "1345               110.0               111.0          20.557632   \n",
      "1346               164.0               162.0          50.637217   \n",
      "1347               101.0                99.0          25.157876   \n",
      "1348                94.0                92.0          12.261465   \n",
      "\n",
      "      amp2(Curr(ESC_5))  Guasto  \n",
      "0              4.256775       0  \n",
      "1              4.488375       2  \n",
      "2              9.303464       0  \n",
      "3             11.498793       0  \n",
      "4              9.149890       0  \n",
      "...                 ...     ...  \n",
      "1344          15.346936       1  \n",
      "1345          17.329899       0  \n",
      "1346          17.791623       2  \n",
      "1347           8.735676       2  \n",
      "1348           7.784808       1  \n",
      "\n",
      "[1349 rows x 170 columns]\n"
     ]
    }
   ],
   "source": [
    "df_1 = df_1.sample(frac=1).reset_index(drop=True)\n",
    "print(df_1)"
   ]
  },
  {
   "cell_type": "code",
   "execution_count": 5,
   "metadata": {},
   "outputs": [
    {
     "name": "stdout",
     "output_type": "stream",
     "text": [
      "      <>(GyrX)  var(GyrX)  kurt(GyrX)  RMS(GyrX)  freq1(GyrX)  freq2(GyrX)  \\\n",
      "0    -0.127930   0.032253   -0.688095   0.220317          0.0        126.0   \n",
      "1    -0.028396   0.018838    4.208332   0.139966         82.0          0.0   \n",
      "2    -0.044832   0.010056    0.419137   0.109720          0.0         77.0   \n",
      "3    -0.062557   0.012866    0.172529   0.129393          0.0         63.0   \n",
      "4    -0.044564   0.009214    0.667704   0.105721          0.0         79.0   \n",
      "...        ...        ...         ...        ...          ...          ...   \n",
      "1344 -0.038779   0.010136    1.782745   0.107779         73.0         96.0   \n",
      "1345 -0.048194   0.006211   -0.061448   0.092295          0.0        113.0   \n",
      "1346 -0.006767   0.055270    2.034169   0.234917         89.0         88.0   \n",
      "1347 -0.055693   0.025889   -0.882235   0.170082          0.0         80.0   \n",
      "1348  0.003542   0.011095    3.317703   0.105244         71.0         53.0   \n",
      "\n",
      "      amp1(GyrX)  amp2(GyrX)  <>(GyrY)  var(GyrY)  ...  amp2(RPM(ESC_5))  \\\n",
      "0      24.826384    4.557485 -0.001463   0.005700  ...       5204.363441   \n",
      "1       6.145259    5.815276 -0.011204   0.014591  ...      13012.211003   \n",
      "2       5.566562    4.322923  0.047102   0.004901  ...      11953.420844   \n",
      "3      11.877089    4.982702  0.025167   0.005872  ...       8624.634920   \n",
      "4       9.836239    5.009126  0.053342   0.004882  ...      14220.468596   \n",
      "...          ...         ...       ...        ...  ...               ...   \n",
      "1344    5.451847    5.443634 -0.010509   0.005803  ...       5747.915612   \n",
      "1345   13.503484    3.886491  0.038055   0.004395  ...      11711.766618   \n",
      "1346   16.413221    6.626310 -0.041197   0.035165  ...      10688.425849   \n",
      "1347   24.638780    3.367308 -0.017344   0.007892  ...       9318.287458   \n",
      "1348    6.720523    5.221725  0.065261   0.011826  ...       8070.001507   \n",
      "\n",
      "      <>(Curr(ESC_5))  var(Curr(ESC_5))  kurt(Curr(ESC_5))  RMS(Curr(ESC_5))  \\\n",
      "0            3.454828          0.510458           0.400936          3.527752   \n",
      "1            3.200256          0.088885          -1.094214          3.214074   \n",
      "2            3.366657          0.602613          -1.555760          3.454755   \n",
      "3            3.512006          1.283659          -0.952090          3.689745   \n",
      "4            3.427935          0.576572          -1.369660          3.510823   \n",
      "...               ...               ...                ...               ...   \n",
      "1344         3.406420          0.434015           0.103147          3.469396   \n",
      "1345         3.545659          0.561739          -1.000224          3.623823   \n",
      "1346         3.836934          0.226330          -0.681932          3.866246   \n",
      "1347         4.887542          0.593295          -0.885069          4.947720   \n",
      "1348         3.407812          0.687611          -0.738169          3.506971   \n",
      "\n",
      "      freq1(Curr(ESC_5))  freq2(Curr(ESC_5))  amp1(Curr(ESC_5))  \\\n",
      "0                   97.0                96.0           8.764272   \n",
      "1                  113.0               114.0           4.593057   \n",
      "2                  125.0               123.0          48.719341   \n",
      "3                  103.0               102.0          16.315747   \n",
      "4                  149.0               146.0          32.008262   \n",
      "...                  ...                 ...                ...   \n",
      "1344               148.0               146.0          16.432055   \n",
      "1345               110.0               111.0          20.557632   \n",
      "1346               164.0               162.0          50.637217   \n",
      "1347               101.0                99.0          25.157876   \n",
      "1348                94.0                92.0          12.261465   \n",
      "\n",
      "      amp2(Curr(ESC_5))  Guasto  \n",
      "0              4.256775       0  \n",
      "1              4.488375       2  \n",
      "2              9.303464       0  \n",
      "3             11.498793       0  \n",
      "4              9.149890       0  \n",
      "...                 ...     ...  \n",
      "1344          15.346936       1  \n",
      "1345          17.329899       0  \n",
      "1346          17.791623       2  \n",
      "1347           8.735676       2  \n",
      "1348           7.784808       1  \n",
      "\n",
      "[1349 rows x 169 columns]\n"
     ]
    }
   ],
   "source": [
    "df_1 = df_1.drop(['tempo'], axis=1)\n",
    "print(df_1)"
   ]
  },
  {
   "cell_type": "code",
   "execution_count": 6,
   "metadata": {},
   "outputs": [
    {
     "name": "stdout",
     "output_type": "stream",
     "text": [
      "Index(['freq1(GyrY)', 'freq1(AccX)', 'kurt(AccY)', '<>(RPM(ESC_5))',\n",
      "       'RMS(RPM(ESC_5))'],\n",
      "      dtype='object')\n",
      "Index(['<>(GyrX)', 'var(GyrX)', 'kurt(GyrX)', 'RMS(GyrX)', 'freq1(GyrX)',\n",
      "       'freq2(GyrX)', 'amp1(GyrX)', 'amp2(GyrX)', '<>(GyrY)', 'var(GyrY)',\n",
      "       ...\n",
      "       'amp2(RPM(ESC_5))', '<>(Curr(ESC_5))', 'var(Curr(ESC_5))',\n",
      "       'kurt(Curr(ESC_5))', 'RMS(Curr(ESC_5))', 'freq1(Curr(ESC_5))',\n",
      "       'freq2(Curr(ESC_5))', 'amp1(Curr(ESC_5))', 'amp2(Curr(ESC_5))',\n",
      "       'Guasto'],\n",
      "      dtype='object', length=164)\n"
     ]
    }
   ],
   "source": [
    "correlated_features = set()\n",
    "correlation = df_1[df_1.columns[1:]].corr()['Guasto'][:].abs()\n",
    "correlation = correlation.loc[lambda x : (x > 0.6) & (x < 1)]\n",
    "index = correlation.index\n",
    "print(index)\n",
    "df_1 = df_1.drop([col for col in df_1.columns if col in index],axis=1)\n",
    "print(df_1.columns)"
   ]
  },
  {
   "cell_type": "code",
   "execution_count": null,
   "metadata": {},
   "outputs": [],
   "source": [
    "'''correlated_features = set()\n",
    "correlation_matrix = df_1.corr()\n",
    "print(correlation_matrix)\n",
    "\n",
    "for i in range(len(correlation_matrix.columns)):\n",
    "    for j in range(i):\n",
    "        if abs(correlation_matrix.iloc[i, j]) > 0.8:\n",
    "            colname = correlation_matrix.columns[i]\n",
    "            correlated_features.add(colname)\n",
    "\n",
    "print(len(correlated_features))\n",
    "print(correlated_features)\n",
    "\n",
    "df_1 = df_1.drop([col for col in df_1.columns if col in correlated_features],axis=1)\n",
    "print(df_1)'''"
   ]
  },
  {
   "cell_type": "code",
   "execution_count": null,
   "metadata": {},
   "outputs": [],
   "source": [
    "index_list = [470]\n",
    "df_test = df_1.query('index in @index_list')\n",
    "#df_test = pd.DataFrame(df_test)\n",
    "print(df_test)"
   ]
  },
  {
   "cell_type": "code",
   "execution_count": null,
   "metadata": {},
   "outputs": [],
   "source": [
    "#df_1 = df_1.drop([df_1.index[1330], df_1.index[1331]])\n",
    "df_1 = df_1.drop([df_1.index[470]])\n",
    "print(df_1)"
   ]
  },
  {
   "cell_type": "code",
   "execution_count": 8,
   "metadata": {},
   "outputs": [
    {
     "name": "stdout",
     "output_type": "stream",
     "text": [
      "No guasto:  390 Guasto 5%:  418 Guasto 10%:  541\n"
     ]
    }
   ],
   "source": [
    "guasto_10 = df_1[df_1['Guasto'] == 2]\n",
    "no_guasto = df_1[df_1['Guasto'] == 0]\n",
    "guasto_5 = df_1[df_1['Guasto'] == 1]\n",
    "\n",
    "print(\"No guasto: \", len(no_guasto), \"Guasto 5%: \", len(guasto_5), \"Guasto 10%: \", len(guasto_10))"
   ]
  },
  {
   "attachments": {},
   "cell_type": "markdown",
   "metadata": {},
   "source": [
    "### Bilanciamento del dataset"
   ]
  },
  {
   "cell_type": "code",
   "execution_count": 9,
   "metadata": {},
   "outputs": [
    {
     "data": {
      "text/plain": [
       "(1170, 164)"
      ]
     },
     "execution_count": 9,
     "metadata": {},
     "output_type": "execute_result"
    }
   ],
   "source": [
    "#bilanciamento del dataset con undersampling rispetto al no_guasto\n",
    "balanced_d = pd.concat([no_guasto, guasto_10.sample(len(no_guasto)), guasto_5.sample(len(no_guasto))])\n",
    "x = balanced_d.iloc[:,:-1]\n",
    "y = balanced_d.iloc[:,-1:]\n",
    "balanced_d.shape"
   ]
  },
  {
   "cell_type": "code",
   "execution_count": null,
   "metadata": {},
   "outputs": [],
   "source": [
    "x = df_1.iloc[:,:-1]\n",
    "y = df_1.iloc[:,-1:]"
   ]
  },
  {
   "cell_type": "code",
   "execution_count": null,
   "metadata": {},
   "outputs": [],
   "source": [
    "oversample = SMOTE()\n",
    "x, y = oversample.fit_resample(x,y)\n",
    "print(x)"
   ]
  },
  {
   "cell_type": "code",
   "execution_count": null,
   "metadata": {},
   "outputs": [],
   "source": [
    "from sklearn.feature_selection import SelectKBest, mutual_info_classif, f_classif, f_regression\n",
    "fvalue_Best = SelectKBest(score_func=f_regression, k=15)\n",
    "fit = fvalue_Best.fit(x, y)\n",
    "print(fit)\n",
    "print(fvalue_Best.get_support())"
   ]
  },
  {
   "cell_type": "code",
   "execution_count": null,
   "metadata": {},
   "outputs": [],
   "source": [
    "features_score = pd.DataFrame(fit.scores_)\n",
    "features_score = zscore(features_score)\n",
    "features = pd.DataFrame(x.columns)\n",
    "feature_score = pd.concat([features,features_score],axis=1)\n",
    "# Assigning column names\n",
    "feature_score.columns = [\"Input_Features\",\"F_Score\"]\n",
    "print(feature_score.nlargest(15,columns=\"F_Score\"))"
   ]
  },
  {
   "cell_type": "code",
   "execution_count": null,
   "metadata": {},
   "outputs": [],
   "source": [
    "i=0\n",
    "index_false=[]\n",
    "for el in list(fvalue_Best.get_support()):\n",
    "    if not el:\n",
    "        index_false.append(i)\n",
    "    i=i+1\n",
    "print(index_false)"
   ]
  },
  {
   "cell_type": "code",
   "execution_count": null,
   "metadata": {},
   "outputs": [],
   "source": [
    "x=x.drop(x.columns[index_false],axis = 1)\n",
    "print(x)"
   ]
  },
  {
   "cell_type": "code",
   "execution_count": null,
   "metadata": {},
   "outputs": [],
   "source": [
    "plt.figure(figsize=(30,15))\n",
    "ax = sns.heatmap(x[x.columns].corr(),cmap=\"Blues\",annot=True,annot_kws={\"size\": 18})"
   ]
  },
  {
   "cell_type": "code",
   "execution_count": null,
   "metadata": {},
   "outputs": [],
   "source": [
    "correlated_features = set()\n",
    "correlation_matrix = x.corr()\n",
    "\n",
    "for i in range(len(correlation_matrix.columns)):\n",
    "    for j in range(i):\n",
    "        if abs(correlation_matrix.iloc[i, j]) > 0.8:\n",
    "            colname = correlation_matrix.columns[i]\n",
    "            correlated_features.add(colname)\n",
    "\n",
    "x = x.drop([col for col in x.columns if col in correlated_features],axis=1)\n",
    "print(x)"
   ]
  },
  {
   "cell_type": "code",
   "execution_count": null,
   "metadata": {},
   "outputs": [],
   "source": [
    "plt.figure(figsize=(30,15))\n",
    "ax = sns.heatmap(x[x.columns].corr(),cmap=\"Blues\",annot=True,annot_kws={\"size\": 18})"
   ]
  },
  {
   "attachments": {},
   "cell_type": "markdown",
   "metadata": {},
   "source": [
    "### Separazione del dataset in training e test"
   ]
  },
  {
   "cell_type": "code",
   "execution_count": null,
   "metadata": {},
   "outputs": [],
   "source": [
    "# Random state\n",
    "rs = 42\n",
    "\n",
    "# Split the data to check which algorithms learn better (later on we can check )\n",
    "x_train, x_test, y_train, y_test = train_test_split(x, y, test_size=0.2, random_state=rs)\n",
    "y_train = y_train.astype(int)\n",
    "y_test = y_test.astype(int)\n",
    "\n",
    "# look at the shape of the data (many problems can arise from wrong shape)\n",
    "print(x_train.shape)\n",
    "print(x_test.shape)\n",
    "print(y_train.shape)\n",
    "print(y_test.shape)"
   ]
  },
  {
   "cell_type": "code",
   "execution_count": null,
   "metadata": {},
   "outputs": [],
   "source": [
    "#from sklearn.feature_selection import SelectKBest, mutual_info_classif\n",
    "#sel_mutual = SelectKBest(mutual_info_classif, k=6)\n",
    "#X_train_mutual = sel_mutual.fit_transform(x_train, y_train)\n",
    "#print(sel_mutual.get_support())\n",
    "\n",
    "#i=0\n",
    "#index_false=[]\n",
    "#for el in list(sel_mutual.get_support()):\n",
    "#    if not el:\n",
    "#        index_false.append(i)\n",
    "#    i=i+1\n",
    "#print(index_false)"
   ]
  },
  {
   "cell_type": "code",
   "execution_count": null,
   "metadata": {},
   "outputs": [],
   "source": [
    "#x_train=x_train.drop(x_train.columns[index_false],axis = 1)\n",
    "#x_test=x_test.drop(x_test.columns[index_false],axis = 1)"
   ]
  },
  {
   "cell_type": "code",
   "execution_count": null,
   "metadata": {},
   "outputs": [],
   "source": [
    "x_train"
   ]
  },
  {
   "cell_type": "code",
   "execution_count": null,
   "metadata": {},
   "outputs": [],
   "source": [
    "# List of classifiers:\n",
    "classifiers = [\n",
    "    LogisticRegression(random_state = rs),\n",
    "    DecisionTreeClassifier(random_state=rs),\n",
    "    RandomForestClassifier(n_estimators = 10, random_state=rs),\n",
    "    GradientBoostingClassifier(random_state= rs, n_estimators=10),\n",
    "    AdaBoostClassifier(n_estimators=10, random_state= rs),\n",
    "    LinearDiscriminantAnalysis(),\n",
    "    SVC(probability=True),\n",
    "    GaussianNB(),\n",
    "    KNeighborsClassifier(n_neighbors=10)\n",
    "]\n",
    "\n",
    "# List of results that will occure:\n",
    "clf_name = [] # names of the classifiers\n",
    "model_results = pd.DataFrame.copy(y_test) #resulting of prediction from the models\n",
    "\n",
    "kfold = StratifiedKFold(n_splits=5) #cross-validation\n",
    "cv_results = [] # scores from cross validation\n",
    "cv_acc = [] # mean accuracy from cross validation, need to maximize\n",
    "cv_std = [] # standard deviation from cross validation, need to minimise\n",
    "\n",
    "cnfm = [] #confusion matrix\n",
    "clr = [] #classification report\n",
    "roc_auc = [] #roc curve:\n",
    "roc_tpr = []\n",
    "roc_fpr = []"
   ]
  },
  {
   "attachments": {},
   "cell_type": "markdown",
   "metadata": {},
   "source": [
    "### Classificazione"
   ]
  },
  {
   "cell_type": "code",
   "execution_count": null,
   "metadata": {},
   "outputs": [],
   "source": [
    "# Training the algorithms and results\n",
    "for clf in classifiers:\n",
    "    name = clf.__class__.__name__\n",
    "    clf_name.append(name)\n",
    "    \n",
    "    #fitting and predictions\n",
    "    model = clf.fit(x_train, y_train.values.ravel())\n",
    "    y_pred = model.predict(x_test)\n",
    "    model_results[name] = y_pred\n",
    "    \n",
    "    #accuracy and log loss\n",
    "    cv_results.append(cross_val_score(clf, x_train, y_train.values.ravel(), scoring = \"accuracy\",cv = kfold))\n",
    "    acc = round(accuracy_score(y_test.values.ravel(), y_pred), 2) #need to maximize\n",
    "    train_pred = clf.predict_proba(x_test)\n",
    "    print(f'Accuracy: {acc} \\t ---> {name} ')\n",
    "    \n",
    "    #confusion matrix, clasification report, roc curve\n",
    "    cnfm.append(confusion_matrix(y_test.values.ravel(), y_pred))\n",
    "    clr.append(classification_report(y_test.values.ravel(), y_pred))\n",
    "    fpr, tpr, thresholds = roc_curve(y_pred, y_test.values.ravel(), pos_label=1)\n",
    "    roc_auc.append(auc(fpr, tpr))\n",
    "    roc_tpr.append(tpr)\n",
    "    roc_fpr.append(fpr)\n",
    "    \n",
    "\n",
    "for i in cv_results:\n",
    "    cv_acc.append(i.mean())\n",
    "    cv_std.append(i.std())"
   ]
  },
  {
   "attachments": {},
   "cell_type": "markdown",
   "metadata": {},
   "source": [
    "### Matrici di confusione"
   ]
  },
  {
   "cell_type": "code",
   "execution_count": null,
   "metadata": {},
   "outputs": [],
   "source": [
    "import seaborn as sns\n",
    "# Confusion matrixes (not-normalized confusion matrix)\n",
    "plt.figure(figsize=(20,15))\n",
    "sns.set(font_scale=1.4)\n",
    "for i in range(len(classifiers)):\n",
    "    plt.subplot(3,3,i+1) #adjust this acourding to the number of algorithms\n",
    "    sns.heatmap(cnfm[i], annot=True, fmt=\"d\",cmap=\"Reds\")\n",
    "    plt.subplots_adjust(hspace = 0.5)\n",
    "    plt.xlabel('Predicted')\n",
    "    plt.ylabel('Actual')\n",
    "    plt.title(clf_name[i])"
   ]
  },
  {
   "cell_type": "code",
   "execution_count": null,
   "metadata": {},
   "outputs": [],
   "source": [
    "#Classification reports\n",
    "for i in range(len(classifiers)):\n",
    "    print (f\"{clf_name[i]} Classification Report:\" )\n",
    "    print (clr[i])"
   ]
  },
  {
   "cell_type": "code",
   "execution_count": null,
   "metadata": {},
   "outputs": [],
   "source": [
    "#clf = SVC(probability=True).fit(x_train, y_train)\n",
    "clf = GaussianNB().fit(x_train, y_train)\n",
    "scores = cross_val_score(clf, x_test, y_test, cv=5)\n",
    "print(scores)"
   ]
  },
  {
   "attachments": {},
   "cell_type": "markdown",
   "metadata": {},
   "source": [
    "TESTING DEL MODELLO"
   ]
  },
  {
   "cell_type": "code",
   "execution_count": null,
   "metadata": {},
   "outputs": [],
   "source": [
    "# Drop values to avoid multicolinearity\n",
    "df_test = df_test.drop(['Guasto'], axis=1)"
   ]
  },
  {
   "cell_type": "code",
   "execution_count": null,
   "metadata": {},
   "outputs": [],
   "source": [
    "df_test=df_test.drop(df_test.columns[index_false],axis = 1)\n",
    "print(df_test)"
   ]
  },
  {
   "cell_type": "code",
   "execution_count": null,
   "metadata": {},
   "outputs": [],
   "source": [
    "guasto_pred = pd.Series(clf.predict(df_test), name='Guasto_test')\n",
    "guasto_pred.value_counts()"
   ]
  }
 ],
 "metadata": {
  "kernelspec": {
   "display_name": "Python 3",
   "language": "python",
   "name": "python3"
  },
  "language_info": {
   "codemirror_mode": {
    "name": "ipython",
    "version": 3
   },
   "file_extension": ".py",
   "mimetype": "text/x-python",
   "name": "python",
   "nbconvert_exporter": "python",
   "pygments_lexer": "ipython3",
   "version": "3.10.2"
  },
  "orig_nbformat": 4,
  "vscode": {
   "interpreter": {
    "hash": "369f2c481f4da34e4445cda3fffd2e751bd1c4d706f27375911949ba6bb62e1c"
   }
  }
 },
 "nbformat": 4,
 "nbformat_minor": 2
}
