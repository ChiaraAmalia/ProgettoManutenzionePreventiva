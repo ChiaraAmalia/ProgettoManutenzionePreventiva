{
 "cells": [
  {
   "attachments": {},
   "cell_type": "markdown",
   "metadata": {},
   "source": [
    "IMPORTAZIONE LIBRERIE"
   ]
  },
  {
   "cell_type": "code",
   "execution_count": 1,
   "metadata": {},
   "outputs": [],
   "source": [
    "import os\n",
    "import pandas as pd\n",
    "import matplotlib.pyplot as plt\n",
    "import numpy as np\n",
    "import glob\n",
    "import array \n",
    "import scipy.signal as signal\n",
    "#Processing libraries\n",
    "from sklearn.preprocessing import StandardScaler,MinMaxScaler"
   ]
  },
  {
   "attachments": {},
   "cell_type": "markdown",
   "metadata": {},
   "source": [
    "CAMBIO PATH PER ANALISI RISPETTO AL LOG DI VOLO CONSIDERATO"
   ]
  },
  {
   "cell_type": "code",
   "execution_count": 2,
   "metadata": {},
   "outputs": [
    {
     "name": "stdout",
     "output_type": "stream",
     "text": [
      "c:\\Users\\chiar\\OneDrive\\Desktop\\MantenzionePreventiva\\ProgettoManutenzionePreventiva\n"
     ]
    }
   ],
   "source": [
    "path_file = os.path.abspath(os.getcwd())\n",
    "print(path_file)\n",
    "os.chdir(path_file)"
   ]
  },
  {
   "attachments": {},
   "cell_type": "markdown",
   "metadata": {},
   "source": [
    "ARRAY CHE CONTERRA' I DATAFRAME DI CIASCUN VOLO (PER UN TOTALE DI 18)"
   ]
  },
  {
   "cell_type": "code",
   "execution_count": 3,
   "metadata": {},
   "outputs": [
    {
     "name": "stderr",
     "output_type": "stream",
     "text": [
      "C:\\Users\\chiar\\AppData\\Local\\Temp\\ipykernel_17420\\1447394833.py:12: FutureWarning: The frame.append method is deprecated and will be removed from pandas in a future version. Use pandas.concat instead.\n",
      "  df_1 = df_1.append(df,ignore_index=True)\n",
      "C:\\Users\\chiar\\AppData\\Local\\Temp\\ipykernel_17420\\1447394833.py:12: FutureWarning: The frame.append method is deprecated and will be removed from pandas in a future version. Use pandas.concat instead.\n",
      "  df_1 = df_1.append(df,ignore_index=True)\n",
      "C:\\Users\\chiar\\AppData\\Local\\Temp\\ipykernel_17420\\1447394833.py:12: FutureWarning: The frame.append method is deprecated and will be removed from pandas in a future version. Use pandas.concat instead.\n",
      "  df_1 = df_1.append(df,ignore_index=True)\n",
      "C:\\Users\\chiar\\AppData\\Local\\Temp\\ipykernel_17420\\1447394833.py:12: FutureWarning: The frame.append method is deprecated and will be removed from pandas in a future version. Use pandas.concat instead.\n",
      "  df_1 = df_1.append(df,ignore_index=True)\n",
      "C:\\Users\\chiar\\AppData\\Local\\Temp\\ipykernel_17420\\1447394833.py:12: FutureWarning: The frame.append method is deprecated and will be removed from pandas in a future version. Use pandas.concat instead.\n",
      "  df_1 = df_1.append(df,ignore_index=True)\n",
      "C:\\Users\\chiar\\AppData\\Local\\Temp\\ipykernel_17420\\1447394833.py:12: FutureWarning: The frame.append method is deprecated and will be removed from pandas in a future version. Use pandas.concat instead.\n",
      "  df_1 = df_1.append(df,ignore_index=True)\n",
      "C:\\Users\\chiar\\AppData\\Local\\Temp\\ipykernel_17420\\1447394833.py:12: FutureWarning: The frame.append method is deprecated and will be removed from pandas in a future version. Use pandas.concat instead.\n",
      "  df_1 = df_1.append(df,ignore_index=True)\n",
      "C:\\Users\\chiar\\AppData\\Local\\Temp\\ipykernel_17420\\1447394833.py:12: FutureWarning: The frame.append method is deprecated and will be removed from pandas in a future version. Use pandas.concat instead.\n",
      "  df_1 = df_1.append(df,ignore_index=True)\n",
      "C:\\Users\\chiar\\AppData\\Local\\Temp\\ipykernel_17420\\1447394833.py:12: FutureWarning: The frame.append method is deprecated and will be removed from pandas in a future version. Use pandas.concat instead.\n",
      "  df_1 = df_1.append(df,ignore_index=True)\n",
      "C:\\Users\\chiar\\AppData\\Local\\Temp\\ipykernel_17420\\1447394833.py:12: FutureWarning: The frame.append method is deprecated and will be removed from pandas in a future version. Use pandas.concat instead.\n",
      "  df_1 = df_1.append(df,ignore_index=True)\n",
      "C:\\Users\\chiar\\AppData\\Local\\Temp\\ipykernel_17420\\1447394833.py:12: FutureWarning: The frame.append method is deprecated and will be removed from pandas in a future version. Use pandas.concat instead.\n",
      "  df_1 = df_1.append(df,ignore_index=True)\n",
      "C:\\Users\\chiar\\AppData\\Local\\Temp\\ipykernel_17420\\1447394833.py:12: FutureWarning: The frame.append method is deprecated and will be removed from pandas in a future version. Use pandas.concat instead.\n",
      "  df_1 = df_1.append(df,ignore_index=True)\n",
      "C:\\Users\\chiar\\AppData\\Local\\Temp\\ipykernel_17420\\1447394833.py:12: FutureWarning: The frame.append method is deprecated and will be removed from pandas in a future version. Use pandas.concat instead.\n",
      "  df_1 = df_1.append(df,ignore_index=True)\n",
      "C:\\Users\\chiar\\AppData\\Local\\Temp\\ipykernel_17420\\1447394833.py:12: FutureWarning: The frame.append method is deprecated and will be removed from pandas in a future version. Use pandas.concat instead.\n",
      "  df_1 = df_1.append(df,ignore_index=True)\n",
      "C:\\Users\\chiar\\AppData\\Local\\Temp\\ipykernel_17420\\1447394833.py:12: FutureWarning: The frame.append method is deprecated and will be removed from pandas in a future version. Use pandas.concat instead.\n",
      "  df_1 = df_1.append(df,ignore_index=True)\n",
      "C:\\Users\\chiar\\AppData\\Local\\Temp\\ipykernel_17420\\1447394833.py:12: FutureWarning: The frame.append method is deprecated and will be removed from pandas in a future version. Use pandas.concat instead.\n",
      "  df_1 = df_1.append(df,ignore_index=True)\n",
      "C:\\Users\\chiar\\AppData\\Local\\Temp\\ipykernel_17420\\1447394833.py:12: FutureWarning: The frame.append method is deprecated and will be removed from pandas in a future version. Use pandas.concat instead.\n",
      "  df_1 = df_1.append(df,ignore_index=True)\n",
      "C:\\Users\\chiar\\AppData\\Local\\Temp\\ipykernel_17420\\1447394833.py:12: FutureWarning: The frame.append method is deprecated and will be removed from pandas in a future version. Use pandas.concat instead.\n",
      "  df_1 = df_1.append(df,ignore_index=True)\n"
     ]
    }
   ],
   "source": [
    "data_path = os.path.join(path_file,'*.csv') #lista di tutti gli elementi di estensione csv nella cartella path\n",
    "csv_list = glob.glob(data_path) #converte data path in un output Unix-like (ls) (*.csv -> lista di elementi con estensione csv)\n",
    "dataframe_collection = []\n",
    "df_1 = pd.DataFrame()\n",
    "\n",
    "# ciclo per scorrere tutti i csv\n",
    "for csv_file in csv_list: # ciclo che scorre i csv nella cartella path\n",
    "    df = pd.read_csv(csv_file) \n",
    "    #df = df.to_numpy()\n",
    "    #df = df.to_records(index=False)\n",
    "    #dataframe_collection.append(df)\n",
    "    df_1 = df_1.append(df,ignore_index=True)\n",
    "    #print(df)\n",
    "\n",
    "# ciclo per scorrere tutti i csv\n",
    "for csv_file in csv_list: # ciclo che scorre i csv nella cartella path\n",
    "    df = pd.read_csv(csv_file) \n",
    "    #df = df.to_numpy()\n",
    "    df = df.to_records(index=False)\n",
    "    dataframe_collection.append(df)\n",
    "\n",
    "#prova = pd.DataFrame(dataframe_collection)\n"
   ]
  },
  {
   "cell_type": "code",
   "execution_count": 4,
   "metadata": {},
   "outputs": [
    {
     "name": "stdout",
     "output_type": "stream",
     "text": [
      "      tempo  <>(GyrX)  var(GyrX)  kurt(GyrX)  RMS(GyrX)  freq1(GyrX)  \\\n",
      "0       0.0 -0.025278   0.017191   -0.117391   0.133346         79.0   \n",
      "1       1.0 -0.025284   0.017142   -0.109234   0.133164        107.0   \n",
      "2       2.0 -0.025410   0.017099   -0.104507   0.133027        110.0   \n",
      "3       3.0 -0.026125   0.017232   -0.127146   0.133661         78.0   \n",
      "4       4.0 -0.026810   0.017350   -0.150134   0.134237         81.0   \n",
      "...     ...       ...        ...         ...        ...          ...   \n",
      "1327   61.0 -0.033834   0.004468   -0.091229   0.074844          0.0   \n",
      "1328   62.0 -0.033994   0.004467   -0.098090   0.074915          0.0   \n",
      "1329   63.0 -0.034181   0.004471   -0.108344   0.075024          0.0   \n",
      "1330   64.0 -0.034515   0.004507   -0.121542   0.075413          0.0   \n",
      "1331   65.0 -0.034765   0.004522   -0.137664   0.075629          0.0   \n",
      "\n",
      "      freq2(GyrX)  amp1(GyrX)  amp2(GyrX)  <>(GyrY)  ...  amp2(RPM(ESC_5))  \\\n",
      "0            76.0    3.609819    3.564965 -0.021368  ...       5781.210237   \n",
      "1            87.0    2.692896    2.653739 -0.020985  ...       5813.733886   \n",
      "2            92.0    2.793322    2.182012 -0.020225  ...       5810.014592   \n",
      "3            75.0    2.853510    2.746864 -0.019520  ...       5771.977143   \n",
      "4            82.0    3.404802    2.920552 -0.019146  ...       5604.258678   \n",
      "...           ...         ...         ...       ...  ...               ...   \n",
      "1327         77.0    3.629050    2.351808  0.062482  ...      15742.160091   \n",
      "1328         82.0    3.486271    1.884974  0.063062  ...      15823.178967   \n",
      "1329        108.0    3.332299    1.832923  0.063653  ...      15856.338714   \n",
      "1330         85.0    3.117207    2.777086  0.064264  ...      15844.110640   \n",
      "1331         77.0    2.936608    1.969075  0.064764  ...      15789.279220   \n",
      "\n",
      "      <>(Curr(ESC_5))  var(Curr(ESC_5))  kurt(Curr(ESC_5))  RMS(Curr(ESC_5))  \\\n",
      "0            3.194017          0.188088          -1.070037          3.223243   \n",
      "1            3.196250          0.189307          -1.066487          3.225645   \n",
      "2            3.198470          0.190509          -1.063391          3.228031   \n",
      "3            3.200678          0.191695          -1.060714          3.230401   \n",
      "4            3.202873          0.192864          -1.058426          3.232757   \n",
      "...               ...               ...                ...               ...   \n",
      "1327         3.732597          0.460642           0.329663          3.793653   \n",
      "1328         3.733511          0.459869           0.340586          3.794451   \n",
      "1329         3.734420          0.459098           0.351515          3.795245   \n",
      "1330         3.735325          0.458329           0.362450          3.796035   \n",
      "1331         3.736226          0.457562           0.373390          3.796821   \n",
      "\n",
      "      freq1(Curr(ESC_5))  freq2(Curr(ESC_5))  amp1(Curr(ESC_5))  \\\n",
      "0                  119.0               118.0          12.541374   \n",
      "1                  126.0               125.0          12.851213   \n",
      "2                  145.0               144.0          13.144419   \n",
      "3                  120.0               119.0          13.420816   \n",
      "4                  131.0               130.0          13.680267   \n",
      "...                  ...                 ...                ...   \n",
      "1327                89.0                88.0          21.558010   \n",
      "1328                88.0                87.0          21.032784   \n",
      "1329                91.0                89.0          20.499580   \n",
      "1330                88.0                86.0          19.958815   \n",
      "1331                89.0                87.0          19.410900   \n",
      "\n",
      "      amp2(Curr(ESC_5))  Guasto  \n",
      "0             10.763319       2  \n",
      "1             11.042833       2  \n",
      "2             11.282863       2  \n",
      "3             11.480551       2  \n",
      "4             11.633432       2  \n",
      "...                 ...     ...  \n",
      "1327           9.807144       0  \n",
      "1328           9.985937       0  \n",
      "1329          10.153345       0  \n",
      "1330          10.308565       0  \n",
      "1331          10.450798       0  \n",
      "\n",
      "[1332 rows x 170 columns]\n"
     ]
    }
   ],
   "source": [
    "print(df_1)"
   ]
  },
  {
   "cell_type": "code",
   "execution_count": 5,
   "metadata": {},
   "outputs": [
    {
     "name": "stdout",
     "output_type": "stream",
     "text": [
      "      tempo  <>(GyrX)  var(GyrX)  kurt(GyrX)  RMS(GyrX)  freq1(GyrX)  \\\n",
      "0      45.0  0.009867   0.007504   -0.301023   0.087078          0.0   \n",
      "1      63.0 -0.131793   0.032200   -0.662217   0.222467          0.0   \n",
      "2      30.0 -0.113563   0.039863   -0.582891   0.229467         61.0   \n",
      "3      38.0 -0.040217   0.025912    1.750509   0.165720         83.0   \n",
      "4      27.0 -0.015520   0.006301   -0.262342   0.080782         72.0   \n",
      "...     ...       ...        ...         ...        ...          ...   \n",
      "1327   83.0 -0.016962   0.017198    2.910406   0.132083          0.0   \n",
      "1328   36.0 -0.018339   0.006557   -0.314657   0.082922         79.0   \n",
      "1329   46.0 -0.039910   0.017326   -0.391079   0.137385        124.0   \n",
      "1330    3.0 -0.061912   0.013547    0.111946   0.131688          0.0   \n",
      "1331   71.0  0.005717   0.007384   -0.251106   0.086020          0.0   \n",
      "\n",
      "      freq2(GyrX)  amp1(GyrX)  amp2(GyrX)  <>(GyrY)  ...  amp2(RPM(ESC_5))  \\\n",
      "0            77.0    4.028445    2.289863  0.020404  ...       9093.443440   \n",
      "1           116.0   21.623813    7.117835  0.000596  ...       4919.095406   \n",
      "2            83.0    7.358248    4.136378  0.046717  ...       6121.459884   \n",
      "3            84.0    7.568824    7.288750 -0.014052  ...       5429.802193   \n",
      "4            73.0    4.548983    2.804244  0.044163  ...       8451.602005   \n",
      "...           ...         ...         ...       ...  ...               ...   \n",
      "1327         95.0   16.328229    8.605561 -0.013506  ...       7932.002629   \n",
      "1328         80.0    4.401238    3.242241  0.044563  ...      12652.387419   \n",
      "1329         97.0    5.035497    3.425396 -0.003713  ...       9035.842149   \n",
      "1330         88.0   12.819161    5.455327  0.029377  ...       7437.234502   \n",
      "1331         78.0    4.946179    3.391094  0.016186  ...       7054.881749   \n",
      "\n",
      "      <>(Curr(ESC_5))  var(Curr(ESC_5))  kurt(Curr(ESC_5))  RMS(Curr(ESC_5))  \\\n",
      "0            4.047323          0.859134          -1.452193          4.151842   \n",
      "1            3.432802          0.517302           0.325258          3.507161   \n",
      "2            3.195066          0.565908          -0.903217          3.282205   \n",
      "3            3.839743          0.094703           0.470159          3.852024   \n",
      "4            3.120397          0.292691          -0.830290          3.166827   \n",
      "...               ...               ...                ...               ...   \n",
      "1327         3.223018          0.079644          -1.078452          3.235322   \n",
      "1328         3.122481          0.286050          -0.779634          3.167838   \n",
      "1329         3.292746          0.241754          -1.014850          3.329162   \n",
      "1330         3.526130          1.266861          -0.914971          3.700929   \n",
      "1331         4.017227          0.820020          -1.342952          4.117790   \n",
      "\n",
      "      freq1(Curr(ESC_5))  freq2(Curr(ESC_5))  amp1(Curr(ESC_5))  \\\n",
      "0                  163.0               164.0          60.779709   \n",
      "1                  118.0               112.0           5.522400   \n",
      "2                  141.0               140.0          61.741427   \n",
      "3                  138.0               137.0          21.740981   \n",
      "4                  140.0               137.0          38.673611   \n",
      "...                  ...                 ...                ...   \n",
      "1327               137.0               135.0          15.035473   \n",
      "1328               132.0               129.0          36.589568   \n",
      "1329               162.0               163.0          15.254529   \n",
      "1330                94.0                93.0          23.699870   \n",
      "1331               161.0               159.0          38.286032   \n",
      "\n",
      "      amp2(Curr(ESC_5))  Guasto  \n",
      "0             17.707830       1  \n",
      "1              1.628235       0  \n",
      "2             18.422074       1  \n",
      "3             11.957447       2  \n",
      "4              7.627304       1  \n",
      "...                 ...     ...  \n",
      "1327           4.941150       2  \n",
      "1328           7.009290       1  \n",
      "1329          14.449824       2  \n",
      "1330          16.004476       0  \n",
      "1331          12.961707       1  \n",
      "\n",
      "[1332 rows x 170 columns]\n"
     ]
    }
   ],
   "source": [
    "df_1 = df_1.sample(frac=1).reset_index(drop=True)\n",
    "print(df_1)"
   ]
  },
  {
   "cell_type": "code",
   "execution_count": 6,
   "metadata": {},
   "outputs": [
    {
     "name": "stdout",
     "output_type": "stream",
     "text": [
      "      <>(GyrX)  var(GyrX)  kurt(GyrX)  RMS(GyrX)  freq1(GyrX)  freq2(GyrX)  \\\n",
      "0     0.009867   0.007504   -0.301023   0.087078          0.0         77.0   \n",
      "1    -0.131793   0.032200   -0.662217   0.222467          0.0        116.0   \n",
      "2    -0.113563   0.039863   -0.582891   0.229467         61.0         83.0   \n",
      "3    -0.040217   0.025912    1.750509   0.165720         83.0         84.0   \n",
      "4    -0.015520   0.006301   -0.262342   0.080782         72.0         73.0   \n",
      "...        ...        ...         ...        ...          ...          ...   \n",
      "1327 -0.016962   0.017198    2.910406   0.132083          0.0         95.0   \n",
      "1328 -0.018339   0.006557   -0.314657   0.082922         79.0         80.0   \n",
      "1329 -0.039910   0.017326   -0.391079   0.137385        124.0         97.0   \n",
      "1330 -0.061912   0.013547    0.111946   0.131688          0.0         88.0   \n",
      "1331  0.005717   0.007384   -0.251106   0.086020          0.0         78.0   \n",
      "\n",
      "      amp1(GyrX)  amp2(GyrX)  <>(GyrY)  var(GyrY)  ...  amp2(RPM(ESC_5))  \\\n",
      "0       4.028445    2.289863  0.020404   0.005624  ...       9093.443440   \n",
      "1      21.623813    7.117835  0.000596   0.005554  ...       4919.095406   \n",
      "2       7.358248    4.136378  0.046717   0.010400  ...       6121.459884   \n",
      "3       7.568824    7.288750 -0.014052   0.009210  ...       5429.802193   \n",
      "4       4.548983    2.804244  0.044163   0.013139  ...       8451.602005   \n",
      "...          ...         ...       ...        ...  ...               ...   \n",
      "1327   16.328229    8.605561 -0.013506   0.013700  ...       7932.002629   \n",
      "1328    4.401238    3.242241  0.044563   0.012885  ...      12652.387419   \n",
      "1329    5.035497    3.425396 -0.003713   0.026876  ...       9035.842149   \n",
      "1330   12.819161    5.455327  0.029377   0.005287  ...       7437.234502   \n",
      "1331    4.946179    3.391094  0.016186   0.005699  ...       7054.881749   \n",
      "\n",
      "      <>(Curr(ESC_5))  var(Curr(ESC_5))  kurt(Curr(ESC_5))  RMS(Curr(ESC_5))  \\\n",
      "0            4.047323          0.859134          -1.452193          4.151842   \n",
      "1            3.432802          0.517302           0.325258          3.507161   \n",
      "2            3.195066          0.565908          -0.903217          3.282205   \n",
      "3            3.839743          0.094703           0.470159          3.852024   \n",
      "4            3.120397          0.292691          -0.830290          3.166827   \n",
      "...               ...               ...                ...               ...   \n",
      "1327         3.223018          0.079644          -1.078452          3.235322   \n",
      "1328         3.122481          0.286050          -0.779634          3.167838   \n",
      "1329         3.292746          0.241754          -1.014850          3.329162   \n",
      "1330         3.526130          1.266861          -0.914971          3.700929   \n",
      "1331         4.017227          0.820020          -1.342952          4.117790   \n",
      "\n",
      "      freq1(Curr(ESC_5))  freq2(Curr(ESC_5))  amp1(Curr(ESC_5))  \\\n",
      "0                  163.0               164.0          60.779709   \n",
      "1                  118.0               112.0           5.522400   \n",
      "2                  141.0               140.0          61.741427   \n",
      "3                  138.0               137.0          21.740981   \n",
      "4                  140.0               137.0          38.673611   \n",
      "...                  ...                 ...                ...   \n",
      "1327               137.0               135.0          15.035473   \n",
      "1328               132.0               129.0          36.589568   \n",
      "1329               162.0               163.0          15.254529   \n",
      "1330                94.0                93.0          23.699870   \n",
      "1331               161.0               159.0          38.286032   \n",
      "\n",
      "      amp2(Curr(ESC_5))  Guasto  \n",
      "0             17.707830       1  \n",
      "1              1.628235       0  \n",
      "2             18.422074       1  \n",
      "3             11.957447       2  \n",
      "4              7.627304       1  \n",
      "...                 ...     ...  \n",
      "1327           4.941150       2  \n",
      "1328           7.009290       1  \n",
      "1329          14.449824       2  \n",
      "1330          16.004476       0  \n",
      "1331          12.961707       1  \n",
      "\n",
      "[1332 rows x 169 columns]\n"
     ]
    }
   ],
   "source": [
    "df_1 = df_1.drop(['tempo'], axis=1)\n",
    "print(df_1)"
   ]
  },
  {
   "cell_type": "code",
   "execution_count": 7,
   "metadata": {},
   "outputs": [
    {
     "name": "stdout",
     "output_type": "stream",
     "text": [
      "     <>(GyrX)  var(GyrX)  kurt(GyrX)  RMS(GyrX)  freq1(GyrX)  freq2(GyrX)  \\\n",
      "470 -0.121325   0.040072   -1.514344   0.233843         70.0         89.0   \n",
      "\n",
      "     amp1(GyrX)  amp2(GyrX)  <>(GyrY)  var(GyrY)  ...  amp2(RPM(ESC_5))  \\\n",
      "470    4.622601    3.401089  0.020748   0.008961  ...       10049.44031   \n",
      "\n",
      "     <>(Curr(ESC_5))  var(Curr(ESC_5))  kurt(Curr(ESC_5))  RMS(Curr(ESC_5))  \\\n",
      "470         4.063957          0.784615          -0.372825          4.159114   \n",
      "\n",
      "     freq1(Curr(ESC_5))  freq2(Curr(ESC_5))  amp1(Curr(ESC_5))  \\\n",
      "470               112.0               110.0          32.111255   \n",
      "\n",
      "     amp2(Curr(ESC_5))  Guasto  \n",
      "470          16.246208       1  \n",
      "\n",
      "[1 rows x 169 columns]\n"
     ]
    }
   ],
   "source": [
    "index_list = [470]\n",
    "df_test = df_1.query('index in @index_list')\n",
    "#df_test = pd.DataFrame(df_test)\n",
    "print(df_test)"
   ]
  },
  {
   "cell_type": "code",
   "execution_count": 8,
   "metadata": {},
   "outputs": [
    {
     "name": "stdout",
     "output_type": "stream",
     "text": [
      "      <>(GyrX)  var(GyrX)  kurt(GyrX)  RMS(GyrX)  freq1(GyrX)  freq2(GyrX)  \\\n",
      "0     0.009867   0.007504   -0.301023   0.087078          0.0         77.0   \n",
      "1    -0.131793   0.032200   -0.662217   0.222467          0.0        116.0   \n",
      "2    -0.113563   0.039863   -0.582891   0.229467         61.0         83.0   \n",
      "3    -0.040217   0.025912    1.750509   0.165720         83.0         84.0   \n",
      "4    -0.015520   0.006301   -0.262342   0.080782         72.0         73.0   \n",
      "...        ...        ...         ...        ...          ...          ...   \n",
      "1327 -0.016962   0.017198    2.910406   0.132083          0.0         95.0   \n",
      "1328 -0.018339   0.006557   -0.314657   0.082922         79.0         80.0   \n",
      "1329 -0.039910   0.017326   -0.391079   0.137385        124.0         97.0   \n",
      "1330 -0.061912   0.013547    0.111946   0.131688          0.0         88.0   \n",
      "1331  0.005717   0.007384   -0.251106   0.086020          0.0         78.0   \n",
      "\n",
      "      amp1(GyrX)  amp2(GyrX)  <>(GyrY)  var(GyrY)  ...  amp2(RPM(ESC_5))  \\\n",
      "0       4.028445    2.289863  0.020404   0.005624  ...       9093.443440   \n",
      "1      21.623813    7.117835  0.000596   0.005554  ...       4919.095406   \n",
      "2       7.358248    4.136378  0.046717   0.010400  ...       6121.459884   \n",
      "3       7.568824    7.288750 -0.014052   0.009210  ...       5429.802193   \n",
      "4       4.548983    2.804244  0.044163   0.013139  ...       8451.602005   \n",
      "...          ...         ...       ...        ...  ...               ...   \n",
      "1327   16.328229    8.605561 -0.013506   0.013700  ...       7932.002629   \n",
      "1328    4.401238    3.242241  0.044563   0.012885  ...      12652.387419   \n",
      "1329    5.035497    3.425396 -0.003713   0.026876  ...       9035.842149   \n",
      "1330   12.819161    5.455327  0.029377   0.005287  ...       7437.234502   \n",
      "1331    4.946179    3.391094  0.016186   0.005699  ...       7054.881749   \n",
      "\n",
      "      <>(Curr(ESC_5))  var(Curr(ESC_5))  kurt(Curr(ESC_5))  RMS(Curr(ESC_5))  \\\n",
      "0            4.047323          0.859134          -1.452193          4.151842   \n",
      "1            3.432802          0.517302           0.325258          3.507161   \n",
      "2            3.195066          0.565908          -0.903217          3.282205   \n",
      "3            3.839743          0.094703           0.470159          3.852024   \n",
      "4            3.120397          0.292691          -0.830290          3.166827   \n",
      "...               ...               ...                ...               ...   \n",
      "1327         3.223018          0.079644          -1.078452          3.235322   \n",
      "1328         3.122481          0.286050          -0.779634          3.167838   \n",
      "1329         3.292746          0.241754          -1.014850          3.329162   \n",
      "1330         3.526130          1.266861          -0.914971          3.700929   \n",
      "1331         4.017227          0.820020          -1.342952          4.117790   \n",
      "\n",
      "      freq1(Curr(ESC_5))  freq2(Curr(ESC_5))  amp1(Curr(ESC_5))  \\\n",
      "0                  163.0               164.0          60.779709   \n",
      "1                  118.0               112.0           5.522400   \n",
      "2                  141.0               140.0          61.741427   \n",
      "3                  138.0               137.0          21.740981   \n",
      "4                  140.0               137.0          38.673611   \n",
      "...                  ...                 ...                ...   \n",
      "1327               137.0               135.0          15.035473   \n",
      "1328               132.0               129.0          36.589568   \n",
      "1329               162.0               163.0          15.254529   \n",
      "1330                94.0                93.0          23.699870   \n",
      "1331               161.0               159.0          38.286032   \n",
      "\n",
      "      amp2(Curr(ESC_5))  Guasto  \n",
      "0             17.707830       1  \n",
      "1              1.628235       0  \n",
      "2             18.422074       1  \n",
      "3             11.957447       2  \n",
      "4              7.627304       1  \n",
      "...                 ...     ...  \n",
      "1327           4.941150       2  \n",
      "1328           7.009290       1  \n",
      "1329          14.449824       2  \n",
      "1330          16.004476       0  \n",
      "1331          12.961707       1  \n",
      "\n",
      "[1331 rows x 169 columns]\n"
     ]
    }
   ],
   "source": [
    "#df_1 = df_1.drop([df_1.index[1330], df_1.index[1331]])\n",
    "df_1 = df_1.drop([df_1.index[470]])\n",
    "print(df_1)"
   ]
  },
  {
   "cell_type": "code",
   "execution_count": 9,
   "metadata": {},
   "outputs": [],
   "source": [
    "# Model libraries\n",
    "from sklearn.linear_model import LogisticRegression\n",
    "from sklearn.neighbors import KNeighborsClassifier\n",
    "from sklearn.svm import SVC, LinearSVC, NuSVC\n",
    "from sklearn.tree import DecisionTreeClassifier\n",
    "from sklearn.ensemble import RandomForestClassifier, AdaBoostClassifier, GradientBoostingClassifier, ExtraTreesClassifier, VotingClassifier\n",
    "from sklearn.neural_network import MLPClassifier\n",
    "from sklearn.discriminant_analysis import LinearDiscriminantAnalysis, QuadraticDiscriminantAnalysis\n",
    "from sklearn.naive_bayes import GaussianNB\n",
    "from sklearn.decomposition import PCA\n",
    "\n",
    "# Testing libraries\n",
    "from sklearn.model_selection import train_test_split, cross_val_score, StratifiedKFold, GridSearchCV, learning_curve\n",
    "from sklearn.metrics import accuracy_score, log_loss, confusion_matrix, classification_report, roc_curve, auc"
   ]
  },
  {
   "cell_type": "code",
   "execution_count": 10,
   "metadata": {},
   "outputs": [
    {
     "name": "stdout",
     "output_type": "stream",
     "text": [
      "No guasto:  387 Guasto 5%:  411 Guasto 10%:  533\n"
     ]
    }
   ],
   "source": [
    "guasto_10 = df_1[df_1['Guasto'] == 2]\n",
    "no_guasto = df_1[df_1['Guasto'] == 0]\n",
    "guasto_5 = df_1[df_1['Guasto'] == 1]\n",
    "\n",
    "print(\"No guasto: \", len(no_guasto), \"Guasto 5%: \", len(guasto_5), \"Guasto 10%: \", len(guasto_10))"
   ]
  },
  {
   "attachments": {},
   "cell_type": "markdown",
   "metadata": {},
   "source": [
    "### Bilanciamento del dataset"
   ]
  },
  {
   "cell_type": "code",
   "execution_count": 11,
   "metadata": {},
   "outputs": [
    {
     "data": {
      "text/plain": [
       "(1161, 169)"
      ]
     },
     "execution_count": 11,
     "metadata": {},
     "output_type": "execute_result"
    }
   ],
   "source": [
    "#bilanciamento del dataset con undersampling rispetto al no_guasto\n",
    "balanced_d = pd.concat([no_guasto, guasto_10.sample(len(no_guasto)), guasto_5.sample(len(no_guasto))])\n",
    "x = balanced_d.iloc[:,:-1]\n",
    "y = balanced_d.iloc[:,-1:]\n",
    "balanced_d.shape"
   ]
  },
  {
   "cell_type": "code",
   "execution_count": null,
   "metadata": {},
   "outputs": [],
   "source": [
    "#x = df_1.iloc[:,:-1]\n",
    "#y = df_1.iloc[:,-1:]"
   ]
  },
  {
   "cell_type": "code",
   "execution_count": 12,
   "metadata": {},
   "outputs": [
    {
     "name": "stderr",
     "output_type": "stream",
     "text": [
      "C:\\Users\\chiar\\AppData\\Roaming\\Python\\Python310\\site-packages\\sklearn\\utils\\validation.py:1111: DataConversionWarning: A column-vector y was passed when a 1d array was expected. Please change the shape of y to (n_samples, ), for example using ravel().\n",
      "  y = column_or_1d(y, warn=True)\n"
     ]
    },
    {
     "name": "stdout",
     "output_type": "stream",
     "text": [
      "[False  True  True  True False False False False False False False False\n",
      " False False False False False False False  True False False False False\n",
      "  True False False  True False False False False  True  True  True  True\n",
      " False False False False False  True False False False False False False\n",
      " False False False False False False False False  True False False  True\n",
      " False False False False False False False False False False False False\n",
      " False  True False False False False False False False  True False False\n",
      " False False False False  True False False False False False False False\n",
      " False  True False False False False False False False  True False False\n",
      " False False False False False False False False False False False False\n",
      " False False False False False False False False False  True False False\n",
      " False False False False False False False False False False False False\n",
      " False False False False False False False False False  True False False\n",
      " False False False False False False False False False False False False]\n",
      "[0, 4, 5, 6, 7, 8, 9, 10, 11, 12, 13, 14, 15, 16, 17, 18, 20, 21, 22, 23, 25, 26, 28, 29, 30, 31, 36, 37, 38, 39, 40, 42, 43, 44, 45, 46, 47, 48, 49, 50, 51, 52, 53, 54, 55, 57, 58, 60, 61, 62, 63, 64, 65, 66, 67, 68, 69, 70, 71, 72, 74, 75, 76, 77, 78, 79, 80, 82, 83, 84, 85, 86, 87, 89, 90, 91, 92, 93, 94, 95, 96, 98, 99, 100, 101, 102, 103, 104, 106, 107, 108, 109, 110, 111, 112, 113, 114, 115, 116, 117, 118, 119, 120, 121, 122, 123, 124, 125, 126, 127, 128, 130, 131, 132, 133, 134, 135, 136, 137, 138, 139, 140, 141, 142, 143, 144, 145, 146, 147, 148, 149, 150, 151, 152, 154, 155, 156, 157, 158, 159, 160, 161, 162, 163, 164, 165, 166, 167]\n"
     ]
    }
   ],
   "source": [
    "from sklearn.feature_selection import SelectKBest, mutual_info_classif\n",
    "sel_mutual = SelectKBest(mutual_info_classif, k=20)\n",
    "X_train_mutual = sel_mutual.fit_transform(x, y)\n",
    "print(sel_mutual.get_support())\n",
    "\n",
    "i=0\n",
    "index_false=[]\n",
    "for el in list(sel_mutual.get_support()):\n",
    "    if not el:\n",
    "        index_false.append(i)\n",
    "    i=i+1\n",
    "print(index_false)"
   ]
  },
  {
   "cell_type": "code",
   "execution_count": 13,
   "metadata": {},
   "outputs": [
    {
     "name": "stdout",
     "output_type": "stream",
     "text": [
      "      var(GyrX)  kurt(GyrX)  RMS(GyrX)  RMS(GyrZ)  <>(AccX)  RMS(AccX)  \\\n",
      "1      0.032200   -0.662217   0.222467   0.163756 -0.351185   0.407075   \n",
      "7      0.011767    0.525283   0.126109   0.122663 -0.267479   0.349140   \n",
      "10     0.004376   -0.019786   0.073506   0.229352  0.120008   0.341092   \n",
      "14     0.010242    0.294296   0.119560   0.107645 -0.248279   0.349516   \n",
      "16     0.004367   -0.031946   0.073255   0.230739  0.119920   0.342688   \n",
      "...         ...         ...        ...        ...       ...        ...   \n",
      "106    0.006319   -0.287910   0.081028   0.153896  0.111264   0.324645   \n",
      "1302   0.011882    2.502930   0.108938   0.110904  0.090378   0.301915   \n",
      "278    0.007300   -0.212566   0.085461   0.158624  0.016888   0.189943   \n",
      "972    0.012043    2.205959   0.109983   0.108733  0.103982   0.309441   \n",
      "118    0.009644    2.624244   0.100111   0.112681 -0.056833   0.188444   \n",
      "\n",
      "      <>(AccY)  var(AccY)  kurt(AccY)  RMS(AccY)  var(AccZ)  <>(Pitch)  \\\n",
      "1     0.444352   0.220048   -0.724987   0.645729   0.543029  -0.217899   \n",
      "7     0.302129   0.116894   -0.372989   0.455958   0.676750   0.175919   \n",
      "10    0.272727   0.060688    0.318123   0.367311   0.565518  -0.192754   \n",
      "14    0.250102   0.104672   -0.617140   0.408576   0.576457  -0.369752   \n",
      "16    0.270025   0.060738    0.320466   0.365376   0.559256  -0.226231   \n",
      "...        ...        ...         ...        ...        ...        ...   \n",
      "106   0.185414   0.048359   -0.178686   0.287420   0.618570   0.398215   \n",
      "1302  0.170721   0.054680    0.363574   0.289277   0.874485   0.287105   \n",
      "278   0.306347   0.034941    0.474242   0.358759   3.016422   0.085718   \n",
      "972   0.178397   0.054313    0.317822   0.293260   0.839923   0.423030   \n",
      "118   0.140322   0.068516    0.081311   0.296688   0.704082   0.375612   \n",
      "\n",
      "      RMS(Pitch)  var(RPM(ESC_0))  var(Curr(ESC_0))  <>(RPM(ESC_1))  \\\n",
      "1       0.418725     8.318322e+05          0.518462     4776.606280   \n",
      "7       0.689884     1.154077e+06          0.691317     4928.424821   \n",
      "10      0.921315     1.198951e+06          0.765840     5256.776675   \n",
      "14      0.797723     9.097617e+05          0.114347     4680.325069   \n",
      "16      0.884663     1.202020e+06          0.771772     5258.457286   \n",
      "...          ...              ...               ...             ...   \n",
      "106     1.477137     6.621813e+05          0.275795     4933.372703   \n",
      "1302    1.361198     1.277183e+06          1.229047     4523.057895   \n",
      "278     0.462275     2.590377e+06          0.671597     4445.722222   \n",
      "972     1.522056     1.313360e+06          1.226296     4564.106061   \n",
      "118     0.535591     1.043570e+06          0.434732     4645.279255   \n",
      "\n",
      "      var(Curr(ESC_1))  var(RPM(ESC_2))  var(Curr(ESC_3))  var(RPM(ESC_5))  \n",
      "1             0.191447     5.086822e+05          0.261129     7.985959e+05  \n",
      "7             0.215651     7.936098e+05          0.327133     1.376593e+06  \n",
      "10            0.147836     1.596377e+06          0.658762     9.610862e+05  \n",
      "14            0.178959     3.495763e+05          0.157111     9.832926e+05  \n",
      "16            0.144737     1.603332e+06          0.648443     9.633174e+05  \n",
      "...                ...              ...               ...              ...  \n",
      "106           0.515133     7.897842e+05          0.368013     1.185616e+06  \n",
      "1302          0.501868     1.340238e+06          0.197577     1.058136e+06  \n",
      "278           2.049432     1.845584e+06          1.953374     2.189840e+06  \n",
      "972           0.494770     1.356904e+06          0.189909     1.094124e+06  \n",
      "118           0.539122     8.737687e+05          0.416761     9.986410e+05  \n",
      "\n",
      "[1161 rows x 20 columns]\n"
     ]
    }
   ],
   "source": [
    "x=x.drop(x.columns[index_false],axis = 1)\n",
    "print(x)"
   ]
  },
  {
   "attachments": {},
   "cell_type": "markdown",
   "metadata": {},
   "source": [
    "### Separazione del dataset in training e test"
   ]
  },
  {
   "cell_type": "code",
   "execution_count": 14,
   "metadata": {},
   "outputs": [
    {
     "name": "stdout",
     "output_type": "stream",
     "text": [
      "(928, 20)\n",
      "(233, 20)\n",
      "(928, 1)\n",
      "(233, 1)\n"
     ]
    }
   ],
   "source": [
    "# Random state\n",
    "rs = 42\n",
    "\n",
    "# Split the data to check which algorithms learn better (later on we can check )\n",
    "x_train, x_test, y_train, y_test = train_test_split(x, y, test_size=0.2, random_state=rs)\n",
    "y_train = y_train.astype(int)\n",
    "y_test = y_test.astype(int)\n",
    "\n",
    "# look at the shape of the data (many problems can arise from wrong shape)\n",
    "print(x_train.shape)\n",
    "print(x_test.shape)\n",
    "print(y_train.shape)\n",
    "print(y_test.shape)"
   ]
  },
  {
   "cell_type": "code",
   "execution_count": null,
   "metadata": {},
   "outputs": [],
   "source": [
    "#from sklearn.feature_selection import SelectKBest, mutual_info_classif\n",
    "#sel_mutual = SelectKBest(mutual_info_classif, k=6)\n",
    "#X_train_mutual = sel_mutual.fit_transform(x_train, y_train)\n",
    "#print(sel_mutual.get_support())\n",
    "\n",
    "#i=0\n",
    "#index_false=[]\n",
    "#for el in list(sel_mutual.get_support()):\n",
    "#    if not el:\n",
    "#        index_false.append(i)\n",
    "#    i=i+1\n",
    "#print(index_false)"
   ]
  },
  {
   "cell_type": "code",
   "execution_count": null,
   "metadata": {},
   "outputs": [],
   "source": [
    "#x_train=x_train.drop(x_train.columns[index_false],axis = 1)\n",
    "#x_test=x_test.drop(x_test.columns[index_false],axis = 1)"
   ]
  },
  {
   "cell_type": "code",
   "execution_count": null,
   "metadata": {},
   "outputs": [],
   "source": [
    "x_train"
   ]
  },
  {
   "cell_type": "code",
   "execution_count": 15,
   "metadata": {},
   "outputs": [],
   "source": [
    "# List of classifiers:\n",
    "classifiers = [\n",
    "    LogisticRegression(random_state = rs),\n",
    "    #DecisionTreeClassifier(random_state=rs, max_depth=5),\n",
    "    #RandomForestClassifier(n_estimators = 100, random_state=rs),\n",
    "    #GradientBoostingClassifier(random_state= rs, n_estimators=100),\n",
    "    AdaBoostClassifier(n_estimators=100, random_state= rs),\n",
    "    LinearDiscriminantAnalysis(),\n",
    "    SVC(probability=True),\n",
    "    GaussianNB(),\n",
    "    #KNeighborsClassifier(n_neighbors=10)\n",
    "]\n",
    "\n",
    "# List of results that will occure:\n",
    "clf_name = [] # names of the classifiers\n",
    "model_results = pd.DataFrame.copy(y_test) #resulting of prediction from the models\n",
    "\n",
    "kfold = StratifiedKFold(n_splits=5) #cross-validation\n",
    "cv_results = [] # scores from cross validation\n",
    "cv_acc = [] # mean accuracy from cross validation, need to maximize\n",
    "cv_std = [] # standard deviation from cross validation, need to minimise\n",
    "\n",
    "cnfm = [] #confusion matrix\n",
    "clr = [] #classification report\n",
    "roc_auc = [] #roc curve:\n",
    "roc_tpr = []\n",
    "roc_fpr = []"
   ]
  },
  {
   "attachments": {},
   "cell_type": "markdown",
   "metadata": {},
   "source": [
    "### Classificazione"
   ]
  },
  {
   "cell_type": "code",
   "execution_count": 16,
   "metadata": {},
   "outputs": [
    {
     "name": "stderr",
     "output_type": "stream",
     "text": [
      "C:\\Users\\chiar\\AppData\\Roaming\\Python\\Python310\\site-packages\\sklearn\\linear_model\\_logistic.py:444: ConvergenceWarning: lbfgs failed to converge (status=1):\n",
      "STOP: TOTAL NO. of ITERATIONS REACHED LIMIT.\n",
      "\n",
      "Increase the number of iterations (max_iter) or scale the data as shown in:\n",
      "    https://scikit-learn.org/stable/modules/preprocessing.html\n",
      "Please also refer to the documentation for alternative solver options:\n",
      "    https://scikit-learn.org/stable/modules/linear_model.html#logistic-regression\n",
      "  n_iter_i = _check_optimize_result(\n",
      "C:\\Users\\chiar\\AppData\\Roaming\\Python\\Python310\\site-packages\\sklearn\\linear_model\\_logistic.py:444: ConvergenceWarning: lbfgs failed to converge (status=1):\n",
      "STOP: TOTAL NO. of ITERATIONS REACHED LIMIT.\n",
      "\n",
      "Increase the number of iterations (max_iter) or scale the data as shown in:\n",
      "    https://scikit-learn.org/stable/modules/preprocessing.html\n",
      "Please also refer to the documentation for alternative solver options:\n",
      "    https://scikit-learn.org/stable/modules/linear_model.html#logistic-regression\n",
      "  n_iter_i = _check_optimize_result(\n",
      "C:\\Users\\chiar\\AppData\\Roaming\\Python\\Python310\\site-packages\\sklearn\\linear_model\\_logistic.py:444: ConvergenceWarning: lbfgs failed to converge (status=1):\n",
      "STOP: TOTAL NO. of ITERATIONS REACHED LIMIT.\n",
      "\n",
      "Increase the number of iterations (max_iter) or scale the data as shown in:\n",
      "    https://scikit-learn.org/stable/modules/preprocessing.html\n",
      "Please also refer to the documentation for alternative solver options:\n",
      "    https://scikit-learn.org/stable/modules/linear_model.html#logistic-regression\n",
      "  n_iter_i = _check_optimize_result(\n",
      "C:\\Users\\chiar\\AppData\\Roaming\\Python\\Python310\\site-packages\\sklearn\\linear_model\\_logistic.py:444: ConvergenceWarning: lbfgs failed to converge (status=1):\n",
      "STOP: TOTAL NO. of ITERATIONS REACHED LIMIT.\n",
      "\n",
      "Increase the number of iterations (max_iter) or scale the data as shown in:\n",
      "    https://scikit-learn.org/stable/modules/preprocessing.html\n",
      "Please also refer to the documentation for alternative solver options:\n",
      "    https://scikit-learn.org/stable/modules/linear_model.html#logistic-regression\n",
      "  n_iter_i = _check_optimize_result(\n",
      "C:\\Users\\chiar\\AppData\\Roaming\\Python\\Python310\\site-packages\\sklearn\\linear_model\\_logistic.py:444: ConvergenceWarning: lbfgs failed to converge (status=1):\n",
      "STOP: TOTAL NO. of ITERATIONS REACHED LIMIT.\n",
      "\n",
      "Increase the number of iterations (max_iter) or scale the data as shown in:\n",
      "    https://scikit-learn.org/stable/modules/preprocessing.html\n",
      "Please also refer to the documentation for alternative solver options:\n",
      "    https://scikit-learn.org/stable/modules/linear_model.html#logistic-regression\n",
      "  n_iter_i = _check_optimize_result(\n"
     ]
    },
    {
     "name": "stdout",
     "output_type": "stream",
     "text": [
      "Accuracy: 0.76 \t ---> LogisticRegression \n",
      "Accuracy: 0.66 \t ---> AdaBoostClassifier \n",
      "Accuracy: 1.0 \t ---> LinearDiscriminantAnalysis \n",
      "Accuracy: 0.88 \t ---> SVC \n",
      "Accuracy: 0.83 \t ---> GaussianNB \n"
     ]
    }
   ],
   "source": [
    "# Training the algorithms and results\n",
    "for clf in classifiers:\n",
    "    name = clf.__class__.__name__\n",
    "    clf_name.append(name)\n",
    "    \n",
    "    #fitting and predictions\n",
    "    model = clf.fit(x_train, y_train.values.ravel())\n",
    "    y_pred = model.predict(x_test)\n",
    "    model_results[name] = y_pred\n",
    "    \n",
    "    #accuracy and log loss\n",
    "    cv_results.append(cross_val_score(clf, x_train, y_train.values.ravel(), scoring = \"accuracy\",cv = kfold))\n",
    "    acc = round(accuracy_score(y_test.values.ravel(), y_pred), 2) #need to maximize\n",
    "    train_pred = clf.predict_proba(x_test)\n",
    "    print(f'Accuracy: {acc} \\t ---> {name} ')\n",
    "    \n",
    "    #confusion matrix, clasification report, roc curve\n",
    "    cnfm.append(confusion_matrix(y_test.values.ravel(), y_pred))\n",
    "    clr.append(classification_report(y_test.values.ravel(), y_pred))\n",
    "    fpr, tpr, thresholds = roc_curve(y_pred, y_test.values.ravel(), pos_label=1)\n",
    "    roc_auc.append(auc(fpr, tpr))\n",
    "    roc_tpr.append(tpr)\n",
    "    roc_fpr.append(fpr)\n",
    "    \n",
    "\n",
    "for i in cv_results:\n",
    "    cv_acc.append(i.mean())\n",
    "    cv_std.append(i.std())"
   ]
  },
  {
   "attachments": {},
   "cell_type": "markdown",
   "metadata": {},
   "source": [
    "### Matrici di confusione"
   ]
  },
  {
   "cell_type": "code",
   "execution_count": 17,
   "metadata": {},
   "outputs": [
    {
     "data": {
      "image/png": "[encoded data removed]",
      "text/plain": [
       "<Figure size 1440x1080 with 10 Axes>"
      ]
     },
     "metadata": {
      "needs_background": "light"
     },
     "output_type": "display_data"
    }
   ],
   "source": [
    "import seaborn as sns\n",
    "# Confusion matrixes (not-normalized confusion matrix)\n",
    "plt.figure(figsize=(20,15))\n",
    "sns.set(font_scale=1.4)\n",
    "for i in range(len(classifiers)):\n",
    "    plt.subplot(3,3,i+1) #adjust this acourding to the number of algorithms\n",
    "    sns.heatmap(cnfm[i], annot=True, fmt=\"d\",cmap=\"Reds\")\n",
    "    plt.subplots_adjust(hspace = 0.5)\n",
    "    plt.xlabel('Predicted')\n",
    "    plt.ylabel('Actual')\n",
    "    plt.title(clf_name[i])"
   ]
  },
  {
   "cell_type": "code",
   "execution_count": 18,
   "metadata": {},
   "outputs": [
    {
     "name": "stdout",
     "output_type": "stream",
     "text": [
      "LogisticRegression Classification Report:\n",
      "              precision    recall  f1-score   support\n",
      "\n",
      "           0       0.62      0.80      0.70        80\n",
      "           1       0.71      0.49      0.58        79\n",
      "           2       1.00      1.00      1.00        74\n",
      "\n",
      "    accuracy                           0.76       233\n",
      "   macro avg       0.77      0.76      0.76       233\n",
      "weighted avg       0.77      0.76      0.75       233\n",
      "\n",
      "AdaBoostClassifier Classification Report:\n",
      "              precision    recall  f1-score   support\n",
      "\n",
      "           0       1.00      0.01      0.02        80\n",
      "           1       0.50      1.00      0.67        79\n",
      "           2       1.00      1.00      1.00        74\n",
      "\n",
      "    accuracy                           0.66       233\n",
      "   macro avg       0.83      0.67      0.56       233\n",
      "weighted avg       0.83      0.66      0.55       233\n",
      "\n",
      "LinearDiscriminantAnalysis Classification Report:\n",
      "              precision    recall  f1-score   support\n",
      "\n",
      "           0       1.00      1.00      1.00        80\n",
      "           1       1.00      1.00      1.00        79\n",
      "           2       1.00      1.00      1.00        74\n",
      "\n",
      "    accuracy                           1.00       233\n",
      "   macro avg       1.00      1.00      1.00       233\n",
      "weighted avg       1.00      1.00      1.00       233\n",
      "\n",
      "SVC Classification Report:\n",
      "              precision    recall  f1-score   support\n",
      "\n",
      "           0       1.00      0.66      0.80        80\n",
      "           1       0.75      1.00      0.85        79\n",
      "           2       1.00      1.00      1.00        74\n",
      "\n",
      "    accuracy                           0.88       233\n",
      "   macro avg       0.92      0.89      0.88       233\n",
      "weighted avg       0.91      0.88      0.88       233\n",
      "\n",
      "GaussianNB Classification Report:\n",
      "              precision    recall  f1-score   support\n",
      "\n",
      "           0       0.67      1.00      0.80        80\n",
      "           1       1.00      0.49      0.66        79\n",
      "           2       1.00      1.00      1.00        74\n",
      "\n",
      "    accuracy                           0.83       233\n",
      "   macro avg       0.89      0.83      0.82       233\n",
      "weighted avg       0.89      0.83      0.82       233\n",
      "\n"
     ]
    }
   ],
   "source": [
    "#Classification reports\n",
    "for i in range(len(classifiers)):\n",
    "    print (f\"{clf_name[i]} Classification Report:\" )\n",
    "    print (clr[i])"
   ]
  },
  {
   "cell_type": "code",
   "execution_count": 19,
   "metadata": {},
   "outputs": [
    {
     "name": "stdout",
     "output_type": "stream",
     "text": [
      "[0.76595745 0.74468085 0.76595745 0.82608696 0.86956522]\n"
     ]
    },
    {
     "name": "stderr",
     "output_type": "stream",
     "text": [
      "C:\\Users\\chiar\\AppData\\Roaming\\Python\\Python310\\site-packages\\sklearn\\utils\\validation.py:1111: DataConversionWarning: A column-vector y was passed when a 1d array was expected. Please change the shape of y to (n_samples, ), for example using ravel().\n",
      "  y = column_or_1d(y, warn=True)\n",
      "C:\\Users\\chiar\\AppData\\Roaming\\Python\\Python310\\site-packages\\sklearn\\utils\\validation.py:1111: DataConversionWarning: A column-vector y was passed when a 1d array was expected. Please change the shape of y to (n_samples, ), for example using ravel().\n",
      "  y = column_or_1d(y, warn=True)\n",
      "C:\\Users\\chiar\\AppData\\Roaming\\Python\\Python310\\site-packages\\sklearn\\utils\\validation.py:1111: DataConversionWarning: A column-vector y was passed when a 1d array was expected. Please change the shape of y to (n_samples, ), for example using ravel().\n",
      "  y = column_or_1d(y, warn=True)\n",
      "C:\\Users\\chiar\\AppData\\Roaming\\Python\\Python310\\site-packages\\sklearn\\utils\\validation.py:1111: DataConversionWarning: A column-vector y was passed when a 1d array was expected. Please change the shape of y to (n_samples, ), for example using ravel().\n",
      "  y = column_or_1d(y, warn=True)\n",
      "C:\\Users\\chiar\\AppData\\Roaming\\Python\\Python310\\site-packages\\sklearn\\utils\\validation.py:1111: DataConversionWarning: A column-vector y was passed when a 1d array was expected. Please change the shape of y to (n_samples, ), for example using ravel().\n",
      "  y = column_or_1d(y, warn=True)\n",
      "C:\\Users\\chiar\\AppData\\Roaming\\Python\\Python310\\site-packages\\sklearn\\utils\\validation.py:1111: DataConversionWarning: A column-vector y was passed when a 1d array was expected. Please change the shape of y to (n_samples, ), for example using ravel().\n",
      "  y = column_or_1d(y, warn=True)\n"
     ]
    }
   ],
   "source": [
    "#clf = SVC(probability=True).fit(x_train, y_train)\n",
    "clf = GaussianNB().fit(x_train, y_train)\n",
    "scores = cross_val_score(clf, x_test, y_test, cv=5)\n",
    "print(scores)"
   ]
  },
  {
   "attachments": {},
   "cell_type": "markdown",
   "metadata": {},
   "source": [
    "TESTING DEL MODELLO"
   ]
  },
  {
   "cell_type": "code",
   "execution_count": 20,
   "metadata": {},
   "outputs": [],
   "source": [
    "# Drop values to avoid multicolinearity\n",
    "df_test = df_test.drop(['Guasto'], axis=1)"
   ]
  },
  {
   "cell_type": "code",
   "execution_count": 21,
   "metadata": {},
   "outputs": [
    {
     "name": "stdout",
     "output_type": "stream",
     "text": [
      "     var(GyrX)  kurt(GyrX)  RMS(GyrX)  RMS(GyrZ)  <>(AccX)  RMS(AccX)  \\\n",
      "470   0.040072   -1.514344   0.233843    0.15788  0.090778   0.221477   \n",
      "\n",
      "     <>(AccY)  var(AccY)  kurt(AccY)  RMS(AccY)  var(AccZ)  <>(Pitch)  \\\n",
      "470  0.382019   0.082407   -0.421617   0.477621   1.381207   0.617425   \n",
      "\n",
      "     RMS(Pitch)  var(RPM(ESC_0))  var(Curr(ESC_0))  <>(RPM(ESC_1))  \\\n",
      "470    0.876876     1.773857e+06          1.099486     5080.634146   \n",
      "\n",
      "     var(Curr(ESC_1))  var(RPM(ESC_2))  var(Curr(ESC_3))  var(RPM(ESC_5))  \n",
      "470          0.322202     1.611812e+06          0.646001     938069.71745  \n"
     ]
    }
   ],
   "source": [
    "df_test=df_test.drop(df_test.columns[index_false],axis = 1)\n",
    "print(df_test)"
   ]
  },
  {
   "cell_type": "code",
   "execution_count": 22,
   "metadata": {},
   "outputs": [
    {
     "data": {
      "text/plain": [
       "1    1\n",
       "Name: Guasto_test, dtype: int64"
      ]
     },
     "execution_count": 22,
     "metadata": {},
     "output_type": "execute_result"
    }
   ],
   "source": [
    "guasto_pred = pd.Series(clf.predict(df_test), name='Guasto_test')\n",
    "guasto_pred.value_counts()"
   ]
  }
 ],
 "metadata": {
  "kernelspec": {
   "display_name": "Python 3",
   "language": "python",
   "name": "python3"
  },
  "language_info": {
   "codemirror_mode": {
    "name": "ipython",
    "version": 3
   },
   "file_extension": ".py",
   "mimetype": "text/x-python",
   "name": "python",
   "nbconvert_exporter": "python",
   "pygments_lexer": "ipython3",
   "version": "3.10.2"
  },
  "orig_nbformat": 4,
  "vscode": {
   "interpreter": {
    "hash": "369f2c481f4da34e4445cda3fffd2e751bd1c4d706f27375911949ba6bb62e1c"
   }
  }
 },
 "nbformat": 4,
 "nbformat_minor": 2
}
