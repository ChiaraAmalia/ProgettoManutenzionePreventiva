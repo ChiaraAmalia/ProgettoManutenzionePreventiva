{
 "cells": [
  {
   "attachments": {},
   "cell_type": "markdown",
   "metadata": {},
   "source": [
    "IMPORTAZIONE LIBRERIE"
   ]
  },
  {
   "cell_type": "code",
   "execution_count": 1,
   "metadata": {},
   "outputs": [],
   "source": [
    "import os\n",
    "import pandas as pd\n",
    "import matplotlib.pyplot as plt\n",
    "import numpy as np\n",
    "import glob\n",
    "import array \n",
    "import scipy.signal as signal\n",
    "#Processing libraries\n",
    "from sklearn.preprocessing import StandardScaler,MinMaxScaler"
   ]
  },
  {
   "attachments": {},
   "cell_type": "markdown",
   "metadata": {},
   "source": [
    "CAMBIO PATH PER ANALISI RISPETTO AL LOG DI VOLO CONSIDERATO"
   ]
  },
  {
   "cell_type": "code",
   "execution_count": 2,
   "metadata": {},
   "outputs": [
    {
     "name": "stdout",
     "output_type": "stream",
     "text": [
      "c:\\Users\\chiar\\OneDrive\\Desktop\\MantenzionePreventiva\\ProgettoManutenzionePreventiva\n"
     ]
    }
   ],
   "source": [
    "path_file = os.path.abspath(os.getcwd())\n",
    "print(path_file)\n",
    "os.chdir(path_file)"
   ]
  },
  {
   "attachments": {},
   "cell_type": "markdown",
   "metadata": {},
   "source": [
    "ARRAY CHE CONTERRA' I DATAFRAME DI CIASCUN VOLO (PER UN TOTALE DI 18)"
   ]
  },
  {
   "cell_type": "code",
   "execution_count": 3,
   "metadata": {},
   "outputs": [
    {
     "name": "stderr",
     "output_type": "stream",
     "text": [
      "C:\\Users\\chiar\\AppData\\Local\\Temp\\ipykernel_35068\\1447394833.py:12: FutureWarning: The frame.append method is deprecated and will be removed from pandas in a future version. Use pandas.concat instead.\n",
      "  df_1 = df_1.append(df,ignore_index=True)\n",
      "C:\\Users\\chiar\\AppData\\Local\\Temp\\ipykernel_35068\\1447394833.py:12: FutureWarning: The frame.append method is deprecated and will be removed from pandas in a future version. Use pandas.concat instead.\n",
      "  df_1 = df_1.append(df,ignore_index=True)\n",
      "C:\\Users\\chiar\\AppData\\Local\\Temp\\ipykernel_35068\\1447394833.py:12: FutureWarning: The frame.append method is deprecated and will be removed from pandas in a future version. Use pandas.concat instead.\n",
      "  df_1 = df_1.append(df,ignore_index=True)\n",
      "C:\\Users\\chiar\\AppData\\Local\\Temp\\ipykernel_35068\\1447394833.py:12: FutureWarning: The frame.append method is deprecated and will be removed from pandas in a future version. Use pandas.concat instead.\n",
      "  df_1 = df_1.append(df,ignore_index=True)\n",
      "C:\\Users\\chiar\\AppData\\Local\\Temp\\ipykernel_35068\\1447394833.py:12: FutureWarning: The frame.append method is deprecated and will be removed from pandas in a future version. Use pandas.concat instead.\n",
      "  df_1 = df_1.append(df,ignore_index=True)\n",
      "C:\\Users\\chiar\\AppData\\Local\\Temp\\ipykernel_35068\\1447394833.py:12: FutureWarning: The frame.append method is deprecated and will be removed from pandas in a future version. Use pandas.concat instead.\n",
      "  df_1 = df_1.append(df,ignore_index=True)\n",
      "C:\\Users\\chiar\\AppData\\Local\\Temp\\ipykernel_35068\\1447394833.py:12: FutureWarning: The frame.append method is deprecated and will be removed from pandas in a future version. Use pandas.concat instead.\n",
      "  df_1 = df_1.append(df,ignore_index=True)\n",
      "C:\\Users\\chiar\\AppData\\Local\\Temp\\ipykernel_35068\\1447394833.py:12: FutureWarning: The frame.append method is deprecated and will be removed from pandas in a future version. Use pandas.concat instead.\n",
      "  df_1 = df_1.append(df,ignore_index=True)\n",
      "C:\\Users\\chiar\\AppData\\Local\\Temp\\ipykernel_35068\\1447394833.py:12: FutureWarning: The frame.append method is deprecated and will be removed from pandas in a future version. Use pandas.concat instead.\n",
      "  df_1 = df_1.append(df,ignore_index=True)\n",
      "C:\\Users\\chiar\\AppData\\Local\\Temp\\ipykernel_35068\\1447394833.py:12: FutureWarning: The frame.append method is deprecated and will be removed from pandas in a future version. Use pandas.concat instead.\n",
      "  df_1 = df_1.append(df,ignore_index=True)\n",
      "C:\\Users\\chiar\\AppData\\Local\\Temp\\ipykernel_35068\\1447394833.py:12: FutureWarning: The frame.append method is deprecated and will be removed from pandas in a future version. Use pandas.concat instead.\n",
      "  df_1 = df_1.append(df,ignore_index=True)\n",
      "C:\\Users\\chiar\\AppData\\Local\\Temp\\ipykernel_35068\\1447394833.py:12: FutureWarning: The frame.append method is deprecated and will be removed from pandas in a future version. Use pandas.concat instead.\n",
      "  df_1 = df_1.append(df,ignore_index=True)\n",
      "C:\\Users\\chiar\\AppData\\Local\\Temp\\ipykernel_35068\\1447394833.py:12: FutureWarning: The frame.append method is deprecated and will be removed from pandas in a future version. Use pandas.concat instead.\n",
      "  df_1 = df_1.append(df,ignore_index=True)\n",
      "C:\\Users\\chiar\\AppData\\Local\\Temp\\ipykernel_35068\\1447394833.py:12: FutureWarning: The frame.append method is deprecated and will be removed from pandas in a future version. Use pandas.concat instead.\n",
      "  df_1 = df_1.append(df,ignore_index=True)\n",
      "C:\\Users\\chiar\\AppData\\Local\\Temp\\ipykernel_35068\\1447394833.py:12: FutureWarning: The frame.append method is deprecated and will be removed from pandas in a future version. Use pandas.concat instead.\n",
      "  df_1 = df_1.append(df,ignore_index=True)\n",
      "C:\\Users\\chiar\\AppData\\Local\\Temp\\ipykernel_35068\\1447394833.py:12: FutureWarning: The frame.append method is deprecated and will be removed from pandas in a future version. Use pandas.concat instead.\n",
      "  df_1 = df_1.append(df,ignore_index=True)\n",
      "C:\\Users\\chiar\\AppData\\Local\\Temp\\ipykernel_35068\\1447394833.py:12: FutureWarning: The frame.append method is deprecated and will be removed from pandas in a future version. Use pandas.concat instead.\n",
      "  df_1 = df_1.append(df,ignore_index=True)\n",
      "C:\\Users\\chiar\\AppData\\Local\\Temp\\ipykernel_35068\\1447394833.py:12: FutureWarning: The frame.append method is deprecated and will be removed from pandas in a future version. Use pandas.concat instead.\n",
      "  df_1 = df_1.append(df,ignore_index=True)\n"
     ]
    }
   ],
   "source": [
    "data_path = os.path.join(path_file,'*.csv') #lista di tutti gli elementi di estensione csv nella cartella path\n",
    "csv_list = glob.glob(data_path) #converte data path in un output Unix-like (ls) (*.csv -> lista di elementi con estensione csv)\n",
    "dataframe_collection = []\n",
    "df_1 = pd.DataFrame()\n",
    "\n",
    "# ciclo per scorrere tutti i csv\n",
    "for csv_file in csv_list: # ciclo che scorre i csv nella cartella path\n",
    "    df = pd.read_csv(csv_file) \n",
    "    #df = df.to_numpy()\n",
    "    #df = df.to_records(index=False)\n",
    "    #dataframe_collection.append(df)\n",
    "    df_1 = df_1.append(df,ignore_index=True)\n",
    "    #print(df)\n",
    "\n",
    "# ciclo per scorrere tutti i csv\n",
    "for csv_file in csv_list: # ciclo che scorre i csv nella cartella path\n",
    "    df = pd.read_csv(csv_file) \n",
    "    #df = df.to_numpy()\n",
    "    df = df.to_records(index=False)\n",
    "    dataframe_collection.append(df)\n",
    "\n",
    "#prova = pd.DataFrame(dataframe_collection)\n"
   ]
  },
  {
   "cell_type": "code",
   "execution_count": 4,
   "metadata": {},
   "outputs": [
    {
     "name": "stdout",
     "output_type": "stream",
     "text": [
      "      tempo  <>(GyrX)  var(GyrX)  kurt(GyrX)  RMS(GyrX)  freq1(GyrX)  \\\n",
      "0       0.0 -0.025278   0.017191   -0.117391   0.133346         79.0   \n",
      "1       1.0 -0.025284   0.017142   -0.109234   0.133164        107.0   \n",
      "2       2.0 -0.025410   0.017099   -0.104507   0.133027        110.0   \n",
      "3       3.0 -0.026125   0.017232   -0.127146   0.133661         78.0   \n",
      "4       4.0 -0.026810   0.017350   -0.150134   0.134237         81.0   \n",
      "...     ...       ...        ...         ...        ...          ...   \n",
      "1327   61.0 -0.033834   0.004468   -0.091229   0.074844          0.0   \n",
      "1328   62.0 -0.033994   0.004467   -0.098090   0.074915          0.0   \n",
      "1329   63.0 -0.034181   0.004471   -0.108344   0.075024          0.0   \n",
      "1330   64.0 -0.034515   0.004507   -0.121542   0.075413          0.0   \n",
      "1331   65.0 -0.034765   0.004522   -0.137664   0.075629          0.0   \n",
      "\n",
      "      freq2(GyrX)  amp1(GyrX)  amp2(GyrX)  <>(GyrY)  ...  amp2(RPM(ESC_5))  \\\n",
      "0            76.0    3.609819    3.564965 -0.021368  ...       5781.210237   \n",
      "1            87.0    2.692896    2.653739 -0.020985  ...       5813.733886   \n",
      "2            92.0    2.793322    2.182012 -0.020225  ...       5810.014592   \n",
      "3            75.0    2.853510    2.746864 -0.019520  ...       5771.977143   \n",
      "4            82.0    3.404802    2.920552 -0.019146  ...       5604.258678   \n",
      "...           ...         ...         ...       ...  ...               ...   \n",
      "1327         77.0    3.629050    2.351808  0.062482  ...      15742.160091   \n",
      "1328         82.0    3.486271    1.884974  0.063062  ...      15823.178967   \n",
      "1329        108.0    3.332299    1.832923  0.063653  ...      15856.338714   \n",
      "1330         85.0    3.117207    2.777086  0.064264  ...      15844.110640   \n",
      "1331         77.0    2.936608    1.969075  0.064764  ...      15789.279220   \n",
      "\n",
      "      <>(Curr(ESC_5))  var(Curr(ESC_5))  kurt(Curr(ESC_5))  RMS(Curr(ESC_5))  \\\n",
      "0            3.194017          0.188088          -1.070037          3.223243   \n",
      "1            3.196250          0.189307          -1.066487          3.225645   \n",
      "2            3.198470          0.190509          -1.063391          3.228031   \n",
      "3            3.200678          0.191695          -1.060714          3.230401   \n",
      "4            3.202873          0.192864          -1.058426          3.232757   \n",
      "...               ...               ...                ...               ...   \n",
      "1327         3.732597          0.460642           0.329663          3.793653   \n",
      "1328         3.733511          0.459869           0.340586          3.794451   \n",
      "1329         3.734420          0.459098           0.351515          3.795245   \n",
      "1330         3.735325          0.458329           0.362450          3.796035   \n",
      "1331         3.736226          0.457562           0.373390          3.796821   \n",
      "\n",
      "      freq1(Curr(ESC_5))  freq2(Curr(ESC_5))  amp1(Curr(ESC_5))  \\\n",
      "0                  119.0               118.0          12.541374   \n",
      "1                  126.0               125.0          12.851213   \n",
      "2                  145.0               144.0          13.144419   \n",
      "3                  120.0               119.0          13.420816   \n",
      "4                  131.0               130.0          13.680267   \n",
      "...                  ...                 ...                ...   \n",
      "1327                89.0                88.0          21.558010   \n",
      "1328                88.0                87.0          21.032784   \n",
      "1329                91.0                89.0          20.499580   \n",
      "1330                88.0                86.0          19.958815   \n",
      "1331                89.0                87.0          19.410900   \n",
      "\n",
      "      amp2(Curr(ESC_5))  Guasto  \n",
      "0             10.763319       2  \n",
      "1             11.042833       2  \n",
      "2             11.282863       2  \n",
      "3             11.480551       2  \n",
      "4             11.633432       2  \n",
      "...                 ...     ...  \n",
      "1327           9.807144       0  \n",
      "1328           9.985937       0  \n",
      "1329          10.153345       0  \n",
      "1330          10.308565       0  \n",
      "1331          10.450798       0  \n",
      "\n",
      "[1332 rows x 170 columns]\n"
     ]
    }
   ],
   "source": [
    "print(df_1)"
   ]
  },
  {
   "cell_type": "code",
   "execution_count": 5,
   "metadata": {},
   "outputs": [
    {
     "name": "stdout",
     "output_type": "stream",
     "text": [
      "      tempo  <>(GyrX)  var(GyrX)  kurt(GyrX)  RMS(GyrX)  freq1(GyrX)  \\\n",
      "0      68.0 -0.019135   0.017611    2.884902   0.133923          0.0   \n",
      "1      69.0 -0.034783   0.022035   -0.010314   0.152290        130.0   \n",
      "2      31.0  0.012372   0.007559   -0.322638   0.087705         72.0   \n",
      "3      40.0 -0.022698   0.009518    2.592758   0.100044         99.0   \n",
      "4      66.0 -0.030105   0.009866    2.134628   0.103674        104.0   \n",
      "...     ...       ...        ...         ...        ...          ...   \n",
      "1327   65.0 -0.033623   0.022053    0.010846   0.152087        131.0   \n",
      "1328   63.0 -0.064000   0.011856    0.503482   0.126189          0.0   \n",
      "1329   48.0 -0.057025   0.027097   -1.014898   0.174014          0.0   \n",
      "1330   22.0 -0.030503   0.017662    3.668552   0.136179         80.0   \n",
      "1331   17.0 -0.040288   0.020329   -0.908161   0.147976         75.0   \n",
      "\n",
      "      freq2(GyrX)  amp1(GyrX)  amp2(GyrX)  <>(GyrY)  ...  amp2(RPM(ESC_5))  \\\n",
      "0            88.0   14.686612    9.426301 -0.011444  ...       7943.392333   \n",
      "1           131.0    6.349330    6.244280  0.018407  ...       4778.282475   \n",
      "2            74.0    2.136597    1.901187  0.024026  ...      13577.070249   \n",
      "3            78.0    5.424650    3.931016 -0.006625  ...       7867.810497   \n",
      "4           107.0    3.894721    3.418936 -0.007524  ...       5267.877644   \n",
      "...           ...         ...         ...       ...  ...               ...   \n",
      "1327        130.0    6.702690    5.899464  0.017342  ...       5471.505239   \n",
      "1328        101.0   14.035227    5.655098  0.013771  ...      15743.792492   \n",
      "1329         84.0   18.414870    4.235047 -0.016069  ...       6579.406768   \n",
      "1330          0.0    9.203942    6.558398 -0.011678  ...      13349.860164   \n",
      "1331         74.0    6.891327    2.631212  0.017477  ...      10424.386992   \n",
      "\n",
      "      <>(Curr(ESC_5))  var(Curr(ESC_5))  kurt(Curr(ESC_5))  RMS(Curr(ESC_5))  \\\n",
      "0            3.222148          0.081890          -1.120011          3.234800   \n",
      "1            3.612833          0.087181           0.448593          3.624850   \n",
      "2            4.064450          0.882384          -1.507716          4.171310   \n",
      "3            3.406471          0.506431          -0.289004          3.479824   \n",
      "4            3.394772          0.480212          -0.194967          3.464612   \n",
      "...               ...               ...                ...               ...   \n",
      "1327         3.604495          0.080704           0.324903          3.615646   \n",
      "1328         3.621039          1.138566          -0.432063          3.774617   \n",
      "1329         4.757820          0.463818          -0.420209          4.806194   \n",
      "1330         3.200483          0.086208          -1.063811          3.213886   \n",
      "1331         3.220679          0.532134          -1.086666          3.302039   \n",
      "\n",
      "      freq1(Curr(ESC_5))  freq2(Curr(ESC_5))  amp1(Curr(ESC_5))  \\\n",
      "0                  131.0               129.0          14.632832   \n",
      "1                  141.0               140.0          22.956770   \n",
      "2                  141.0               142.0          52.947253   \n",
      "3                  148.0               147.0           8.832396   \n",
      "4                  152.0               153.0          15.828682   \n",
      "...                  ...                 ...                ...   \n",
      "1327               145.0               144.0          23.279075   \n",
      "1328               115.0               113.0          21.504797   \n",
      "1329                92.0                90.0          12.700556   \n",
      "1330               114.0               113.0           8.006450   \n",
      "1331               111.0               110.0          43.030671   \n",
      "\n",
      "      amp2(Curr(ESC_5))  Guasto  \n",
      "0              6.824472       2  \n",
      "1             11.705313       2  \n",
      "2             32.012453       1  \n",
      "3              8.275258       1  \n",
      "4             14.656874       1  \n",
      "...                 ...     ...  \n",
      "1327           9.434345       2  \n",
      "1328          14.077164       0  \n",
      "1329           6.819706       2  \n",
      "1330           6.545305       2  \n",
      "1331           7.312360       0  \n",
      "\n",
      "[1332 rows x 170 columns]\n"
     ]
    }
   ],
   "source": [
    "df_1 = df_1.sample(frac=1).reset_index(drop=True)\n",
    "print(df_1)"
   ]
  },
  {
   "cell_type": "code",
   "execution_count": 6,
   "metadata": {},
   "outputs": [
    {
     "name": "stdout",
     "output_type": "stream",
     "text": [
      "      <>(GyrX)  var(GyrX)  kurt(GyrX)  RMS(GyrX)  freq1(GyrX)  freq2(GyrX)  \\\n",
      "0    -0.019135   0.017611    2.884902   0.133923          0.0         88.0   \n",
      "1    -0.034783   0.022035   -0.010314   0.152290        130.0        131.0   \n",
      "2     0.012372   0.007559   -0.322638   0.087705         72.0         74.0   \n",
      "3    -0.022698   0.009518    2.592758   0.100044         99.0         78.0   \n",
      "4    -0.030105   0.009866    2.134628   0.103674        104.0        107.0   \n",
      "...        ...        ...         ...        ...          ...          ...   \n",
      "1327 -0.033623   0.022053    0.010846   0.152087        131.0        130.0   \n",
      "1328 -0.064000   0.011856    0.503482   0.126189          0.0        101.0   \n",
      "1329 -0.057025   0.027097   -1.014898   0.174014          0.0         84.0   \n",
      "1330 -0.030503   0.017662    3.668552   0.136179         80.0          0.0   \n",
      "1331 -0.040288   0.020329   -0.908161   0.147976         75.0         74.0   \n",
      "\n",
      "      amp1(GyrX)  amp2(GyrX)  <>(GyrY)  var(GyrY)  ...  amp2(RPM(ESC_5))  \\\n",
      "0      14.686612    9.426301 -0.011444   0.013971  ...       7943.392333   \n",
      "1       6.349330    6.244280  0.018407   0.006594  ...       4778.282475   \n",
      "2       2.136597    1.901187  0.024026   0.005422  ...      13577.070249   \n",
      "3       5.424650    3.931016 -0.006625   0.006279  ...       7867.810497   \n",
      "4       3.894721    3.418936 -0.007524   0.005955  ...       5267.877644   \n",
      "...          ...         ...       ...        ...  ...               ...   \n",
      "1327    6.702690    5.899464  0.017342   0.006528  ...       5471.505239   \n",
      "1328   14.035227    5.655098  0.013771   0.006357  ...      15743.792492   \n",
      "1329   18.414870    4.235047 -0.016069   0.007715  ...       6579.406768   \n",
      "1330    9.203942    6.558398 -0.011678   0.014941  ...      13349.860164   \n",
      "1331    6.891327    2.631212  0.017477   0.003281  ...      10424.386992   \n",
      "\n",
      "      <>(Curr(ESC_5))  var(Curr(ESC_5))  kurt(Curr(ESC_5))  RMS(Curr(ESC_5))  \\\n",
      "0            3.222148          0.081890          -1.120011          3.234800   \n",
      "1            3.612833          0.087181           0.448593          3.624850   \n",
      "2            4.064450          0.882384          -1.507716          4.171310   \n",
      "3            3.406471          0.506431          -0.289004          3.479824   \n",
      "4            3.394772          0.480212          -0.194967          3.464612   \n",
      "...               ...               ...                ...               ...   \n",
      "1327         3.604495          0.080704           0.324903          3.615646   \n",
      "1328         3.621039          1.138566          -0.432063          3.774617   \n",
      "1329         4.757820          0.463818          -0.420209          4.806194   \n",
      "1330         3.200483          0.086208          -1.063811          3.213886   \n",
      "1331         3.220679          0.532134          -1.086666          3.302039   \n",
      "\n",
      "      freq1(Curr(ESC_5))  freq2(Curr(ESC_5))  amp1(Curr(ESC_5))  \\\n",
      "0                  131.0               129.0          14.632832   \n",
      "1                  141.0               140.0          22.956770   \n",
      "2                  141.0               142.0          52.947253   \n",
      "3                  148.0               147.0           8.832396   \n",
      "4                  152.0               153.0          15.828682   \n",
      "...                  ...                 ...                ...   \n",
      "1327               145.0               144.0          23.279075   \n",
      "1328               115.0               113.0          21.504797   \n",
      "1329                92.0                90.0          12.700556   \n",
      "1330               114.0               113.0           8.006450   \n",
      "1331               111.0               110.0          43.030671   \n",
      "\n",
      "      amp2(Curr(ESC_5))  Guasto  \n",
      "0              6.824472       2  \n",
      "1             11.705313       2  \n",
      "2             32.012453       1  \n",
      "3              8.275258       1  \n",
      "4             14.656874       1  \n",
      "...                 ...     ...  \n",
      "1327           9.434345       2  \n",
      "1328          14.077164       0  \n",
      "1329           6.819706       2  \n",
      "1330           6.545305       2  \n",
      "1331           7.312360       0  \n",
      "\n",
      "[1332 rows x 169 columns]\n"
     ]
    }
   ],
   "source": [
    "df_1 = df_1.drop(['tempo'], axis=1)\n",
    "print(df_1)"
   ]
  },
  {
   "cell_type": "code",
   "execution_count": 7,
   "metadata": {},
   "outputs": [
    {
     "name": "stdout",
     "output_type": "stream",
     "text": [
      "     <>(GyrX)  var(GyrX)  kurt(GyrX)  RMS(GyrX)  freq1(GyrX)  freq2(GyrX)  \\\n",
      "470 -0.141198   0.033672   -0.776243   0.231344        112.0          0.0   \n",
      "\n",
      "     amp1(GyrX)  amp2(GyrX)  <>(GyrY)  var(GyrY)  ...  amp2(RPM(ESC_5))  \\\n",
      "470    9.767488    6.167577  0.011852   0.004216  ...       8548.159498   \n",
      "\n",
      "     <>(Curr(ESC_5))  var(Curr(ESC_5))  kurt(Curr(ESC_5))  RMS(Curr(ESC_5))  \\\n",
      "470         3.362593          0.509861            0.12162          3.437374   \n",
      "\n",
      "     freq1(Curr(ESC_5))  freq2(Curr(ESC_5))  amp1(Curr(ESC_5))  \\\n",
      "470                96.0                97.0           8.464661   \n",
      "\n",
      "     amp2(Curr(ESC_5))  Guasto  \n",
      "470           2.830968       0  \n",
      "\n",
      "[1 rows x 169 columns]\n"
     ]
    }
   ],
   "source": [
    "index_list = [470]\n",
    "df_test = df_1.query('index in @index_list')\n",
    "#df_test = pd.DataFrame(df_test)\n",
    "print(df_test)"
   ]
  },
  {
   "cell_type": "code",
   "execution_count": 8,
   "metadata": {},
   "outputs": [
    {
     "name": "stdout",
     "output_type": "stream",
     "text": [
      "      <>(GyrX)  var(GyrX)  kurt(GyrX)  RMS(GyrX)  freq1(GyrX)  freq2(GyrX)  \\\n",
      "0    -0.019135   0.017611    2.884902   0.133923          0.0         88.0   \n",
      "1    -0.034783   0.022035   -0.010314   0.152290        130.0        131.0   \n",
      "2     0.012372   0.007559   -0.322638   0.087705         72.0         74.0   \n",
      "3    -0.022698   0.009518    2.592758   0.100044         99.0         78.0   \n",
      "4    -0.030105   0.009866    2.134628   0.103674        104.0        107.0   \n",
      "...        ...        ...         ...        ...          ...          ...   \n",
      "1327 -0.033623   0.022053    0.010846   0.152087        131.0        130.0   \n",
      "1328 -0.064000   0.011856    0.503482   0.126189          0.0        101.0   \n",
      "1329 -0.057025   0.027097   -1.014898   0.174014          0.0         84.0   \n",
      "1330 -0.030503   0.017662    3.668552   0.136179         80.0          0.0   \n",
      "1331 -0.040288   0.020329   -0.908161   0.147976         75.0         74.0   \n",
      "\n",
      "      amp1(GyrX)  amp2(GyrX)  <>(GyrY)  var(GyrY)  ...  amp2(RPM(ESC_5))  \\\n",
      "0      14.686612    9.426301 -0.011444   0.013971  ...       7943.392333   \n",
      "1       6.349330    6.244280  0.018407   0.006594  ...       4778.282475   \n",
      "2       2.136597    1.901187  0.024026   0.005422  ...      13577.070249   \n",
      "3       5.424650    3.931016 -0.006625   0.006279  ...       7867.810497   \n",
      "4       3.894721    3.418936 -0.007524   0.005955  ...       5267.877644   \n",
      "...          ...         ...       ...        ...  ...               ...   \n",
      "1327    6.702690    5.899464  0.017342   0.006528  ...       5471.505239   \n",
      "1328   14.035227    5.655098  0.013771   0.006357  ...      15743.792492   \n",
      "1329   18.414870    4.235047 -0.016069   0.007715  ...       6579.406768   \n",
      "1330    9.203942    6.558398 -0.011678   0.014941  ...      13349.860164   \n",
      "1331    6.891327    2.631212  0.017477   0.003281  ...      10424.386992   \n",
      "\n",
      "      <>(Curr(ESC_5))  var(Curr(ESC_5))  kurt(Curr(ESC_5))  RMS(Curr(ESC_5))  \\\n",
      "0            3.222148          0.081890          -1.120011          3.234800   \n",
      "1            3.612833          0.087181           0.448593          3.624850   \n",
      "2            4.064450          0.882384          -1.507716          4.171310   \n",
      "3            3.406471          0.506431          -0.289004          3.479824   \n",
      "4            3.394772          0.480212          -0.194967          3.464612   \n",
      "...               ...               ...                ...               ...   \n",
      "1327         3.604495          0.080704           0.324903          3.615646   \n",
      "1328         3.621039          1.138566          -0.432063          3.774617   \n",
      "1329         4.757820          0.463818          -0.420209          4.806194   \n",
      "1330         3.200483          0.086208          -1.063811          3.213886   \n",
      "1331         3.220679          0.532134          -1.086666          3.302039   \n",
      "\n",
      "      freq1(Curr(ESC_5))  freq2(Curr(ESC_5))  amp1(Curr(ESC_5))  \\\n",
      "0                  131.0               129.0          14.632832   \n",
      "1                  141.0               140.0          22.956770   \n",
      "2                  141.0               142.0          52.947253   \n",
      "3                  148.0               147.0           8.832396   \n",
      "4                  152.0               153.0          15.828682   \n",
      "...                  ...                 ...                ...   \n",
      "1327               145.0               144.0          23.279075   \n",
      "1328               115.0               113.0          21.504797   \n",
      "1329                92.0                90.0          12.700556   \n",
      "1330               114.0               113.0           8.006450   \n",
      "1331               111.0               110.0          43.030671   \n",
      "\n",
      "      amp2(Curr(ESC_5))  Guasto  \n",
      "0              6.824472       2  \n",
      "1             11.705313       2  \n",
      "2             32.012453       1  \n",
      "3              8.275258       1  \n",
      "4             14.656874       1  \n",
      "...                 ...     ...  \n",
      "1327           9.434345       2  \n",
      "1328          14.077164       0  \n",
      "1329           6.819706       2  \n",
      "1330           6.545305       2  \n",
      "1331           7.312360       0  \n",
      "\n",
      "[1331 rows x 169 columns]\n"
     ]
    }
   ],
   "source": [
    "#df_1 = df_1.drop([df_1.index[1330], df_1.index[1331]])\n",
    "df_1 = df_1.drop([df_1.index[470]])\n",
    "print(df_1)"
   ]
  },
  {
   "cell_type": "code",
   "execution_count": 9,
   "metadata": {},
   "outputs": [],
   "source": [
    "# Model libraries\n",
    "from sklearn.linear_model import LogisticRegression\n",
    "from sklearn.neighbors import KNeighborsClassifier\n",
    "from sklearn.svm import SVC, LinearSVC, NuSVC\n",
    "from sklearn.tree import DecisionTreeClassifier\n",
    "from sklearn.ensemble import RandomForestClassifier, AdaBoostClassifier, GradientBoostingClassifier, ExtraTreesClassifier, VotingClassifier\n",
    "from sklearn.neural_network import MLPClassifier\n",
    "from sklearn.discriminant_analysis import LinearDiscriminantAnalysis, QuadraticDiscriminantAnalysis\n",
    "from sklearn.naive_bayes import GaussianNB\n",
    "from sklearn.decomposition import PCA\n",
    "\n",
    "# Testing libraries\n",
    "from sklearn.model_selection import train_test_split, cross_val_score, StratifiedKFold, GridSearchCV, learning_curve\n",
    "from sklearn.metrics import accuracy_score, log_loss, confusion_matrix, classification_report, roc_curve, auc"
   ]
  },
  {
   "cell_type": "code",
   "execution_count": 10,
   "metadata": {},
   "outputs": [
    {
     "name": "stdout",
     "output_type": "stream",
     "text": [
      "No guasto:  386 Guasto 5%:  412 Guasto 10%:  533\n"
     ]
    }
   ],
   "source": [
    "guasto_10 = df_1[df_1['Guasto'] == 2]\n",
    "no_guasto = df_1[df_1['Guasto'] == 0]\n",
    "guasto_5 = df_1[df_1['Guasto'] == 1]\n",
    "\n",
    "print(\"No guasto: \", len(no_guasto), \"Guasto 5%: \", len(guasto_5), \"Guasto 10%: \", len(guasto_10))"
   ]
  },
  {
   "attachments": {},
   "cell_type": "markdown",
   "metadata": {},
   "source": [
    "### Bilanciamento del dataset"
   ]
  },
  {
   "cell_type": "code",
   "execution_count": 11,
   "metadata": {},
   "outputs": [
    {
     "data": {
      "text/plain": [
       "(1158, 169)"
      ]
     },
     "execution_count": 11,
     "metadata": {},
     "output_type": "execute_result"
    }
   ],
   "source": [
    "#bilanciamento del dataset con undersampling rispetto al no_guasto\n",
    "balanced_d = pd.concat([no_guasto, guasto_10.sample(len(no_guasto)), guasto_5.sample(len(no_guasto))])\n",
    "x = balanced_d.iloc[:,:-1]\n",
    "y = balanced_d.iloc[:,-1:]\n",
    "balanced_d.shape"
   ]
  },
  {
   "cell_type": "code",
   "execution_count": null,
   "metadata": {},
   "outputs": [],
   "source": [
    "#x = df_1.iloc[:,:-1]\n",
    "#y = df_1.iloc[:,-1:]"
   ]
  },
  {
   "cell_type": "code",
   "execution_count": 12,
   "metadata": {},
   "outputs": [
    {
     "name": "stderr",
     "output_type": "stream",
     "text": [
      "C:\\Users\\chiar\\AppData\\Roaming\\Python\\Python310\\site-packages\\sklearn\\utils\\validation.py:1111: DataConversionWarning: A column-vector y was passed when a 1d array was expected. Please change the shape of y to (n_samples, ), for example using ravel().\n",
      "  y = column_or_1d(y, warn=True)\n"
     ]
    },
    {
     "name": "stdout",
     "output_type": "stream",
     "text": [
      "[False  True  True  True False False False False False False False False\n",
      " False False False False False False False  True False False False False\n",
      "  True False False  True False False False False False  True  True  True\n",
      " False False False False False False False False False False False False\n",
      " False False False False False False False False  True False False False\n",
      " False False False False False False False False False False False False\n",
      " False False False False False False False False False  True False False\n",
      " False False False False  True False False False False False False False\n",
      " False  True False False False False False False False  True False False\n",
      " False False False False False False False False False False False False\n",
      " False False False False False False False False False False False False\n",
      " False False False False False False False False False False False False\n",
      " False False False False False False False False False  True False False\n",
      " False False False False False False False False False False False False]\n",
      "[0, 4, 5, 6, 7, 8, 9, 10, 11, 12, 13, 14, 15, 16, 17, 18, 20, 21, 22, 23, 25, 26, 28, 29, 30, 31, 32, 36, 37, 38, 39, 40, 41, 42, 43, 44, 45, 46, 47, 48, 49, 50, 51, 52, 53, 54, 55, 57, 58, 59, 60, 61, 62, 63, 64, 65, 66, 67, 68, 69, 70, 71, 72, 73, 74, 75, 76, 77, 78, 79, 80, 82, 83, 84, 85, 86, 87, 89, 90, 91, 92, 93, 94, 95, 96, 98, 99, 100, 101, 102, 103, 104, 106, 107, 108, 109, 110, 111, 112, 113, 114, 115, 116, 117, 118, 119, 120, 121, 122, 123, 124, 125, 126, 127, 128, 129, 130, 131, 132, 133, 134, 135, 136, 137, 138, 139, 140, 141, 142, 143, 144, 145, 146, 147, 148, 149, 150, 151, 152, 154, 155, 156, 157, 158, 159, 160, 161, 162, 163, 164, 165, 166, 167]\n"
     ]
    }
   ],
   "source": [
    "from sklearn.feature_selection import SelectKBest, mutual_info_classif\n",
    "sel_mutual = SelectKBest(mutual_info_classif, k=15)\n",
    "X_train_mutual = sel_mutual.fit_transform(x, y)\n",
    "print(sel_mutual.get_support())\n",
    "\n",
    "i=0\n",
    "index_false=[]\n",
    "for el in list(sel_mutual.get_support()):\n",
    "    if not el:\n",
    "        index_false.append(i)\n",
    "    i=i+1\n",
    "print(index_false)"
   ]
  },
  {
   "cell_type": "code",
   "execution_count": 13,
   "metadata": {},
   "outputs": [
    {
     "name": "stdout",
     "output_type": "stream",
     "text": [
      "      var(GyrX)  kurt(GyrX)  RMS(GyrX)  RMS(GyrZ)  <>(AccX)  RMS(AccX)  \\\n",
      "8      0.011932    0.482767   0.126429   0.123408 -0.270199   0.351119   \n",
      "11     0.012132    0.432150   0.127079   0.124141 -0.270424   0.352375   \n",
      "15     0.010449    0.294217   0.112562   0.130170 -0.075165   0.267474   \n",
      "16     0.004443   -0.071820   0.074039   0.236983  0.110262   0.341521   \n",
      "17     0.004330   -0.011782   0.073033   0.229628  0.120421   0.341509   \n",
      "...         ...         ...        ...        ...       ...        ...   \n",
      "254    0.012055    2.264978   0.109917   0.109502  0.101417   0.309806   \n",
      "89     0.007517   -0.309396   0.087201   0.164239  0.019732   0.195973   \n",
      "394    0.009847    2.077565   0.104251   0.110254 -0.060475   0.190404   \n",
      "1117   0.040373   -1.522782   0.242802   0.153558  0.098082   0.222398   \n",
      "137    0.007611   -0.339798   0.088053   0.166513  0.016737   0.195977   \n",
      "\n",
      "      var(AccY)  kurt(AccY)  RMS(AccY)  <>(Pitch)  var(Curr(ESC_0))  \\\n",
      "8      0.118697   -0.410419   0.456503   0.181314          0.697273   \n",
      "11     0.118048   -0.390740   0.450910   0.187270          0.703793   \n",
      "15     0.072180   -0.649903   0.331679  -0.453333          0.809419   \n",
      "16     0.057307    0.411315   0.346379  -0.354652          0.800983   \n",
      "17     0.060836    0.309604   0.367446  -0.199801          0.767022   \n",
      "...         ...         ...        ...        ...               ...   \n",
      "254    0.054136    0.359982   0.290720   0.373538          1.229938   \n",
      "89     0.037452    0.245820   0.357377   0.096107          0.710639   \n",
      "394    0.066027    0.246448   0.302441   0.311636          0.383906   \n",
      "1117   0.101153   -0.059309   0.528921   0.760603          1.044451   \n",
      "137    0.038822    0.136958   0.358981   0.089656          0.724430   \n",
      "\n",
      "      <>(RPM(ESC_1))  var(Curr(ESC_1))  var(RPM(ESC_2))  var(RPM(ESC_5))  \n",
      "8        4924.800487          0.214390     7.953536e+05     1.383034e+06  \n",
      "11       4918.265509          0.211895     7.966103e+05     1.388903e+06  \n",
      "15       4824.872222          0.198877     1.034227e+06     1.640692e+06  \n",
      "16       5267.149733          0.126736     1.634100e+06     9.749196e+05  \n",
      "17       5257.109453          0.147232     1.597780e+06     9.615475e+05  \n",
      "...              ...               ...              ...              ...  \n",
      "254      4551.569231          0.499643     1.353988e+06     1.081745e+06  \n",
      "89       4442.610687          2.089887     1.997273e+06     2.356818e+06  \n",
      "394      4673.679907          0.537080     7.968798e+05     9.323162e+05  \n",
      "1117     5087.590452          0.342039     1.563622e+06     9.542626e+05  \n",
      "137      4436.719577          2.082502     2.057453e+06     2.424209e+06  \n",
      "\n",
      "[1158 rows x 15 columns]\n"
     ]
    }
   ],
   "source": [
    "x=x.drop(x.columns[index_false],axis = 1)\n",
    "print(x)"
   ]
  },
  {
   "attachments": {},
   "cell_type": "markdown",
   "metadata": {},
   "source": [
    "### Separazione del dataset in training e test"
   ]
  },
  {
   "cell_type": "code",
   "execution_count": 14,
   "metadata": {},
   "outputs": [
    {
     "name": "stdout",
     "output_type": "stream",
     "text": [
      "(926, 15)\n",
      "(232, 15)\n",
      "(926, 1)\n",
      "(232, 1)\n"
     ]
    }
   ],
   "source": [
    "# Random state\n",
    "rs = 42\n",
    "\n",
    "# Split the data to check which algorithms learn better (later on we can check )\n",
    "x_train, x_test, y_train, y_test = train_test_split(x, y, test_size=0.2, random_state=rs)\n",
    "y_train = y_train.astype(int)\n",
    "y_test = y_test.astype(int)\n",
    "\n",
    "# look at the shape of the data (many problems can arise from wrong shape)\n",
    "print(x_train.shape)\n",
    "print(x_test.shape)\n",
    "print(y_train.shape)\n",
    "print(y_test.shape)"
   ]
  },
  {
   "cell_type": "code",
   "execution_count": null,
   "metadata": {},
   "outputs": [],
   "source": [
    "#from sklearn.feature_selection import SelectKBest, mutual_info_classif\n",
    "#sel_mutual = SelectKBest(mutual_info_classif, k=6)\n",
    "#X_train_mutual = sel_mutual.fit_transform(x_train, y_train)\n",
    "#print(sel_mutual.get_support())\n",
    "\n",
    "#i=0\n",
    "#index_false=[]\n",
    "#for el in list(sel_mutual.get_support()):\n",
    "#    if not el:\n",
    "#        index_false.append(i)\n",
    "#    i=i+1\n",
    "#print(index_false)"
   ]
  },
  {
   "cell_type": "code",
   "execution_count": null,
   "metadata": {},
   "outputs": [],
   "source": [
    "#x_train=x_train.drop(x_train.columns[index_false],axis = 1)\n",
    "#x_test=x_test.drop(x_test.columns[index_false],axis = 1)"
   ]
  },
  {
   "cell_type": "code",
   "execution_count": null,
   "metadata": {},
   "outputs": [],
   "source": [
    "x_train"
   ]
  },
  {
   "cell_type": "code",
   "execution_count": 15,
   "metadata": {},
   "outputs": [],
   "source": [
    "# List of classifiers:\n",
    "classifiers = [\n",
    "    LogisticRegression(random_state = rs),\n",
    "    #DecisionTreeClassifier(random_state=rs, max_depth=5),\n",
    "    #RandomForestClassifier(n_estimators = 100, random_state=rs),\n",
    "    #GradientBoostingClassifier(random_state= rs, n_estimators=100),\n",
    "    AdaBoostClassifier(n_estimators=100, random_state= rs),\n",
    "    LinearDiscriminantAnalysis(),\n",
    "    SVC(probability=True),\n",
    "    GaussianNB(),\n",
    "    #KNeighborsClassifier(n_neighbors=10)\n",
    "]\n",
    "\n",
    "# List of results that will occure:\n",
    "clf_name = [] # names of the classifiers\n",
    "model_results = pd.DataFrame.copy(y_test) #resulting of prediction from the models\n",
    "\n",
    "kfold = StratifiedKFold(n_splits=5) #cross-validation\n",
    "cv_results = [] # scores from cross validation\n",
    "cv_acc = [] # mean accuracy from cross validation, need to maximize\n",
    "cv_std = [] # standard deviation from cross validation, need to minimise\n",
    "\n",
    "cnfm = [] #confusion matrix\n",
    "clr = [] #classification report\n",
    "roc_auc = [] #roc curve:\n",
    "roc_tpr = []\n",
    "roc_fpr = []"
   ]
  },
  {
   "attachments": {},
   "cell_type": "markdown",
   "metadata": {},
   "source": [
    "### Classificazione"
   ]
  },
  {
   "cell_type": "code",
   "execution_count": 16,
   "metadata": {},
   "outputs": [
    {
     "name": "stdout",
     "output_type": "stream",
     "text": [
      "Accuracy: 0.76 \t ---> LogisticRegression \n",
      "Accuracy: 0.97 \t ---> AdaBoostClassifier \n",
      "Accuracy: 1.0 \t ---> LinearDiscriminantAnalysis \n",
      "Accuracy: 0.76 \t ---> SVC \n",
      "Accuracy: 0.75 \t ---> GaussianNB \n"
     ]
    }
   ],
   "source": [
    "# Training the algorithms and results\n",
    "for clf in classifiers:\n",
    "    name = clf.__class__.__name__\n",
    "    clf_name.append(name)\n",
    "    \n",
    "    #fitting and predictions\n",
    "    model = clf.fit(x_train, y_train.values.ravel())\n",
    "    y_pred = model.predict(x_test)\n",
    "    model_results[name] = y_pred\n",
    "    \n",
    "    #accuracy and log loss\n",
    "    cv_results.append(cross_val_score(clf, x_train, y_train.values.ravel(), scoring = \"accuracy\",cv = kfold))\n",
    "    acc = round(accuracy_score(y_test.values.ravel(), y_pred), 2) #need to maximize\n",
    "    train_pred = clf.predict_proba(x_test)\n",
    "    print(f'Accuracy: {acc} \\t ---> {name} ')\n",
    "    \n",
    "    #confusion matrix, clasification report, roc curve\n",
    "    cnfm.append(confusion_matrix(y_test.values.ravel(), y_pred))\n",
    "    clr.append(classification_report(y_test.values.ravel(), y_pred))\n",
    "    fpr, tpr, thresholds = roc_curve(y_pred, y_test.values.ravel(), pos_label=1)\n",
    "    roc_auc.append(auc(fpr, tpr))\n",
    "    roc_tpr.append(tpr)\n",
    "    roc_fpr.append(fpr)\n",
    "    \n",
    "\n",
    "for i in cv_results:\n",
    "    cv_acc.append(i.mean())\n",
    "    cv_std.append(i.std())"
   ]
  },
  {
   "attachments": {},
   "cell_type": "markdown",
   "metadata": {},
   "source": [
    "### Matrici di confusione"
   ]
  },
  {
   "cell_type": "code",
   "execution_count": 17,
   "metadata": {},
   "outputs": [
    {
     "data": {
      "image/png": "[encoded data removed]",
      "text/plain": [
       "<Figure size 1440x1080 with 10 Axes>"
      ]
     },
     "metadata": {
      "needs_background": "light"
     },
     "output_type": "display_data"
    }
   ],
   "source": [
    "import seaborn as sns\n",
    "# Confusion matrixes (not-normalized confusion matrix)\n",
    "plt.figure(figsize=(20,15))\n",
    "sns.set(font_scale=1.4)\n",
    "for i in range(len(classifiers)):\n",
    "    plt.subplot(3,3,i+1) #adjust this acourding to the number of algorithms\n",
    "    sns.heatmap(cnfm[i], annot=True, fmt=\"d\",cmap=\"Reds\")\n",
    "    plt.subplots_adjust(hspace = 0.5)\n",
    "    plt.xlabel('Predicted')\n",
    "    plt.ylabel('Actual')\n",
    "    plt.title(clf_name[i])"
   ]
  },
  {
   "cell_type": "code",
   "execution_count": 18,
   "metadata": {},
   "outputs": [
    {
     "name": "stdout",
     "output_type": "stream",
     "text": [
      "LogisticRegression Classification Report:\n",
      "              precision    recall  f1-score   support\n",
      "\n",
      "           0       0.64      0.74      0.69        82\n",
      "           1       0.65      0.53      0.59        73\n",
      "           2       1.00      1.00      1.00        77\n",
      "\n",
      "    accuracy                           0.76       232\n",
      "   macro avg       0.76      0.76      0.76       232\n",
      "weighted avg       0.76      0.76      0.76       232\n",
      "\n",
      "AdaBoostClassifier Classification Report:\n",
      "              precision    recall  f1-score   support\n",
      "\n",
      "           0       0.94      0.99      0.96        82\n",
      "           1       1.00      1.00      1.00        73\n",
      "           2       0.99      0.94      0.96        77\n",
      "\n",
      "    accuracy                           0.97       232\n",
      "   macro avg       0.98      0.97      0.97       232\n",
      "weighted avg       0.97      0.97      0.97       232\n",
      "\n",
      "LinearDiscriminantAnalysis Classification Report:\n",
      "              precision    recall  f1-score   support\n",
      "\n",
      "           0       1.00      1.00      1.00        82\n",
      "           1       1.00      1.00      1.00        73\n",
      "           2       1.00      1.00      1.00        77\n",
      "\n",
      "    accuracy                           1.00       232\n",
      "   macro avg       1.00      1.00      1.00       232\n",
      "weighted avg       1.00      1.00      1.00       232\n",
      "\n",
      "SVC Classification Report:\n",
      "              precision    recall  f1-score   support\n",
      "\n",
      "           0       0.67      0.65      0.66        82\n",
      "           1       0.68      0.85      0.76        73\n",
      "           2       1.00      0.81      0.89        77\n",
      "\n",
      "    accuracy                           0.76       232\n",
      "   macro avg       0.78      0.77      0.77       232\n",
      "weighted avg       0.78      0.76      0.77       232\n",
      "\n",
      "GaussianNB Classification Report:\n",
      "              precision    recall  f1-score   support\n",
      "\n",
      "           0       0.60      0.83      0.70        82\n",
      "           1       0.67      0.38      0.49        73\n",
      "           2       1.00      1.00      1.00        77\n",
      "\n",
      "    accuracy                           0.75       232\n",
      "   macro avg       0.76      0.74      0.73       232\n",
      "weighted avg       0.75      0.75      0.73       232\n",
      "\n"
     ]
    }
   ],
   "source": [
    "#Classification reports\n",
    "for i in range(len(classifiers)):\n",
    "    print (f\"{clf_name[i]} Classification Report:\" )\n",
    "    print (clr[i])"
   ]
  },
  {
   "cell_type": "code",
   "execution_count": 19,
   "metadata": {},
   "outputs": [
    {
     "name": "stdout",
     "output_type": "stream",
     "text": [
      "[0.76595745 0.68085106 0.65217391 0.73913043 0.84782609]\n"
     ]
    },
    {
     "name": "stderr",
     "output_type": "stream",
     "text": [
      "C:\\Users\\chiar\\AppData\\Roaming\\Python\\Python310\\site-packages\\sklearn\\utils\\validation.py:1111: DataConversionWarning: A column-vector y was passed when a 1d array was expected. Please change the shape of y to (n_samples, ), for example using ravel().\n",
      "  y = column_or_1d(y, warn=True)\n",
      "C:\\Users\\chiar\\AppData\\Roaming\\Python\\Python310\\site-packages\\sklearn\\utils\\validation.py:1111: DataConversionWarning: A column-vector y was passed when a 1d array was expected. Please change the shape of y to (n_samples, ), for example using ravel().\n",
      "  y = column_or_1d(y, warn=True)\n",
      "C:\\Users\\chiar\\AppData\\Roaming\\Python\\Python310\\site-packages\\sklearn\\utils\\validation.py:1111: DataConversionWarning: A column-vector y was passed when a 1d array was expected. Please change the shape of y to (n_samples, ), for example using ravel().\n",
      "  y = column_or_1d(y, warn=True)\n",
      "C:\\Users\\chiar\\AppData\\Roaming\\Python\\Python310\\site-packages\\sklearn\\utils\\validation.py:1111: DataConversionWarning: A column-vector y was passed when a 1d array was expected. Please change the shape of y to (n_samples, ), for example using ravel().\n",
      "  y = column_or_1d(y, warn=True)\n",
      "C:\\Users\\chiar\\AppData\\Roaming\\Python\\Python310\\site-packages\\sklearn\\utils\\validation.py:1111: DataConversionWarning: A column-vector y was passed when a 1d array was expected. Please change the shape of y to (n_samples, ), for example using ravel().\n",
      "  y = column_or_1d(y, warn=True)\n",
      "C:\\Users\\chiar\\AppData\\Roaming\\Python\\Python310\\site-packages\\sklearn\\utils\\validation.py:1111: DataConversionWarning: A column-vector y was passed when a 1d array was expected. Please change the shape of y to (n_samples, ), for example using ravel().\n",
      "  y = column_or_1d(y, warn=True)\n"
     ]
    }
   ],
   "source": [
    "#clf = SVC(probability=True).fit(x_train, y_train)\n",
    "clf = GaussianNB().fit(x_train, y_train)\n",
    "scores = cross_val_score(clf, x_test, y_test, cv=5)\n",
    "print(scores)"
   ]
  },
  {
   "attachments": {},
   "cell_type": "markdown",
   "metadata": {},
   "source": [
    "TESTING DEL MODELLO"
   ]
  },
  {
   "cell_type": "code",
   "execution_count": 20,
   "metadata": {},
   "outputs": [],
   "source": [
    "# Drop values to avoid multicolinearity\n",
    "df_test = df_test.drop(['Guasto'], axis=1)"
   ]
  },
  {
   "cell_type": "code",
   "execution_count": 21,
   "metadata": {},
   "outputs": [
    {
     "name": "stdout",
     "output_type": "stream",
     "text": [
      "     var(GyrX)  kurt(GyrX)  RMS(GyrX)  RMS(GyrZ)  <>(AccX)  RMS(AccX)  \\\n",
      "470   0.033672   -0.776243   0.231344   0.168726 -0.353062   0.409079   \n",
      "\n",
      "     var(AccY)  kurt(AccY)  RMS(AccY)  <>(Pitch)  var(Curr(ESC_0))  \\\n",
      "470   0.213584   -0.470523   0.611077  -0.168175          0.482564   \n",
      "\n",
      "     <>(RPM(ESC_1))  var(Curr(ESC_1))  var(RPM(ESC_2))  var(RPM(ESC_5))  \n",
      "470     4776.378307          0.189567     504350.25874    777984.592431  \n"
     ]
    }
   ],
   "source": [
    "df_test=df_test.drop(df_test.columns[index_false],axis = 1)\n",
    "print(df_test)"
   ]
  },
  {
   "cell_type": "code",
   "execution_count": 22,
   "metadata": {},
   "outputs": [
    {
     "data": {
      "text/plain": [
       "0    1\n",
       "Name: Guasto_test, dtype: int64"
      ]
     },
     "execution_count": 22,
     "metadata": {},
     "output_type": "execute_result"
    }
   ],
   "source": [
    "guasto_pred = pd.Series(clf.predict(df_test), name='Guasto_test')\n",
    "guasto_pred.value_counts()"
   ]
  }
 ],
 "metadata": {
  "kernelspec": {
   "display_name": "Python 3",
   "language": "python",
   "name": "python3"
  },
  "language_info": {
   "codemirror_mode": {
    "name": "ipython",
    "version": 3
   },
   "file_extension": ".py",
   "mimetype": "text/x-python",
   "name": "python",
   "nbconvert_exporter": "python",
   "pygments_lexer": "ipython3",
   "version": "3.10.2"
  },
  "orig_nbformat": 4,
  "vscode": {
   "interpreter": {
    "hash": "369f2c481f4da34e4445cda3fffd2e751bd1c4d706f27375911949ba6bb62e1c"
   }
  }
 },
 "nbformat": 4,
 "nbformat_minor": 2
}
