{
 "cells": [
  {
   "attachments": {},
   "cell_type": "markdown",
   "metadata": {},
   "source": [
    "IMPORTAZIONE LIBRERIE"
   ]
  },
  {
   "cell_type": "code",
   "execution_count": 1,
   "metadata": {},
   "outputs": [],
   "source": [
    "import os\n",
    "import pandas as pd\n",
    "import matplotlib.pyplot as plt\n",
    "import numpy as np\n",
    "import glob\n",
    "import array \n",
    "import scipy.signal as signal\n",
    "#Processing libraries\n",
    "from sklearn.preprocessing import StandardScaler,MinMaxScaler\n",
    "import seaborn as sns\n",
    "from scipy.stats import zscore\n",
    "from sklearn.multiclass import OneVsRestClassifier\n",
    "\n",
    "# Model libraries\n",
    "from sklearn.linear_model import LogisticRegression, SGDClassifier, Perceptron\n",
    "from sklearn.neighbors import KNeighborsClassifier\n",
    "from sklearn.svm import SVC, LinearSVC, NuSVC\n",
    "from sklearn.tree import DecisionTreeClassifier\n",
    "from sklearn.ensemble import RandomForestClassifier, AdaBoostClassifier, GradientBoostingClassifier, ExtraTreesClassifier, VotingClassifier\n",
    "from sklearn.neural_network import MLPClassifier\n",
    "from sklearn.discriminant_analysis import LinearDiscriminantAnalysis, QuadraticDiscriminantAnalysis\n",
    "from sklearn.naive_bayes import GaussianNB\n",
    "from sklearn.decomposition import PCA\n",
    "from imblearn.over_sampling import SMOTE\n",
    "\n",
    "# Testing libraries\n",
    "from sklearn.model_selection import train_test_split, cross_val_score, StratifiedKFold, GridSearchCV, learning_curve\n",
    "from sklearn.metrics import accuracy_score, log_loss, confusion_matrix, classification_report, roc_curve, auc\n",
    "\n",
    "# remove warnings\n",
    "import warnings\n",
    "warnings.filterwarnings('ignore')"
   ]
  },
  {
   "attachments": {},
   "cell_type": "markdown",
   "metadata": {},
   "source": [
    "CAMBIO PATH PER ANALISI RISPETTO AL LOG DI VOLO CONSIDERAT"
   ]
  },
  {
   "cell_type": "code",
   "execution_count": 2,
   "metadata": {},
   "outputs": [
    {
     "name": "stdout",
     "output_type": "stream",
     "text": [
      "c:\\Users\\chiar\\OneDrive\\Desktop\\MantenzionePreventiva\\ProgettoManutenzionePreventiva\n"
     ]
    }
   ],
   "source": [
    "path_file = os.path.abspath(os.getcwd())\n",
    "print(path_file)\n",
    "os.chdir(path_file)"
   ]
  },
  {
   "attachments": {},
   "cell_type": "markdown",
   "metadata": {},
   "source": [
    "ARRAY CHE CONTERRA' I DATAFRAME DI CIASCUN VOLO (PER UN TOTALE DI 18)"
   ]
  },
  {
   "cell_type": "code",
   "execution_count": 3,
   "metadata": {},
   "outputs": [],
   "source": [
    "data_path = os.path.join(path_file,'*.csv') #lista di tutti gli elementi di estensione csv nella cartella path\n",
    "csv_list = glob.glob(data_path) #converte data path in un output Unix-like (ls) (*.csv -> lista di elementi con estensione csv)\n",
    "dataframe_collection = []\n",
    "df_1 = pd.DataFrame()\n",
    "\n",
    "# ciclo per scorrere tutti i csv\n",
    "for csv_file in csv_list: # ciclo che scorre i csv nella cartella path\n",
    "    df = pd.read_csv(csv_file) \n",
    "    #df = df.to_numpy()\n",
    "    #df = df.to_records(index=False)\n",
    "    #dataframe_collection.append(df)\n",
    "    df_1 = df_1.append(df,ignore_index=True)\n",
    "    #print(df)\n"
   ]
  },
  {
   "cell_type": "code",
   "execution_count": null,
   "metadata": {},
   "outputs": [],
   "source": [
    "#df_1.to_csv('totale.csv', index=False)\n",
    "pd.set_option('display.max_rows', None)\n",
    "pd.set_option('display.max_columns', None)\n",
    "#display(df_1)"
   ]
  },
  {
   "cell_type": "code",
   "execution_count": null,
   "metadata": {},
   "outputs": [],
   "source": [
    "df_1 = df_1.sample(frac=1).reset_index(drop=True)\n",
    "print(df_1)"
   ]
  },
  {
   "cell_type": "code",
   "execution_count": 4,
   "metadata": {},
   "outputs": [
    {
     "data": {
      "text/html": [
       "<div>\n",
       "<style scoped>\n",
       "    .dataframe tbody tr th:only-of-type {\n",
       "        vertical-align: middle;\n",
       "    }\n",
       "\n",
       "    .dataframe tbody tr th {\n",
       "        vertical-align: top;\n",
       "    }\n",
       "\n",
       "    .dataframe thead th {\n",
       "        text-align: right;\n",
       "    }\n",
       "</style>\n",
       "<table border=\"1\" class=\"dataframe\">\n",
       "  <thead>\n",
       "    <tr style=\"text-align: right;\">\n",
       "      <th></th>\n",
       "      <th>&lt;&gt;(GyrX)</th>\n",
       "      <th>var(GyrX)</th>\n",
       "      <th>kurt(GyrX)</th>\n",
       "      <th>RMS(GyrX)</th>\n",
       "      <th>freq1(GyrX)</th>\n",
       "      <th>freq2(GyrX)</th>\n",
       "      <th>amp1(GyrX)</th>\n",
       "      <th>amp2(GyrX)</th>\n",
       "      <th>&lt;&gt;(GyrY)</th>\n",
       "      <th>var(GyrY)</th>\n",
       "      <th>...</th>\n",
       "      <th>amp2(C13)</th>\n",
       "      <th>&lt;&gt;(C14)</th>\n",
       "      <th>var(C14)</th>\n",
       "      <th>kurt(C14)</th>\n",
       "      <th>RMS(C14)</th>\n",
       "      <th>freq1(C14)</th>\n",
       "      <th>freq2(C14)</th>\n",
       "      <th>amp1(C14)</th>\n",
       "      <th>amp2(C14)</th>\n",
       "      <th>Guasto</th>\n",
       "    </tr>\n",
       "  </thead>\n",
       "  <tbody>\n",
       "    <tr>\n",
       "      <th>0</th>\n",
       "      <td>-0.032100</td>\n",
       "      <td>0.017081</td>\n",
       "      <td>-0.399284</td>\n",
       "      <td>0.134398</td>\n",
       "      <td>78.0</td>\n",
       "      <td>96.0</td>\n",
       "      <td>3.596543</td>\n",
       "      <td>3.414090</td>\n",
       "      <td>-0.014483</td>\n",
       "      <td>0.028038</td>\n",
       "      <td>...</td>\n",
       "      <td>1316.635778</td>\n",
       "      <td>1530.205128</td>\n",
       "      <td>1397.957802</td>\n",
       "      <td>-0.375963</td>\n",
       "      <td>1530.660547</td>\n",
       "      <td>116.0</td>\n",
       "      <td>115.0</td>\n",
       "      <td>1356.236798</td>\n",
       "      <td>982.813328</td>\n",
       "      <td>2</td>\n",
       "    </tr>\n",
       "    <tr>\n",
       "      <th>1</th>\n",
       "      <td>-0.032346</td>\n",
       "      <td>0.017054</td>\n",
       "      <td>-0.400010</td>\n",
       "      <td>0.134356</td>\n",
       "      <td>102.0</td>\n",
       "      <td>80.0</td>\n",
       "      <td>3.601798</td>\n",
       "      <td>3.359201</td>\n",
       "      <td>-0.014131</td>\n",
       "      <td>0.028001</td>\n",
       "      <td>...</td>\n",
       "      <td>1347.166450</td>\n",
       "      <td>1530.380682</td>\n",
       "      <td>1404.823329</td>\n",
       "      <td>-0.386721</td>\n",
       "      <td>1530.838288</td>\n",
       "      <td>113.0</td>\n",
       "      <td>112.0</td>\n",
       "      <td>1351.732999</td>\n",
       "      <td>889.971776</td>\n",
       "      <td>2</td>\n",
       "    </tr>\n",
       "    <tr>\n",
       "      <th>2</th>\n",
       "      <td>-0.032590</td>\n",
       "      <td>0.017026</td>\n",
       "      <td>-0.400594</td>\n",
       "      <td>0.134314</td>\n",
       "      <td>98.0</td>\n",
       "      <td>79.0</td>\n",
       "      <td>3.785400</td>\n",
       "      <td>3.155365</td>\n",
       "      <td>-0.013642</td>\n",
       "      <td>0.028006</td>\n",
       "      <td>...</td>\n",
       "      <td>1335.348799</td>\n",
       "      <td>1530.555241</td>\n",
       "      <td>1411.588559</td>\n",
       "      <td>-0.397326</td>\n",
       "      <td>1531.015002</td>\n",
       "      <td>116.0</td>\n",
       "      <td>115.0</td>\n",
       "      <td>1367.356776</td>\n",
       "      <td>931.422173</td>\n",
       "      <td>2</td>\n",
       "    </tr>\n",
       "    <tr>\n",
       "      <th>3</th>\n",
       "      <td>-0.032832</td>\n",
       "      <td>0.016999</td>\n",
       "      <td>-0.401113</td>\n",
       "      <td>0.134271</td>\n",
       "      <td>102.0</td>\n",
       "      <td>71.0</td>\n",
       "      <td>3.964024</td>\n",
       "      <td>3.257887</td>\n",
       "      <td>-0.013156</td>\n",
       "      <td>0.028010</td>\n",
       "      <td>...</td>\n",
       "      <td>1322.356341</td>\n",
       "      <td>1530.728814</td>\n",
       "      <td>1418.254861</td>\n",
       "      <td>-0.407778</td>\n",
       "      <td>1531.190697</td>\n",
       "      <td>111.0</td>\n",
       "      <td>110.0</td>\n",
       "      <td>1437.986779</td>\n",
       "      <td>1042.276447</td>\n",
       "      <td>2</td>\n",
       "    </tr>\n",
       "    <tr>\n",
       "      <th>4</th>\n",
       "      <td>-0.033265</td>\n",
       "      <td>0.017017</td>\n",
       "      <td>-0.412325</td>\n",
       "      <td>0.134447</td>\n",
       "      <td>102.0</td>\n",
       "      <td>87.0</td>\n",
       "      <td>4.069144</td>\n",
       "      <td>2.898697</td>\n",
       "      <td>-0.013003</td>\n",
       "      <td>0.027940</td>\n",
       "      <td>...</td>\n",
       "      <td>1308.221788</td>\n",
       "      <td>1530.901408</td>\n",
       "      <td>1424.823586</td>\n",
       "      <td>-0.418075</td>\n",
       "      <td>1531.365382</td>\n",
       "      <td>118.0</td>\n",
       "      <td>116.0</td>\n",
       "      <td>1502.075347</td>\n",
       "      <td>1117.254428</td>\n",
       "      <td>2</td>\n",
       "    </tr>\n",
       "    <tr>\n",
       "      <th>...</th>\n",
       "      <td>...</td>\n",
       "      <td>...</td>\n",
       "      <td>...</td>\n",
       "      <td>...</td>\n",
       "      <td>...</td>\n",
       "      <td>...</td>\n",
       "      <td>...</td>\n",
       "      <td>...</td>\n",
       "      <td>...</td>\n",
       "      <td>...</td>\n",
       "      <td>...</td>\n",
       "      <td>...</td>\n",
       "      <td>...</td>\n",
       "      <td>...</td>\n",
       "      <td>...</td>\n",
       "      <td>...</td>\n",
       "      <td>...</td>\n",
       "      <td>...</td>\n",
       "      <td>...</td>\n",
       "      <td>...</td>\n",
       "      <td>...</td>\n",
       "    </tr>\n",
       "    <tr>\n",
       "      <th>1344</th>\n",
       "      <td>-0.048472</td>\n",
       "      <td>0.006254</td>\n",
       "      <td>-0.082119</td>\n",
       "      <td>0.092673</td>\n",
       "      <td>0.0</td>\n",
       "      <td>119.0</td>\n",
       "      <td>13.705592</td>\n",
       "      <td>4.427470</td>\n",
       "      <td>0.036188</td>\n",
       "      <td>0.004072</td>\n",
       "      <td>...</td>\n",
       "      <td>721.379609</td>\n",
       "      <td>1549.740920</td>\n",
       "      <td>5073.978831</td>\n",
       "      <td>0.974985</td>\n",
       "      <td>1551.373138</td>\n",
       "      <td>133.0</td>\n",
       "      <td>131.0</td>\n",
       "      <td>1511.376776</td>\n",
       "      <td>995.696782</td>\n",
       "      <td>0</td>\n",
       "    </tr>\n",
       "    <tr>\n",
       "      <th>1345</th>\n",
       "      <td>-0.048289</td>\n",
       "      <td>0.006253</td>\n",
       "      <td>-0.081993</td>\n",
       "      <td>0.092571</td>\n",
       "      <td>0.0</td>\n",
       "      <td>118.0</td>\n",
       "      <td>13.703035</td>\n",
       "      <td>4.344276</td>\n",
       "      <td>0.036631</td>\n",
       "      <td>0.004143</td>\n",
       "      <td>...</td>\n",
       "      <td>730.061710</td>\n",
       "      <td>1549.922705</td>\n",
       "      <td>5075.374156</td>\n",
       "      <td>0.980104</td>\n",
       "      <td>1551.555190</td>\n",
       "      <td>134.0</td>\n",
       "      <td>132.0</td>\n",
       "      <td>1514.809977</td>\n",
       "      <td>861.450797</td>\n",
       "      <td>0</td>\n",
       "    </tr>\n",
       "    <tr>\n",
       "      <th>1346</th>\n",
       "      <td>-0.048212</td>\n",
       "      <td>0.006240</td>\n",
       "      <td>-0.075446</td>\n",
       "      <td>0.092463</td>\n",
       "      <td>0.0</td>\n",
       "      <td>119.0</td>\n",
       "      <td>13.655833</td>\n",
       "      <td>4.213446</td>\n",
       "      <td>0.037145</td>\n",
       "      <td>0.004243</td>\n",
       "      <td>...</td>\n",
       "      <td>694.279610</td>\n",
       "      <td>1550.103614</td>\n",
       "      <td>5076.696968</td>\n",
       "      <td>0.985247</td>\n",
       "      <td>1551.736343</td>\n",
       "      <td>141.0</td>\n",
       "      <td>139.0</td>\n",
       "      <td>1518.825061</td>\n",
       "      <td>730.400470</td>\n",
       "      <td>0</td>\n",
       "    </tr>\n",
       "    <tr>\n",
       "      <th>1347</th>\n",
       "      <td>-0.048179</td>\n",
       "      <td>0.006225</td>\n",
       "      <td>-0.068067</td>\n",
       "      <td>0.092367</td>\n",
       "      <td>0.0</td>\n",
       "      <td>130.0</td>\n",
       "      <td>13.590221</td>\n",
       "      <td>4.061607</td>\n",
       "      <td>0.037632</td>\n",
       "      <td>0.004331</td>\n",
       "      <td>...</td>\n",
       "      <td>628.524525</td>\n",
       "      <td>1550.262019</td>\n",
       "      <td>5074.902265</td>\n",
       "      <td>0.992368</td>\n",
       "      <td>1551.894014</td>\n",
       "      <td>142.0</td>\n",
       "      <td>140.0</td>\n",
       "      <td>1514.471754</td>\n",
       "      <td>745.408996</td>\n",
       "      <td>0</td>\n",
       "    </tr>\n",
       "    <tr>\n",
       "      <th>1348</th>\n",
       "      <td>-0.048194</td>\n",
       "      <td>0.006211</td>\n",
       "      <td>-0.061448</td>\n",
       "      <td>0.092295</td>\n",
       "      <td>0.0</td>\n",
       "      <td>113.0</td>\n",
       "      <td>13.503484</td>\n",
       "      <td>3.886491</td>\n",
       "      <td>0.038055</td>\n",
       "      <td>0.004395</td>\n",
       "      <td>...</td>\n",
       "      <td>611.402390</td>\n",
       "      <td>1550.419664</td>\n",
       "      <td>5073.066247</td>\n",
       "      <td>0.999510</td>\n",
       "      <td>1552.050913</td>\n",
       "      <td>129.0</td>\n",
       "      <td>127.0</td>\n",
       "      <td>1510.840269</td>\n",
       "      <td>730.318058</td>\n",
       "      <td>0</td>\n",
       "    </tr>\n",
       "  </tbody>\n",
       "</table>\n",
       "<p>1349 rows × 121 columns</p>\n",
       "</div>"
      ],
      "text/plain": [
       "      <>(GyrX)  var(GyrX)  kurt(GyrX)  RMS(GyrX)  freq1(GyrX)  freq2(GyrX)  \\\n",
       "0    -0.032100   0.017081   -0.399284   0.134398         78.0         96.0   \n",
       "1    -0.032346   0.017054   -0.400010   0.134356        102.0         80.0   \n",
       "2    -0.032590   0.017026   -0.400594   0.134314         98.0         79.0   \n",
       "3    -0.032832   0.016999   -0.401113   0.134271        102.0         71.0   \n",
       "4    -0.033265   0.017017   -0.412325   0.134447        102.0         87.0   \n",
       "...        ...        ...         ...        ...          ...          ...   \n",
       "1344 -0.048472   0.006254   -0.082119   0.092673          0.0        119.0   \n",
       "1345 -0.048289   0.006253   -0.081993   0.092571          0.0        118.0   \n",
       "1346 -0.048212   0.006240   -0.075446   0.092463          0.0        119.0   \n",
       "1347 -0.048179   0.006225   -0.068067   0.092367          0.0        130.0   \n",
       "1348 -0.048194   0.006211   -0.061448   0.092295          0.0        113.0   \n",
       "\n",
       "      amp1(GyrX)  amp2(GyrX)  <>(GyrY)  var(GyrY)  ...    amp2(C13)  \\\n",
       "0       3.596543    3.414090 -0.014483   0.028038  ...  1316.635778   \n",
       "1       3.601798    3.359201 -0.014131   0.028001  ...  1347.166450   \n",
       "2       3.785400    3.155365 -0.013642   0.028006  ...  1335.348799   \n",
       "3       3.964024    3.257887 -0.013156   0.028010  ...  1322.356341   \n",
       "4       4.069144    2.898697 -0.013003   0.027940  ...  1308.221788   \n",
       "...          ...         ...       ...        ...  ...          ...   \n",
       "1344   13.705592    4.427470  0.036188   0.004072  ...   721.379609   \n",
       "1345   13.703035    4.344276  0.036631   0.004143  ...   730.061710   \n",
       "1346   13.655833    4.213446  0.037145   0.004243  ...   694.279610   \n",
       "1347   13.590221    4.061607  0.037632   0.004331  ...   628.524525   \n",
       "1348   13.503484    3.886491  0.038055   0.004395  ...   611.402390   \n",
       "\n",
       "          <>(C14)     var(C14)  kurt(C14)     RMS(C14)  freq1(C14)  \\\n",
       "0     1530.205128  1397.957802  -0.375963  1530.660547       116.0   \n",
       "1     1530.380682  1404.823329  -0.386721  1530.838288       113.0   \n",
       "2     1530.555241  1411.588559  -0.397326  1531.015002       116.0   \n",
       "3     1530.728814  1418.254861  -0.407778  1531.190697       111.0   \n",
       "4     1530.901408  1424.823586  -0.418075  1531.365382       118.0   \n",
       "...           ...          ...        ...          ...         ...   \n",
       "1344  1549.740920  5073.978831   0.974985  1551.373138       133.0   \n",
       "1345  1549.922705  5075.374156   0.980104  1551.555190       134.0   \n",
       "1346  1550.103614  5076.696968   0.985247  1551.736343       141.0   \n",
       "1347  1550.262019  5074.902265   0.992368  1551.894014       142.0   \n",
       "1348  1550.419664  5073.066247   0.999510  1552.050913       129.0   \n",
       "\n",
       "      freq2(C14)    amp1(C14)    amp2(C14)  Guasto  \n",
       "0          115.0  1356.236798   982.813328       2  \n",
       "1          112.0  1351.732999   889.971776       2  \n",
       "2          115.0  1367.356776   931.422173       2  \n",
       "3          110.0  1437.986779  1042.276447       2  \n",
       "4          116.0  1502.075347  1117.254428       2  \n",
       "...          ...          ...          ...     ...  \n",
       "1344       131.0  1511.376776   995.696782       0  \n",
       "1345       132.0  1514.809977   861.450797       0  \n",
       "1346       139.0  1518.825061   730.400470       0  \n",
       "1347       140.0  1514.471754   745.408996       0  \n",
       "1348       127.0  1510.840269   730.318058       0  \n",
       "\n",
       "[1349 rows x 121 columns]"
      ]
     },
     "metadata": {},
     "output_type": "display_data"
    }
   ],
   "source": [
    "df_1 = df_1.drop(['tempo'], axis=1)\n",
    "display(df_1)"
   ]
  },
  {
   "attachments": {},
   "cell_type": "markdown",
   "metadata": {},
   "source": [
    "### Bilanciamento del dataset"
   ]
  },
  {
   "cell_type": "code",
   "execution_count": 5,
   "metadata": {},
   "outputs": [
    {
     "name": "stdout",
     "output_type": "stream",
     "text": [
      "No Guasto:  390 Guasto 5%:  418 Guasto 10%:  541\n"
     ]
    }
   ],
   "source": [
    "#separazione da tollerabile a non_tollerabile\n",
    "no_guasto = df_1[df_1['Guasto'] == 0]\n",
    "guasto_5 = df_1[df_1['Guasto'] == 1]\n",
    "guasto_10 = df_1[df_1['Guasto'] == 2]\n",
    "\n",
    "print(\"No Guasto: \", len(no_guasto), \"Guasto 5%: \", len(guasto_5), \"Guasto 10%: \", len(guasto_10))"
   ]
  },
  {
   "cell_type": "code",
   "execution_count": null,
   "metadata": {},
   "outputs": [],
   "source": [
    "#bilanciamento del dataset\n",
    "balanced_d = pd.concat([no_guasto, guasto_5.sample(len(no_guasto)), guasto_10.sample(len(no_guasto))])\n",
    "#balanced_d = pd.concat([tollerabile, non_tollerabile.sample(len(tollerabile))])\n",
    "x = balanced_d.iloc[:,:-1]\n",
    "y = balanced_d.iloc[:,-1:]\n",
    "balanced_d.shape"
   ]
  },
  {
   "cell_type": "code",
   "execution_count": null,
   "metadata": {},
   "outputs": [],
   "source": [
    "print(x.columns)"
   ]
  },
  {
   "cell_type": "code",
   "execution_count": null,
   "metadata": {},
   "outputs": [],
   "source": [
    "x = df_1.iloc[:,:-1]\n",
    "y = df_1.iloc[:,-1:]"
   ]
  },
  {
   "cell_type": "code",
   "execution_count": null,
   "metadata": {},
   "outputs": [],
   "source": [
    "x = x[[\"<>(AccX)\", \"freq1(AccY)\",\"RMS(AccX)\",\"amp2(AccX)\",\"var(AccX)\",\"var(C13)\",\"var(AccY)\",\"var(C10)\",\"<>(Yaw)\",\"RMS(Yaw)\",\"amp2(AccY)\",\"freq1(AccZ)\",\"var(C9)\",\"var(C14)\"]]"
   ]
  },
  {
   "cell_type": "code",
   "execution_count": null,
   "metadata": {},
   "outputs": [],
   "source": [
    "'''oversample = SMOTE()\n",
    "x, y = oversample.fit_resample(x,y)\n",
    "print(x)'''"
   ]
  },
  {
   "attachments": {},
   "cell_type": "markdown",
   "metadata": {},
   "source": [
    "# Selezione feature più importanti"
   ]
  },
  {
   "cell_type": "code",
   "execution_count": null,
   "metadata": {},
   "outputs": [],
   "source": [
    "from sklearn.feature_selection import SelectKBest, mutual_info_classif, f_classif, f_regression\n",
    "fvalue_Best = SelectKBest(score_func=f_classif, k=5)\n",
    "fit = fvalue_Best.fit(x, y)\n",
    "print(fit)\n",
    "mask = fvalue_Best.get_support()\n",
    "\n",
    "print(mask)"
   ]
  },
  {
   "cell_type": "code",
   "execution_count": null,
   "metadata": {},
   "outputs": [],
   "source": [
    "selected_features = x.columns[mask]\n",
    "print(\"Selected features:\", selected_features)"
   ]
  },
  {
   "cell_type": "code",
   "execution_count": null,
   "metadata": {},
   "outputs": [],
   "source": [
    "features_score = pd.DataFrame(fit.scores_)\n",
    "#features_score = zscore(features_score)\n",
    "features = pd.DataFrame(x.columns)\n",
    "feature_score = pd.concat([features,features_score],axis=1)\n",
    "# Assigning column names\n",
    "feature_score.columns = [\"Input_Features\",\"F_Score\"]\n",
    "print(feature_score.nlargest(60,columns=\"F_Score\"))"
   ]
  },
  {
   "cell_type": "code",
   "execution_count": null,
   "metadata": {},
   "outputs": [],
   "source": [
    "display(x['<>(AccX)'])"
   ]
  },
  {
   "cell_type": "code",
   "execution_count": null,
   "metadata": {},
   "outputs": [],
   "source": [
    "i=0\n",
    "index_false=[]\n",
    "for el in list(fvalue_Best.get_support()):\n",
    "    if not el:\n",
    "        index_false.append(i)\n",
    "    i=i+1\n",
    "print(index_false)"
   ]
  },
  {
   "cell_type": "code",
   "execution_count": null,
   "metadata": {},
   "outputs": [],
   "source": [
    "x=x.drop(x.columns[index_false],axis = 1)\n",
    "print(x)"
   ]
  },
  {
   "cell_type": "code",
   "execution_count": null,
   "metadata": {},
   "outputs": [],
   "source": [
    "plt.figure(figsize=(30,15))\n",
    "ax = sns.heatmap(x[x.columns].corr(),cmap=\"Blues\",annot=True,annot_kws={\"size\": 18})"
   ]
  },
  {
   "cell_type": "code",
   "execution_count": null,
   "metadata": {},
   "outputs": [],
   "source": [
    "x = x.drop(['RMS(Yaw)'], axis=1)"
   ]
  },
  {
   "cell_type": "code",
   "execution_count": null,
   "metadata": {},
   "outputs": [],
   "source": [
    "plt.figure(figsize=(30,15))\n",
    "ax = sns.heatmap(x[x.columns].corr(),cmap=\"Blues\",annot=True,annot_kws={\"size\": 18})"
   ]
  },
  {
   "attachments": {},
   "cell_type": "markdown",
   "metadata": {},
   "source": [
    "### Separazione del dataset in training e test"
   ]
  },
  {
   "cell_type": "code",
   "execution_count": null,
   "metadata": {},
   "outputs": [],
   "source": [
    "# Random state\n",
    "rs = 42\n",
    "\n",
    "# Split the data to check which algorithms learn better (later on we can check )\n",
    "x_train, x_test, y_train, y_test = train_test_split(x, y, test_size=0.8, random_state=rs)\n",
    "#y_train = y_train.astype(float)\n",
    "#y_test = y_test.astype(float)\n",
    "\n",
    "# look at the shape of the data (many problems can arise from wrong shape)\n",
    "print(x_train.shape)\n",
    "print(x_test.shape)\n",
    "print(y_train.shape)\n",
    "print(y_test.shape)"
   ]
  },
  {
   "cell_type": "code",
   "execution_count": null,
   "metadata": {},
   "outputs": [],
   "source": [
    "if np.array_equal(x_train, x_test) and np.array_equal(y_train, y_test):\n",
    "    print(\"Training and testing samples are the same.\")\n",
    "else:\n",
    "    print(\"Training and testing samples are different.\")"
   ]
  },
  {
   "cell_type": "code",
   "execution_count": null,
   "metadata": {},
   "outputs": [],
   "source": [
    "x_train"
   ]
  },
  {
   "cell_type": "code",
   "execution_count": null,
   "metadata": {},
   "outputs": [],
   "source": [
    "from sklearn.calibration import CalibratedClassifierCV\n",
    "\n",
    "# List of classifiers:\n",
    "classifiers = [\n",
    "    LogisticRegression(random_state = rs),\n",
    "    DecisionTreeClassifier(random_state=rs, criterion=\"entropy\"),\n",
    "    RandomForestClassifier(n_estimators = 10, random_state=rs),\n",
    "    GradientBoostingClassifier(random_state= rs),\n",
    "    AdaBoostClassifier(n_estimators=10, random_state= rs),\n",
    "    LinearDiscriminantAnalysis(),\n",
    "    SVC(probability=True),\n",
    "    MLPClassifier(random_state=rs), # Multi Layer Perceptron\n",
    "    SGDClassifier(random_state=rs) # Stochastic Gradient Descent \n",
    "]\n",
    "\n",
    "# List of results that will occure:\n",
    "clf_name = [] # names of the classifiers\n",
    "model_results = pd.DataFrame.copy(y_test) #resulting of prediction from the models\n",
    "\n",
    "kfold = StratifiedKFold(n_splits=5) #cross-validation\n",
    "cv_results = [] # scores from cross validation\n",
    "cv_acc = [] # mean accuracy from cross validation, need to maximize\n",
    "cv_std = [] # standard deviation from cross validation, need to minimise\n",
    "\n",
    "cnfm = [] #confusion matrix\n",
    "clr = [] #classification report\n",
    "roc_auc = [] #roc curve:\n",
    "roc_tpr = []\n",
    "roc_fpr = []"
   ]
  },
  {
   "attachments": {},
   "cell_type": "markdown",
   "metadata": {},
   "source": [
    "### Classificazione"
   ]
  },
  {
   "cell_type": "code",
   "execution_count": null,
   "metadata": {},
   "outputs": [],
   "source": [
    "clf = LogisticRegression(random_state = rs,multi_class='ovr')\n",
    "clf.fit(x_train, y_train)\n",
    "y_pred = clf.predict(x_test)\n",
    "acc = accuracy_score(y_test, y_pred)\n",
    "print(acc)"
   ]
  },
  {
   "cell_type": "code",
   "execution_count": null,
   "metadata": {},
   "outputs": [],
   "source": [
    "clf = DecisionTreeClassifier()\n",
    "clf.fit(x_train, y_train)\n",
    "y_pred = clf.predict(x_test)\n",
    "acc = accuracy_score(y_test, y_pred)\n",
    "print(acc)"
   ]
  },
  {
   "cell_type": "code",
   "execution_count": null,
   "metadata": {},
   "outputs": [],
   "source": [
    "x_train"
   ]
  },
  {
   "cell_type": "code",
   "execution_count": null,
   "metadata": {},
   "outputs": [],
   "source": [
    "x_test"
   ]
  },
  {
   "cell_type": "code",
   "execution_count": null,
   "metadata": {},
   "outputs": [],
   "source": [
    "from itertools import cycle\n",
    "from sklearn.metrics import roc_auc_score\n",
    "from sklearn.preprocessing import LabelBinarizer\n",
    "\n",
    "n_classes = 3\n",
    "\n",
    "j=0\n",
    "# Training the algorithms and results\n",
    "for clf in classifiers:\n",
    "    name = clf.__class__.__name__\n",
    "    clf_name.append(name)\n",
    "    \n",
    "    \n",
    "    #fitting and predictions\n",
    "    model = clf.fit(x_train, y_train.values.ravel())\n",
    "    y_pred = model.predict(x_test)\n",
    "    model_results[name] = y_pred\n",
    "    \n",
    "    #accuracy and log loss\n",
    "    cv_results.append(cross_val_score(clf, x_train, y_train.values.ravel(), scoring = \"accuracy\",cv = kfold)) # qui invece abbiamo cross validation\n",
    "    acc = round(accuracy_score(y_test.values.ravel(), y_pred), 2) # accuratezza semplice con training e test\n",
    "    train_pred = clf.predict(x_test)\n",
    "    print(f'Cross-Validation: {cross_val_score(clf, x_train, y_train.values.ravel(), scoring = \"accuracy\",cv = kfold)}') \n",
    "    \n",
    "    print(f'Accuracy: {acc} \\t ---> {name} ')\n",
    "\n",
    "    '''guasto_pred = pd.Series(model.predict(df_test), name='Guasto_test')\n",
    "    conteggio = guasto_pred.value_counts()\n",
    "    print(f'Test: {conteggio}')'''    \n",
    "    \n",
    "    #confusion matrix, clasification report, roc curve\n",
    "    cnfm.append(confusion_matrix(y_test.values.ravel(), y_pred))\n",
    "    clr.append(classification_report(y_test.values.ravel(), y_pred))\n",
    "    #fpr, tpr, thresholds = roc_curve(y_pred, y_test.values.ravel(), pos_label=1)\n",
    "\n",
    "    if (j == 1) | (j == 2) |(j == 7):\n",
    "        y_score = clf.fit(x_train, y_train).predict_proba(x_test)\n",
    "    else:\n",
    "        clf = OneVsRestClassifier(clf)\n",
    "        y_score = clf.fit(x_train, y_train).decision_function(x_test)\n",
    "\n",
    "       \n",
    "\n",
    "    lb = LabelBinarizer()\n",
    "    y_true_bin = lb.fit_transform(y_test)\n",
    "\n",
    "    fpr = dict()\n",
    "    tpr = dict()\n",
    "    roc_auc = dict()\n",
    "    for i in range(n_classes):\n",
    "        fpr[i], tpr[i], _ = roc_curve(y_true_bin[:, i], y_score[:, i])\n",
    "        roc_auc[i] = auc(fpr[i], tpr[i])\n",
    "    colors = cycle(['blue', 'red', 'green'])\n",
    "    for i, color in zip(range(n_classes), colors):\n",
    "        plt.plot(fpr[i], tpr[i], color=color, lw=1.5,\n",
    "                label='ROC curve of class {0} (area = {1:0.2f})'\n",
    "                ''.format(i, roc_auc[i]))\n",
    "    plt.plot([0, 1], [0, 1], 'k--', lw=1.5)\n",
    "    plt.xlim([-0.05, 1.0])\n",
    "    plt.ylim([0.0, 1.05])\n",
    "    plt.xlabel('False Positive Rate')\n",
    "    plt.ylabel('True Positive Rate')\n",
    "    plt.title('Receiver operating characteristic for multi-class data')\n",
    "    plt.legend(loc=\"lower right\")\n",
    "    plt.show()\n",
    "    \n",
    "    j += 1\n",
    "\n",
    "    print(\"----------------------------------------------------\")\n",
    "\n",
    "for i in cv_results:\n",
    "    cv_acc.append(i.mean())\n",
    "    cv_std.append(i.std())\n"
   ]
  },
  {
   "attachments": {},
   "cell_type": "markdown",
   "metadata": {},
   "source": [
    "### Matrici di confusione"
   ]
  },
  {
   "cell_type": "code",
   "execution_count": null,
   "metadata": {},
   "outputs": [],
   "source": [
    "import seaborn as sns\n",
    "# Confusion matrixes (not-normalized confusion matrix)\n",
    "plt.figure(figsize=(20,15))\n",
    "sns.set(font_scale=1.4)\n",
    "for i in range(len(classifiers)):\n",
    "    plt.subplot(3,3,i+1) #adjust this acourding to the number of algorithms\n",
    "    sns.heatmap(cnfm[i], annot=True, fmt=\"d\",cmap=\"Reds\")\n",
    "    plt.subplots_adjust(hspace = 0.5)\n",
    "    plt.xlabel('Predicted')\n",
    "    plt.ylabel('Actual')\n",
    "    plt.title(clf_name[i])"
   ]
  },
  {
   "attachments": {},
   "cell_type": "markdown",
   "metadata": {},
   "source": [
    "Cross Validation Scores"
   ]
  },
  {
   "cell_type": "code",
   "execution_count": null,
   "metadata": {},
   "outputs": [],
   "source": [
    "# Cross validation accuracy results graph\n",
    "cv_res = pd.DataFrame({\"CrossValMeans\":cv_acc, \"CrossValerrors\": cv_std,\"Algorithm\":clf_name})\n",
    "\n",
    "plt.figure(figsize=(12,6))\n",
    "sns.barplot(x=\"CrossValMeans\",y=\"Algorithm\",data = cv_res, palette=\"Set2\",orient = \"h\",**{'xerr':cv_std})\n",
    "plt.xlabel(\"Mean Accuracy\")\n",
    "plt.title(\"Cross validation scores\")"
   ]
  },
  {
   "attachments": {},
   "cell_type": "markdown",
   "metadata": {},
   "source": [
    "Report Classificazione"
   ]
  },
  {
   "cell_type": "code",
   "execution_count": null,
   "metadata": {},
   "outputs": [],
   "source": [
    "#Classification reports\n",
    "for i in range(len(classifiers)):\n",
    "    print (f\"{clf_name[i]} Classification Report:\" )\n",
    "    print (clr[i])"
   ]
  }
 ],
 "metadata": {
  "kernelspec": {
   "display_name": "Python 3",
   "language": "python",
   "name": "python3"
  },
  "language_info": {
   "codemirror_mode": {
    "name": "ipython",
    "version": 3
   },
   "file_extension": ".py",
   "mimetype": "text/x-python",
   "name": "python",
   "nbconvert_exporter": "python",
   "pygments_lexer": "ipython3",
   "version": "3.10.2"
  },
  "orig_nbformat": 4,
  "vscode": {
   "interpreter": {
    "hash": "369f2c481f4da34e4445cda3fffd2e751bd1c4d706f27375911949ba6bb62e1c"
   }
  }
 },
 "nbformat": 4,
 "nbformat_minor": 2
}
