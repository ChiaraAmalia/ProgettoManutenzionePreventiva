{
 "cells": [
  {
   "attachments": {},
   "cell_type": "markdown",
   "metadata": {},
   "source": [
    "IMPORTAZIONE LIBRERIE"
   ]
  },
  {
   "cell_type": "code",
   "execution_count": 1,
   "metadata": {},
   "outputs": [],
   "source": [
    "import os\n",
    "import pandas as pd\n",
    "import matplotlib.pyplot as plt\n",
    "import numpy as np"
   ]
  },
  {
   "attachments": {},
   "cell_type": "markdown",
   "metadata": {},
   "source": [
    "CAMBIO PATH PER ANALISI RISPETTO AL LOG DI VOLO CONSIDERATO"
   ]
  },
  {
   "cell_type": "code",
   "execution_count": 2,
   "metadata": {},
   "outputs": [
    {
     "name": "stdout",
     "output_type": "stream",
     "text": [
      "c:\\Users\\chiar\\OneDrive\\Desktop\\MantenzionePreventiva\\ProgettoManutenzionePreventiva\\M6\\FAULT_M6_10\n"
     ]
    }
   ],
   "source": [
    "path_file = os.path.abspath(os.getcwd())\n",
    "print(path_file)\n",
    "os.chdir(path_file)"
   ]
  },
  {
   "attachments": {},
   "cell_type": "markdown",
   "metadata": {},
   "source": [
    "VOLO m6 FAULT 5%"
   ]
  },
  {
   "cell_type": "code",
   "execution_count": 3,
   "metadata": {},
   "outputs": [
    {
     "data": {
      "text/html": [
       "<div>\n",
       "<style scoped>\n",
       "    .dataframe tbody tr th:only-of-type {\n",
       "        vertical-align: middle;\n",
       "    }\n",
       "\n",
       "    .dataframe tbody tr th {\n",
       "        vertical-align: top;\n",
       "    }\n",
       "\n",
       "    .dataframe thead th {\n",
       "        text-align: right;\n",
       "    }\n",
       "</style>\n",
       "<table border=\"1\" class=\"dataframe\">\n",
       "  <thead>\n",
       "    <tr style=\"text-align: right;\">\n",
       "      <th></th>\n",
       "      <th>TimeUS</th>\n",
       "      <th>C9</th>\n",
       "      <th>C10</th>\n",
       "      <th>C11</th>\n",
       "      <th>C12</th>\n",
       "      <th>C13</th>\n",
       "      <th>C14</th>\n",
       "    </tr>\n",
       "  </thead>\n",
       "  <tbody>\n",
       "    <tr>\n",
       "      <th>2930</th>\n",
       "      <td>95796452</td>\n",
       "      <td>1411</td>\n",
       "      <td>1447</td>\n",
       "      <td>1454</td>\n",
       "      <td>1403</td>\n",
       "      <td>1431</td>\n",
       "      <td>1428</td>\n",
       "    </tr>\n",
       "    <tr>\n",
       "      <th>2933</th>\n",
       "      <td>95827847</td>\n",
       "      <td>1416</td>\n",
       "      <td>1477</td>\n",
       "      <td>1448</td>\n",
       "      <td>1447</td>\n",
       "      <td>1411</td>\n",
       "      <td>1481</td>\n",
       "    </tr>\n",
       "    <tr>\n",
       "      <th>2939</th>\n",
       "      <td>95891787</td>\n",
       "      <td>1447</td>\n",
       "      <td>1518</td>\n",
       "      <td>1523</td>\n",
       "      <td>1441</td>\n",
       "      <td>1484</td>\n",
       "      <td>1483</td>\n",
       "    </tr>\n",
       "    <tr>\n",
       "      <th>2940</th>\n",
       "      <td>95908836</td>\n",
       "      <td>1558</td>\n",
       "      <td>1418</td>\n",
       "      <td>1404</td>\n",
       "      <td>1570</td>\n",
       "      <td>1474</td>\n",
       "      <td>1510</td>\n",
       "    </tr>\n",
       "    <tr>\n",
       "      <th>2941</th>\n",
       "      <td>95919028</td>\n",
       "      <td>1521</td>\n",
       "      <td>1474</td>\n",
       "      <td>1431</td>\n",
       "      <td>1559</td>\n",
       "      <td>1451</td>\n",
       "      <td>1542</td>\n",
       "    </tr>\n",
       "    <tr>\n",
       "      <th>...</th>\n",
       "      <td>...</td>\n",
       "      <td>...</td>\n",
       "      <td>...</td>\n",
       "      <td>...</td>\n",
       "      <td>...</td>\n",
       "      <td>...</td>\n",
       "      <td>...</td>\n",
       "    </tr>\n",
       "    <tr>\n",
       "      <th>11352</th>\n",
       "      <td>188486214</td>\n",
       "      <td>1587</td>\n",
       "      <td>1456</td>\n",
       "      <td>1626</td>\n",
       "      <td>1405</td>\n",
       "      <td>1406</td>\n",
       "      <td>1625</td>\n",
       "    </tr>\n",
       "    <tr>\n",
       "      <th>11358</th>\n",
       "      <td>188550939</td>\n",
       "      <td>1628</td>\n",
       "      <td>1431</td>\n",
       "      <td>1614</td>\n",
       "      <td>1449</td>\n",
       "      <td>1411</td>\n",
       "      <td>1642</td>\n",
       "    </tr>\n",
       "    <tr>\n",
       "      <th>11359</th>\n",
       "      <td>188563109</td>\n",
       "      <td>1650</td>\n",
       "      <td>1401</td>\n",
       "      <td>1638</td>\n",
       "      <td>1420</td>\n",
       "      <td>1468</td>\n",
       "      <td>1601</td>\n",
       "    </tr>\n",
       "    <tr>\n",
       "      <th>11360</th>\n",
       "      <td>188573480</td>\n",
       "      <td>1643</td>\n",
       "      <td>1414</td>\n",
       "      <td>1604</td>\n",
       "      <td>1465</td>\n",
       "      <td>1409</td>\n",
       "      <td>1645</td>\n",
       "    </tr>\n",
       "    <tr>\n",
       "      <th>11361</th>\n",
       "      <td>188583915</td>\n",
       "      <td>1651</td>\n",
       "      <td>1401</td>\n",
       "      <td>1595</td>\n",
       "      <td>1475</td>\n",
       "      <td>1406</td>\n",
       "      <td>1647</td>\n",
       "    </tr>\n",
       "  </tbody>\n",
       "</table>\n",
       "<p>5784 rows × 7 columns</p>\n",
       "</div>"
      ],
      "text/plain": [
       "          TimeUS    C9   C10   C11   C12   C13   C14\n",
       "2930    95796452  1411  1447  1454  1403  1431  1428\n",
       "2933    95827847  1416  1477  1448  1447  1411  1481\n",
       "2939    95891787  1447  1518  1523  1441  1484  1483\n",
       "2940    95908836  1558  1418  1404  1570  1474  1510\n",
       "2941    95919028  1521  1474  1431  1559  1451  1542\n",
       "...          ...   ...   ...   ...   ...   ...   ...\n",
       "11352  188486214  1587  1456  1626  1405  1406  1625\n",
       "11358  188550939  1628  1431  1614  1449  1411  1642\n",
       "11359  188563109  1650  1401  1638  1420  1468  1601\n",
       "11360  188573480  1643  1414  1604  1465  1409  1645\n",
       "11361  188583915  1651  1401  1595  1475  1406  1647\n",
       "\n",
       "[5784 rows x 7 columns]"
      ]
     },
     "metadata": {},
     "output_type": "display_data"
    }
   ],
   "source": [
    "rcou_m6_fault10 = pd.read_csv(\"RCOU.csv\")\n",
    "rcou_m6_fault10 = rcou_m6_fault10.drop(['LineNo','C1', 'C2', 'C3', 'C4', 'C5', 'C6', 'C7', 'C8'], axis=1)\n",
    "\n",
    "rcou_m6_fault10 = rcou_m6_fault10[((rcou_m6_fault10['C9'] >= 1400) & (rcou_m6_fault10['C10'] >= 1400) & (rcou_m6_fault10['C11'] >= 1400) & (rcou_m6_fault10['C12'] >= 1400) & (rcou_m6_fault10['C13'] >= 1400) & (rcou_m6_fault10['C14']>= 1400))]\n",
    "\n",
    "pd.set_option('display.max_rows',700)\n",
    "display(rcou_m6_fault10)"
   ]
  },
  {
   "cell_type": "code",
   "execution_count": 4,
   "metadata": {},
   "outputs": [
    {
     "name": "stdout",
     "output_type": "stream",
     "text": [
      "          TimeUS  Roll  Pitch    Yaw\n",
      "2932    95804499  0.50   0.78  22.93\n",
      "2933    95815177  0.60   0.83  22.94\n",
      "2934    95825583  0.47   0.89  22.92\n",
      "2935    95835923  0.27   0.93  22.93\n",
      "2936    95846010  0.20   0.94  22.93\n",
      "...          ...   ...    ...    ...\n",
      "11360  188537927 -0.02   0.25   6.60\n",
      "11361  188548848 -0.05   0.25   6.72\n",
      "11362  188560224 -0.05   0.21   6.82\n",
      "11363  188571235 -0.09   0.31   6.90\n",
      "11364  188581399 -0.01   0.26   7.00\n",
      "\n",
      "[8433 rows x 4 columns]\n"
     ]
    }
   ],
   "source": [
    "xkf1_m6_fault10 = pd.read_csv(\"XKF1_0.csv\")\n",
    "xkf1_m6_fault10 = xkf1_m6_fault10.drop(['LineNo','C','VN','VE','VD','dPD','PN','PE','PD','GX','GY','GZ','OH'], axis=1)\n",
    "xkf1_m6_fault10 = xkf1_m6_fault10[((xkf1_m6_fault10['TimeUS'] >= 95796452) & (xkf1_m6_fault10['TimeUS'] <= 188583915))]\n",
    "print(xkf1_m6_fault10)"
   ]
  },
  {
   "cell_type": "code",
   "execution_count": 5,
   "metadata": {},
   "outputs": [
    {
     "name": "stdout",
     "output_type": "stream",
     "text": [
      "          TimeUS  DesRoll  Roll  DesPitch  Pitch  DesYaw    Yaw\n",
      "2933    95806244    -0.12  0.50     -0.27   0.78   22.79  22.93\n",
      "2934    95816755    -0.13  0.60     -0.29   0.83   22.79  22.94\n",
      "2935    95826942    -0.14  0.47     -0.32   0.89   22.79  22.92\n",
      "2936    95836973    -0.15  0.27     -0.35   0.93   22.79  22.93\n",
      "2937    95847917    -0.15  0.20     -0.36   0.94   22.79  22.93\n",
      "...          ...      ...   ...       ...    ...     ...    ...\n",
      "11362  188539931     1.35 -0.02     -1.08   0.25    3.40   6.60\n",
      "11363  188550219     1.43 -0.05     -1.14   0.25    3.40   6.72\n",
      "11364  188562311     1.49 -0.05     -1.17   0.21    3.40   6.82\n",
      "11365  188572600     1.55 -0.09     -1.22   0.31    3.40   6.90\n",
      "11366  188583331     1.60 -0.01     -1.26   0.26    3.39   7.00\n",
      "\n",
      "[8434 rows x 7 columns]\n"
     ]
    }
   ],
   "source": [
    "att_m6_fault10 = pd.read_csv(\"ATT.csv\")\n",
    "att_m6_fault10 = att_m6_fault10.drop(['LineNo','ErrRP', 'ErrYaw', 'AEKF'], axis=1)\n",
    "att_m6_fault10 = att_m6_fault10[((att_m6_fault10['TimeUS'] >= 95796452) & (att_m6_fault10['TimeUS'] <= 188583915))]\n",
    "print(att_m6_fault10)"
   ]
  },
  {
   "cell_type": "code",
   "execution_count": 6,
   "metadata": {},
   "outputs": [
    {
     "name": "stdout",
     "output_type": "stream",
     "text": [
      "         TimeUS  DesRoll  Roll  DesPitch  Pitch  DesYaw    Yaw\n",
      "0      95806244    -0.12  0.50     -0.27   0.78   22.79  22.93\n",
      "1      95816755    -0.13  0.60     -0.29   0.83   22.79  22.94\n",
      "2      95826942    -0.14  0.47     -0.32   0.89   22.79  22.92\n",
      "3      95836973    -0.15  0.27     -0.35   0.93   22.79  22.93\n",
      "4      95847917    -0.15  0.20     -0.36   0.94   22.79  22.93\n",
      "...         ...      ...   ...       ...    ...     ...    ...\n",
      "8429  188539931     1.35 -0.02     -1.08   0.25    3.40   6.60\n",
      "8430  188550219     1.43 -0.05     -1.14   0.25    3.40   6.72\n",
      "8431  188562311     1.49 -0.05     -1.17   0.21    3.40   6.82\n",
      "8432  188572600     1.55 -0.09     -1.22   0.31    3.40   6.90\n",
      "8433  188583331     1.60 -0.01     -1.26   0.26    3.39   7.00\n",
      "\n",
      "[8434 rows x 7 columns]\n"
     ]
    }
   ],
   "source": [
    "att_m6_fault10 = pd.merge_asof(att_m6_fault10,xkf1_m6_fault10, on=\"TimeUS\", by=[\"Roll\",\"Pitch\",\"Yaw\"], tolerance=100000)\n",
    "print(att_m6_fault10)"
   ]
  },
  {
   "cell_type": "code",
   "execution_count": 7,
   "metadata": {},
   "outputs": [
    {
     "name": "stdout",
     "output_type": "stream",
     "text": [
      "         TimeUS   RPM  Curr\n",
      "266    95839764  4112  3.05\n",
      "267    95952598  4856  3.41\n",
      "268    96057958  5301  3.75\n",
      "269    96167925  5763  3.42\n",
      "270    96273370  6072  2.91\n",
      "...         ...   ...   ...\n",
      "1031  188032253  5828  3.29\n",
      "1032  188244544  5978  3.35\n",
      "1033  188345984  6129  3.49\n",
      "1034  188455137  6182  3.49\n",
      "1035  188567818  6061  4.30\n",
      "\n",
      "[770 rows x 3 columns]\n"
     ]
    }
   ],
   "source": [
    "esc_5_m6_fault10 = pd.read_csv(\"ESC_5.csv\")\n",
    "esc_5_m6_fault10 = esc_5_m6_fault10.drop(['LineNo','Instance', 'RawRPM', 'Volt', 'Temp', 'CTot', 'MotTemp', 'Err'], axis=1)\n",
    "esc_5_m6_fault10 = esc_5_m6_fault10[((esc_5_m6_fault10['TimeUS'] >= 95796452) & (esc_5_m6_fault10['TimeUS'] <= 188583915))]\n",
    "print(esc_5_m6_fault10)"
   ]
  },
  {
   "cell_type": "code",
   "execution_count": 8,
   "metadata": {},
   "outputs": [
    {
     "name": "stdout",
     "output_type": "stream",
     "text": [
      "          TimeUS      GyrX      GyrY      GyrZ      AccX      AccY       AccZ\n",
      "11616   95798231 -0.278000  0.163968  0.010684 -0.218995 -0.005866 -10.240240\n",
      "11617   95800726 -0.015033  0.139238  0.012282 -0.276373 -0.060262  -9.743722\n",
      "11618   95803141  0.332010 -0.065725 -0.002947 -0.363461 -0.115589  -9.337461\n",
      "11619   95806012  0.252390 -0.113363 -0.008998 -0.409520 -0.081646  -9.488367\n",
      "11620   95808940 -0.157742  0.054617  0.001292 -0.429814 -0.001267  -9.860767\n",
      "...          ...       ...       ...       ...       ...       ...        ...\n",
      "43671  188572318 -0.064724  0.100988  0.153545 -0.023835  0.716591  -9.537595\n",
      "43672  188575463  0.073389 -0.003022  0.163618  0.036336  0.746819  -9.312242\n",
      "43673  188577447  0.082682 -0.086694  0.165276 -0.072556  0.672949  -9.599352\n",
      "43674  188579801  0.011114  0.025145  0.161176 -0.145562  0.670149  -9.850594\n",
      "43675  188583025  0.049723  0.022011  0.158054 -0.040600  0.651564  -9.802258\n",
      "\n",
      "[32060 rows x 7 columns]\n"
     ]
    }
   ],
   "source": [
    "imu_2_m6_fault10 = pd.read_csv(\"IMU_2.csv\")\n",
    "imu_2_m6_fault10 = imu_2_m6_fault10.drop(['LineNo','I', 'EG', 'EA', 'T', 'GH', 'AH', 'GHz', 'AHz'], axis=1)\n",
    "imu_2_m6_fault10 = imu_2_m6_fault10[((imu_2_m6_fault10['TimeUS'] >= 95796452) & (imu_2_m6_fault10['TimeUS'] <= 188583915))]\n",
    "print(imu_2_m6_fault10)"
   ]
  },
  {
   "cell_type": "code",
   "execution_count": 9,
   "metadata": {},
   "outputs": [
    {
     "name": "stdout",
     "output_type": "stream",
     "text": [
      "         TimeUS  DesRoll  Roll  DesPitch  Pitch  DesYaw    Yaw      GyrX  \\\n",
      "0      95806244    -0.12  0.50     -0.27   0.78   22.79  22.93  0.252390   \n",
      "1      95816755    -0.13  0.60     -0.29   0.83   22.79  22.94  0.277934   \n",
      "2      95826942    -0.14  0.47     -0.32   0.89   22.79  22.92 -0.143479   \n",
      "3      95836973    -0.15  0.27     -0.35   0.93   22.79  22.93 -0.395523   \n",
      "4      95847917    -0.15  0.20     -0.36   0.94   22.79  22.93 -0.298650   \n",
      "...         ...      ...   ...       ...    ...     ...    ...       ...   \n",
      "8429  188539931     1.35 -0.02     -1.08   0.25    3.40   6.60  0.002865   \n",
      "8430  188550219     1.43 -0.05     -1.14   0.25    3.40   6.72  0.028725   \n",
      "8431  188562311     1.49 -0.05     -1.17   0.21    3.40   6.82 -0.003650   \n",
      "8432  188572600     1.55 -0.09     -1.22   0.31    3.40   6.90 -0.064724   \n",
      "8433  188583331     1.60 -0.01     -1.26   0.26    3.39   7.00  0.049723   \n",
      "\n",
      "          GyrY      GyrZ      AccX      AccY      AccZ  \n",
      "0    -0.113363 -0.008998 -0.409520 -0.081646 -9.488367  \n",
      "1    -0.018642  0.000385 -0.169934  0.228522 -9.537732  \n",
      "2     0.063608 -0.016666  0.249842  0.109950 -9.524892  \n",
      "3     0.043870  0.007666  0.330994 -0.071396 -9.785621  \n",
      "4    -0.009781  0.006583  0.104341  0.017039 -9.872116  \n",
      "...        ...       ...       ...       ...       ...  \n",
      "8429  0.081195  0.136154 -0.031787  0.348120 -9.406778  \n",
      "8430 -0.055550  0.166176 -0.034588  0.637078 -9.454703  \n",
      "8431 -0.095997  0.152109 -0.013535  0.596729 -9.472780  \n",
      "8432  0.100988  0.153545 -0.023835  0.716591 -9.537595  \n",
      "8433  0.022011  0.158054 -0.040600  0.651564 -9.802258  \n",
      "\n",
      "[8434 rows x 13 columns]\n"
     ]
    }
   ],
   "source": [
    "m6_fault10 = pd.merge_asof(att_m6_fault10, imu_2_m6_fault10, on=\"TimeUS\",  tolerance= 100000)\n",
    "print(m6_fault10)"
   ]
  },
  {
   "cell_type": "code",
   "execution_count": 10,
   "metadata": {},
   "outputs": [
    {
     "name": "stdout",
     "output_type": "stream",
     "text": [
      "        TimeUS   RPM  Curr  DesRoll  Roll  DesPitch  Pitch  DesYaw    Yaw  \\\n",
      "0     95839764  4112  3.05    -0.15  0.27     -0.35   0.93   22.79  22.93   \n",
      "1     95952598  4856  3.41    -0.21  0.58     -0.38   1.09   22.79  22.98   \n",
      "2     96057958  5301  3.75    -0.40  0.91     -0.52   1.05   22.79  23.27   \n",
      "3     96167925  5763  3.42    -0.85  1.33     -0.83   0.38   22.79  24.01   \n",
      "4     96273370  6072  2.91    -1.18  0.77     -0.97  -0.90   22.79  24.97   \n",
      "..         ...   ...   ...      ...   ...       ...    ...     ...    ...   \n",
      "765  188032253  5828  3.29    -0.77 -2.10     -0.53  -0.47    3.41   4.32   \n",
      "766  188244544  5978  3.35    -0.25 -2.10     -0.55   0.29    3.41   4.90   \n",
      "767  188345984  6129  3.49     0.55 -1.38     -0.60   0.68    3.41   5.31   \n",
      "768  188455137  6182  3.49     0.92 -0.24     -0.79   0.37    3.40   5.97   \n",
      "769  188567818  6061  4.30     1.49 -0.05     -1.17   0.21    3.40   6.82   \n",
      "\n",
      "         GyrX      GyrY      GyrZ      AccX      AccY       AccZ  \n",
      "0   -0.395523  0.043870  0.007666  0.330994 -0.071396  -9.785621  \n",
      "1    0.121592  0.044969  0.010019  0.089411  0.267475  -9.996786  \n",
      "2    0.042114 -0.045467  0.090602  0.070179  0.271154 -11.228590  \n",
      "3    0.007449 -0.204271  0.126282  0.027177  0.259441 -11.944920  \n",
      "4   -0.065553 -0.132494  0.177321 -0.395929  0.416990 -11.056670  \n",
      "..        ...       ...       ...       ...       ...        ...  \n",
      "765  0.017070 -0.014122  0.085110 -0.421826  0.282427 -10.174530  \n",
      "766  0.046309  0.122709  0.036339  0.013857  0.561726  -9.829540  \n",
      "767  0.251148 -0.017126  0.097842  0.026351  0.835952  -9.374671  \n",
      "768  0.179579 -0.117064  0.116507 -0.562647  0.169590 -10.187830  \n",
      "769 -0.003650 -0.095997  0.152109 -0.013535  0.596729  -9.472780  \n",
      "\n",
      "[770 rows x 15 columns]\n"
     ]
    }
   ],
   "source": [
    "m6_fault10 = pd.merge_asof(esc_5_m6_fault10, m6_fault10, on=\"TimeUS\",  tolerance= 100000)\n",
    "print(m6_fault10)"
   ]
  },
  {
   "cell_type": "code",
   "execution_count": 11,
   "metadata": {},
   "outputs": [
    {
     "name": "stdout",
     "output_type": "stream",
     "text": [
      "       TimeUS   RPM  Curr  DesRoll  Roll  DesPitch  Pitch  DesYaw    Yaw  \\\n",
      "0           0  4112  3.05    -0.15  0.27     -0.35   0.93   22.79  22.93   \n",
      "1      112834  4856  3.41    -0.21  0.58     -0.38   1.09   22.79  22.98   \n",
      "2      218194  5301  3.75    -0.40  0.91     -0.52   1.05   22.79  23.27   \n",
      "3      328161  5763  3.42    -0.85  1.33     -0.83   0.38   22.79  24.01   \n",
      "4      433606  6072  2.91    -1.18  0.77     -0.97  -0.90   22.79  24.97   \n",
      "..        ...   ...   ...      ...   ...       ...    ...     ...    ...   \n",
      "765  92192489  5828  3.29    -0.77 -2.10     -0.53  -0.47    3.41   4.32   \n",
      "766  92404780  5978  3.35    -0.25 -2.10     -0.55   0.29    3.41   4.90   \n",
      "767  92506220  6129  3.49     0.55 -1.38     -0.60   0.68    3.41   5.31   \n",
      "768  92615373  6182  3.49     0.92 -0.24     -0.79   0.37    3.40   5.97   \n",
      "769  92728054  6061  4.30     1.49 -0.05     -1.17   0.21    3.40   6.82   \n",
      "\n",
      "         GyrX      GyrY      GyrZ      AccX      AccY       AccZ  Guasto  \n",
      "0   -0.395523  0.043870  0.007666  0.330994 -0.071396  -9.785621       2  \n",
      "1    0.121592  0.044969  0.010019  0.089411  0.267475  -9.996786       2  \n",
      "2    0.042114 -0.045467  0.090602  0.070179  0.271154 -11.228590       2  \n",
      "3    0.007449 -0.204271  0.126282  0.027177  0.259441 -11.944920       2  \n",
      "4   -0.065553 -0.132494  0.177321 -0.395929  0.416990 -11.056670       2  \n",
      "..        ...       ...       ...       ...       ...        ...     ...  \n",
      "765  0.017070 -0.014122  0.085110 -0.421826  0.282427 -10.174530       2  \n",
      "766  0.046309  0.122709  0.036339  0.013857  0.561726  -9.829540       2  \n",
      "767  0.251148 -0.017126  0.097842  0.026351  0.835952  -9.374671       2  \n",
      "768  0.179579 -0.117064  0.116507 -0.562647  0.169590 -10.187830       2  \n",
      "769 -0.003650 -0.095997  0.152109 -0.013535  0.596729  -9.472780       2  \n",
      "\n",
      "[770 rows x 16 columns]\n"
     ]
    }
   ],
   "source": [
    "m6_fault10[\"TimeUS\"] = m6_fault10[\"TimeUS\"] - m6_fault10.iloc[0][\"TimeUS\"]\n",
    "m6_fault10[\"TimeUS\"] = m6_fault10[\"TimeUS\"].astype(int)\n",
    "m6_fault10[\"Guasto\"] = 2\n",
    "print(m6_fault10)"
   ]
  },
  {
   "cell_type": "code",
   "execution_count": 12,
   "metadata": {},
   "outputs": [
    {
     "name": "stdout",
     "output_type": "stream",
     "text": [
      "c:\\Users\\chiar\\OneDrive\\Desktop\\MantenzionePreventiva\\ProgettoManutenzionePreventiva\\\n"
     ]
    }
   ],
   "source": [
    "path_file = path_file.replace(r\"M6\\FAULT_M6_10\", \"\")\n",
    "os.chdir(path_file)\n",
    "m6_fault10.to_csv('M6_fault10.csv', index=False)\n",
    "print(path_file)"
   ]
  }
 ],
 "metadata": {
  "kernelspec": {
   "display_name": "Python 3",
   "language": "python",
   "name": "python3"
  },
  "language_info": {
   "codemirror_mode": {
    "name": "ipython",
    "version": 3
   },
   "file_extension": ".py",
   "mimetype": "text/x-python",
   "name": "python",
   "nbconvert_exporter": "python",
   "pygments_lexer": "ipython3",
   "version": "3.10.2"
  },
  "orig_nbformat": 4,
  "vscode": {
   "interpreter": {
    "hash": "369f2c481f4da34e4445cda3fffd2e751bd1c4d706f27375911949ba6bb62e1c"
   }
  }
 },
 "nbformat": 4,
 "nbformat_minor": 2
}
