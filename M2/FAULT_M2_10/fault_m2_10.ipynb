{
 "cells": [
  {
   "attachments": {},
   "cell_type": "markdown",
   "metadata": {},
   "source": [
    "IMPORTAZIONE LIBRERIE"
   ]
  },
  {
   "cell_type": "code",
   "execution_count": 1,
   "metadata": {},
   "outputs": [],
   "source": [
    "import os\n",
    "import pandas as pd\n",
    "import matplotlib.pyplot as plt\n",
    "import numpy as np"
   ]
  },
  {
   "attachments": {},
   "cell_type": "markdown",
   "metadata": {},
   "source": [
    "CAMBIO PATH PER ANALISI RISPETTO AL LOG DI VOLO CONSIDERATO"
   ]
  },
  {
   "cell_type": "code",
   "execution_count": 2,
   "metadata": {},
   "outputs": [
    {
     "name": "stdout",
     "output_type": "stream",
     "text": [
      "d:\\GitHub\\ProgettoManutenzionePreventiva\\M2\\FAULT_M2_10\n"
     ]
    }
   ],
   "source": [
    "path_file = os.path.abspath(os.getcwd())\n",
    "print(path_file)\n",
    "os.chdir(path_file)"
   ]
  },
  {
   "attachments": {},
   "cell_type": "markdown",
   "metadata": {},
   "source": [
    "VOLO m2 FAULT 10%"
   ]
  },
  {
   "cell_type": "code",
   "execution_count": 3,
   "metadata": {},
   "outputs": [
    {
     "data": {
      "text/html": [
       "<div>\n",
       "<style scoped>\n",
       "    .dataframe tbody tr th:only-of-type {\n",
       "        vertical-align: middle;\n",
       "    }\n",
       "\n",
       "    .dataframe tbody tr th {\n",
       "        vertical-align: top;\n",
       "    }\n",
       "\n",
       "    .dataframe thead th {\n",
       "        text-align: right;\n",
       "    }\n",
       "</style>\n",
       "<table border=\"1\" class=\"dataframe\">\n",
       "  <thead>\n",
       "    <tr style=\"text-align: right;\">\n",
       "      <th></th>\n",
       "      <th>TimeUS</th>\n",
       "      <th>C9</th>\n",
       "      <th>C10</th>\n",
       "      <th>C11</th>\n",
       "      <th>C12</th>\n",
       "      <th>C13</th>\n",
       "      <th>C14</th>\n",
       "    </tr>\n",
       "  </thead>\n",
       "  <tbody>\n",
       "    <tr>\n",
       "      <th>1884</th>\n",
       "      <td>76708255</td>\n",
       "      <td>1418</td>\n",
       "      <td>1514</td>\n",
       "      <td>1474</td>\n",
       "      <td>1462</td>\n",
       "      <td>1423</td>\n",
       "      <td>1510</td>\n",
       "    </tr>\n",
       "    <tr>\n",
       "      <th>1887</th>\n",
       "      <td>76739385</td>\n",
       "      <td>1527</td>\n",
       "      <td>1442</td>\n",
       "      <td>1476</td>\n",
       "      <td>1497</td>\n",
       "      <td>1516</td>\n",
       "      <td>1455</td>\n",
       "    </tr>\n",
       "    <tr>\n",
       "      <th>1888</th>\n",
       "      <td>76749554</td>\n",
       "      <td>1507</td>\n",
       "      <td>1477</td>\n",
       "      <td>1499</td>\n",
       "      <td>1485</td>\n",
       "      <td>1513</td>\n",
       "      <td>1471</td>\n",
       "    </tr>\n",
       "    <tr>\n",
       "      <th>1889</th>\n",
       "      <td>76759951</td>\n",
       "      <td>1565</td>\n",
       "      <td>1424</td>\n",
       "      <td>1471</td>\n",
       "      <td>1525</td>\n",
       "      <td>1540</td>\n",
       "      <td>1453</td>\n",
       "    </tr>\n",
       "    <tr>\n",
       "      <th>1891</th>\n",
       "      <td>76781375</td>\n",
       "      <td>1593</td>\n",
       "      <td>1414</td>\n",
       "      <td>1454</td>\n",
       "      <td>1561</td>\n",
       "      <td>1545</td>\n",
       "      <td>1472</td>\n",
       "    </tr>\n",
       "    <tr>\n",
       "      <th>...</th>\n",
       "      <td>...</td>\n",
       "      <td>...</td>\n",
       "      <td>...</td>\n",
       "      <td>...</td>\n",
       "      <td>...</td>\n",
       "      <td>...</td>\n",
       "      <td>...</td>\n",
       "    </tr>\n",
       "    <tr>\n",
       "      <th>11478</th>\n",
       "      <td>182288054</td>\n",
       "      <td>1560</td>\n",
       "      <td>1411</td>\n",
       "      <td>1525</td>\n",
       "      <td>1453</td>\n",
       "      <td>1464</td>\n",
       "      <td>1515</td>\n",
       "    </tr>\n",
       "    <tr>\n",
       "      <th>11485</th>\n",
       "      <td>182364809</td>\n",
       "      <td>1538</td>\n",
       "      <td>1434</td>\n",
       "      <td>1524</td>\n",
       "      <td>1449</td>\n",
       "      <td>1437</td>\n",
       "      <td>1535</td>\n",
       "    </tr>\n",
       "    <tr>\n",
       "      <th>11490</th>\n",
       "      <td>182421886</td>\n",
       "      <td>1563</td>\n",
       "      <td>1411</td>\n",
       "      <td>1544</td>\n",
       "      <td>1434</td>\n",
       "      <td>1486</td>\n",
       "      <td>1497</td>\n",
       "    </tr>\n",
       "    <tr>\n",
       "      <th>11492</th>\n",
       "      <td>182443877</td>\n",
       "      <td>1561</td>\n",
       "      <td>1411</td>\n",
       "      <td>1545</td>\n",
       "      <td>1431</td>\n",
       "      <td>1486</td>\n",
       "      <td>1496</td>\n",
       "    </tr>\n",
       "    <tr>\n",
       "      <th>11498</th>\n",
       "      <td>182507809</td>\n",
       "      <td>1524</td>\n",
       "      <td>1417</td>\n",
       "      <td>1501</td>\n",
       "      <td>1443</td>\n",
       "      <td>1409</td>\n",
       "      <td>1531</td>\n",
       "    </tr>\n",
       "  </tbody>\n",
       "</table>\n",
       "<p>6036 rows × 7 columns</p>\n",
       "</div>"
      ],
      "text/plain": [
       "          TimeUS    C9   C10   C11   C12   C13   C14\n",
       "1884    76708255  1418  1514  1474  1462  1423  1510\n",
       "1887    76739385  1527  1442  1476  1497  1516  1455\n",
       "1888    76749554  1507  1477  1499  1485  1513  1471\n",
       "1889    76759951  1565  1424  1471  1525  1540  1453\n",
       "1891    76781375  1593  1414  1454  1561  1545  1472\n",
       "...          ...   ...   ...   ...   ...   ...   ...\n",
       "11478  182288054  1560  1411  1525  1453  1464  1515\n",
       "11485  182364809  1538  1434  1524  1449  1437  1535\n",
       "11490  182421886  1563  1411  1544  1434  1486  1497\n",
       "11492  182443877  1561  1411  1545  1431  1486  1496\n",
       "11498  182507809  1524  1417  1501  1443  1409  1531\n",
       "\n",
       "[6036 rows x 7 columns]"
      ]
     },
     "metadata": {},
     "output_type": "display_data"
    }
   ],
   "source": [
    "rcou_m2_fault10 = pd.read_csv(\"RCOU.csv\")\n",
    "rcou_m2_fault10 = rcou_m2_fault10.drop(['LineNo','C1', 'C2', 'C3', 'C4', 'C5', 'C6', 'C7', 'C8'], axis=1)\n",
    "\n",
    "rcou_m2_fault10 = rcou_m2_fault10[((rcou_m2_fault10['C9'] >= 1400) & (rcou_m2_fault10['C10'] >= 1400) & (rcou_m2_fault10['C11'] >= 1400) & (rcou_m2_fault10['C12'] >= 1400) & (rcou_m2_fault10['C13'] >= 1400) & (rcou_m2_fault10['C14']>= 1400))]\n",
    "\n",
    "pd.set_option('display.max_rows',700)\n",
    "display(rcou_m2_fault10)"
   ]
  },
  {
   "cell_type": "code",
   "execution_count": 4,
   "metadata": {},
   "outputs": [
    {
     "name": "stdout",
     "output_type": "stream",
     "text": [
      "          TimeUS  Roll  Pitch   Yaw\n",
      "1886    76716432 -0.15   3.39  3.64\n",
      "1887    76726814 -0.14   3.37  3.63\n",
      "1888    76737180 -0.18   3.40  3.63\n",
      "1889    76747554 -0.21   3.44  3.61\n",
      "1890    76757751 -0.14   3.46  3.61\n",
      "...          ...   ...    ...   ...\n",
      "11496  182462594 -0.70  -0.69  0.79\n",
      "11497  182473283 -0.66  -0.66  0.81\n",
      "11498  182484185 -0.69  -0.68  0.83\n",
      "11499  182494810 -0.70  -0.72  0.83\n",
      "11500  182505551 -0.72  -0.70  0.83\n",
      "\n",
      "[9615 rows x 4 columns]\n"
     ]
    }
   ],
   "source": [
    "xkf1_m2_fault10 = pd.read_csv(\"XKF1_0.csv\")\n",
    "xkf1_m2_fault10 = xkf1_m2_fault10.drop(['LineNo','C','VN','VE','VD','dPD','PN','PE','PD','GX','GY','GZ','OH'], axis=1)\n",
    "xkf1_m2_fault10 = xkf1_m2_fault10[((xkf1_m2_fault10['TimeUS'] >= 76708255) & (xkf1_m2_fault10['TimeUS'] <= 182507809))]\n",
    "print(xkf1_m2_fault10)"
   ]
  },
  {
   "cell_type": "code",
   "execution_count": 5,
   "metadata": {},
   "outputs": [
    {
     "name": "stdout",
     "output_type": "stream",
     "text": [
      "          TimeUS  DesRoll  Roll  DesPitch  Pitch  DesYaw   Yaw\n",
      "1886    76717941    -0.20 -0.15      0.39   3.39    3.67  3.64\n",
      "1887    76728526    -0.19 -0.14      0.38   3.37    3.67  3.63\n",
      "1888    76738667    -0.18 -0.18      0.37   3.40    3.67  3.63\n",
      "1889    76748825    -0.19 -0.21      0.36   3.44    3.67  3.61\n",
      "1890    76759306    -0.19 -0.14      0.36   3.46    3.67  3.61\n",
      "...          ...      ...   ...       ...    ...     ...   ...\n",
      "11496  182464400     1.23 -0.70     -1.94  -0.69    1.57  0.79\n",
      "11497  182475382     1.26 -0.66     -1.95  -0.66    1.57  0.81\n",
      "11498  182485931     1.29 -0.69     -1.96  -0.68    1.57  0.83\n",
      "11499  182496305     1.32 -0.70     -1.97  -0.72    1.57  0.83\n",
      "11500  182507047     1.35 -0.72     -1.97  -0.70    1.57  0.83\n",
      "\n",
      "[9615 rows x 7 columns]\n"
     ]
    }
   ],
   "source": [
    "att_m2_fault10 = pd.read_csv(\"ATT.csv\")\n",
    "att_m2_fault10 = att_m2_fault10.drop(['LineNo','ErrRP', 'ErrYaw', 'AEKF'], axis=1)\n",
    "#att = att[(att['TimeUS'] - att['TimeUS'].iat[0])]\n",
    "att_m2_fault10 = att_m2_fault10[((att_m2_fault10['TimeUS'] >= 76708255) & (att_m2_fault10['TimeUS'] <= 182507809))]\n",
    "print(att_m2_fault10)"
   ]
  },
  {
   "cell_type": "code",
   "execution_count": 6,
   "metadata": {},
   "outputs": [
    {
     "name": "stdout",
     "output_type": "stream",
     "text": [
      "         TimeUS  DesRoll  Roll  DesPitch  Pitch  DesYaw   Yaw\n",
      "0      76717941    -0.20 -0.15      0.39   3.39    3.67  3.64\n",
      "1      76728526    -0.19 -0.14      0.38   3.37    3.67  3.63\n",
      "2      76738667    -0.18 -0.18      0.37   3.40    3.67  3.63\n",
      "3      76748825    -0.19 -0.21      0.36   3.44    3.67  3.61\n",
      "4      76759306    -0.19 -0.14      0.36   3.46    3.67  3.61\n",
      "...         ...      ...   ...       ...    ...     ...   ...\n",
      "9610  182464400     1.23 -0.70     -1.94  -0.69    1.57  0.79\n",
      "9611  182475382     1.26 -0.66     -1.95  -0.66    1.57  0.81\n",
      "9612  182485931     1.29 -0.69     -1.96  -0.68    1.57  0.83\n",
      "9613  182496305     1.32 -0.70     -1.97  -0.72    1.57  0.83\n",
      "9614  182507047     1.35 -0.72     -1.97  -0.70    1.57  0.83\n",
      "\n",
      "[9615 rows x 7 columns]\n"
     ]
    }
   ],
   "source": [
    "att_m2_fault10 = pd.merge_asof(att_m2_fault10,xkf1_m2_fault10, on=\"TimeUS\", by=[\"Roll\",\"Pitch\",\"Yaw\"], tolerance=100000)\n",
    "print(att_m2_fault10)"
   ]
  },
  {
   "cell_type": "code",
   "execution_count": 7,
   "metadata": {},
   "outputs": [
    {
     "name": "stdout",
     "output_type": "stream",
     "text": [
      "         TimeUS   RPM  Curr\n",
      "173    76901851  4116  3.76\n",
      "174    77004533  5412  3.93\n",
      "175    77110601  5779  3.59\n",
      "176    77224623  5954  3.19\n",
      "177    77330482  5785  4.15\n",
      "...         ...   ...   ...\n",
      "1060  181880856  5766  3.36\n",
      "1061  181993835  5693  3.52\n",
      "1062  182102391  5762  2.85\n",
      "1063  182310527  5679  2.63\n",
      "1064  182421995  5392  3.44\n",
      "\n",
      "[892 rows x 3 columns]\n"
     ]
    }
   ],
   "source": [
    "esc_0_m2_fault10 = pd.read_csv(\"ESC_0.csv\")\n",
    "esc_0_m2_fault10 = esc_0_m2_fault10.drop(['LineNo','Instance', 'RawRPM', 'Volt', 'Temp', 'CTot', 'MotTemp', 'Err'], axis=1)\n",
    "#att = att[(att['TimeUS'] - att['TimeUS'].iat[0])]\n",
    "esc_0_m2_fault10 = esc_0_m2_fault10[((esc_0_m2_fault10['TimeUS'] >= 76708255) & (esc_0_m2_fault10['TimeUS'] <= 182507809))]\n",
    "print(esc_0_m2_fault10)"
   ]
  },
  {
   "cell_type": "code",
   "execution_count": 8,
   "metadata": {},
   "outputs": [
    {
     "name": "stdout",
     "output_type": "stream",
     "text": [
      "          TimeUS      GyrX      GyrY      GyrZ      AccX      AccY       AccZ\n",
      "7474    76709641 -0.489089  0.122985  0.030642  0.375312  0.083701  -9.518371\n",
      "7475    76712105 -0.063756  0.076874  0.006358  0.495458  0.143626  -8.963419\n",
      "7476    76715855  0.249104 -0.063094 -0.007415  0.554737  0.156738  -9.004896\n",
      "7477    76717837  0.099828 -0.052639 -0.005937  0.536593  0.221072  -9.644110\n",
      "7478    76720579 -0.343571  0.159414  0.017394  0.545612  0.356997  -9.977052\n",
      "...          ...       ...       ...       ...       ...       ...        ...\n",
      "44003  182496075  0.132529 -0.098452  0.001590  0.227605  0.387970  -9.791754\n",
      "44004  182499317  0.134558 -0.096731  0.004422  0.238343  0.365049  -9.974380\n",
      "44005  182501638 -0.121340  0.062905  0.018126  0.203535  0.402763 -10.073180\n",
      "44006  182503953 -0.137265  0.077513  0.020630  0.152805  0.422490  -9.967505\n",
      "44007  182506854  0.091276 -0.032368  0.009834  0.034820  0.376416  -9.770017\n",
      "\n",
      "[36534 rows x 7 columns]\n"
     ]
    }
   ],
   "source": [
    "imu_2_m2_fault10 = pd.read_csv(\"IMU_2.csv\")\n",
    "imu_2_m2_fault10 = imu_2_m2_fault10.drop(['LineNo','I', 'EG', 'EA', 'T', 'GH', 'AH', 'GHz', 'AHz'], axis=1)\n",
    "#att = att[(att['TimeUS'] - att['TimeUS'].iat[0])]\n",
    "imu_2_m2_fault10 = imu_2_m2_fault10[((imu_2_m2_fault10['TimeUS'] >= 76708255) & (imu_2_m2_fault10['TimeUS'] <= 182507809))]\n",
    "print(imu_2_m2_fault10)"
   ]
  },
  {
   "cell_type": "code",
   "execution_count": 9,
   "metadata": {},
   "outputs": [
    {
     "name": "stdout",
     "output_type": "stream",
     "text": [
      "         TimeUS  DesRoll  Roll  DesPitch  Pitch  DesYaw   Yaw      GyrX  \\\n",
      "0      76717941    -0.20 -0.15      0.39   3.39    3.67  3.64  0.099828   \n",
      "1      76728526    -0.19 -0.14      0.38   3.37    3.67  3.63  0.209259   \n",
      "2      76738667    -0.18 -0.18      0.37   3.40    3.67  3.63  0.095695   \n",
      "3      76748825    -0.19 -0.21      0.36   3.44    3.67  3.61  0.013564   \n",
      "4      76759306    -0.19 -0.14      0.36   3.46    3.67  3.61  0.128159   \n",
      "...         ...      ...   ...       ...    ...     ...   ...       ...   \n",
      "9610  182464400     1.23 -0.70     -1.94  -0.69    1.57  0.79  0.232516   \n",
      "9611  182475382     1.26 -0.66     -1.95  -0.66    1.57  0.81  0.182564   \n",
      "9612  182485931     1.29 -0.69     -1.96  -0.68    1.57  0.83  0.181957   \n",
      "9613  182496305     1.32 -0.70     -1.97  -0.72    1.57  0.83  0.132529   \n",
      "9614  182507047     1.35 -0.72     -1.97  -0.70    1.57  0.83  0.091276   \n",
      "\n",
      "          GyrY      GyrZ      AccX      AccY       AccZ  \n",
      "0    -0.052639 -0.005937  0.536593  0.221072  -9.644110  \n",
      "1    -0.146678 -0.022367  0.605651  0.412836  -9.887357  \n",
      "2    -0.067918  0.004176  0.642455  0.533598 -10.022510  \n",
      "3    -0.046684 -0.026378  0.633581  0.243271 -10.298720  \n",
      "4    -0.044036 -0.012542  0.555328 -0.040426 -10.268590  \n",
      "...        ...       ...       ...       ...        ...  \n",
      "9610 -0.045973  0.001273 -0.104747  0.168901 -10.117830  \n",
      "9611 -0.031538  0.015658 -0.270383  0.176625 -10.184020  \n",
      "9612 -0.072316  0.034186 -0.097790  0.343542  -9.946839  \n",
      "9613 -0.098452  0.001590  0.227605  0.387970  -9.791754  \n",
      "9614 -0.032368  0.009834  0.034820  0.376416  -9.770017  \n",
      "\n",
      "[9615 rows x 13 columns]\n"
     ]
    }
   ],
   "source": [
    "m2_fault10 = pd.merge_asof(att_m2_fault10, imu_2_m2_fault10, on=\"TimeUS\",  tolerance= 100000)\n",
    "print(m2_fault10)"
   ]
  },
  {
   "cell_type": "code",
   "execution_count": 10,
   "metadata": {},
   "outputs": [
    {
     "name": "stdout",
     "output_type": "stream",
     "text": [
      "        TimeUS   RPM  Curr  DesRoll  Roll  DesPitch  Pitch  DesYaw   Yaw  \\\n",
      "0     76901851  4116  3.76    -0.19 -0.07      0.14   3.44    3.67  3.53   \n",
      "1     77004533  5412  3.93    -0.22 -0.52     -0.28   2.29    3.67  3.69   \n",
      "2     77110601  5779  3.59    -0.33 -0.65     -0.73  -0.18    3.67  4.65   \n",
      "3     77224623  5954  3.19    -0.43 -0.66     -0.73  -1.85    3.67  6.34   \n",
      "4     77330482  5785  4.15    -0.74  0.38     -0.14  -1.86    3.67  8.08   \n",
      "..         ...   ...   ...      ...   ...       ...    ...     ...   ...   \n",
      "887  181880856  5766  3.36     1.71 -0.40     -1.91  -1.16    1.57  0.34   \n",
      "888  181993835  5693  3.52     1.90 -0.03     -1.88  -1.02    1.57  0.75   \n",
      "889  182102391  5762  2.85     2.07 -0.54     -2.08  -0.39    1.57  1.06   \n",
      "890  182310527  5679  2.63     1.46 -1.42     -1.77  -0.26    1.58  0.79   \n",
      "891  182421995  5392  3.44     1.19 -0.98     -1.92  -0.54    1.57  0.77   \n",
      "\n",
      "         GyrX      GyrY      GyrZ      AccX      AccY       AccZ  \n",
      "0    0.093827 -0.117046 -0.017262  0.323237  0.261673 -10.886950  \n",
      "1   -0.124484 -0.160829  0.059397 -0.211569  0.817294 -11.825570  \n",
      "2   -0.100810 -0.393725  0.190213 -0.344560  0.418757 -11.745100  \n",
      "3    0.100924 -0.126905  0.268192 -0.218770  0.326881 -10.747190  \n",
      "4    0.211679  0.031530  0.291504  0.064966  0.511463  -9.997383  \n",
      "..        ...       ...       ...       ...       ...        ...  \n",
      "887  0.135013 -0.041504  0.084484 -0.307814  0.130082  -9.697119  \n",
      "888  0.092092  0.035005  0.070269 -0.004047  0.374725  -9.859268  \n",
      "889 -0.187066 -0.066759  0.035263 -0.077575  0.269440  -9.972489  \n",
      "890 -0.044985 -0.044017  0.023040 -0.223986  0.868451  -9.827205  \n",
      "891  0.168559 -0.152719 -0.001209  0.118172  0.453279  -9.650890  \n",
      "\n",
      "[892 rows x 15 columns]\n"
     ]
    }
   ],
   "source": [
    "m2_fault10 = pd.merge_asof(esc_0_m2_fault10, m2_fault10, on=\"TimeUS\",  tolerance= 100000)\n",
    "print(m2_fault10)"
   ]
  },
  {
   "cell_type": "code",
   "execution_count": 11,
   "metadata": {},
   "outputs": [
    {
     "name": "stdout",
     "output_type": "stream",
     "text": [
      "        TimeUS   RPM  Curr  DesRoll  Roll  DesPitch  Pitch  DesYaw   Yaw  \\\n",
      "0            0  4116  3.76    -0.19 -0.07      0.14   3.44    3.67  3.53   \n",
      "1       102682  5412  3.93    -0.22 -0.52     -0.28   2.29    3.67  3.69   \n",
      "2       208750  5779  3.59    -0.33 -0.65     -0.73  -0.18    3.67  4.65   \n",
      "3       322772  5954  3.19    -0.43 -0.66     -0.73  -1.85    3.67  6.34   \n",
      "4       428631  5785  4.15    -0.74  0.38     -0.14  -1.86    3.67  8.08   \n",
      "..         ...   ...   ...      ...   ...       ...    ...     ...   ...   \n",
      "887  104979005  5766  3.36     1.71 -0.40     -1.91  -1.16    1.57  0.34   \n",
      "888  105091984  5693  3.52     1.90 -0.03     -1.88  -1.02    1.57  0.75   \n",
      "889  105200540  5762  2.85     2.07 -0.54     -2.08  -0.39    1.57  1.06   \n",
      "890  105408676  5679  2.63     1.46 -1.42     -1.77  -0.26    1.58  0.79   \n",
      "891  105520144  5392  3.44     1.19 -0.98     -1.92  -0.54    1.57  0.77   \n",
      "\n",
      "         GyrX      GyrY      GyrZ      AccX      AccY       AccZ  Guasto  \n",
      "0    0.093827 -0.117046 -0.017262  0.323237  0.261673 -10.886950       2  \n",
      "1   -0.124484 -0.160829  0.059397 -0.211569  0.817294 -11.825570       2  \n",
      "2   -0.100810 -0.393725  0.190213 -0.344560  0.418757 -11.745100       2  \n",
      "3    0.100924 -0.126905  0.268192 -0.218770  0.326881 -10.747190       2  \n",
      "4    0.211679  0.031530  0.291504  0.064966  0.511463  -9.997383       2  \n",
      "..        ...       ...       ...       ...       ...        ...     ...  \n",
      "887  0.135013 -0.041504  0.084484 -0.307814  0.130082  -9.697119       2  \n",
      "888  0.092092  0.035005  0.070269 -0.004047  0.374725  -9.859268       2  \n",
      "889 -0.187066 -0.066759  0.035263 -0.077575  0.269440  -9.972489       2  \n",
      "890 -0.044985 -0.044017  0.023040 -0.223986  0.868451  -9.827205       2  \n",
      "891  0.168559 -0.152719 -0.001209  0.118172  0.453279  -9.650890       2  \n",
      "\n",
      "[892 rows x 16 columns]\n"
     ]
    }
   ],
   "source": [
    "m2_fault10[\"TimeUS\"] = m2_fault10[\"TimeUS\"] - m2_fault10.iloc[0][\"TimeUS\"]\n",
    "m2_fault10[\"TimeUS\"] = m2_fault10[\"TimeUS\"].astype(int)\n",
    "m2_fault10[\"Guasto\"] = 2\n",
    "print(m2_fault10)"
   ]
  },
  {
   "cell_type": "code",
   "execution_count": 12,
   "metadata": {},
   "outputs": [
    {
     "name": "stdout",
     "output_type": "stream",
     "text": [
      "d:\\GitHub\\ProgettoManutenzionePreventiva\\M2\\FAULT_M2_10\n"
     ]
    }
   ],
   "source": [
    "path_file = path_file.replace(r\"m2\\FAULT_m2_10\", \"\")\n",
    "os.chdir(path_file)\n",
    "m2_fault10.to_csv('m2_fault10.csv', index=False)\n",
    "print(path_file)"
   ]
  }
 ],
 "metadata": {
  "kernelspec": {
   "display_name": "Python 3",
   "language": "python",
   "name": "python3"
  },
  "language_info": {
   "codemirror_mode": {
    "name": "ipython",
    "version": 3
   },
   "file_extension": ".py",
   "mimetype": "text/x-python",
   "name": "python",
   "nbconvert_exporter": "python",
   "pygments_lexer": "ipython3",
   "version": "3.11.0"
  },
  "orig_nbformat": 4,
  "vscode": {
   "interpreter": {
    "hash": "3b03d3ad6b1336e6e4949d619e4badd72fec28959454a0e0d6a04b545beba08a"
   }
  }
 },
 "nbformat": 4,
 "nbformat_minor": 2
}
