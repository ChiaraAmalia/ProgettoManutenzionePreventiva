{
 "cells": [
  {
   "attachments": {},
   "cell_type": "markdown",
   "metadata": {},
   "source": [
    "IMPORTAZIONE LIBRERIE"
   ]
  },
  {
   "cell_type": "code",
   "execution_count": 1,
   "metadata": {},
   "outputs": [],
   "source": [
    "import os\n",
    "import pandas as pd\n",
    "import matplotlib.pyplot as plt\n",
    "import numpy as np"
   ]
  },
  {
   "attachments": {},
   "cell_type": "markdown",
   "metadata": {},
   "source": [
    "CAMBIO PATH PER ANALISI RISPETTO AL LOG DI VOLO CONSIDERATO"
   ]
  },
  {
   "cell_type": "code",
   "execution_count": 2,
   "metadata": {},
   "outputs": [
    {
     "name": "stdout",
     "output_type": "stream",
     "text": [
      "c:\\Users\\chiar\\OneDrive\\Desktop\\MantenzionePreventiva\\ProgettoManutenzionePreventiva\\M2\\NO_FAULT2\n"
     ]
    }
   ],
   "source": [
    "path_file = os.path.abspath(os.getcwd())\n",
    "print(path_file)\n",
    "os.chdir(path_file)"
   ]
  },
  {
   "attachments": {},
   "cell_type": "markdown",
   "metadata": {},
   "source": [
    "VARIABILE RCOU POTENZA MOTORI"
   ]
  },
  {
   "cell_type": "code",
   "execution_count": 3,
   "metadata": {},
   "outputs": [],
   "source": [
    "pd.set_option('display.max_rows',700)"
   ]
  },
  {
   "cell_type": "code",
   "execution_count": 4,
   "metadata": {},
   "outputs": [
    {
     "data": {
      "text/html": [
       "<div>\n",
       "<style scoped>\n",
       "    .dataframe tbody tr th:only-of-type {\n",
       "        vertical-align: middle;\n",
       "    }\n",
       "\n",
       "    .dataframe tbody tr th {\n",
       "        vertical-align: top;\n",
       "    }\n",
       "\n",
       "    .dataframe thead th {\n",
       "        text-align: right;\n",
       "    }\n",
       "</style>\n",
       "<table border=\"1\" class=\"dataframe\">\n",
       "  <thead>\n",
       "    <tr style=\"text-align: right;\">\n",
       "      <th></th>\n",
       "      <th>TimeUS</th>\n",
       "      <th>C9</th>\n",
       "      <th>C10</th>\n",
       "      <th>C11</th>\n",
       "      <th>C12</th>\n",
       "      <th>C13</th>\n",
       "      <th>C14</th>\n",
       "    </tr>\n",
       "  </thead>\n",
       "  <tbody>\n",
       "    <tr>\n",
       "      <th>0</th>\n",
       "      <td>21377588</td>\n",
       "      <td>1000</td>\n",
       "      <td>1000</td>\n",
       "      <td>1000</td>\n",
       "      <td>1000</td>\n",
       "      <td>1000</td>\n",
       "      <td>1000</td>\n",
       "    </tr>\n",
       "    <tr>\n",
       "      <th>1</th>\n",
       "      <td>21443127</td>\n",
       "      <td>1000</td>\n",
       "      <td>1000</td>\n",
       "      <td>1000</td>\n",
       "      <td>1000</td>\n",
       "      <td>1000</td>\n",
       "      <td>1000</td>\n",
       "    </tr>\n",
       "    <tr>\n",
       "      <th>2</th>\n",
       "      <td>21559486</td>\n",
       "      <td>1000</td>\n",
       "      <td>1000</td>\n",
       "      <td>1000</td>\n",
       "      <td>1000</td>\n",
       "      <td>1000</td>\n",
       "      <td>1000</td>\n",
       "    </tr>\n",
       "    <tr>\n",
       "      <th>3</th>\n",
       "      <td>21781420</td>\n",
       "      <td>1000</td>\n",
       "      <td>1000</td>\n",
       "      <td>1000</td>\n",
       "      <td>1000</td>\n",
       "      <td>1000</td>\n",
       "      <td>1000</td>\n",
       "    </tr>\n",
       "    <tr>\n",
       "      <th>4</th>\n",
       "      <td>21791809</td>\n",
       "      <td>1000</td>\n",
       "      <td>1000</td>\n",
       "      <td>1000</td>\n",
       "      <td>1000</td>\n",
       "      <td>1000</td>\n",
       "      <td>1000</td>\n",
       "    </tr>\n",
       "    <tr>\n",
       "      <th>...</th>\n",
       "      <td>...</td>\n",
       "      <td>...</td>\n",
       "      <td>...</td>\n",
       "      <td>...</td>\n",
       "      <td>...</td>\n",
       "      <td>...</td>\n",
       "      <td>...</td>\n",
       "    </tr>\n",
       "    <tr>\n",
       "      <th>14807</th>\n",
       "      <td>266185051</td>\n",
       "      <td>0</td>\n",
       "      <td>0</td>\n",
       "      <td>0</td>\n",
       "      <td>0</td>\n",
       "      <td>0</td>\n",
       "      <td>0</td>\n",
       "    </tr>\n",
       "    <tr>\n",
       "      <th>14808</th>\n",
       "      <td>266195241</td>\n",
       "      <td>0</td>\n",
       "      <td>0</td>\n",
       "      <td>0</td>\n",
       "      <td>0</td>\n",
       "      <td>0</td>\n",
       "      <td>0</td>\n",
       "    </tr>\n",
       "    <tr>\n",
       "      <th>14809</th>\n",
       "      <td>266205305</td>\n",
       "      <td>0</td>\n",
       "      <td>0</td>\n",
       "      <td>0</td>\n",
       "      <td>0</td>\n",
       "      <td>0</td>\n",
       "      <td>0</td>\n",
       "    </tr>\n",
       "    <tr>\n",
       "      <th>14810</th>\n",
       "      <td>266215473</td>\n",
       "      <td>0</td>\n",
       "      <td>0</td>\n",
       "      <td>0</td>\n",
       "      <td>0</td>\n",
       "      <td>0</td>\n",
       "      <td>0</td>\n",
       "    </tr>\n",
       "    <tr>\n",
       "      <th>14811</th>\n",
       "      <td>266225648</td>\n",
       "      <td>0</td>\n",
       "      <td>0</td>\n",
       "      <td>0</td>\n",
       "      <td>0</td>\n",
       "      <td>0</td>\n",
       "      <td>0</td>\n",
       "    </tr>\n",
       "  </tbody>\n",
       "</table>\n",
       "<p>14812 rows × 7 columns</p>\n",
       "</div>"
      ],
      "text/plain": [
       "          TimeUS    C9   C10   C11   C12   C13   C14\n",
       "0       21377588  1000  1000  1000  1000  1000  1000\n",
       "1       21443127  1000  1000  1000  1000  1000  1000\n",
       "2       21559486  1000  1000  1000  1000  1000  1000\n",
       "3       21781420  1000  1000  1000  1000  1000  1000\n",
       "4       21791809  1000  1000  1000  1000  1000  1000\n",
       "...          ...   ...   ...   ...   ...   ...   ...\n",
       "14807  266185051     0     0     0     0     0     0\n",
       "14808  266195241     0     0     0     0     0     0\n",
       "14809  266205305     0     0     0     0     0     0\n",
       "14810  266215473     0     0     0     0     0     0\n",
       "14811  266225648     0     0     0     0     0     0\n",
       "\n",
       "[14812 rows x 7 columns]"
      ]
     },
     "metadata": {},
     "output_type": "display_data"
    }
   ],
   "source": [
    "#andiamo a prendere una potenza media di 1400 per considerare il momento il cui inizia/finisce il volo\n",
    "rcou_m2 = pd.read_csv(\"RCOU.csv\")\n",
    "rcou_m2 = rcou_m2.drop(['LineNo','C1', 'C2', 'C3', 'C4', 'C5', 'C6', 'C7', 'C8'], axis=1)\n",
    "\n",
    "rcou = rcou_m2[((rcou_m2['C9'] >= 1400) & (rcou_m2['C10'] >= 1400) & (rcou_m2['C11'] >= 1400) & (rcou_m2['C12'] >= 1400) & (rcou_m2['C13'] >= 1400) & (rcou_m2['C14']>= 1400))]\n",
    "\n",
    "display(rcou_m2)"
   ]
  },
  {
   "cell_type": "code",
   "execution_count": 5,
   "metadata": {},
   "outputs": [
    {
     "name": "stdout",
     "output_type": "stream",
     "text": [
      "          TimeUS   Roll  Pitch     Yaw\n",
      "1       21440633  -0.51  -1.37  355.21\n",
      "2       21557359  -0.51  -1.37  355.22\n",
      "3       21779295  -0.51  -1.37  355.23\n",
      "4       21789580  -0.51  -1.37  355.24\n",
      "5       21800259  -0.51  -1.37  355.24\n",
      "...          ...    ...    ...     ...\n",
      "14808  266182424  74.09  -6.28  262.59\n",
      "14809  266193328  74.18  -6.62  262.50\n",
      "14810  266203343  74.27  -6.94  262.39\n",
      "14811  266213379  74.37  -7.24  262.25\n",
      "14812  266223445  74.46  -7.57  262.07\n",
      "\n",
      "[14812 rows x 4 columns]\n"
     ]
    }
   ],
   "source": [
    "#xkf utilizzato per fare poi il confronto con i valori di roll, pitch e yaw in att\n",
    "xkf1_m2 = pd.read_csv(\"XKF1_0.csv\")\n",
    "xkf1_m2 = xkf1_m2.drop(['LineNo','C','VN','VE','VD','dPD','PN','PE','PD','GX','GY','GZ','OH'], axis=1)\n",
    "xkf1_m2 = xkf1_m2[((xkf1_m2['TimeUS'] >= 21377588) & (xkf1_m2['TimeUS'] <= 266225648))]\n",
    "print(xkf1_m2)"
   ]
  },
  {
   "cell_type": "code",
   "execution_count": 6,
   "metadata": {},
   "outputs": [
    {
     "name": "stdout",
     "output_type": "stream",
     "text": [
      "          TimeUS  DesRoll   Roll  DesPitch  Pitch  DesYaw     Yaw\n",
      "1       21442252     0.00  -0.51       0.0  -1.37  355.20  355.22\n",
      "2       21558785     0.00  -0.51       0.0  -1.37  355.21  355.23\n",
      "3       21780618     0.00  -0.51       0.0  -1.37  355.23  355.24\n",
      "4       21791227     0.00  -0.51       0.0  -1.37  355.23  355.25\n",
      "5       21800933     0.00  -0.51       0.0  -1.37  355.23  355.25\n",
      "...          ...      ...    ...       ...    ...     ...     ...\n",
      "14810  266184106    -0.01  74.09       0.0  -6.28  263.26  262.60\n",
      "14811  266194335    -0.01  74.18       0.0  -6.62  263.17  262.51\n",
      "14812  266204442    -0.01  74.27       0.0  -6.94  263.06  262.40\n",
      "14813  266214607    -0.01  74.37       0.0  -7.24  262.92  262.26\n",
      "14814  266224840    -0.01  74.46       0.0  -7.57  262.74  262.08\n",
      "\n",
      "[14814 rows x 7 columns]\n"
     ]
    }
   ],
   "source": [
    "att_m2 = pd.read_csv(\"ATT.csv\")\n",
    "att_m2 = att_m2.drop(['LineNo','ErrRP', 'ErrYaw', 'AEKF'], axis=1)\n",
    "att_m2 = att_m2[((att_m2['TimeUS'] >= 21377588) & (att_m2['TimeUS'] <= 266225648))]\n",
    "print(att_m2)"
   ]
  },
  {
   "cell_type": "code",
   "execution_count": 7,
   "metadata": {},
   "outputs": [
    {
     "name": "stdout",
     "output_type": "stream",
     "text": [
      "          TimeUS  DesRoll   Roll  DesPitch  Pitch  DesYaw     Yaw\n",
      "0       21442252     0.00  -0.51       0.0  -1.37  355.20  355.22\n",
      "1       21558785     0.00  -0.51       0.0  -1.37  355.21  355.23\n",
      "2       21780618     0.00  -0.51       0.0  -1.37  355.23  355.24\n",
      "3       21791227     0.00  -0.51       0.0  -1.37  355.23  355.25\n",
      "4       21800933     0.00  -0.51       0.0  -1.37  355.23  355.25\n",
      "...          ...      ...    ...       ...    ...     ...     ...\n",
      "14809  266184106    -0.01  74.09       0.0  -6.28  263.26  262.60\n",
      "14810  266194335    -0.01  74.18       0.0  -6.62  263.17  262.51\n",
      "14811  266204442    -0.01  74.27       0.0  -6.94  263.06  262.40\n",
      "14812  266214607    -0.01  74.37       0.0  -7.24  262.92  262.26\n",
      "14813  266224840    -0.01  74.46       0.0  -7.57  262.74  262.08\n",
      "\n",
      "[14814 rows x 7 columns]\n"
     ]
    }
   ],
   "source": [
    "#controllo corrispondenza valori roll, pitch, yaw\n",
    "att_m2 = pd.merge_asof(att_m2, xkf1_m2, on=\"TimeUS\", by=[\"Roll\",\"Pitch\",\"Yaw\"], tolerance=100000)\n",
    "print(att_m2)"
   ]
  },
  {
   "cell_type": "code",
   "execution_count": 8,
   "metadata": {},
   "outputs": [
    {
     "name": "stdout",
     "output_type": "stream",
     "text": [
      "        TimeUS  RPM  Curr\n",
      "0     21839706    0  0.04\n",
      "1     21942259    0  0.04\n",
      "2     22054419    0  0.04\n",
      "3     22164593    0  0.04\n",
      "4     22265674    0  0.03\n",
      "..         ...  ...   ...\n",
      "928  254509624    0  0.02\n",
      "929  254617493    0  0.03\n",
      "930  254724316    0  0.02\n",
      "931  254832844    0  0.02\n",
      "932  254940415    0  0.02\n",
      "\n",
      "[933 rows x 3 columns]\n"
     ]
    }
   ],
   "source": [
    "#elettricita' che scorre nel motore considerato, al momento ne consideriamo solo 1\n",
    "esc_1_m2 = pd.read_csv(\"ESC_1.csv\")\n",
    "esc_1_m2 = esc_1_m2.drop(['LineNo','Instance', 'RawRPM', 'Volt', 'Temp', 'CTot', 'MotTemp', 'Err'], axis=1)\n",
    "esc_1_m2 = esc_1_m2[((esc_1_m2['TimeUS'] >= 21377588) & (esc_1_m2['TimeUS'] <= 266225648))]\n",
    "print(esc_1_m2)"
   ]
  },
  {
   "cell_type": "code",
   "execution_count": 9,
   "metadata": {},
   "outputs": [
    {
     "name": "stdout",
     "output_type": "stream",
     "text": [
      "          TimeUS      GyrX      GyrY      GyrZ      AccX       AccY      AccZ\n",
      "1       21379280 -0.000143 -0.003713 -0.000835 -0.317570   0.168200 -9.851592\n",
      "2       21405648 -0.001483 -0.002965  0.000405 -0.309169   0.190218 -9.865791\n",
      "3       21442085  0.003247  0.004227 -0.001391 -0.323399   0.219677 -9.820618\n",
      "4       21444703  0.003511  0.004961 -0.000932 -0.323141   0.220400 -9.813485\n",
      "5       21463665  0.001315  0.002153  0.001588 -0.313926   0.210318 -9.826613\n",
      "...          ...       ...       ...       ...       ...        ...       ...\n",
      "57448  266214413  0.139755 -0.387664  0.438880  0.058760 -11.477650 -3.189833\n",
      "57449  266217260  0.133286 -0.399660  0.430425  0.029484 -11.449310 -3.220269\n",
      "57450  266220378  0.131108 -0.403541  0.428677 -0.001193 -11.439130 -3.249021\n",
      "57451  266221876  0.122037 -0.413943  0.424900 -0.057513 -11.436480 -3.310098\n",
      "57452  266224661  0.111823 -0.420368  0.423021 -0.098880 -11.438530 -3.363329\n",
      "\n",
      "[57452 rows x 7 columns]\n"
     ]
    }
   ],
   "source": [
    "#valori di accelerazione e del giroscopio\n",
    "imu_2_m2 = pd.read_csv(\"IMU_2.csv\")\n",
    "imu_2_m2 = imu_2_m2.drop(['LineNo','I', 'EG', 'EA', 'T', 'GH', 'AH', 'GHz', 'AHz'], axis=1)\n",
    "imu_2_m2 = imu_2_m2[((imu_2_m2['TimeUS'] >= 21377588) & (imu_2_m2['TimeUS'] <= 266225648))]\n",
    "print(imu_2_m2)"
   ]
  },
  {
   "cell_type": "code",
   "execution_count": 10,
   "metadata": {},
   "outputs": [
    {
     "name": "stdout",
     "output_type": "stream",
     "text": [
      "          TimeUS  DesRoll   Roll  DesPitch  Pitch  DesYaw     Yaw      GyrX  \\\n",
      "0       21442252     0.00  -0.51       0.0  -1.37  355.20  355.22  0.003247   \n",
      "1       21558785     0.00  -0.51       0.0  -1.37  355.21  355.23 -0.000854   \n",
      "2       21780618     0.00  -0.51       0.0  -1.37  355.23  355.24  0.002060   \n",
      "3       21791227     0.00  -0.51       0.0  -1.37  355.23  355.25  0.004058   \n",
      "4       21800933     0.00  -0.51       0.0  -1.37  355.23  355.25  0.003012   \n",
      "...          ...      ...    ...       ...    ...     ...     ...       ...   \n",
      "14809  266184106    -0.01  74.09       0.0  -6.28  263.26  262.60  0.144341   \n",
      "14810  266194335    -0.01  74.18       0.0  -6.62  263.17  262.51  0.143419   \n",
      "14811  266204442    -0.01  74.27       0.0  -6.94  263.06  262.40  0.145466   \n",
      "14812  266214607    -0.01  74.37       0.0  -7.24  262.92  262.26  0.139755   \n",
      "14813  266224840    -0.01  74.46       0.0  -7.57  262.74  262.08  0.111823   \n",
      "\n",
      "           GyrY      GyrZ      AccX       AccY      AccZ  \n",
      "0      0.004227 -0.001391 -0.323399   0.219677 -9.820618  \n",
      "1      0.002362 -0.003709 -0.310221   0.194878 -9.827394  \n",
      "2      0.003512  0.002321 -0.303249   0.213531 -9.847159  \n",
      "3      0.002585 -0.000345 -0.298290   0.200032 -9.838150  \n",
      "4      0.003431  0.002641 -0.318418   0.186656 -9.845072  \n",
      "...         ...       ...       ...        ...       ...  \n",
      "14809 -0.282099  0.569944 -0.206559 -12.079400 -3.270863  \n",
      "14810 -0.311663  0.519294 -0.149421 -11.928050 -3.170748  \n",
      "14811 -0.353812  0.490943 -0.001213 -11.655090 -3.134126  \n",
      "14812 -0.387664  0.438880  0.058760 -11.477650 -3.189833  \n",
      "14813 -0.420368  0.423021 -0.098880 -11.438530 -3.363329  \n",
      "\n",
      "[14814 rows x 13 columns]\n"
     ]
    }
   ],
   "source": [
    "#sincronizzazione dei tempi tra att e imu_2\n",
    "m2_nofault = pd.merge_asof(att_m2, imu_2_m2, on=\"TimeUS\",  tolerance= 100000)\n",
    "print(m2_nofault)"
   ]
  },
  {
   "cell_type": "code",
   "execution_count": 11,
   "metadata": {},
   "outputs": [
    {
     "name": "stdout",
     "output_type": "stream",
     "text": [
      "        TimeUS  RPM  Curr  DesRoll  Roll  DesPitch  Pitch  DesYaw     Yaw  \\\n",
      "0     21839706    0  0.04     0.00 -0.51       0.0  -1.37  355.23  355.24   \n",
      "1     21942259    0  0.04     0.00 -0.51       0.0  -1.37  355.20  355.22   \n",
      "2     22054419    0  0.04     0.00 -0.51       0.0  -1.37  355.19  355.21   \n",
      "3     22164593    0  0.04     0.00 -0.50       0.0  -1.37  355.20  355.22   \n",
      "4     22265674    0  0.03     0.00 -0.51       0.0  -1.38  355.21  355.23   \n",
      "..         ...  ...   ...      ...   ...       ...    ...     ...     ...   \n",
      "928  254509624    0  0.02    -0.01  2.37       0.0  -1.93  357.34  357.32   \n",
      "929  254617493    0  0.03    -0.01  2.43       0.0  -1.96  357.40  357.38   \n",
      "930  254724316    0  0.02    -0.01  2.43       0.0  -1.93  357.43  357.41   \n",
      "931  254832844    0  0.02    -0.01  2.46       0.0  -1.91  357.46  357.44   \n",
      "932  254940415    0  0.02    -0.01  2.46       0.0  -1.89  357.49  357.47   \n",
      "\n",
      "         GyrX      GyrY      GyrZ      AccX      AccY      AccZ  \n",
      "0    0.002947 -0.000208  0.000785 -0.288731  0.183038 -9.825877  \n",
      "1   -0.002808  0.004241  0.001895 -0.319233  0.201449 -9.834678  \n",
      "2   -0.001689  0.004630 -0.004270 -0.331823  0.193290 -9.839263  \n",
      "3    0.002169  0.003298  0.000317 -0.317290  0.185566 -9.808990  \n",
      "4   -0.005430  0.001539  0.002084 -0.332245  0.181726 -9.847082  \n",
      "..        ...       ...       ...       ...       ...       ...  \n",
      "928  0.009504 -0.002623 -0.002651 -0.352287 -0.224192 -9.741012  \n",
      "929  0.013799  0.001498 -0.004423 -0.406396 -0.206679 -9.861787  \n",
      "930 -0.000040  0.016237  0.008643 -0.448567 -0.254045 -9.877120  \n",
      "931 -0.001483  0.006434  0.005239 -0.387673 -0.198761 -9.819668  \n",
      "932  0.008633  0.009234 -0.003646 -0.426625 -0.228763 -9.830828  \n",
      "\n",
      "[933 rows x 15 columns]\n"
     ]
    }
   ],
   "source": [
    "#sincronizzazione dei tempi tra la tabella ottenuta precedentemente e esc_0 (corrente che passa nel motore)\n",
    "m2_nofault = pd.merge_asof(esc_1_m2, m2_nofault, on=\"TimeUS\",  tolerance= 100000)\n",
    "print(m2_nofault)"
   ]
  },
  {
   "cell_type": "code",
   "execution_count": 12,
   "metadata": {},
   "outputs": [
    {
     "name": "stdout",
     "output_type": "stream",
     "text": [
      "        TimeUS  RPM  Curr  DesRoll  Roll  DesPitch  Pitch  DesYaw     Yaw  \\\n",
      "0            0    0  0.04     0.00 -0.51       0.0  -1.37  355.23  355.24   \n",
      "1       102553    0  0.04     0.00 -0.51       0.0  -1.37  355.20  355.22   \n",
      "2       214713    0  0.04     0.00 -0.51       0.0  -1.37  355.19  355.21   \n",
      "3       324887    0  0.04     0.00 -0.50       0.0  -1.37  355.20  355.22   \n",
      "4       425968    0  0.03     0.00 -0.51       0.0  -1.38  355.21  355.23   \n",
      "..         ...  ...   ...      ...   ...       ...    ...     ...     ...   \n",
      "928  232669918    0  0.02    -0.01  2.37       0.0  -1.93  357.34  357.32   \n",
      "929  232777787    0  0.03    -0.01  2.43       0.0  -1.96  357.40  357.38   \n",
      "930  232884610    0  0.02    -0.01  2.43       0.0  -1.93  357.43  357.41   \n",
      "931  232993138    0  0.02    -0.01  2.46       0.0  -1.91  357.46  357.44   \n",
      "932  233100709    0  0.02    -0.01  2.46       0.0  -1.89  357.49  357.47   \n",
      "\n",
      "         GyrX      GyrY      GyrZ      AccX      AccY      AccZ  Guasto  \n",
      "0    0.002947 -0.000208  0.000785 -0.288731  0.183038 -9.825877       0  \n",
      "1   -0.002808  0.004241  0.001895 -0.319233  0.201449 -9.834678       0  \n",
      "2   -0.001689  0.004630 -0.004270 -0.331823  0.193290 -9.839263       0  \n",
      "3    0.002169  0.003298  0.000317 -0.317290  0.185566 -9.808990       0  \n",
      "4   -0.005430  0.001539  0.002084 -0.332245  0.181726 -9.847082       0  \n",
      "..        ...       ...       ...       ...       ...       ...     ...  \n",
      "928  0.009504 -0.002623 -0.002651 -0.352287 -0.224192 -9.741012       0  \n",
      "929  0.013799  0.001498 -0.004423 -0.406396 -0.206679 -9.861787       0  \n",
      "930 -0.000040  0.016237  0.008643 -0.448567 -0.254045 -9.877120       0  \n",
      "931 -0.001483  0.006434  0.005239 -0.387673 -0.198761 -9.819668       0  \n",
      "932  0.008633  0.009234 -0.003646 -0.426625 -0.228763 -9.830828       0  \n",
      "\n",
      "[933 rows x 16 columns]\n"
     ]
    }
   ],
   "source": [
    "#aggiornamento del tempo ponendo a 0 il momento in cui il volo inizia per noi e settaggio della variabile guasto\n",
    "m2_nofault[\"TimeUS\"] = m2_nofault[\"TimeUS\"] - m2_nofault.iloc[0][\"TimeUS\"]\n",
    "m2_nofault[\"TimeUS\"] = m2_nofault[\"TimeUS\"].astype(int)\n",
    "m2_nofault[\"Guasto\"] = 0\n",
    "print(m2_nofault)"
   ]
  },
  {
   "cell_type": "code",
   "execution_count": 13,
   "metadata": {},
   "outputs": [
    {
     "name": "stdout",
     "output_type": "stream",
     "text": [
      "c:\\Users\\chiar\\OneDrive\\Desktop\\MantenzionePreventiva\\ProgettoManutenzionePreventiva\\\n"
     ]
    }
   ],
   "source": [
    "path_file = path_file.replace(r\"M2\\NO_FAULT2\", \"\")\n",
    "os.chdir(path_file)\n",
    "m2_nofault.to_csv('m2_nofault.csv', index=False)\n",
    "print(path_file)"
   ]
  }
 ],
 "metadata": {
  "kernelspec": {
   "display_name": "Python 3",
   "language": "python",
   "name": "python3"
  },
  "language_info": {
   "codemirror_mode": {
    "name": "ipython",
    "version": 3
   },
   "file_extension": ".py",
   "mimetype": "text/x-python",
   "name": "python",
   "nbconvert_exporter": "python",
   "pygments_lexer": "ipython3",
   "version": "3.10.2"
  },
  "orig_nbformat": 4,
  "vscode": {
   "interpreter": {
    "hash": "369f2c481f4da34e4445cda3fffd2e751bd1c4d706f27375911949ba6bb62e1c"
   }
  }
 },
 "nbformat": 4,
 "nbformat_minor": 2
}
