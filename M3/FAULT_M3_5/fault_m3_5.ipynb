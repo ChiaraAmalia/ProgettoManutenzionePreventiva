{
 "cells": [
  {
   "attachments": {},
   "cell_type": "markdown",
   "metadata": {},
   "source": [
    "IMPORTAZIONE LIBRERIE"
   ]
  },
  {
   "cell_type": "code",
   "execution_count": 1,
   "metadata": {},
   "outputs": [],
   "source": [
    "import os\n",
    "import pandas as pd\n",
    "import matplotlib.pyplot as plt\n",
    "import numpy as np"
   ]
  },
  {
   "attachments": {},
   "cell_type": "markdown",
   "metadata": {},
   "source": [
    "CAMBIO PATH PER ANALISI RISPETTO AL LOG DI VOLO CONSIDERATO"
   ]
  },
  {
   "cell_type": "code",
   "execution_count": 2,
   "metadata": {},
   "outputs": [
    {
     "name": "stdout",
     "output_type": "stream",
     "text": [
      "d:\\GitHub\\ProgettoManutenzionePreventiva\\M3\\FAULT_M3_5\n"
     ]
    }
   ],
   "source": [
    "path_file = os.path.abspath(os.getcwd())\n",
    "print(path_file)\n",
    "os.chdir(path_file)"
   ]
  },
  {
   "attachments": {},
   "cell_type": "markdown",
   "metadata": {},
   "source": [
    "VOLO m3 FAULT 5%"
   ]
  },
  {
   "cell_type": "code",
   "execution_count": 3,
   "metadata": {},
   "outputs": [
    {
     "data": {
      "text/html": [
       "<div>\n",
       "<style scoped>\n",
       "    .dataframe tbody tr th:only-of-type {\n",
       "        vertical-align: middle;\n",
       "    }\n",
       "\n",
       "    .dataframe tbody tr th {\n",
       "        vertical-align: top;\n",
       "    }\n",
       "\n",
       "    .dataframe thead th {\n",
       "        text-align: right;\n",
       "    }\n",
       "</style>\n",
       "<table border=\"1\" class=\"dataframe\">\n",
       "  <thead>\n",
       "    <tr style=\"text-align: right;\">\n",
       "      <th></th>\n",
       "      <th>TimeUS</th>\n",
       "      <th>C9</th>\n",
       "      <th>C10</th>\n",
       "      <th>C11</th>\n",
       "      <th>C12</th>\n",
       "      <th>C13</th>\n",
       "      <th>C14</th>\n",
       "    </tr>\n",
       "  </thead>\n",
       "  <tbody>\n",
       "    <tr>\n",
       "      <th>5504</th>\n",
       "      <td>204233384</td>\n",
       "      <td>1471</td>\n",
       "      <td>1448</td>\n",
       "      <td>1448</td>\n",
       "      <td>1471</td>\n",
       "      <td>1457</td>\n",
       "      <td>1462</td>\n",
       "    </tr>\n",
       "    <tr>\n",
       "      <th>5505</th>\n",
       "      <td>204243252</td>\n",
       "      <td>1509</td>\n",
       "      <td>1450</td>\n",
       "      <td>1435</td>\n",
       "      <td>1522</td>\n",
       "      <td>1463</td>\n",
       "      <td>1497</td>\n",
       "    </tr>\n",
       "    <tr>\n",
       "      <th>5506</th>\n",
       "      <td>204253956</td>\n",
       "      <td>1553</td>\n",
       "      <td>1443</td>\n",
       "      <td>1490</td>\n",
       "      <td>1510</td>\n",
       "      <td>1541</td>\n",
       "      <td>1457</td>\n",
       "    </tr>\n",
       "    <tr>\n",
       "      <th>5507</th>\n",
       "      <td>204264271</td>\n",
       "      <td>1576</td>\n",
       "      <td>1457</td>\n",
       "      <td>1531</td>\n",
       "      <td>1508</td>\n",
       "      <td>1584</td>\n",
       "      <td>1448</td>\n",
       "    </tr>\n",
       "    <tr>\n",
       "      <th>5508</th>\n",
       "      <td>204274574</td>\n",
       "      <td>1548</td>\n",
       "      <td>1529</td>\n",
       "      <td>1564</td>\n",
       "      <td>1511</td>\n",
       "      <td>1570</td>\n",
       "      <td>1505</td>\n",
       "    </tr>\n",
       "    <tr>\n",
       "      <th>...</th>\n",
       "      <td>...</td>\n",
       "      <td>...</td>\n",
       "      <td>...</td>\n",
       "      <td>...</td>\n",
       "      <td>...</td>\n",
       "      <td>...</td>\n",
       "      <td>...</td>\n",
       "    </tr>\n",
       "    <tr>\n",
       "      <th>14584</th>\n",
       "      <td>303963817</td>\n",
       "      <td>1542</td>\n",
       "      <td>1430</td>\n",
       "      <td>1547</td>\n",
       "      <td>1423</td>\n",
       "      <td>1448</td>\n",
       "      <td>1526</td>\n",
       "    </tr>\n",
       "    <tr>\n",
       "      <th>14585</th>\n",
       "      <td>303977348</td>\n",
       "      <td>1543</td>\n",
       "      <td>1424</td>\n",
       "      <td>1524</td>\n",
       "      <td>1447</td>\n",
       "      <td>1425</td>\n",
       "      <td>1542</td>\n",
       "    </tr>\n",
       "    <tr>\n",
       "      <th>14586</th>\n",
       "      <td>303987906</td>\n",
       "      <td>1536</td>\n",
       "      <td>1428</td>\n",
       "      <td>1542</td>\n",
       "      <td>1421</td>\n",
       "      <td>1443</td>\n",
       "      <td>1524</td>\n",
       "    </tr>\n",
       "    <tr>\n",
       "      <th>14587</th>\n",
       "      <td>303999574</td>\n",
       "      <td>1533</td>\n",
       "      <td>1428</td>\n",
       "      <td>1529</td>\n",
       "      <td>1433</td>\n",
       "      <td>1427</td>\n",
       "      <td>1534</td>\n",
       "    </tr>\n",
       "    <tr>\n",
       "      <th>14588</th>\n",
       "      <td>304010535</td>\n",
       "      <td>1532</td>\n",
       "      <td>1424</td>\n",
       "      <td>1521</td>\n",
       "      <td>1437</td>\n",
       "      <td>1419</td>\n",
       "      <td>1537</td>\n",
       "    </tr>\n",
       "  </tbody>\n",
       "</table>\n",
       "<p>7203 rows × 7 columns</p>\n",
       "</div>"
      ],
      "text/plain": [
       "          TimeUS    C9   C10   C11   C12   C13   C14\n",
       "5504   204233384  1471  1448  1448  1471  1457  1462\n",
       "5505   204243252  1509  1450  1435  1522  1463  1497\n",
       "5506   204253956  1553  1443  1490  1510  1541  1457\n",
       "5507   204264271  1576  1457  1531  1508  1584  1448\n",
       "5508   204274574  1548  1529  1564  1511  1570  1505\n",
       "...          ...   ...   ...   ...   ...   ...   ...\n",
       "14584  303963817  1542  1430  1547  1423  1448  1526\n",
       "14585  303977348  1543  1424  1524  1447  1425  1542\n",
       "14586  303987906  1536  1428  1542  1421  1443  1524\n",
       "14587  303999574  1533  1428  1529  1433  1427  1534\n",
       "14588  304010535  1532  1424  1521  1437  1419  1537\n",
       "\n",
       "[7203 rows x 7 columns]"
      ]
     },
     "metadata": {},
     "output_type": "display_data"
    }
   ],
   "source": [
    "rcou_m3_fault5 = pd.read_csv(\"RCOU.csv\")\n",
    "rcou_m3_fault5 = rcou_m3_fault5.drop(['LineNo','C1', 'C2', 'C3', 'C4', 'C5', 'C6', 'C7', 'C8'], axis=1)\n",
    "\n",
    "rcou_m3_fault5 = rcou_m3_fault5[((rcou_m3_fault5['C9'] >= 1400) & (rcou_m3_fault5['C10'] >= 1400) & (rcou_m3_fault5['C11'] >= 1400) & (rcou_m3_fault5['C12'] >= 1400) & (rcou_m3_fault5['C13'] >= 1400) & (rcou_m3_fault5['C14']>= 1400))]\n",
    "\n",
    "pd.set_option('display.max_rows',700)\n",
    "display(rcou_m3_fault5)"
   ]
  },
  {
   "cell_type": "code",
   "execution_count": 4,
   "metadata": {},
   "outputs": [
    {
     "name": "stdout",
     "output_type": "stream",
     "text": [
      "          TimeUS  Roll  Pitch   Yaw\n",
      "5507   204241781  0.94  -0.72  2.56\n",
      "5508   204251811  1.02  -0.76  2.56\n",
      "5509   204262143  1.07  -0.79  2.57\n",
      "5510   204272724  1.05  -0.79  2.57\n",
      "5511   204282473  0.96  -0.79  2.58\n",
      "...          ...   ...    ...   ...\n",
      "14587  303961797  1.11  -0.33  2.08\n",
      "14588  303975700  1.09  -0.33  2.04\n",
      "14589  303985816  1.10  -0.30  2.01\n",
      "14590  303997185  1.06  -0.25  2.00\n",
      "14591  304007782  0.97  -0.22  1.97\n",
      "\n",
      "[9085 rows x 4 columns]\n"
     ]
    }
   ],
   "source": [
    "xkf1_m3_fault5 = pd.read_csv(\"XKF1_0.csv\")\n",
    "xkf1_m3_fault5 = xkf1_m3_fault5.drop(['LineNo','C','VN','VE','VD','dPD','PN','PE','PD','GX','GY','GZ','OH'], axis=1)\n",
    "xkf1_m3_fault5 = xkf1_m3_fault5[((xkf1_m3_fault5['TimeUS'] >= 204233384) & (xkf1_m3_fault5['TimeUS'] <= 304010535))]\n",
    "print(xkf1_m3_fault5)"
   ]
  },
  {
   "cell_type": "code",
   "execution_count": 5,
   "metadata": {},
   "outputs": [
    {
     "name": "stdout",
     "output_type": "stream",
     "text": [
      "          TimeUS  DesRoll  Roll  DesPitch  Pitch  DesYaw   Yaw\n",
      "5510   204242578     0.00  0.94      0.00  -0.72    2.49  2.56\n",
      "5511   204253192     0.00  1.02      0.00  -0.76    2.49  2.56\n",
      "5512   204263435     0.00  1.07      0.00  -0.79    2.49  2.57\n",
      "5513   204273819     0.00  1.05      0.00  -0.79    2.49  2.57\n",
      "5514   204283829     0.00  0.96      0.00  -0.79    2.49  2.58\n",
      "...          ...      ...   ...       ...    ...     ...   ...\n",
      "14591  303963074     2.75  1.11      1.42  -0.33    1.70  2.08\n",
      "14592  303976765     2.72  1.09      1.45  -0.33    1.70  2.04\n",
      "14593  303987111     2.69  1.10      1.47  -0.30    1.71  2.01\n",
      "14594  303998743     2.66  1.06      1.49  -0.25    1.71  2.00\n",
      "14595  304009828     2.65  0.97      1.52  -0.22    1.71  1.97\n",
      "\n",
      "[9086 rows x 7 columns]\n"
     ]
    }
   ],
   "source": [
    "att_m3_fault5 = pd.read_csv(\"ATT.csv\")\n",
    "att_m3_fault5 = att_m3_fault5.drop(['LineNo','ErrRP', 'ErrYaw', 'AEKF'], axis=1)\n",
    "att_m3_fault5 = att_m3_fault5[((att_m3_fault5['TimeUS'] >= 204233384) & (att_m3_fault5['TimeUS'] <= 304010535))]\n",
    "print(att_m3_fault5)"
   ]
  },
  {
   "cell_type": "code",
   "execution_count": 6,
   "metadata": {},
   "outputs": [
    {
     "name": "stdout",
     "output_type": "stream",
     "text": [
      "         TimeUS  DesRoll  Roll  DesPitch  Pitch  DesYaw   Yaw\n",
      "0     204242578     0.00  0.94      0.00  -0.72    2.49  2.56\n",
      "1     204253192     0.00  1.02      0.00  -0.76    2.49  2.56\n",
      "2     204263435     0.00  1.07      0.00  -0.79    2.49  2.57\n",
      "3     204273819     0.00  1.05      0.00  -0.79    2.49  2.57\n",
      "4     204283829     0.00  0.96      0.00  -0.79    2.49  2.58\n",
      "...         ...      ...   ...       ...    ...     ...   ...\n",
      "9081  303963074     2.75  1.11      1.42  -0.33    1.70  2.08\n",
      "9082  303976765     2.72  1.09      1.45  -0.33    1.70  2.04\n",
      "9083  303987111     2.69  1.10      1.47  -0.30    1.71  2.01\n",
      "9084  303998743     2.66  1.06      1.49  -0.25    1.71  2.00\n",
      "9085  304009828     2.65  0.97      1.52  -0.22    1.71  1.97\n",
      "\n",
      "[9086 rows x 7 columns]\n"
     ]
    }
   ],
   "source": [
    "att_m3_fault5 = pd.merge_asof(att_m3_fault5,xkf1_m3_fault5, on=\"TimeUS\", by=[\"Roll\",\"Pitch\",\"Yaw\"], tolerance=100000)\n",
    "print(att_m3_fault5)"
   ]
  },
  {
   "cell_type": "code",
   "execution_count": 7,
   "metadata": {},
   "outputs": [
    {
     "name": "stdout",
     "output_type": "stream",
     "text": [
      "         TimeUS   RPM  Curr\n",
      "521   204246138  1822  4.04\n",
      "522   204343994  3566  5.80\n",
      "523   204455356  5728  5.14\n",
      "524   204557852  6516  5.19\n",
      "525   204670131  6663  5.22\n",
      "...         ...   ...   ...\n",
      "1370  303522373  5767  3.54\n",
      "1371  303629908  5695  3.45\n",
      "1372  303735258  5923  3.26\n",
      "1373  303851161  5701  3.41\n",
      "1374  303953677  5714  3.08\n",
      "\n",
      "[854 rows x 3 columns]\n"
     ]
    }
   ],
   "source": [
    "esc_0_m3_fault5 = pd.read_csv(\"ESC_0.csv\")\n",
    "esc_0_m3_fault5 = esc_0_m3_fault5.drop(['LineNo','Instance', 'RawRPM', 'Volt', 'Temp', 'CTot', 'MotTemp', 'Err'], axis=1)\n",
    "esc_0_m3_fault5 = esc_0_m3_fault5[((esc_0_m3_fault5['TimeUS'] >= 204233384) & (esc_0_m3_fault5['TimeUS'] <= 304010535))]\n",
    "print(esc_0_m3_fault5)"
   ]
  },
  {
   "cell_type": "code",
   "execution_count": 8,
   "metadata": {},
   "outputs": [
    {
     "name": "stdout",
     "output_type": "stream",
     "text": [
      "          TimeUS      GyrX      GyrY      GyrZ      AccX      AccY       AccZ\n",
      "21789  204234753 -0.024575 -0.024283 -0.001101 -0.198312  0.148841  -9.671492\n",
      "21790  204237295  0.005727 -0.027544 -0.010038 -0.230843  0.202286  -9.657310\n",
      "21791  204240279  0.071114  0.037119  0.005892 -0.308254  0.197127  -9.940502\n",
      "21792  204242197  0.023852  0.135248  0.029906 -0.393868  0.154902 -10.320090\n",
      "21793  204245972 -0.020405  0.081297  0.031451 -0.418631  0.126494 -10.244170\n",
      "...          ...       ...       ...       ...       ...       ...        ...\n",
      "56271  303998639 -0.058452  0.078847 -0.044663  0.056585 -0.458672 -10.058490\n",
      "56272  304001303 -0.097566  0.023808 -0.050574  0.067066 -0.490258 -10.065910\n",
      "56273  304004042 -0.120193  0.016187 -0.048743  0.042913 -0.459213 -10.090180\n",
      "56274  304006784 -0.111955  0.071452 -0.043737  0.077529 -0.382426 -10.049370\n",
      "56275  304009580 -0.093100  0.077378 -0.042245  0.127937 -0.284427  -9.989185\n",
      "\n",
      "[34487 rows x 7 columns]\n"
     ]
    }
   ],
   "source": [
    "imu_2_m3_fault5 = pd.read_csv(\"IMU_2.csv\")\n",
    "imu_2_m3_fault5 = imu_2_m3_fault5.drop(['LineNo','I', 'EG', 'EA', 'T', 'GH', 'AH', 'GHz', 'AHz'], axis=1)\n",
    "imu_2_m3_fault5 = imu_2_m3_fault5[((imu_2_m3_fault5['TimeUS'] >= 204233384) & (imu_2_m3_fault5['TimeUS'] <= 304010535))]\n",
    "print(imu_2_m3_fault5)"
   ]
  },
  {
   "cell_type": "code",
   "execution_count": 9,
   "metadata": {},
   "outputs": [
    {
     "name": "stdout",
     "output_type": "stream",
     "text": [
      "         TimeUS  DesRoll  Roll  DesPitch  Pitch  DesYaw   Yaw      GyrX  \\\n",
      "0     204242578     0.00  0.94      0.00  -0.72    2.49  2.56  0.023852   \n",
      "1     204253192     0.00  1.02      0.00  -0.76    2.49  2.56  0.102127   \n",
      "2     204263435     0.00  1.07      0.00  -0.79    2.49  2.57  0.121545   \n",
      "3     204273819     0.00  1.05      0.00  -0.79    2.49  2.57  0.132153   \n",
      "4     204283829     0.00  0.96      0.00  -0.79    2.49  2.58 -0.017601   \n",
      "...         ...      ...   ...       ...    ...     ...   ...       ...   \n",
      "9081  303963074     2.75  1.11      1.42  -0.33    1.70  2.08 -0.061763   \n",
      "9082  303976765     2.72  1.09      1.45  -0.33    1.70  2.04 -0.008820   \n",
      "9083  303987111     2.69  1.10      1.47  -0.30    1.71  2.01 -0.012648   \n",
      "9084  303998743     2.66  1.06      1.49  -0.25    1.71  2.00 -0.058452   \n",
      "9085  304009828     2.65  0.97      1.52  -0.22    1.71  1.97 -0.093100   \n",
      "\n",
      "          GyrY      GyrZ      AccX      AccY       AccZ  \n",
      "0     0.135248  0.029906 -0.393868  0.154902 -10.320090  \n",
      "1     0.058654  0.033522 -0.438928  0.116158 -10.477620  \n",
      "2    -0.084955 -0.001661 -0.046653  0.107532 -10.066320  \n",
      "3    -0.103850 -0.005668  0.255587  0.105710 -10.452060  \n",
      "4    -0.028108  0.029682  0.105765  0.191423 -10.383530  \n",
      "...        ...       ...       ...       ...        ...  \n",
      "9081  0.033345 -0.034583  0.040446  0.080396  -9.740031  \n",
      "9082  0.040698 -0.050374  0.068789  0.413733  -9.706722  \n",
      "9083  0.035931 -0.040919  0.055936  0.190352  -9.772143  \n",
      "9084  0.078847 -0.044663  0.056585 -0.458672 -10.058490  \n",
      "9085  0.077378 -0.042245  0.127937 -0.284427  -9.989185  \n",
      "\n",
      "[9086 rows x 13 columns]\n"
     ]
    }
   ],
   "source": [
    "m3_fault5 = pd.merge_asof(att_m3_fault5, imu_2_m3_fault5, on=\"TimeUS\",  tolerance= 100000)\n",
    "print(m3_fault5)"
   ]
  },
  {
   "cell_type": "code",
   "execution_count": 10,
   "metadata": {},
   "outputs": [
    {
     "name": "stdout",
     "output_type": "stream",
     "text": [
      "        TimeUS   RPM  Curr  DesRoll  Roll  DesPitch  Pitch  DesYaw   Yaw  \\\n",
      "0    204246138  1822  4.04     0.00  0.94      0.00  -0.72    2.49  2.56   \n",
      "1    204343994  3566  5.80     0.00  1.15      0.00  -0.71    2.49  2.67   \n",
      "2    204455356  5728  5.14     0.00  2.07      0.00  -0.05    2.49  3.33   \n",
      "3    204557852  6516  5.19     0.00  2.73      0.00   0.60    2.49  4.49   \n",
      "4    204670131  6663  5.22     0.00  2.72      0.00   0.74    2.49  6.18   \n",
      "..         ...   ...   ...      ...   ...       ...    ...     ...   ...   \n",
      "849  303522373  5767  3.54     3.88  0.38      1.10   0.93    1.69  1.42   \n",
      "850  303629908  5695  3.45     4.07  1.67      0.99   0.62    1.68  1.92   \n",
      "851  303735258  5923  3.26     3.94  2.26      1.04  -0.11    1.68  2.18   \n",
      "852  303851161  5701  3.41     3.32  1.65      1.12  -0.37    1.69  2.25   \n",
      "853  303953677  5714  3.08     2.79  1.15      1.39  -0.34    1.70  2.10   \n",
      "\n",
      "         GyrX      GyrY      GyrZ      AccX      AccY       AccZ  \n",
      "0    0.023852  0.135248  0.029906 -0.393868  0.154902 -10.320090  \n",
      "1    0.102761  0.108954  0.047417 -0.045138  0.346679 -11.464970  \n",
      "2    0.130098  0.129714  0.142132  0.082810  0.132142 -13.211340  \n",
      "3    0.080578  0.139840  0.224721  0.279654  0.759448 -13.175120  \n",
      "4   -0.050080 -0.037865  0.250522  0.202228  0.356462 -13.294140  \n",
      "..        ...       ...       ...       ...       ...        ...  \n",
      "849  0.240851  0.055075  0.071864 -0.152121  0.109346  -9.854959  \n",
      "850  0.161805 -0.089659  0.087443  0.142106 -0.098379  -9.780240  \n",
      "851 -0.015673 -0.109574  0.046804 -0.064248 -0.101938  -9.249546  \n",
      "852 -0.091388  0.014279 -0.012344  0.038993  0.204278  -9.396237  \n",
      "853 -0.058657  0.089155 -0.029923  0.085853  0.057957  -9.867437  \n",
      "\n",
      "[854 rows x 15 columns]\n"
     ]
    }
   ],
   "source": [
    "m3_fault5 = pd.merge_asof(esc_0_m3_fault5, m3_fault5, on=\"TimeUS\",  tolerance= 100000)\n",
    "print(m3_fault5)"
   ]
  },
  {
   "cell_type": "code",
   "execution_count": 11,
   "metadata": {},
   "outputs": [
    {
     "name": "stdout",
     "output_type": "stream",
     "text": [
      "       TimeUS   RPM  Curr  DesRoll  Roll  DesPitch  Pitch  DesYaw   Yaw  \\\n",
      "0           0  1822  4.04     0.00  0.94      0.00  -0.72    2.49  2.56   \n",
      "1       97856  3566  5.80     0.00  1.15      0.00  -0.71    2.49  2.67   \n",
      "2      209218  5728  5.14     0.00  2.07      0.00  -0.05    2.49  3.33   \n",
      "3      311714  6516  5.19     0.00  2.73      0.00   0.60    2.49  4.49   \n",
      "4      423993  6663  5.22     0.00  2.72      0.00   0.74    2.49  6.18   \n",
      "..        ...   ...   ...      ...   ...       ...    ...     ...   ...   \n",
      "849  99276235  5767  3.54     3.88  0.38      1.10   0.93    1.69  1.42   \n",
      "850  99383770  5695  3.45     4.07  1.67      0.99   0.62    1.68  1.92   \n",
      "851  99489120  5923  3.26     3.94  2.26      1.04  -0.11    1.68  2.18   \n",
      "852  99605023  5701  3.41     3.32  1.65      1.12  -0.37    1.69  2.25   \n",
      "853  99707539  5714  3.08     2.79  1.15      1.39  -0.34    1.70  2.10   \n",
      "\n",
      "         GyrX      GyrY      GyrZ      AccX      AccY       AccZ  Guasto  \n",
      "0    0.023852  0.135248  0.029906 -0.393868  0.154902 -10.320090       1  \n",
      "1    0.102761  0.108954  0.047417 -0.045138  0.346679 -11.464970       1  \n",
      "2    0.130098  0.129714  0.142132  0.082810  0.132142 -13.211340       1  \n",
      "3    0.080578  0.139840  0.224721  0.279654  0.759448 -13.175120       1  \n",
      "4   -0.050080 -0.037865  0.250522  0.202228  0.356462 -13.294140       1  \n",
      "..        ...       ...       ...       ...       ...        ...     ...  \n",
      "849  0.240851  0.055075  0.071864 -0.152121  0.109346  -9.854959       1  \n",
      "850  0.161805 -0.089659  0.087443  0.142106 -0.098379  -9.780240       1  \n",
      "851 -0.015673 -0.109574  0.046804 -0.064248 -0.101938  -9.249546       1  \n",
      "852 -0.091388  0.014279 -0.012344  0.038993  0.204278  -9.396237       1  \n",
      "853 -0.058657  0.089155 -0.029923  0.085853  0.057957  -9.867437       1  \n",
      "\n",
      "[854 rows x 16 columns]\n"
     ]
    }
   ],
   "source": [
    "m3_fault5[\"TimeUS\"] = m3_fault5[\"TimeUS\"] - m3_fault5.iloc[0][\"TimeUS\"]\n",
    "m3_fault5[\"TimeUS\"] = m3_fault5[\"TimeUS\"].astype(int)\n",
    "m3_fault5[\"Guasto\"] = 1\n",
    "print(m3_fault5)"
   ]
  },
  {
   "cell_type": "code",
   "execution_count": 12,
   "metadata": {},
   "outputs": [
    {
     "name": "stdout",
     "output_type": "stream",
     "text": [
      "d:\\GitHub\\ProgettoManutenzionePreventiva\\M3\\FAULT_M3_5\n"
     ]
    }
   ],
   "source": [
    "path_file = path_file.replace(r\"m3\\FAULT_m3_5\", \"\")\n",
    "os.chdir(path_file)\n",
    "m3_fault5.to_csv('m3_fault5.csv', index=False)\n",
    "print(path_file)"
   ]
  }
 ],
 "metadata": {
  "kernelspec": {
   "display_name": "Python 3",
   "language": "python",
   "name": "python3"
  },
  "language_info": {
   "codemirror_mode": {
    "name": "ipython",
    "version": 3
   },
   "file_extension": ".py",
   "mimetype": "text/x-python",
   "name": "python",
   "nbconvert_exporter": "python",
   "pygments_lexer": "ipython3",
   "version": "3.11.0"
  },
  "orig_nbformat": 4,
  "vscode": {
   "interpreter": {
    "hash": "3b03d3ad6b1336e6e4949d619e4badd72fec28959454a0e0d6a04b545beba08a"
   }
  }
 },
 "nbformat": 4,
 "nbformat_minor": 2
}
