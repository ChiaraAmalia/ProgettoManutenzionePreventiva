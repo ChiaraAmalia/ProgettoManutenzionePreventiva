{
 "cells": [
  {
   "attachments": {},
   "cell_type": "markdown",
   "metadata": {},
   "source": [
    "IMPORTAZIONE LIBRERIE"
   ]
  },
  {
   "cell_type": "code",
   "execution_count": 1,
   "metadata": {},
   "outputs": [],
   "source": [
    "import os\n",
    "import pandas as pd\n",
    "import matplotlib.pyplot as plt\n",
    "import numpy as np"
   ]
  },
  {
   "attachments": {},
   "cell_type": "markdown",
   "metadata": {},
   "source": [
    "CAMBIO PATH PER ANALISI RISPETTO AL LOG DI VOLO CONSIDERATO"
   ]
  },
  {
   "cell_type": "code",
   "execution_count": 2,
   "metadata": {},
   "outputs": [
    {
     "name": "stdout",
     "output_type": "stream",
     "text": [
      "c:\\Users\\chiar\\OneDrive\\Desktop\\MantenzionePreventiva\\ProgettoManutenzionePreventiva\\M5\\FAULT_M5_10\n"
     ]
    }
   ],
   "source": [
    "path_file = os.path.abspath(os.getcwd())\n",
    "print(path_file)\n",
    "os.chdir(path_file)"
   ]
  },
  {
   "attachments": {},
   "cell_type": "markdown",
   "metadata": {},
   "source": [
    "VOLO M5 FAULT 10%"
   ]
  },
  {
   "cell_type": "code",
   "execution_count": 3,
   "metadata": {},
   "outputs": [
    {
     "data": {
      "text/html": [
       "<div>\n",
       "<style scoped>\n",
       "    .dataframe tbody tr th:only-of-type {\n",
       "        vertical-align: middle;\n",
       "    }\n",
       "\n",
       "    .dataframe tbody tr th {\n",
       "        vertical-align: top;\n",
       "    }\n",
       "\n",
       "    .dataframe thead th {\n",
       "        text-align: right;\n",
       "    }\n",
       "</style>\n",
       "<table border=\"1\" class=\"dataframe\">\n",
       "  <thead>\n",
       "    <tr style=\"text-align: right;\">\n",
       "      <th></th>\n",
       "      <th>TimeUS</th>\n",
       "      <th>C9</th>\n",
       "      <th>C10</th>\n",
       "      <th>C11</th>\n",
       "      <th>C12</th>\n",
       "      <th>C13</th>\n",
       "      <th>C14</th>\n",
       "    </tr>\n",
       "  </thead>\n",
       "  <tbody>\n",
       "    <tr>\n",
       "      <th>308</th>\n",
       "      <td>72731556</td>\n",
       "      <td>1415</td>\n",
       "      <td>1540</td>\n",
       "      <td>1494</td>\n",
       "      <td>1466</td>\n",
       "      <td>1428</td>\n",
       "      <td>1529</td>\n",
       "    </tr>\n",
       "    <tr>\n",
       "      <th>310</th>\n",
       "      <td>72752252</td>\n",
       "      <td>1524</td>\n",
       "      <td>1471</td>\n",
       "      <td>1426</td>\n",
       "      <td>1562</td>\n",
       "      <td>1454</td>\n",
       "      <td>1539</td>\n",
       "    </tr>\n",
       "    <tr>\n",
       "      <th>311</th>\n",
       "      <td>72762572</td>\n",
       "      <td>1495</td>\n",
       "      <td>1518</td>\n",
       "      <td>1476</td>\n",
       "      <td>1535</td>\n",
       "      <td>1461</td>\n",
       "      <td>1549</td>\n",
       "    </tr>\n",
       "    <tr>\n",
       "      <th>312</th>\n",
       "      <td>72772913</td>\n",
       "      <td>1513</td>\n",
       "      <td>1517</td>\n",
       "      <td>1474</td>\n",
       "      <td>1554</td>\n",
       "      <td>1468</td>\n",
       "      <td>1559</td>\n",
       "    </tr>\n",
       "    <tr>\n",
       "      <th>313</th>\n",
       "      <td>72785597</td>\n",
       "      <td>1630</td>\n",
       "      <td>1407</td>\n",
       "      <td>1535</td>\n",
       "      <td>1521</td>\n",
       "      <td>1632</td>\n",
       "      <td>1403</td>\n",
       "    </tr>\n",
       "    <tr>\n",
       "      <th>...</th>\n",
       "      <td>...</td>\n",
       "      <td>...</td>\n",
       "      <td>...</td>\n",
       "      <td>...</td>\n",
       "      <td>...</td>\n",
       "      <td>...</td>\n",
       "      <td>...</td>\n",
       "    </tr>\n",
       "    <tr>\n",
       "      <th>8812</th>\n",
       "      <td>166560430</td>\n",
       "      <td>1481</td>\n",
       "      <td>1468</td>\n",
       "      <td>1533</td>\n",
       "      <td>1409</td>\n",
       "      <td>1435</td>\n",
       "      <td>1511</td>\n",
       "    </tr>\n",
       "    <tr>\n",
       "      <th>8814</th>\n",
       "      <td>166580788</td>\n",
       "      <td>1488</td>\n",
       "      <td>1450</td>\n",
       "      <td>1512</td>\n",
       "      <td>1422</td>\n",
       "      <td>1417</td>\n",
       "      <td>1517</td>\n",
       "    </tr>\n",
       "    <tr>\n",
       "      <th>8824</th>\n",
       "      <td>166687088</td>\n",
       "      <td>1516</td>\n",
       "      <td>1404</td>\n",
       "      <td>1496</td>\n",
       "      <td>1427</td>\n",
       "      <td>1417</td>\n",
       "      <td>1505</td>\n",
       "    </tr>\n",
       "    <tr>\n",
       "      <th>8825</th>\n",
       "      <td>166697172</td>\n",
       "      <td>1513</td>\n",
       "      <td>1409</td>\n",
       "      <td>1500</td>\n",
       "      <td>1424</td>\n",
       "      <td>1418</td>\n",
       "      <td>1505</td>\n",
       "    </tr>\n",
       "    <tr>\n",
       "      <th>8826</th>\n",
       "      <td>166708055</td>\n",
       "      <td>1513</td>\n",
       "      <td>1411</td>\n",
       "      <td>1498</td>\n",
       "      <td>1428</td>\n",
       "      <td>1415</td>\n",
       "      <td>1510</td>\n",
       "    </tr>\n",
       "  </tbody>\n",
       "</table>\n",
       "<p>5802 rows × 7 columns</p>\n",
       "</div>"
      ],
      "text/plain": [
       "         TimeUS    C9   C10   C11   C12   C13   C14\n",
       "308    72731556  1415  1540  1494  1466  1428  1529\n",
       "310    72752252  1524  1471  1426  1562  1454  1539\n",
       "311    72762572  1495  1518  1476  1535  1461  1549\n",
       "312    72772913  1513  1517  1474  1554  1468  1559\n",
       "313    72785597  1630  1407  1535  1521  1632  1403\n",
       "...         ...   ...   ...   ...   ...   ...   ...\n",
       "8812  166560430  1481  1468  1533  1409  1435  1511\n",
       "8814  166580788  1488  1450  1512  1422  1417  1517\n",
       "8824  166687088  1516  1404  1496  1427  1417  1505\n",
       "8825  166697172  1513  1409  1500  1424  1418  1505\n",
       "8826  166708055  1513  1411  1498  1428  1415  1510\n",
       "\n",
       "[5802 rows x 7 columns]"
      ]
     },
     "metadata": {},
     "output_type": "display_data"
    }
   ],
   "source": [
    "rcou_m5_fault10 = pd.read_csv(\"RCOU.csv\")\n",
    "rcou_m5_fault10 = rcou_m5_fault10.drop(['LineNo','C1', 'C2', 'C3', 'C4', 'C5', 'C6', 'C7', 'C8'], axis=1)\n",
    "\n",
    "rcou_m5_fault10 = rcou_m5_fault10[((rcou_m5_fault10['C9'] >= 1400) & (rcou_m5_fault10['C10'] >= 1400) & (rcou_m5_fault10['C11'] >= 1400) & (rcou_m5_fault10['C12'] >= 1400) & (rcou_m5_fault10['C13'] >= 1400) & (rcou_m5_fault10['C14']>= 1400))]\n",
    "\n",
    "pd.set_option('display.max_rows',700)\n",
    "display(rcou_m5_fault10)"
   ]
  },
  {
   "cell_type": "code",
   "execution_count": 4,
   "metadata": {},
   "outputs": [
    {
     "name": "stdout",
     "output_type": "stream",
     "text": [
      "         TimeUS  Roll  Pitch   Yaw\n",
      "310    72739678 -0.66   0.65  2.33\n",
      "311    72750119 -0.61   0.61  2.33\n",
      "312    72760283 -0.65   0.60  2.34\n",
      "313    72770308 -0.62   0.57  2.37\n",
      "314    72783827 -0.51   0.53  2.37\n",
      "...         ...   ...    ...   ...\n",
      "8823  166662459  2.32  -2.39  4.03\n",
      "8824  166674167  2.39  -2.48  4.06\n",
      "8825  166684744  2.45  -2.54  4.08\n",
      "8826  166695056  2.50  -2.58  4.10\n",
      "8827  166705893  2.53  -2.64  4.12\n",
      "\n",
      "[8518 rows x 4 columns]\n"
     ]
    }
   ],
   "source": [
    "xkf1_m5_fault10 = pd.read_csv(\"XKF1_0.csv\")\n",
    "xkf1_m5_fault10 = xkf1_m5_fault10.drop(['LineNo','C','VN','VE','VD','dPD','PN','PE','PD','GX','GY','GZ','OH'], axis=1)\n",
    "xkf1_m5_fault10 = xkf1_m5_fault10[((xkf1_m5_fault10['TimeUS'] >= 72731556) & (xkf1_m5_fault10['TimeUS'] <= 166708055))]\n",
    "print(xkf1_m5_fault10)"
   ]
  },
  {
   "cell_type": "code",
   "execution_count": 5,
   "metadata": {},
   "outputs": [
    {
     "name": "stdout",
     "output_type": "stream",
     "text": [
      "         TimeUS  DesRoll  Roll  DesPitch  Pitch  DesYaw   Yaw\n",
      "310    72740788    -0.22 -0.66     -0.06   0.65    2.27  2.33\n",
      "311    72751532    -0.23 -0.61     -0.07   0.61    2.27  2.33\n",
      "312    72761836    -0.22 -0.65     -0.07   0.60    2.27  2.34\n",
      "313    72772125    -0.21 -0.62     -0.09   0.57    2.27  2.37\n",
      "314    72784849    -0.23 -0.51     -0.11   0.53    2.27  2.37\n",
      "...         ...      ...   ...       ...    ...     ...   ...\n",
      "8824  166664102     1.16  2.32      0.63  -2.39    5.23  4.03\n",
      "8825  166675696     1.23  2.39      0.61  -2.48    5.23  4.06\n",
      "8826  166686245     1.32  2.45      0.59  -2.54    5.22  4.08\n",
      "8827  166696531     1.40  2.50      0.57  -2.58    5.22  4.10\n",
      "8828  166707176     1.49  2.53      0.55  -2.64    5.22  4.12\n",
      "\n",
      "[8519 rows x 7 columns]\n"
     ]
    }
   ],
   "source": [
    "att_m5_fault10 = pd.read_csv(\"ATT.csv\")\n",
    "att_m5_fault10 = att_m5_fault10.drop(['LineNo','ErrRP', 'ErrYaw', 'AEKF'], axis=1)\n",
    "att_m5_fault10 = att_m5_fault10[((att_m5_fault10['TimeUS'] >= 72731556) & (att_m5_fault10['TimeUS'] <= 166708055))]\n",
    "print(att_m5_fault10)"
   ]
  },
  {
   "cell_type": "code",
   "execution_count": 6,
   "metadata": {},
   "outputs": [
    {
     "name": "stdout",
     "output_type": "stream",
     "text": [
      "         TimeUS  DesRoll  Roll  DesPitch  Pitch  DesYaw   Yaw\n",
      "0      72740788    -0.22 -0.66     -0.06   0.65    2.27  2.33\n",
      "1      72751532    -0.23 -0.61     -0.07   0.61    2.27  2.33\n",
      "2      72761836    -0.22 -0.65     -0.07   0.60    2.27  2.34\n",
      "3      72772125    -0.21 -0.62     -0.09   0.57    2.27  2.37\n",
      "4      72784849    -0.23 -0.51     -0.11   0.53    2.27  2.37\n",
      "...         ...      ...   ...       ...    ...     ...   ...\n",
      "8514  166664102     1.16  2.32      0.63  -2.39    5.23  4.03\n",
      "8515  166675696     1.23  2.39      0.61  -2.48    5.23  4.06\n",
      "8516  166686245     1.32  2.45      0.59  -2.54    5.22  4.08\n",
      "8517  166696531     1.40  2.50      0.57  -2.58    5.22  4.10\n",
      "8518  166707176     1.49  2.53      0.55  -2.64    5.22  4.12\n",
      "\n",
      "[8519 rows x 7 columns]\n"
     ]
    }
   ],
   "source": [
    "att_m5_fault10 = pd.merge_asof(att_m5_fault10,xkf1_m5_fault10, on=\"TimeUS\", by=[\"Roll\",\"Pitch\",\"Yaw\"], tolerance=100000)\n",
    "print(att_m5_fault10)"
   ]
  },
  {
   "cell_type": "code",
   "execution_count": 7,
   "metadata": {},
   "outputs": [
    {
     "name": "stdout",
     "output_type": "stream",
     "text": [
      "        TimeUS   RPM  Curr\n",
      "25    72738524  3871  3.43\n",
      "26    72852812  4784  4.11\n",
      "27    72958256  5629  4.51\n",
      "28    73064075  6031  3.76\n",
      "29    73178795  6243  3.52\n",
      "..         ...   ...   ...\n",
      "805  166146476  5051  2.45\n",
      "806  166258232  5167  2.33\n",
      "807  166369912  5123  2.39\n",
      "808  166585572  5219  1.89\n",
      "809  166693906  5004  2.04\n",
      "\n",
      "[785 rows x 3 columns]\n"
     ]
    }
   ],
   "source": [
    "esc_4_m5_fault10 = pd.read_csv(\"ESC_4.csv\")\n",
    "esc_4_m5_fault10 = esc_4_m5_fault10.drop(['LineNo','Instance', 'RawRPM', 'Volt', 'Temp', 'CTot', 'MotTemp', 'Err'], axis=1)\n",
    "esc_4_m5_fault10 = esc_4_m5_fault10[((esc_4_m5_fault10['TimeUS'] >= 72731556) & (esc_4_m5_fault10['TimeUS'] <= 166708055))]\n",
    "print(esc_4_m5_fault10)"
   ]
  },
  {
   "cell_type": "code",
   "execution_count": 8,
   "metadata": {},
   "outputs": [
    {
     "name": "stdout",
     "output_type": "stream",
     "text": [
      "          TimeUS      GyrX      GyrY      GyrZ      AccX      AccY       AccZ\n",
      "1220    72733710  0.083843 -0.162830 -0.020182 -0.014116  0.469569  -9.803542\n",
      "1221    72735559  0.075746 -0.020622 -0.011820  0.025653  0.494714 -10.240830\n",
      "1222    72738257  0.034997  0.151928  0.008776  0.084049  0.456273 -10.297000\n",
      "1223    72740679  0.003741  0.072724  0.010015  0.144777  0.283807 -10.053230\n",
      "1224    72744231 -0.037562 -0.080115 -0.006216  0.134844  0.187211 -10.055430\n",
      "...          ...       ...       ...       ...       ...       ...        ...\n",
      "33580  166696210  0.099613 -0.053620  0.038292 -0.420899 -0.569941  -9.397790\n",
      "33581  166699868  0.129239 -0.143168  0.020399 -0.483720 -0.721605  -9.359510\n",
      "33582  166701893  0.016600 -0.127083  0.028861 -0.537806 -0.754053  -9.493744\n",
      "33583  166704997 -0.074507 -0.016037  0.054896 -0.576247 -0.765860  -9.600388\n",
      "33584  166707015  0.025827 -0.012461  0.053776 -0.638200 -0.865410  -9.554013\n",
      "\n",
      "[32365 rows x 7 columns]\n"
     ]
    }
   ],
   "source": [
    "imu_2_m5_fault10 = pd.read_csv(\"IMU_2.csv\")\n",
    "imu_2_m5_fault10 = imu_2_m5_fault10.drop(['LineNo','I', 'EG', 'EA', 'T', 'GH', 'AH', 'GHz', 'AHz'], axis=1)\n",
    "imu_2_m5_fault10 = imu_2_m5_fault10[((imu_2_m5_fault10['TimeUS'] >= 72731556) & (imu_2_m5_fault10['TimeUS'] <= 166708055))]\n",
    "print(imu_2_m5_fault10)"
   ]
  },
  {
   "cell_type": "code",
   "execution_count": 9,
   "metadata": {},
   "outputs": [
    {
     "name": "stdout",
     "output_type": "stream",
     "text": [
      "         TimeUS  DesRoll  Roll  DesPitch  Pitch  DesYaw   Yaw      GyrX  \\\n",
      "0      72740788    -0.22 -0.66     -0.06   0.65    2.27  2.33  0.003741   \n",
      "1      72751532    -0.23 -0.61     -0.07   0.61    2.27  2.33  0.075340   \n",
      "2      72761836    -0.22 -0.65     -0.07   0.60    2.27  2.34  0.158934   \n",
      "3      72772125    -0.21 -0.62     -0.09   0.57    2.27  2.37  0.050377   \n",
      "4      72784849    -0.23 -0.51     -0.11   0.53    2.27  2.37  0.260535   \n",
      "...         ...      ...   ...       ...    ...     ...   ...       ...   \n",
      "8514  166664102     1.16  2.32      0.63  -2.39    5.23  4.03 -0.041997   \n",
      "8515  166675696     1.23  2.39      0.61  -2.48    5.23  4.06  0.000253   \n",
      "8516  166686245     1.32  2.45      0.59  -2.54    5.22  4.08  0.084218   \n",
      "8517  166696531     1.40  2.50      0.57  -2.58    5.22  4.10  0.099613   \n",
      "8518  166707176     1.49  2.53      0.55  -2.64    5.22  4.12  0.025827   \n",
      "\n",
      "          GyrY      GyrZ      AccX      AccY       AccZ  \n",
      "0     0.072724  0.010015  0.144777  0.283807 -10.053230  \n",
      "1     0.036510  0.021427  0.040573  0.028069 -10.212230  \n",
      "2    -0.081062  0.030181 -0.238866  0.155539  -9.857450  \n",
      "3     0.025764  0.066659 -0.239531  0.869886  -9.562090  \n",
      "4    -0.123677  0.002434  0.044054  0.826018  -9.765582  \n",
      "...        ...       ...       ...       ...        ...  \n",
      "8514  0.034846  0.072886 -0.407002 -0.770032  -9.587071  \n",
      "8515  0.049678  0.081076 -0.532390 -0.585388  -9.380608  \n",
      "8516 -0.018792  0.059280 -0.478489 -0.391085  -9.497887  \n",
      "8517 -0.053620  0.038292 -0.420899 -0.569941  -9.397790  \n",
      "8518 -0.012461  0.053776 -0.638200 -0.865410  -9.554013  \n",
      "\n",
      "[8519 rows x 13 columns]\n"
     ]
    }
   ],
   "source": [
    "m5_fault10 = pd.merge_asof(att_m5_fault10, imu_2_m5_fault10, on=\"TimeUS\",  tolerance= 100000)\n",
    "print(m5_fault10)"
   ]
  },
  {
   "cell_type": "code",
   "execution_count": 10,
   "metadata": {},
   "outputs": [
    {
     "name": "stdout",
     "output_type": "stream",
     "text": [
      "        TimeUS   RPM  Curr  DesRoll  Roll  DesPitch  Pitch  DesYaw   Yaw  \\\n",
      "0     72738524  3871  3.43      NaN   NaN       NaN    NaN     NaN   NaN   \n",
      "1     72852812  4784  4.11    -0.40 -0.12     -0.20   0.69    2.27  2.61   \n",
      "2     72958256  5629  4.51    -0.65  0.71     -0.41   0.35    2.27  3.36   \n",
      "3     73064075  6031  3.76    -1.33  1.87     -0.68  -0.41    2.27  4.49   \n",
      "4     73178795  6243  3.52    -2.35  1.89     -0.91  -1.09    2.28  6.05   \n",
      "..         ...   ...   ...      ...   ...       ...    ...     ...   ...   \n",
      "780  166146476  5051  2.45    -0.03 -0.95     -0.11   0.02    5.22  3.49   \n",
      "781  166258232  5167  2.33    -0.05 -1.40     -0.13  -0.57    5.22  3.49   \n",
      "782  166369912  5123  2.39     0.10 -0.43      0.09  -1.10    5.22  3.56   \n",
      "783  166585572  5219  1.89     0.52  2.28      0.69  -2.24    5.23  3.68   \n",
      "784  166693906  5004  2.04     1.32  2.45      0.59  -2.54    5.22  4.08   \n",
      "\n",
      "         GyrX      GyrY      GyrZ      AccX      AccY       AccZ  \n",
      "0         NaN       NaN       NaN       NaN       NaN        NaN  \n",
      "1    0.074551  0.063259  0.095064 -0.137832  0.237518 -10.994610  \n",
      "2    0.218656 -0.129902  0.170371 -0.034587  0.229981 -12.301460  \n",
      "3    0.146094 -0.071869  0.223000 -0.378095  0.460915 -12.891200  \n",
      "4   -0.114788 -0.034040  0.247971 -0.257665  0.233393 -12.304880  \n",
      "..        ...       ...       ...       ...       ...        ...  \n",
      "780  0.008654 -0.148203  0.004456  0.016289 -0.183092  -9.900476  \n",
      "781  0.081859 -0.185709  0.013419 -0.094492  0.299551 -10.087560  \n",
      "782  0.194088  0.067189  0.085926 -0.169882  0.107887 -10.286590  \n",
      "783  0.055181 -0.013598  0.096720 -0.317471 -0.509881  -9.985931  \n",
      "784  0.084218 -0.018792  0.059280 -0.478489 -0.391085  -9.497887  \n",
      "\n",
      "[785 rows x 15 columns]\n"
     ]
    }
   ],
   "source": [
    "m5_fault10 = pd.merge_asof(esc_4_m5_fault10, m5_fault10, on=\"TimeUS\",  tolerance= 100000)\n",
    "print(m5_fault10)"
   ]
  },
  {
   "cell_type": "code",
   "execution_count": 11,
   "metadata": {},
   "outputs": [
    {
     "name": "stdout",
     "output_type": "stream",
     "text": [
      "       TimeUS   RPM  Curr  DesRoll  Roll  DesPitch  Pitch  DesYaw   Yaw  \\\n",
      "0           0  3871  3.43      NaN   NaN       NaN    NaN     NaN   NaN   \n",
      "1      114288  4784  4.11    -0.40 -0.12     -0.20   0.69    2.27  2.61   \n",
      "2      219732  5629  4.51    -0.65  0.71     -0.41   0.35    2.27  3.36   \n",
      "3      325551  6031  3.76    -1.33  1.87     -0.68  -0.41    2.27  4.49   \n",
      "4      440271  6243  3.52    -2.35  1.89     -0.91  -1.09    2.28  6.05   \n",
      "..        ...   ...   ...      ...   ...       ...    ...     ...   ...   \n",
      "780  93407952  5051  2.45    -0.03 -0.95     -0.11   0.02    5.22  3.49   \n",
      "781  93519708  5167  2.33    -0.05 -1.40     -0.13  -0.57    5.22  3.49   \n",
      "782  93631388  5123  2.39     0.10 -0.43      0.09  -1.10    5.22  3.56   \n",
      "783  93847048  5219  1.89     0.52  2.28      0.69  -2.24    5.23  3.68   \n",
      "784  93955382  5004  2.04     1.32  2.45      0.59  -2.54    5.22  4.08   \n",
      "\n",
      "         GyrX      GyrY      GyrZ      AccX      AccY       AccZ  Guasto  \n",
      "0         NaN       NaN       NaN       NaN       NaN        NaN       2  \n",
      "1    0.074551  0.063259  0.095064 -0.137832  0.237518 -10.994610       2  \n",
      "2    0.218656 -0.129902  0.170371 -0.034587  0.229981 -12.301460       2  \n",
      "3    0.146094 -0.071869  0.223000 -0.378095  0.460915 -12.891200       2  \n",
      "4   -0.114788 -0.034040  0.247971 -0.257665  0.233393 -12.304880       2  \n",
      "..        ...       ...       ...       ...       ...        ...     ...  \n",
      "780  0.008654 -0.148203  0.004456  0.016289 -0.183092  -9.900476       2  \n",
      "781  0.081859 -0.185709  0.013419 -0.094492  0.299551 -10.087560       2  \n",
      "782  0.194088  0.067189  0.085926 -0.169882  0.107887 -10.286590       2  \n",
      "783  0.055181 -0.013598  0.096720 -0.317471 -0.509881  -9.985931       2  \n",
      "784  0.084218 -0.018792  0.059280 -0.478489 -0.391085  -9.497887       2  \n",
      "\n",
      "[785 rows x 16 columns]\n"
     ]
    }
   ],
   "source": [
    "m5_fault10[\"TimeUS\"] = m5_fault10[\"TimeUS\"] - m5_fault10.iloc[0][\"TimeUS\"]\n",
    "m5_fault10[\"TimeUS\"] = m5_fault10[\"TimeUS\"].astype(int)\n",
    "m5_fault10[\"Guasto\"] = 2\n",
    "print(m5_fault10)"
   ]
  },
  {
   "cell_type": "code",
   "execution_count": 12,
   "metadata": {},
   "outputs": [
    {
     "name": "stdout",
     "output_type": "stream",
     "text": [
      "c:\\Users\\chiar\\OneDrive\\Desktop\\MantenzionePreventiva\\ProgettoManutenzionePreventiva\\\n"
     ]
    }
   ],
   "source": [
    "path_file = path_file.replace(r\"M5\\FAULT_M5_10\", \"\")\n",
    "os.chdir(path_file)\n",
    "m5_fault10.to_csv('m5_fault10.csv', index=False)\n",
    "print(path_file)"
   ]
  }
 ],
 "metadata": {
  "kernelspec": {
   "display_name": "Python 3",
   "language": "python",
   "name": "python3"
  },
  "language_info": {
   "codemirror_mode": {
    "name": "ipython",
    "version": 3
   },
   "file_extension": ".py",
   "mimetype": "text/x-python",
   "name": "python",
   "nbconvert_exporter": "python",
   "pygments_lexer": "ipython3",
   "version": "3.10.2"
  },
  "orig_nbformat": 4,
  "vscode": {
   "interpreter": {
    "hash": "369f2c481f4da34e4445cda3fffd2e751bd1c4d706f27375911949ba6bb62e1c"
   }
  }
 },
 "nbformat": 4,
 "nbformat_minor": 2
}
