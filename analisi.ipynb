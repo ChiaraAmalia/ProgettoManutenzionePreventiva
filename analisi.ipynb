{
 "cells": [
  {
   "attachments": {},
   "cell_type": "markdown",
   "metadata": {},
   "source": [
    "IMPORTAZIONE LIBRERIE"
   ]
  },
  {
   "cell_type": "code",
   "execution_count": 1,
   "metadata": {},
   "outputs": [],
   "source": [
    "import os\n",
    "import pandas as pd\n",
    "import matplotlib.pyplot as plt\n",
    "import numpy as np\n",
    "import glob\n",
    "import array \n",
    "import scipy.signal as signal"
   ]
  },
  {
   "attachments": {},
   "cell_type": "markdown",
   "metadata": {},
   "source": [
    "CAMBIO PATH PER ANALISI RISPETTO AL LOG DI VOLO CONSIDERATO"
   ]
  },
  {
   "cell_type": "code",
   "execution_count": 2,
   "metadata": {},
   "outputs": [
    {
     "name": "stdout",
     "output_type": "stream",
     "text": [
      "c:\\Users\\chiar\\OneDrive\\Desktop\\MantenzionePreventiva\\ProgettoManutenzionePreventiva\n"
     ]
    }
   ],
   "source": [
    "path_file = os.path.abspath(os.getcwd())\n",
    "print(path_file)\n",
    "os.chdir(path_file)"
   ]
  },
  {
   "attachments": {},
   "cell_type": "markdown",
   "metadata": {},
   "source": [
    "ARRAY CHE CONTERRA' I DATAFRAME DI CIASCUN VOLO (PER UN TOTALE DI 18)"
   ]
  },
  {
   "cell_type": "code",
   "execution_count": 3,
   "metadata": {},
   "outputs": [
    {
     "name": "stderr",
     "output_type": "stream",
     "text": [
      "C:\\Users\\chiar\\AppData\\Local\\Temp\\ipykernel_33876\\1447394833.py:12: FutureWarning: The frame.append method is deprecated and will be removed from pandas in a future version. Use pandas.concat instead.\n",
      "  df_1 = df_1.append(df,ignore_index=True)\n",
      "C:\\Users\\chiar\\AppData\\Local\\Temp\\ipykernel_33876\\1447394833.py:12: FutureWarning: The frame.append method is deprecated and will be removed from pandas in a future version. Use pandas.concat instead.\n",
      "  df_1 = df_1.append(df,ignore_index=True)\n",
      "C:\\Users\\chiar\\AppData\\Local\\Temp\\ipykernel_33876\\1447394833.py:12: FutureWarning: The frame.append method is deprecated and will be removed from pandas in a future version. Use pandas.concat instead.\n",
      "  df_1 = df_1.append(df,ignore_index=True)\n"
     ]
    }
   ],
   "source": [
    "data_path = os.path.join(path_file,'*.csv') #lista di tutti gli elementi di estensione csv nella cartella path\n",
    "csv_list = glob.glob(data_path) #converte data path in un output Unix-like (ls) (*.csv -> lista di elementi con estensione csv)\n",
    "dataframe_collection = []\n",
    "df_1 = pd.DataFrame()\n",
    "\n",
    "# ciclo per scorrere tutti i csv\n",
    "for csv_file in csv_list: # ciclo che scorre i csv nella cartella path\n",
    "    df = pd.read_csv(csv_file) \n",
    "    #df = df.to_numpy()\n",
    "    #df = df.to_records(index=False)\n",
    "    #dataframe_collection.append(df)\n",
    "    df_1 = df_1.append(df,ignore_index=True)\n",
    "    #print(df)\n",
    "\n",
    "# ciclo per scorrere tutti i csv\n",
    "for csv_file in csv_list: # ciclo che scorre i csv nella cartella path\n",
    "    df = pd.read_csv(csv_file) \n",
    "    #df = df.to_numpy()\n",
    "    df = df.to_records(index=False)\n",
    "    dataframe_collection.append(df)\n",
    "\n",
    "#prova = pd.DataFrame(dataframe_collection)\n"
   ]
  },
  {
   "cell_type": "code",
   "execution_count": 4,
   "metadata": {},
   "outputs": [
    {
     "name": "stdout",
     "output_type": "stream",
     "text": [
      "     tempo  <>(GyrX)  var(GyrX)  kurt(GyrX)  RMS(GyrX)  freq1(GyrX)  \\\n",
      "0      0.0 -0.025278   0.017191   -0.117391   0.133346         79.0   \n",
      "1      1.0 -0.025284   0.017142   -0.109234   0.133164        107.0   \n",
      "2      2.0 -0.025410   0.017099   -0.104507   0.133027        110.0   \n",
      "3      3.0 -0.026125   0.017232   -0.127146   0.133661         78.0   \n",
      "4      4.0 -0.026810   0.017350   -0.150134   0.134237         81.0   \n",
      "..     ...       ...        ...         ...        ...          ...   \n",
      "231   42.0 -0.043520   0.019239   -0.849001   0.145203         85.0   \n",
      "232   43.0 -0.043461   0.019191   -0.843118   0.145022         81.0   \n",
      "233   44.0 -0.043518   0.019144   -0.838543   0.144876         87.0   \n",
      "234   45.0 -0.043571   0.019096   -0.833882   0.144730         79.0   \n",
      "235   46.0 -0.043499   0.019050   -0.828013   0.144549         79.0   \n",
      "\n",
      "     freq2(GyrX)  amp1(GyrX)  amp2(GyrX)  <>(GyrY)  ...  amp2(RPM(ESC_5))  \\\n",
      "0           76.0    3.609819    3.564965 -0.021368  ...       5781.210237   \n",
      "1           87.0    2.692896    2.653739 -0.020985  ...       5813.733886   \n",
      "2           92.0    2.793322    2.182012 -0.020225  ...       5810.014592   \n",
      "3           75.0    2.853510    2.746864 -0.019520  ...       5771.977143   \n",
      "4           82.0    3.404802    2.920552 -0.019146  ...       5604.258678   \n",
      "..           ...         ...         ...       ...  ...               ...   \n",
      "231         63.0   11.112200    2.642618  0.014026  ...       8099.535417   \n",
      "232         79.0   11.313760    2.619211  0.014008  ...       7500.850669   \n",
      "233         85.0   11.462224    2.765165  0.014025  ...       6852.476003   \n",
      "234         77.0   11.604912    2.903709  0.014037  ...       6797.900567   \n",
      "235         77.0   11.789803    3.081541  0.014009  ...       7333.051157   \n",
      "\n",
      "     <>(Curr(ESC_5))  var(Curr(ESC_5))  kurt(Curr(ESC_5))  RMS(Curr(ESC_5))  \\\n",
      "0           3.194017          0.188088          -1.070037          3.223243   \n",
      "1           3.196250          0.189307          -1.066487          3.225645   \n",
      "2           3.198470          0.190509          -1.063391          3.228031   \n",
      "3           3.200678          0.191695          -1.060714          3.230401   \n",
      "4           3.202873          0.192864          -1.058426          3.232757   \n",
      "..               ...               ...                ...               ...   \n",
      "231         3.267074          0.530829          -0.959800          3.347126   \n",
      "232         3.268376          0.530146          -0.953719          3.348295   \n",
      "233         3.269671          0.529464          -0.947621          3.349458   \n",
      "234         3.270960          0.528781          -0.941504          3.350615   \n",
      "235         3.272242          0.528098          -0.935370          3.351766   \n",
      "\n",
      "     freq1(Curr(ESC_5))  freq2(Curr(ESC_5))  amp1(Curr(ESC_5))  \\\n",
      "0                 119.0               118.0          12.541374   \n",
      "1                 126.0               125.0          12.851213   \n",
      "2                 145.0               144.0          13.144419   \n",
      "3                 120.0               119.0          13.420816   \n",
      "4                 131.0               130.0          13.680267   \n",
      "..                  ...                 ...                ...   \n",
      "231               111.0               108.0          39.737446   \n",
      "232               113.0               110.0          39.177015   \n",
      "233               113.0               110.0          38.600632   \n",
      "234               115.0               112.0          38.008810   \n",
      "235               115.0               112.0          37.402062   \n",
      "\n",
      "     amp2(Curr(ESC_5))  Guasto  \n",
      "0            10.763319       2  \n",
      "1            11.042833       2  \n",
      "2            11.282863       2  \n",
      "3            11.480551       2  \n",
      "4            11.633432       2  \n",
      "..                 ...     ...  \n",
      "231           8.342892       0  \n",
      "232           8.364888       0  \n",
      "233           8.354766       0  \n",
      "234           8.319205       0  \n",
      "235           8.264445       0  \n",
      "\n",
      "[236 rows x 170 columns]\n"
     ]
    }
   ],
   "source": [
    "print(df_1)"
   ]
  },
  {
   "cell_type": "code",
   "execution_count": 5,
   "metadata": {},
   "outputs": [
    {
     "name": "stdout",
     "output_type": "stream",
     "text": [
      "     <>(GyrX)  var(GyrX)  kurt(GyrX)  RMS(GyrX)  freq1(GyrX)  freq2(GyrX)  \\\n",
      "0   -0.025278   0.017191   -0.117391   0.133346         79.0         76.0   \n",
      "1   -0.025284   0.017142   -0.109234   0.133164        107.0         87.0   \n",
      "2   -0.025410   0.017099   -0.104507   0.133027        110.0         92.0   \n",
      "3   -0.026125   0.017232   -0.127146   0.133661         78.0         75.0   \n",
      "4   -0.026810   0.017350   -0.150134   0.134237         81.0         82.0   \n",
      "..        ...        ...         ...        ...          ...          ...   \n",
      "231 -0.043520   0.019239   -0.849001   0.145203         85.0         63.0   \n",
      "232 -0.043461   0.019191   -0.843118   0.145022         81.0         79.0   \n",
      "233 -0.043518   0.019144   -0.838543   0.144876         87.0         85.0   \n",
      "234 -0.043571   0.019096   -0.833882   0.144730         79.0         77.0   \n",
      "235 -0.043499   0.019050   -0.828013   0.144549         79.0         77.0   \n",
      "\n",
      "     amp1(GyrX)  amp2(GyrX)  <>(GyrY)  var(GyrY)  ...  amp2(RPM(ESC_5))  \\\n",
      "0      3.609819    3.564965 -0.021368   0.027288  ...       5781.210237   \n",
      "1      2.692896    2.653739 -0.020985   0.027262  ...       5813.733886   \n",
      "2      2.793322    2.182012 -0.020225   0.027388  ...       5810.014592   \n",
      "3      2.853510    2.746864 -0.019520   0.027487  ...       5771.977143   \n",
      "4      3.404802    2.920552 -0.019146   0.027459  ...       5604.258678   \n",
      "..          ...         ...       ...        ...  ...               ...   \n",
      "231   11.112200    2.642618  0.014026   0.003298  ...       8099.535417   \n",
      "232   11.313760    2.619211  0.014008   0.003290  ...       7500.850669   \n",
      "233   11.462224    2.765165  0.014025   0.003282  ...       6852.476003   \n",
      "234   11.604912    2.903709  0.014037   0.003273  ...       6797.900567   \n",
      "235   11.789803    3.081541  0.014009   0.003265  ...       7333.051157   \n",
      "\n",
      "     <>(Curr(ESC_5))  var(Curr(ESC_5))  kurt(Curr(ESC_5))  RMS(Curr(ESC_5))  \\\n",
      "0           3.194017          0.188088          -1.070037          3.223243   \n",
      "1           3.196250          0.189307          -1.066487          3.225645   \n",
      "2           3.198470          0.190509          -1.063391          3.228031   \n",
      "3           3.200678          0.191695          -1.060714          3.230401   \n",
      "4           3.202873          0.192864          -1.058426          3.232757   \n",
      "..               ...               ...                ...               ...   \n",
      "231         3.267074          0.530829          -0.959800          3.347126   \n",
      "232         3.268376          0.530146          -0.953719          3.348295   \n",
      "233         3.269671          0.529464          -0.947621          3.349458   \n",
      "234         3.270960          0.528781          -0.941504          3.350615   \n",
      "235         3.272242          0.528098          -0.935370          3.351766   \n",
      "\n",
      "     freq1(Curr(ESC_5))  freq2(Curr(ESC_5))  amp1(Curr(ESC_5))  \\\n",
      "0                 119.0               118.0          12.541374   \n",
      "1                 126.0               125.0          12.851213   \n",
      "2                 145.0               144.0          13.144419   \n",
      "3                 120.0               119.0          13.420816   \n",
      "4                 131.0               130.0          13.680267   \n",
      "..                  ...                 ...                ...   \n",
      "231               111.0               108.0          39.737446   \n",
      "232               113.0               110.0          39.177015   \n",
      "233               113.0               110.0          38.600632   \n",
      "234               115.0               112.0          38.008810   \n",
      "235               115.0               112.0          37.402062   \n",
      "\n",
      "     amp2(Curr(ESC_5))  Guasto  \n",
      "0            10.763319       2  \n",
      "1            11.042833       2  \n",
      "2            11.282863       2  \n",
      "3            11.480551       2  \n",
      "4            11.633432       2  \n",
      "..                 ...     ...  \n",
      "231           8.342892       0  \n",
      "232           8.364888       0  \n",
      "233           8.354766       0  \n",
      "234           8.319205       0  \n",
      "235           8.264445       0  \n",
      "\n",
      "[236 rows x 169 columns]\n"
     ]
    }
   ],
   "source": [
    "df_1 = df_1.drop(['tempo'], axis=1)\n",
    "print(df_1)"
   ]
  },
  {
   "attachments": {},
   "cell_type": "markdown",
   "metadata": {},
   "source": [
    "### Individuazione feature più importanti"
   ]
  },
  {
   "cell_type": "code",
   "execution_count": 6,
   "metadata": {},
   "outputs": [
    {
     "name": "stdout",
     "output_type": "stream",
     "text": [
      "[0.         0.01831873 0.0234745  0.01956076 0.         0.\n",
      " 0.         0.         0.00819054 0.05965548 0.00969837 0.04965548\n",
      " 0.01771419 0.         0.00989622 0.         0.01564106 0.00661046\n",
      " 0.         0.02482825 0.         0.         0.         0.\n",
      " 0.01180946 0.00397909 0.         0.03004825 0.01180946 0.\n",
      " 0.02361892 0.         0.01664475 0.01973633 0.01361531 0.03439808\n",
      " 0.00038507 0.         0.         0.         0.         0.00590473\n",
      " 0.00409527 0.00448148 0.         0.         0.0042271  0.\n",
      " 0.00590473 0.01266575 0.00094834 0.00835858 0.         0.\n",
      " 0.         0.         0.02723988 0.01425076 0.00409527 0.03796863\n",
      " 0.03154214 0.00768165 0.03559109 0.         0.01880234 0.01212544\n",
      " 0.         0.00832172 0.         0.         0.         0.\n",
      " 0.         0.         0.00556833 0.00048893 0.         0.\n",
      " 0.         0.         0.         0.01254948 0.00409527 0.00819054\n",
      " 0.         0.         0.         0.         0.01606164 0.01180946\n",
      " 0.00409527 0.02129662 0.         0.00299237 0.00012932 0.\n",
      " 0.00839875 0.00431633 0.00590473 0.00401182 0.         0.\n",
      " 0.01013183 0.         0.00661046 0.01771419 0.00090675 0.\n",
      " 0.         0.00432966 0.         0.         0.         0.01603295\n",
      " 0.0042271  0.         0.         0.         0.         0.\n",
      " 0.00819054 0.0042271  0.         0.         0.         0.\n",
      " 0.         0.         0.0142271  0.00422645 0.00402286 0.00013109\n",
      " 0.         0.         0.         0.         0.00784241 0.00409527\n",
      " 0.         0.00150665 0.         0.         0.         0.\n",
      " 0.         0.         0.         0.00517535 0.         0.\n",
      " 0.         0.         0.00590473 0.01771419 0.00590473 0.0135685\n",
      " 0.         0.         0.         0.         0.00097358 0.02231533\n",
      " 0.01202576 0.00059941 0.00409527 0.00409527 0.0158029  0.        ]\n"
     ]
    },
    {
     "name": "stderr",
     "output_type": "stream",
     "text": [
      "C:\\Users\\chiar\\AppData\\Local\\Temp\\ipykernel_33876\\2805028417.py:6: DataConversionWarning: A column-vector y was passed when a 1d array was expected. Please change the shape of y to (n_samples,), for example using ravel().\n",
      "  model.fit(X,Y)\n"
     ]
    },
    {
     "data": {
      "image/png": "[encoded data removed]",
      "text/plain": [
       "<Figure size 432x288 with 1 Axes>"
      ]
     },
     "metadata": {
      "needs_background": "light"
     },
     "output_type": "display_data"
    }
   ],
   "source": [
    "X = df_1.iloc[:,:-1]  #independent columns\n",
    "Y = df_1.iloc[:,-1:]    #target column i.e price range\n",
    "from sklearn.ensemble import ExtraTreesClassifier\n",
    "import matplotlib.pyplot as plt\n",
    "model = ExtraTreesClassifier()\n",
    "model.fit(X,Y)\n",
    "print(model.feature_importances_) #use inbuilt class feature_importances of tree based classifiers\n",
    "#plot graph of feature importances for better visualization\n",
    "feat_importances = pd.Series(model.feature_importances_, index=X.columns)\n",
    "feat_importances.nlargest(10).plot(kind='barh')\n",
    "plt.show()"
   ]
  },
  {
   "cell_type": "code",
   "execution_count": 7,
   "metadata": {},
   "outputs": [],
   "source": [
    "# Model libraries\n",
    "from sklearn.linear_model import LogisticRegression\n",
    "from sklearn.neighbors import KNeighborsClassifier\n",
    "from sklearn.svm import SVC, LinearSVC, NuSVC\n",
    "from sklearn.tree import DecisionTreeClassifier\n",
    "from sklearn.ensemble import RandomForestClassifier, AdaBoostClassifier, GradientBoostingClassifier, ExtraTreesClassifier, VotingClassifier\n",
    "from sklearn.neural_network import MLPClassifier\n",
    "from sklearn.discriminant_analysis import LinearDiscriminantAnalysis, QuadraticDiscriminantAnalysis\n",
    "from sklearn.naive_bayes import GaussianNB\n",
    "from sklearn.decomposition import PCA\n",
    "\n",
    "# Testing libraries\n",
    "from sklearn.model_selection import train_test_split, cross_val_score, StratifiedKFold, GridSearchCV, learning_curve\n",
    "from sklearn.metrics import accuracy_score, log_loss, confusion_matrix, classification_report, roc_curve, auc"
   ]
  },
  {
   "cell_type": "code",
   "execution_count": 8,
   "metadata": {},
   "outputs": [
    {
     "name": "stdout",
     "output_type": "stream",
     "text": [
      "No guasto:  47 Guasto 5%:  90 Guasto 10%:  99\n"
     ]
    }
   ],
   "source": [
    "guasto_10 = df_1[df_1['Guasto'] == 2]\n",
    "no_guasto = df_1[df_1['Guasto'] == 0]\n",
    "guasto_5 = df_1[df_1['Guasto'] == 1]\n",
    "\n",
    "print(\"No guasto: \", len(no_guasto), \"Guasto 5%: \", len(guasto_5), \"Guasto 10%: \", len(guasto_10))"
   ]
  },
  {
   "attachments": {},
   "cell_type": "markdown",
   "metadata": {},
   "source": [
    "### Bilanciamento del dataset"
   ]
  },
  {
   "cell_type": "code",
   "execution_count": 9,
   "metadata": {},
   "outputs": [
    {
     "data": {
      "text/plain": [
       "(141, 169)"
      ]
     },
     "execution_count": 9,
     "metadata": {},
     "output_type": "execute_result"
    }
   ],
   "source": [
    "#bilanciamento del dataset con undersampling rispetto al no_guasto\n",
    "balanced_d = pd.concat([no_guasto, guasto_10.sample(len(no_guasto)), guasto_5.sample(len(no_guasto))])\n",
    "x = balanced_d.iloc[:,:-1]\n",
    "y = balanced_d.iloc[:,-1:]\n",
    "balanced_d.shape"
   ]
  },
  {
   "cell_type": "code",
   "execution_count": null,
   "metadata": {},
   "outputs": [],
   "source": [
    "x = df_1.iloc[:,:-1]\n",
    "y = df_1.iloc[:,-1:]"
   ]
  },
  {
   "attachments": {},
   "cell_type": "markdown",
   "metadata": {},
   "source": [
    "### Separazione del dataset in training e test"
   ]
  },
  {
   "cell_type": "code",
   "execution_count": 10,
   "metadata": {},
   "outputs": [
    {
     "name": "stdout",
     "output_type": "stream",
     "text": [
      "(112, 168)\n",
      "(29, 168)\n",
      "(112, 1)\n",
      "(29, 1)\n"
     ]
    }
   ],
   "source": [
    "# Random state\n",
    "rs = 42\n",
    "\n",
    "# Split the data to check which algorithms learn better (later on we can check )\n",
    "x_train, x_test, y_train, y_test = train_test_split(x, y, test_size=0.2, random_state=rs)\n",
    "y_train = y_train.astype(int)\n",
    "y_test = y_test.astype(int)\n",
    "\n",
    "# look at the shape of the data (many problems can arise from wrong shape)\n",
    "print(x_train.shape)\n",
    "print(x_test.shape)\n",
    "print(y_train.shape)\n",
    "print(y_test.shape)"
   ]
  },
  {
   "cell_type": "code",
   "execution_count": 11,
   "metadata": {},
   "outputs": [],
   "source": [
    "# List of classifiers:\n",
    "classifiers = [\n",
    "    LogisticRegression(random_state = rs),\n",
    "    DecisionTreeClassifier(random_state=rs),\n",
    "    RandomForestClassifier(n_estimators = 10, random_state=rs),\n",
    "    GradientBoostingClassifier(random_state= rs),\n",
    "    AdaBoostClassifier(n_estimators=10, random_state= rs),\n",
    "    LinearDiscriminantAnalysis(),\n",
    "    SVC(probability=True)\n",
    "]\n",
    "\n",
    "# List of results that will occure:\n",
    "clf_name = [] # names of the classifiers\n",
    "model_results = pd.DataFrame.copy(y_test) #resulting of prediction from the models\n",
    "\n",
    "kfold = StratifiedKFold(n_splits=5) #cross-validation\n",
    "cv_results = [] # scores from cross validation\n",
    "cv_acc = [] # mean accuracy from cross validation, need to maximize\n",
    "cv_std = [] # standard deviation from cross validation, need to minimise\n",
    "\n",
    "cnfm = [] #confusion matrix\n",
    "clr = [] #classification report\n",
    "roc_auc = [] #roc curve:\n",
    "roc_tpr = []\n",
    "roc_fpr = []"
   ]
  },
  {
   "attachments": {},
   "cell_type": "markdown",
   "metadata": {},
   "source": [
    "### Classificazione"
   ]
  },
  {
   "cell_type": "code",
   "execution_count": 12,
   "metadata": {},
   "outputs": [
    {
     "name": "stdout",
     "output_type": "stream",
     "text": [
      "Accuracy: 1.0 \t ---> LogisticRegression \n",
      "Accuracy: 1.0 \t ---> DecisionTreeClassifier \n",
      "Accuracy: 1.0 \t ---> RandomForestClassifier \n",
      "Accuracy: 1.0 \t ---> GradientBoostingClassifier \n",
      "Accuracy: 1.0 \t ---> AdaBoostClassifier \n",
      "Accuracy: 1.0 \t ---> LinearDiscriminantAnalysis \n",
      "Accuracy: 1.0 \t ---> SVC \n"
     ]
    }
   ],
   "source": [
    "# Training the algorithms and results\n",
    "for clf in classifiers:\n",
    "    name = clf.__class__.__name__\n",
    "    clf_name.append(name)\n",
    "    \n",
    "    #fitting and predictions\n",
    "    model = clf.fit(x_train, y_train.values.ravel())\n",
    "    y_pred = model.predict(x_test)\n",
    "    model_results[name] = y_pred\n",
    "    \n",
    "    #accuracy and log loss\n",
    "    cv_results.append(cross_val_score(clf, x_train, y_train.values.ravel(), scoring = \"accuracy\",cv = kfold))\n",
    "    acc = round(accuracy_score(y_test.values.ravel(), y_pred), 2) #need to maximize\n",
    "    train_pred = clf.predict_proba(x_test)\n",
    "    print(f'Accuracy: {acc} \\t ---> {name} ')\n",
    "    \n",
    "    #confusion matrix, clasification report, roc curve\n",
    "    cnfm.append(confusion_matrix(y_test.values.ravel(), y_pred))\n",
    "    clr.append(classification_report(y_test.values.ravel(), y_pred))\n",
    "    fpr, tpr, thresholds = roc_curve(y_pred, y_test.values.ravel(), pos_label=1)\n",
    "    roc_auc.append(auc(fpr, tpr))\n",
    "    roc_tpr.append(tpr)\n",
    "    roc_fpr.append(fpr)\n",
    "    \n",
    "\n",
    "for i in cv_results:\n",
    "    cv_acc.append(i.mean())\n",
    "    cv_std.append(i.std())"
   ]
  },
  {
   "attachments": {},
   "cell_type": "markdown",
   "metadata": {},
   "source": [
    "### Matrici di confusione"
   ]
  },
  {
   "cell_type": "code",
   "execution_count": 13,
   "metadata": {},
   "outputs": [
    {
     "data": {
      "image/png": "[encoded data removed]",
      "text/plain": [
       "<Figure size 1440x1080 with 14 Axes>"
      ]
     },
     "metadata": {
      "needs_background": "light"
     },
     "output_type": "display_data"
    }
   ],
   "source": [
    "import seaborn as sns\n",
    "# Confusion matrixes (not-normalized confusion matrix)\n",
    "plt.figure(figsize=(20,15))\n",
    "sns.set(font_scale=1.4)\n",
    "for i in range(len(classifiers)):\n",
    "    plt.subplot(3,3,i+1) #adjust this acourding to the number of algorithms\n",
    "    sns.heatmap(cnfm[i], annot=True, fmt=\"d\",cmap=\"Reds\")\n",
    "    plt.subplots_adjust(hspace = 0.5)\n",
    "    plt.xlabel('Predicted')\n",
    "    plt.ylabel('Actual')\n",
    "    plt.title(clf_name[i])"
   ]
  }
 ],
 "metadata": {
  "kernelspec": {
   "display_name": "Python 3",
   "language": "python",
   "name": "python3"
  },
  "language_info": {
   "codemirror_mode": {
    "name": "ipython",
    "version": 3
   },
   "file_extension": ".py",
   "mimetype": "text/x-python",
   "name": "python",
   "nbconvert_exporter": "python",
   "pygments_lexer": "ipython3",
   "version": "3.10.2"
  },
  "orig_nbformat": 4,
  "vscode": {
   "interpreter": {
    "hash": "369f2c481f4da34e4445cda3fffd2e751bd1c4d706f27375911949ba6bb62e1c"
   }
  }
 },
 "nbformat": 4,
 "nbformat_minor": 2
}
