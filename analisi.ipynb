{
 "cells": [
  {
   "attachments": {},
   "cell_type": "markdown",
   "metadata": {},
   "source": [
    "IMPORTAZIONE LIBRERIE"
   ]
  },
  {
   "cell_type": "code",
   "execution_count": 21,
   "metadata": {},
   "outputs": [],
   "source": [
    "import os\n",
    "import pandas as pd\n",
    "import matplotlib.pyplot as plt\n",
    "import numpy as np\n",
    "import glob\n",
    "import array "
   ]
  },
  {
   "attachments": {},
   "cell_type": "markdown",
   "metadata": {},
   "source": [
    "CAMBIO PATH PER ANALISI RISPETTO AL LOG DI VOLO CONSIDERATO"
   ]
  },
  {
   "cell_type": "code",
   "execution_count": 22,
   "metadata": {},
   "outputs": [
    {
     "name": "stdout",
     "output_type": "stream",
     "text": [
      "c:\\Users\\chiar\\OneDrive\\Desktop\\MantenzionePreventiva\\ProgettoManutenzionePreventiva\n"
     ]
    }
   ],
   "source": [
    "path_file = os.path.abspath(os.getcwd())\n",
    "print(path_file)\n",
    "os.chdir(path_file)"
   ]
  },
  {
   "attachments": {},
   "cell_type": "markdown",
   "metadata": {},
   "source": [
    "ARRAY CHE CONTERRA' I DATAFRAME DI CIASCUN VOLO (PER UN TOTALE DI 18)"
   ]
  },
  {
   "cell_type": "code",
   "execution_count": 43,
   "metadata": {},
   "outputs": [
    {
     "name": "stdout",
     "output_type": "stream",
     "text": [
      "[[ 0.00000000e+00  3.89600000e+03  3.19000000e+00 ...  4.88137500e-01\n",
      "  -1.06124400e+01  2.00000000e+00]\n",
      " [ 1.11984000e+05  5.34200000e+03  3.73000000e+00 ...  5.99887600e-01\n",
      "  -1.13988300e+01  2.00000000e+00]\n",
      " [ 2.28418000e+05  5.93100000e+03  3.46000000e+00 ...  1.02595200e+00\n",
      "  -1.16811500e+01  2.00000000e+00]\n",
      " ...\n",
      " [ 1.00541957e+08  5.87000000e+03  2.39000000e+00 ...  3.21156800e-01\n",
      "  -9.62318600e+00  2.00000000e+00]\n",
      " [ 1.00642176e+08  5.71100000e+03  2.88000000e+00 ...  4.59491800e-01\n",
      "  -9.38938500e+00  2.00000000e+00]\n",
      " [ 1.00749220e+08  5.61700000e+03  3.20000000e+00 ...  8.42018500e-01\n",
      "  -1.01131800e+01  2.00000000e+00]]\n",
      "[[ 0.0000000e+00  4.1650000e+03  3.3100000e+00 ... -1.5295030e-01\n",
      "  -1.0025860e+01  1.0000000e+00]\n",
      " [ 2.3185900e+05  4.7400000e+03  4.1000000e+00 ...  2.6914900e-01\n",
      "  -1.1162780e+01  1.0000000e+00]\n",
      " [ 3.3478100e+05  5.7360000e+03  4.0300000e+00 ...  1.1378170e-01\n",
      "  -1.1959560e+01  1.0000000e+00]\n",
      " ...\n",
      " [ 9.1720847e+07  6.1410000e+03  4.0000000e+00 ...  3.9374300e-01\n",
      "  -9.6625910e+00  1.0000000e+00]\n",
      " [ 9.1831490e+07  6.1160000e+03  3.6100000e+00 ...  1.8192940e-02\n",
      "  -9.6438040e+00  1.0000000e+00]\n",
      " [ 9.1940229e+07  6.1680000e+03  3.3900000e+00 ...  5.7838020e-01\n",
      "  -9.7904030e+00  1.0000000e+00]]\n",
      "[[ 0.0000000e+00  4.0970000e+03  2.6500000e+00 ...  2.2919310e-01\n",
      "  -1.0244190e+01  0.0000000e+00]\n",
      " [ 1.1444700e+05  4.6960000e+03  3.3400000e+00 ...  3.2318100e-01\n",
      "  -1.0057490e+01  0.0000000e+00]\n",
      " [ 2.1355500e+05  5.1800000e+03  4.3300000e+00 ...  2.8478340e-01\n",
      "  -1.1432030e+01  0.0000000e+00]\n",
      " ...\n",
      " [ 4.5379184e+07  5.9000000e+03  3.7100000e+00 ...  5.8989050e-01\n",
      "  -9.7108560e+00  0.0000000e+00]\n",
      " [ 4.5492271e+07  5.9160000e+03  3.5100000e+00 ...  3.9597750e-01\n",
      "  -9.9353570e+00  0.0000000e+00]\n",
      " [ 4.5599156e+07  5.9350000e+03  3.1600000e+00 ...  8.7883660e-01\n",
      "  -9.7771340e+00  0.0000000e+00]]\n"
     ]
    }
   ],
   "source": [
    "data_path = os.path.join(path_file,'*.csv') #lista di tutti gli elementi di estensione csv nella cartella path\n",
    "csv_list = glob.glob(data_path) #converte data path in un output Unix-like (ls) (*.csv -> lista di elementi con estensione csv)\n",
    "dataframe_collection = []\n",
    "# Ogni soggetto è identificato dal QR, che viene decodificato ed utilizzato per rinominare le rispettive sottocartelle. \n",
    "for csv_file in csv_list: # ciclo che scorre i csv nella cartella path\n",
    "    df = pd.read_csv(csv_file) \n",
    "    df = df.to_numpy()\n",
    "    dataframe_collection.append(df)\n",
    "    print(df)\n",
    "\n"
   ]
  },
  {
   "cell_type": "code",
   "execution_count": 42,
   "metadata": {},
   "outputs": [
    {
     "ename": "TypeError",
     "evalue": "'method' object is not subscriptable",
     "output_type": "error",
     "traceback": [
      "\u001b[1;31m---------------------------------------------------------------------------\u001b[0m",
      "\u001b[1;31mTypeError\u001b[0m                                 Traceback (most recent call last)",
      "\u001b[1;32mc:\\Users\\chiar\\OneDrive\\Desktop\\MantenzionePreventiva\\ProgettoManutenzionePreventiva\\analisi.ipynb Cell 7\u001b[0m in \u001b[0;36m<cell line: 1>\u001b[1;34m()\u001b[0m\n\u001b[1;32m----> <a href='vscode-notebook-cell:/c%3A/Users/chiar/OneDrive/Desktop/MantenzionePreventiva/ProgettoManutenzionePreventiva/analisi.ipynb#X64sZmlsZQ%3D%3D?line=0'>1</a>\u001b[0m \u001b[39mprint\u001b[39m(dataframe_collection[\u001b[39m0\u001b[39;49m][\u001b[39m0\u001b[39;49m])\n",
      "\u001b[1;31mTypeError\u001b[0m: 'method' object is not subscriptable"
     ]
    }
   ],
   "source": [
    "print(dataframe_collection[0][0])"
   ]
  }
 ],
 "metadata": {
  "kernelspec": {
   "display_name": "Python 3",
   "language": "python",
   "name": "python3"
  },
  "language_info": {
   "codemirror_mode": {
    "name": "ipython",
    "version": 3
   },
   "file_extension": ".py",
   "mimetype": "text/x-python",
   "name": "python",
   "nbconvert_exporter": "python",
   "pygments_lexer": "ipython3",
   "version": "3.10.2"
  },
  "orig_nbformat": 4,
  "vscode": {
   "interpreter": {
    "hash": "369f2c481f4da34e4445cda3fffd2e751bd1c4d706f27375911949ba6bb62e1c"
   }
  }
 },
 "nbformat": 4,
 "nbformat_minor": 2
}
