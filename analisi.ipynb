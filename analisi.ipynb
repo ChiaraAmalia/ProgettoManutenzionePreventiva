{
 "cells": [
  {
   "attachments": {},
   "cell_type": "markdown",
   "metadata": {},
   "source": [
    "IMPORTAZIONE LIBRERIE"
   ]
  },
  {
   "cell_type": "code",
   "execution_count": 12,
   "metadata": {},
   "outputs": [],
   "source": [
    "import os\n",
    "import pandas as pd\n",
    "import matplotlib.pyplot as plt\n",
    "import numpy as np\n",
    "import glob\n",
    "import array \n",
    "import scipy.signal as signal"
   ]
  },
  {
   "attachments": {},
   "cell_type": "markdown",
   "metadata": {},
   "source": [
    "CAMBIO PATH PER ANALISI RISPETTO AL LOG DI VOLO CONSIDERATO"
   ]
  },
  {
   "cell_type": "code",
   "execution_count": 13,
   "metadata": {},
   "outputs": [
    {
     "name": "stdout",
     "output_type": "stream",
     "text": [
      "c:\\Users\\chiar\\OneDrive\\Desktop\\MantenzionePreventiva\\ProgettoManutenzionePreventiva\n"
     ]
    }
   ],
   "source": [
    "path_file = os.path.abspath(os.getcwd())\n",
    "print(path_file)\n",
    "os.chdir(path_file)"
   ]
  },
  {
   "attachments": {},
   "cell_type": "markdown",
   "metadata": {},
   "source": [
    "ARRAY CHE CONTERRA' I DATAFRAME DI CIASCUN VOLO (PER UN TOTALE DI 18)"
   ]
  },
  {
   "cell_type": "code",
   "execution_count": 14,
   "metadata": {},
   "outputs": [
    {
     "name": "stderr",
     "output_type": "stream",
     "text": [
      "C:\\Users\\chiar\\AppData\\Local\\Temp\\ipykernel_14432\\1447394833.py:12: FutureWarning: The frame.append method is deprecated and will be removed from pandas in a future version. Use pandas.concat instead.\n",
      "  df_1 = df_1.append(df,ignore_index=True)\n",
      "C:\\Users\\chiar\\AppData\\Local\\Temp\\ipykernel_14432\\1447394833.py:12: FutureWarning: The frame.append method is deprecated and will be removed from pandas in a future version. Use pandas.concat instead.\n",
      "  df_1 = df_1.append(df,ignore_index=True)\n",
      "C:\\Users\\chiar\\AppData\\Local\\Temp\\ipykernel_14432\\1447394833.py:12: FutureWarning: The frame.append method is deprecated and will be removed from pandas in a future version. Use pandas.concat instead.\n",
      "  df_1 = df_1.append(df,ignore_index=True)\n",
      "C:\\Users\\chiar\\AppData\\Local\\Temp\\ipykernel_14432\\1447394833.py:12: FutureWarning: The frame.append method is deprecated and will be removed from pandas in a future version. Use pandas.concat instead.\n",
      "  df_1 = df_1.append(df,ignore_index=True)\n",
      "C:\\Users\\chiar\\AppData\\Local\\Temp\\ipykernel_14432\\1447394833.py:12: FutureWarning: The frame.append method is deprecated and will be removed from pandas in a future version. Use pandas.concat instead.\n",
      "  df_1 = df_1.append(df,ignore_index=True)\n",
      "C:\\Users\\chiar\\AppData\\Local\\Temp\\ipykernel_14432\\1447394833.py:12: FutureWarning: The frame.append method is deprecated and will be removed from pandas in a future version. Use pandas.concat instead.\n",
      "  df_1 = df_1.append(df,ignore_index=True)\n"
     ]
    }
   ],
   "source": [
    "data_path = os.path.join(path_file,'*.csv') #lista di tutti gli elementi di estensione csv nella cartella path\n",
    "csv_list = glob.glob(data_path) #converte data path in un output Unix-like (ls) (*.csv -> lista di elementi con estensione csv)\n",
    "dataframe_collection = []\n",
    "df_1 = pd.DataFrame()\n",
    "\n",
    "# ciclo per scorrere tutti i csv\n",
    "for csv_file in csv_list: # ciclo che scorre i csv nella cartella path\n",
    "    df = pd.read_csv(csv_file) \n",
    "    #df = df.to_numpy()\n",
    "    #df = df.to_records(index=False)\n",
    "    #dataframe_collection.append(df)\n",
    "    df_1 = df_1.append(df,ignore_index=True)\n",
    "    #print(df)\n",
    "\n",
    "# ciclo per scorrere tutti i csv\n",
    "for csv_file in csv_list: # ciclo che scorre i csv nella cartella path\n",
    "    df = pd.read_csv(csv_file) \n",
    "    #df = df.to_numpy()\n",
    "    df = df.to_records(index=False)\n",
    "    dataframe_collection.append(df)\n",
    "\n",
    "#prova = pd.DataFrame(dataframe_collection)\n"
   ]
  },
  {
   "cell_type": "code",
   "execution_count": 15,
   "metadata": {},
   "outputs": [
    {
     "name": "stdout",
     "output_type": "stream",
     "text": [
      "     tempo  <>(GyrX)  var(GyrX)  kurt(GyrX)  RMS(GyrX)  freq1(GyrX)  \\\n",
      "0      0.0 -0.025278   0.017191   -0.117391   0.133346         79.0   \n",
      "1      1.0 -0.025284   0.017142   -0.109234   0.133164        107.0   \n",
      "2      2.0 -0.025410   0.017099   -0.104507   0.133027        110.0   \n",
      "3      3.0 -0.026125   0.017232   -0.127146   0.133661         78.0   \n",
      "4      4.0 -0.026810   0.017350   -0.150134   0.134237         81.0   \n",
      "..     ...       ...        ...         ...        ...          ...   \n",
      "475   75.0 -0.126804   0.032290   -0.643435   0.219758          0.0   \n",
      "476   76.0 -0.126395   0.032286   -0.642388   0.219513          0.0   \n",
      "477   77.0 -0.126124   0.032242   -0.638437   0.219257          0.0   \n",
      "478   78.0 -0.125752   0.032226   -0.636585   0.219007          0.0   \n",
      "479   79.0 -0.125192   0.032286   -0.637909   0.218823          0.0   \n",
      "\n",
      "     freq2(GyrX)  amp1(GyrX)  amp2(GyrX)  <>(GyrY)  ...  amp2(RPM(ESC_5))  \\\n",
      "0           76.0    3.609819    3.564965 -0.021368  ...       5781.210237   \n",
      "1           87.0    2.692896    2.653739 -0.020985  ...       5813.733886   \n",
      "2           92.0    2.793322    2.182012 -0.020225  ...       5810.014592   \n",
      "3           75.0    2.853510    2.746864 -0.019520  ...       5771.977143   \n",
      "4           82.0    3.404802    2.920552 -0.019146  ...       5604.258678   \n",
      "..           ...         ...         ...       ...  ...               ...   \n",
      "475        128.0   26.984322    5.542090 -0.003981  ...       5419.894236   \n",
      "476        126.0   27.413378    5.766863 -0.004472  ...       5557.660061   \n",
      "477        132.0   27.780495    5.928746 -0.004583  ...       5677.685092   \n",
      "478        128.0   28.188642    6.130657 -0.004753  ...       5779.460426   \n",
      "479        130.0   28.675218    6.409754 -0.005249  ...       5862.678841   \n",
      "\n",
      "     <>(Curr(ESC_5))  var(Curr(ESC_5))  kurt(Curr(ESC_5))  RMS(Curr(ESC_5))  \\\n",
      "0           3.194017          0.188088          -1.070037          3.223243   \n",
      "1           3.196250          0.189307          -1.066487          3.225645   \n",
      "2           3.198470          0.190509          -1.063391          3.228031   \n",
      "3           3.200678          0.191695          -1.060714          3.230401   \n",
      "4           3.202873          0.192864          -1.058426          3.232757   \n",
      "..               ...               ...                ...               ...   \n",
      "475         3.453568          0.517608           0.396801          3.527538   \n",
      "476         3.455246          0.517595           0.402855          3.529179   \n",
      "477         3.456916          0.517576           0.408923          3.530812   \n",
      "478         3.458578          0.517552           0.415005          3.532437   \n",
      "479         3.460233          0.517523           0.421101          3.534053   \n",
      "\n",
      "     freq1(Curr(ESC_5))  freq2(Curr(ESC_5))  amp1(Curr(ESC_5))  \\\n",
      "0                 119.0               118.0          12.541374   \n",
      "1                 126.0               125.0          12.851213   \n",
      "2                 145.0               144.0          13.144419   \n",
      "3                 120.0               119.0          13.420816   \n",
      "4                 131.0               130.0          13.680267   \n",
      "..                  ...                 ...                ...   \n",
      "475               101.0               100.0           8.866895   \n",
      "476                95.0                94.0           9.372699   \n",
      "477               103.0               102.0           9.841088   \n",
      "478               105.0               104.0          10.269603   \n",
      "479               107.0               106.0          10.656131   \n",
      "\n",
      "     amp2(Curr(ESC_5))  Guasto  \n",
      "0            10.763319       2  \n",
      "1            11.042833       2  \n",
      "2            11.282863       2  \n",
      "3            11.480551       2  \n",
      "4            11.633432       2  \n",
      "..                 ...     ...  \n",
      "475           5.359051       0  \n",
      "476           5.630240       0  \n",
      "477           5.856800       0  \n",
      "478           6.033221       0  \n",
      "479           6.154733       0  \n",
      "\n",
      "[480 rows x 170 columns]\n"
     ]
    }
   ],
   "source": [
    "print(df_1)"
   ]
  },
  {
   "cell_type": "code",
   "execution_count": 16,
   "metadata": {},
   "outputs": [
    {
     "name": "stdout",
     "output_type": "stream",
     "text": [
      "     <>(GyrX)  var(GyrX)  kurt(GyrX)  RMS(GyrX)  freq1(GyrX)  freq2(GyrX)  \\\n",
      "0   -0.025278   0.017191   -0.117391   0.133346         79.0         76.0   \n",
      "1   -0.025284   0.017142   -0.109234   0.133164        107.0         87.0   \n",
      "2   -0.025410   0.017099   -0.104507   0.133027        110.0         92.0   \n",
      "3   -0.026125   0.017232   -0.127146   0.133661         78.0         75.0   \n",
      "4   -0.026810   0.017350   -0.150134   0.134237         81.0         82.0   \n",
      "..        ...        ...         ...        ...          ...          ...   \n",
      "475 -0.126804   0.032290   -0.643435   0.219758          0.0        128.0   \n",
      "476 -0.126395   0.032286   -0.642388   0.219513          0.0        126.0   \n",
      "477 -0.126124   0.032242   -0.638437   0.219257          0.0        132.0   \n",
      "478 -0.125752   0.032226   -0.636585   0.219007          0.0        128.0   \n",
      "479 -0.125192   0.032286   -0.637909   0.218823          0.0        130.0   \n",
      "\n",
      "     amp1(GyrX)  amp2(GyrX)  <>(GyrY)  var(GyrY)  ...  amp2(RPM(ESC_5))  \\\n",
      "0      3.609819    3.564965 -0.021368   0.027288  ...       5781.210237   \n",
      "1      2.692896    2.653739 -0.020985   0.027262  ...       5813.733886   \n",
      "2      2.793322    2.182012 -0.020225   0.027388  ...       5810.014592   \n",
      "3      2.853510    2.746864 -0.019520   0.027487  ...       5771.977143   \n",
      "4      3.404802    2.920552 -0.019146   0.027459  ...       5604.258678   \n",
      "..          ...         ...       ...        ...  ...               ...   \n",
      "475   26.984322    5.542090 -0.003981   0.006210  ...       5419.894236   \n",
      "476   27.413378    5.766863 -0.004472   0.006299  ...       5557.660061   \n",
      "477   27.780495    5.928746 -0.004583   0.006289  ...       5677.685092   \n",
      "478   28.188642    6.130657 -0.004753   0.006287  ...       5779.460426   \n",
      "479   28.675218    6.409754 -0.005249   0.006378  ...       5862.678841   \n",
      "\n",
      "     <>(Curr(ESC_5))  var(Curr(ESC_5))  kurt(Curr(ESC_5))  RMS(Curr(ESC_5))  \\\n",
      "0           3.194017          0.188088          -1.070037          3.223243   \n",
      "1           3.196250          0.189307          -1.066487          3.225645   \n",
      "2           3.198470          0.190509          -1.063391          3.228031   \n",
      "3           3.200678          0.191695          -1.060714          3.230401   \n",
      "4           3.202873          0.192864          -1.058426          3.232757   \n",
      "..               ...               ...                ...               ...   \n",
      "475         3.453568          0.517608           0.396801          3.527538   \n",
      "476         3.455246          0.517595           0.402855          3.529179   \n",
      "477         3.456916          0.517576           0.408923          3.530812   \n",
      "478         3.458578          0.517552           0.415005          3.532437   \n",
      "479         3.460233          0.517523           0.421101          3.534053   \n",
      "\n",
      "     freq1(Curr(ESC_5))  freq2(Curr(ESC_5))  amp1(Curr(ESC_5))  \\\n",
      "0                 119.0               118.0          12.541374   \n",
      "1                 126.0               125.0          12.851213   \n",
      "2                 145.0               144.0          13.144419   \n",
      "3                 120.0               119.0          13.420816   \n",
      "4                 131.0               130.0          13.680267   \n",
      "..                  ...                 ...                ...   \n",
      "475               101.0               100.0           8.866895   \n",
      "476                95.0                94.0           9.372699   \n",
      "477               103.0               102.0           9.841088   \n",
      "478               105.0               104.0          10.269603   \n",
      "479               107.0               106.0          10.656131   \n",
      "\n",
      "     amp2(Curr(ESC_5))  Guasto  \n",
      "0            10.763319       2  \n",
      "1            11.042833       2  \n",
      "2            11.282863       2  \n",
      "3            11.480551       2  \n",
      "4            11.633432       2  \n",
      "..                 ...     ...  \n",
      "475           5.359051       0  \n",
      "476           5.630240       0  \n",
      "477           5.856800       0  \n",
      "478           6.033221       0  \n",
      "479           6.154733       0  \n",
      "\n",
      "[480 rows x 169 columns]\n"
     ]
    }
   ],
   "source": [
    "df_1 = df_1.drop(['tempo'], axis=1)\n",
    "print(df_1)"
   ]
  },
  {
   "cell_type": "code",
   "execution_count": 17,
   "metadata": {},
   "outputs": [],
   "source": [
    "# Model libraries\n",
    "from sklearn.linear_model import LogisticRegression\n",
    "from sklearn.neighbors import KNeighborsClassifier\n",
    "from sklearn.svm import SVC, LinearSVC, NuSVC\n",
    "from sklearn.tree import DecisionTreeClassifier\n",
    "from sklearn.ensemble import RandomForestClassifier, AdaBoostClassifier, GradientBoostingClassifier, ExtraTreesClassifier, VotingClassifier\n",
    "from sklearn.neural_network import MLPClassifier\n",
    "from sklearn.discriminant_analysis import LinearDiscriminantAnalysis, QuadraticDiscriminantAnalysis\n",
    "from sklearn.naive_bayes import GaussianNB\n",
    "from sklearn.decomposition import PCA\n",
    "\n",
    "# Testing libraries\n",
    "from sklearn.model_selection import train_test_split, cross_val_score, StratifiedKFold, GridSearchCV, learning_curve\n",
    "from sklearn.metrics import accuracy_score, log_loss, confusion_matrix, classification_report, roc_curve, auc"
   ]
  },
  {
   "cell_type": "code",
   "execution_count": 18,
   "metadata": {},
   "outputs": [
    {
     "name": "stdout",
     "output_type": "stream",
     "text": [
      "No guasto:  127 Guasto 5%:  150 Guasto 10%:  203\n"
     ]
    }
   ],
   "source": [
    "guasto_10 = df_1[df_1['Guasto'] == 2]\n",
    "no_guasto = df_1[df_1['Guasto'] == 0]\n",
    "guasto_5 = df_1[df_1['Guasto'] == 1]\n",
    "\n",
    "print(\"No guasto: \", len(no_guasto), \"Guasto 5%: \", len(guasto_5), \"Guasto 10%: \", len(guasto_10))"
   ]
  },
  {
   "attachments": {},
   "cell_type": "markdown",
   "metadata": {},
   "source": [
    "### Bilanciamento del dataset"
   ]
  },
  {
   "cell_type": "code",
   "execution_count": 19,
   "metadata": {},
   "outputs": [
    {
     "data": {
      "text/plain": [
       "(381, 169)"
      ]
     },
     "execution_count": 19,
     "metadata": {},
     "output_type": "execute_result"
    }
   ],
   "source": [
    "#bilanciamento del dataset con undersampling rispetto al no_guasto\n",
    "balanced_d = pd.concat([no_guasto, guasto_10.sample(len(no_guasto)), guasto_5.sample(len(no_guasto))])\n",
    "x = balanced_d.iloc[:,:-1]\n",
    "y = balanced_d.iloc[:,-1:]\n",
    "balanced_d.shape"
   ]
  },
  {
   "attachments": {},
   "cell_type": "markdown",
   "metadata": {},
   "source": [
    "### Separazione del dataset in training e test"
   ]
  },
  {
   "cell_type": "code",
   "execution_count": 20,
   "metadata": {},
   "outputs": [
    {
     "name": "stdout",
     "output_type": "stream",
     "text": [
      "(304, 168)\n",
      "(77, 168)\n",
      "(304, 1)\n",
      "(77, 1)\n"
     ]
    }
   ],
   "source": [
    "# Random state\n",
    "rs = 42\n",
    "\n",
    "# Split the data to check which algorithms learn better (later on we can check )\n",
    "x_train, x_test, y_train, y_test = train_test_split(x, y, test_size=0.2, random_state=rs)\n",
    "y_train = y_train.astype(int)\n",
    "y_test = y_test.astype(int)\n",
    "\n",
    "# look at the shape of the data (many problems can arise from wrong shape)\n",
    "print(x_train.shape)\n",
    "print(x_test.shape)\n",
    "print(y_train.shape)\n",
    "print(y_test.shape)"
   ]
  },
  {
   "cell_type": "code",
   "execution_count": 21,
   "metadata": {},
   "outputs": [],
   "source": [
    "# List of classifiers:\n",
    "classifiers = [\n",
    "    LogisticRegression(random_state = rs),\n",
    "    DecisionTreeClassifier(random_state=rs),\n",
    "    RandomForestClassifier(n_estimators = 10, random_state=rs),\n",
    "    GradientBoostingClassifier(random_state= rs),\n",
    "    AdaBoostClassifier(n_estimators=10, random_state= rs),\n",
    "    LinearDiscriminantAnalysis(),\n",
    "    SVC(probability=True)\n",
    "]\n",
    "\n",
    "# List of results that will occure:\n",
    "clf_name = [] # names of the classifiers\n",
    "model_results = pd.DataFrame.copy(y_test) #resulting of prediction from the models\n",
    "\n",
    "kfold = StratifiedKFold(n_splits=5) #cross-validation\n",
    "cv_results = [] # scores from cross validation\n",
    "cv_acc = [] # mean accuracy from cross validation, need to maximize\n",
    "cv_std = [] # standard deviation from cross validation, need to minimise\n",
    "\n",
    "cnfm = [] #confusion matrix\n",
    "clr = [] #classification report\n",
    "roc_auc = [] #roc curve:\n",
    "roc_tpr = []\n",
    "roc_fpr = []"
   ]
  },
  {
   "attachments": {},
   "cell_type": "markdown",
   "metadata": {},
   "source": [
    "### Classificazione"
   ]
  },
  {
   "cell_type": "code",
   "execution_count": 24,
   "metadata": {},
   "outputs": [
    {
     "name": "stdout",
     "output_type": "stream",
     "text": [
      "Accuracy: 1.0 \t ---> LogisticRegression \n",
      "Accuracy: 1.0 \t ---> DecisionTreeClassifier \n",
      "Accuracy: 1.0 \t ---> RandomForestClassifier \n",
      "Accuracy: 1.0 \t ---> GradientBoostingClassifier \n",
      "Accuracy: 1.0 \t ---> AdaBoostClassifier \n",
      "Accuracy: 1.0 \t ---> LinearDiscriminantAnalysis \n",
      "Accuracy: 1.0 \t ---> SVC \n"
     ]
    }
   ],
   "source": [
    "# Training the algorithms and results\n",
    "for clf in classifiers:\n",
    "    name = clf.__class__.__name__\n",
    "    clf_name.append(name)\n",
    "    \n",
    "    #fitting and predictions\n",
    "    model = clf.fit(x_train, y_train.values.ravel())\n",
    "    y_pred = model.predict(x_test)\n",
    "    model_results[name] = y_pred\n",
    "    \n",
    "    #accuracy and log loss\n",
    "    cv_results.append(cross_val_score(clf, x_train, y_train.values.ravel(), scoring = \"accuracy\",cv = kfold))\n",
    "    acc = round(accuracy_score(y_test.values.ravel(), y_pred), 2) #need to maximize\n",
    "    train_pred = clf.predict_proba(x_test)\n",
    "    print(f'Accuracy: {acc} \\t ---> {name} ')\n",
    "    \n",
    "    #confusion matrix, clasification report, roc curve\n",
    "    cnfm.append(confusion_matrix(y_test.values.ravel(), y_pred))\n",
    "    clr.append(classification_report(y_test.values.ravel(), y_pred))\n",
    "    fpr, tpr, thresholds = roc_curve(y_pred, y_test.values.ravel(), pos_label=1)\n",
    "    roc_auc.append(auc(fpr, tpr))\n",
    "    roc_tpr.append(tpr)\n",
    "    roc_fpr.append(fpr)\n",
    "    \n",
    "\n",
    "for i in cv_results:\n",
    "    cv_acc.append(i.mean())\n",
    "    cv_std.append(i.std())"
   ]
  },
  {
   "attachments": {},
   "cell_type": "markdown",
   "metadata": {},
   "source": [
    "### Matrici di confusione"
   ]
  },
  {
   "cell_type": "code",
   "execution_count": 23,
   "metadata": {},
   "outputs": [
    {
     "data": {
      "image/png": "[encoded data removed]",
      "text/plain": [
       "<Figure size 1440x1080 with 14 Axes>"
      ]
     },
     "metadata": {
      "needs_background": "light"
     },
     "output_type": "display_data"
    }
   ],
   "source": [
    "import seaborn as sns\n",
    "# Confusion matrixes (not-normalized confusion matrix)\n",
    "plt.figure(figsize=(20,15))\n",
    "sns.set(font_scale=1.4)\n",
    "for i in range(len(classifiers)):\n",
    "    plt.subplot(3,3,i+1) #adjust this acourding to the number of algorithms\n",
    "    sns.heatmap(cnfm[i], annot=True, fmt=\"d\",cmap=\"Reds\")\n",
    "    plt.subplots_adjust(hspace = 0.5)\n",
    "    plt.xlabel('Predicted')\n",
    "    plt.ylabel('Actual')\n",
    "    plt.title(clf_name[i])"
   ]
  }
 ],
 "metadata": {
  "kernelspec": {
   "display_name": "Python 3",
   "language": "python",
   "name": "python3"
  },
  "language_info": {
   "codemirror_mode": {
    "name": "ipython",
    "version": 3
   },
   "file_extension": ".py",
   "mimetype": "text/x-python",
   "name": "python",
   "nbconvert_exporter": "python",
   "pygments_lexer": "ipython3",
   "version": "3.10.2"
  },
  "orig_nbformat": 4,
  "vscode": {
   "interpreter": {
    "hash": "369f2c481f4da34e4445cda3fffd2e751bd1c4d706f27375911949ba6bb62e1c"
   }
  }
 },
 "nbformat": 4,
 "nbformat_minor": 2
}
