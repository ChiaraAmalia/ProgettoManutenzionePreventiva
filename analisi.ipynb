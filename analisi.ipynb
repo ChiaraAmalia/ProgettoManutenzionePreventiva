{
 "cells": [
  {
   "attachments": {},
   "cell_type": "markdown",
   "metadata": {},
   "source": [
    "IMPORTAZIONE LIBRERIE"
   ]
  },
  {
   "cell_type": "code",
   "execution_count": 22,
   "metadata": {},
   "outputs": [],
   "source": [
    "import os\n",
    "import pandas as pd\n",
    "import matplotlib.pyplot as plt\n",
    "import numpy as np"
   ]
  },
  {
   "attachments": {},
   "cell_type": "markdown",
   "metadata": {},
   "source": [
    "CAMBIO PATH PER ANALISI RISPETTO AL LOG DI VOLO CONSIDERATO"
   ]
  },
  {
   "cell_type": "code",
   "execution_count": 23,
   "metadata": {},
   "outputs": [
    {
     "name": "stdout",
     "output_type": "stream",
     "text": [
      "c:\\Users\\chiar\\OneDrive\\Desktop\\MantenzionePreventiva\\ProgettoManutenzionePreventiva\n"
     ]
    }
   ],
   "source": [
    "path_file = os.path.abspath(os.getcwd())\n",
    "print(path_file)\n",
    "os.chdir(path_file)"
   ]
  },
  {
   "attachments": {},
   "cell_type": "markdown",
   "metadata": {},
   "source": [
    "PATH PER ANALISI SUL VOLO M1 NO FAULT"
   ]
  },
  {
   "cell_type": "code",
   "execution_count": 24,
   "metadata": {},
   "outputs": [
    {
     "name": "stdout",
     "output_type": "stream",
     "text": [
      "c:\\Users\\chiar\\OneDrive\\Desktop\\MantenzionePreventiva\\ProgettoManutenzionePreventiva\\M1\\NO_FAULT1\n"
     ]
    }
   ],
   "source": [
    "path_cartella_NoFaultM1 = r\"\\M1\\NO_FAULT1\"\n",
    "\n",
    "path_NoFaultM1 = path_file + path_cartella_NoFaultM1\n",
    "\n",
    "print(path_NoFaultM1)"
   ]
  },
  {
   "cell_type": "code",
   "execution_count": 26,
   "metadata": {},
   "outputs": [
    {
     "name": "stdout",
     "output_type": "stream",
     "text": [
      "      LineNo    TimeUS  DesRoll  Roll  DesPitch  Pitch  DesYaw    Yaw\n",
      "0        188  15037193      0.0 -0.08       0.0  -0.60   17.24  11.69\n",
      "1        291  15071127      0.0 -0.08       0.0  -0.60   23.31  11.71\n",
      "2        633  15133024      0.0 -0.07       0.0  -0.60   31.41  11.73\n",
      "3        746  15149226      0.0 -0.07       0.0  -0.60   33.44  11.74\n",
      "4        859  15164706      0.0 -0.07       0.0  -0.60   35.46  11.74\n",
      "...      ...       ...      ...   ...       ...    ...     ...    ...\n",
      "6729  301652  87102709      0.0  1.49       0.0   1.36    2.88   2.86\n",
      "6730  301696  87113111      0.0  1.51       0.0   1.35    2.89   2.87\n",
      "6731  301741  87123756      0.0  1.53       0.0   1.35    2.90   2.88\n",
      "6732  301789  87136641      0.0  1.56       0.0   1.35    2.91   2.89\n",
      "6733  301833  87147394      0.0  1.57       0.0   1.35    2.91   2.89\n",
      "\n",
      "[6734 rows x 8 columns]\n"
     ]
    }
   ],
   "source": [
    "att = pd.read_csv(path_NoFaultM1+\"\\ATT.csv\")\n",
    "att = att.drop(['ErrRP', 'ErrYaw', 'AEKF'], axis=1)\n",
    "#att = att[(att['TimeUS'] - att['TimeUS'].iat[0])]\n",
    "print(att)"
   ]
  },
  {
   "cell_type": "code",
   "execution_count": 27,
   "metadata": {},
   "outputs": [
    {
     "name": "stdout",
     "output_type": "stream",
     "text": [
      "     LineNo    TimeUS       Alt\n",
      "0      1911  15489852 -0.090936\n",
      "1      2324  15590264  0.058386\n",
      "2      2738  15691546  0.166297\n",
      "3      3152  15792092  0.249089\n",
      "4      3531  15893068  0.315913\n",
      "..      ...       ...       ...\n",
      "681  299665  86646556  0.001581\n",
      "682  300113  86750662  0.003942\n",
      "683  300566  86851725  0.004179\n",
      "684  301015  86958026  0.004310\n",
      "685  301467  87060691  0.002020\n",
      "\n",
      "[686 rows x 3 columns]\n"
     ]
    }
   ],
   "source": [
    "ctun = pd.read_csv(path_NoFaultM1+\"\\CTUN.csv\")\n",
    "ctun = ctun.drop(['ThI', 'ABst', 'ThO', 'ThH', 'DAlt', 'BAlt', 'DSAlt', 'SAlt', 'TAlt', 'DCRt', 'CRt'], axis=1)\n",
    "#att = att[(att['TimeUS'] - att['TimeUS'].iat[0])]\n",
    "print(ctun)"
   ]
  },
  {
   "attachments": {},
   "cell_type": "markdown",
   "metadata": {},
   "source": [
    "PATH PER ANALISI SUL VOLO M1 FAULT 5%"
   ]
  },
  {
   "cell_type": "code",
   "execution_count": 29,
   "metadata": {},
   "outputs": [
    {
     "name": "stdout",
     "output_type": "stream",
     "text": [
      "c:\\Users\\chiar\\OneDrive\\Desktop\\MantenzionePreventiva\\ProgettoManutenzionePreventiva\\M1\\FAULT_M1_5\n"
     ]
    }
   ],
   "source": [
    "path_cartella_FaultM1_5 = r\"\\M1\\FAULT_M1_5\"\n",
    "\n",
    "path_FaultM1_5 = path_file + path_cartella_FaultM1_5\n",
    "\n",
    "print(path_FaultM1_5)"
   ]
  },
  {
   "cell_type": "code",
   "execution_count": 30,
   "metadata": {},
   "outputs": [
    {
     "name": "stdout",
     "output_type": "stream",
     "text": [
      "       LineNo     TimeUS  DesRoll   Roll  DesPitch  Pitch  DesYaw     Yaw\n",
      "0         296   19491757     0.00   1.99       0.0   1.11   24.51   24.49\n",
      "1         640   19557820     0.00   2.00       0.0   1.11   24.54   24.51\n",
      "2         867   19603142     0.00   1.99       0.0   1.11   24.56   24.53\n",
      "3        1209   19764173     0.00   1.99       0.0   1.11   24.61   24.58\n",
      "4        1485   19834986     0.00   1.99       0.0   1.11   24.63   24.61\n",
      "...       ...        ...      ...    ...       ...    ...     ...     ...\n",
      "16589  729686  303339533     0.01  47.85       0.0  -9.05  291.45  290.94\n",
      "16590  729731  303349822     0.01  47.70       0.0  -8.94  291.63  291.13\n",
      "16591  729776  303360448     0.01  47.53       0.0  -8.83  291.81  291.31\n",
      "16592  729820  303370367     0.01  47.37       0.0  -8.72  291.96  291.46\n",
      "16593  729864  303380776     0.01  47.22       0.0  -8.62  292.10  291.59\n",
      "\n",
      "[16594 rows x 8 columns]\n"
     ]
    }
   ],
   "source": [
    "att_M1_5 = pd.read_csv(path_FaultM1_5+\"\\ATT.csv\")\n",
    "att_M1_5 = att_M1_5.drop(['ErrRP', 'ErrYaw', 'AEKF'], axis=1)\n",
    "#att = att[(att['TimeUS'] - att['TimeUS'].iat[0])]\n",
    "print(att_M1_5)"
   ]
  },
  {
   "cell_type": "code",
   "execution_count": 37,
   "metadata": {},
   "outputs": [
    {
     "data": {
      "text/plain": [
       "False    6734\n",
       "Name: TimeUS, dtype: int64"
      ]
     },
     "execution_count": 37,
     "metadata": {},
     "output_type": "execute_result"
    }
   ],
   "source": [
    "#mergedStuff = pd.merge(att, att_M1_5, on=['TimeUS'], how='inner')\n",
    "#print(mergedStuff)\n",
    "att['TimeUS'].isin(att_M1_5['TimeUS']).value_counts()\n",
    "#att_M1_5 = np.where((att_M1_5['TimeUS'] == att['TimeUS']))"
   ]
  },
  {
   "cell_type": "code",
   "execution_count": 31,
   "metadata": {},
   "outputs": [
    {
     "ename": "ValueError",
     "evalue": "x and y must have same first dimension, but have shapes (6734,) and (16594,)",
     "output_type": "error",
     "traceback": [
      "\u001b[1;31m---------------------------------------------------------------------------\u001b[0m",
      "\u001b[1;31mValueError\u001b[0m                                Traceback (most recent call last)",
      "\u001b[1;32mc:\\Users\\chiar\\OneDrive\\Desktop\\MantenzionePreventiva\\ProgettoManutenzionePreventiva\\analisi.ipynb Cell 12\u001b[0m in \u001b[0;36m<cell line: 5>\u001b[1;34m()\u001b[0m\n\u001b[0;32m      <a href='vscode-notebook-cell:/c%3A/Users/chiar/OneDrive/Desktop/MantenzionePreventiva/ProgettoManutenzionePreventiva/analisi.ipynb#X10sZmlsZQ%3D%3D?line=3'>4</a>\u001b[0m ys \u001b[39m=\u001b[39m [att\u001b[39m.\u001b[39mPitch, att_M1_5\u001b[39m.\u001b[39mPitch]\n\u001b[0;32m      <a href='vscode-notebook-cell:/c%3A/Users/chiar/OneDrive/Desktop/MantenzionePreventiva/ProgettoManutenzionePreventiva/analisi.ipynb#X10sZmlsZQ%3D%3D?line=4'>5</a>\u001b[0m \u001b[39mfor\u001b[39;00m y \u001b[39min\u001b[39;00m ys:\n\u001b[1;32m----> <a href='vscode-notebook-cell:/c%3A/Users/chiar/OneDrive/Desktop/MantenzionePreventiva/ProgettoManutenzionePreventiva/analisi.ipynb#X10sZmlsZQ%3D%3D?line=5'>6</a>\u001b[0m     plt\u001b[39m.\u001b[39;49mplot(xs, y)\n\u001b[0;32m      <a href='vscode-notebook-cell:/c%3A/Users/chiar/OneDrive/Desktop/MantenzionePreventiva/ProgettoManutenzionePreventiva/analisi.ipynb#X10sZmlsZQ%3D%3D?line=7'>8</a>\u001b[0m plt\u001b[39m.\u001b[39mlegend(ys, labels \u001b[39m=\u001b[39m [\u001b[39m'\u001b[39m\u001b[39mPitch_NoFault\u001b[39m\u001b[39m'\u001b[39m, \u001b[39m'\u001b[39m\u001b[39mPitch_Fault_5\u001b[39m\u001b[39m'\u001b[39m])\n\u001b[0;32m     <a href='vscode-notebook-cell:/c%3A/Users/chiar/OneDrive/Desktop/MantenzionePreventiva/ProgettoManutenzionePreventiva/analisi.ipynb#X10sZmlsZQ%3D%3D?line=9'>10</a>\u001b[0m plt\u001b[39m.\u001b[39mshow()\n",
      "File \u001b[1;32mc:\\Python310\\lib\\site-packages\\matplotlib\\pyplot.py:2769\u001b[0m, in \u001b[0;36mplot\u001b[1;34m(scalex, scaley, data, *args, **kwargs)\u001b[0m\n\u001b[0;32m   2767\u001b[0m \u001b[39m@_copy_docstring_and_deprecators\u001b[39m(Axes\u001b[39m.\u001b[39mplot)\n\u001b[0;32m   2768\u001b[0m \u001b[39mdef\u001b[39;00m \u001b[39mplot\u001b[39m(\u001b[39m*\u001b[39margs, scalex\u001b[39m=\u001b[39m\u001b[39mTrue\u001b[39;00m, scaley\u001b[39m=\u001b[39m\u001b[39mTrue\u001b[39;00m, data\u001b[39m=\u001b[39m\u001b[39mNone\u001b[39;00m, \u001b[39m*\u001b[39m\u001b[39m*\u001b[39mkwargs):\n\u001b[1;32m-> 2769\u001b[0m     \u001b[39mreturn\u001b[39;00m gca()\u001b[39m.\u001b[39mplot(\n\u001b[0;32m   2770\u001b[0m         \u001b[39m*\u001b[39margs, scalex\u001b[39m=\u001b[39mscalex, scaley\u001b[39m=\u001b[39mscaley,\n\u001b[0;32m   2771\u001b[0m         \u001b[39m*\u001b[39m\u001b[39m*\u001b[39m({\u001b[39m\"\u001b[39m\u001b[39mdata\u001b[39m\u001b[39m\"\u001b[39m: data} \u001b[39mif\u001b[39;00m data \u001b[39mis\u001b[39;00m \u001b[39mnot\u001b[39;00m \u001b[39mNone\u001b[39;00m \u001b[39melse\u001b[39;00m {}), \u001b[39m*\u001b[39m\u001b[39m*\u001b[39mkwargs)\n",
      "File \u001b[1;32mc:\\Python310\\lib\\site-packages\\matplotlib\\axes\\_axes.py:1632\u001b[0m, in \u001b[0;36mAxes.plot\u001b[1;34m(self, scalex, scaley, data, *args, **kwargs)\u001b[0m\n\u001b[0;32m   1390\u001b[0m \u001b[39m\"\"\"\u001b[39;00m\n\u001b[0;32m   1391\u001b[0m \u001b[39mPlot y versus x as lines and/or markers.\u001b[39;00m\n\u001b[0;32m   1392\u001b[0m \n\u001b[1;32m   (...)\u001b[0m\n\u001b[0;32m   1629\u001b[0m \u001b[39m(``'green'``) or hex strings (``'#008000'``).\u001b[39;00m\n\u001b[0;32m   1630\u001b[0m \u001b[39m\"\"\"\u001b[39;00m\n\u001b[0;32m   1631\u001b[0m kwargs \u001b[39m=\u001b[39m cbook\u001b[39m.\u001b[39mnormalize_kwargs(kwargs, mlines\u001b[39m.\u001b[39mLine2D)\n\u001b[1;32m-> 1632\u001b[0m lines \u001b[39m=\u001b[39m [\u001b[39m*\u001b[39m\u001b[39mself\u001b[39m\u001b[39m.\u001b[39m_get_lines(\u001b[39m*\u001b[39margs, data\u001b[39m=\u001b[39mdata, \u001b[39m*\u001b[39m\u001b[39m*\u001b[39mkwargs)]\n\u001b[0;32m   1633\u001b[0m \u001b[39mfor\u001b[39;00m line \u001b[39min\u001b[39;00m lines:\n\u001b[0;32m   1634\u001b[0m     \u001b[39mself\u001b[39m\u001b[39m.\u001b[39madd_line(line)\n",
      "File \u001b[1;32mc:\\Python310\\lib\\site-packages\\matplotlib\\axes\\_base.py:312\u001b[0m, in \u001b[0;36m_process_plot_var_args.__call__\u001b[1;34m(self, data, *args, **kwargs)\u001b[0m\n\u001b[0;32m    310\u001b[0m     this \u001b[39m+\u001b[39m\u001b[39m=\u001b[39m args[\u001b[39m0\u001b[39m],\n\u001b[0;32m    311\u001b[0m     args \u001b[39m=\u001b[39m args[\u001b[39m1\u001b[39m:]\n\u001b[1;32m--> 312\u001b[0m \u001b[39myield from\u001b[39;00m \u001b[39mself\u001b[39;49m\u001b[39m.\u001b[39;49m_plot_args(this, kwargs)\n",
      "File \u001b[1;32mc:\\Python310\\lib\\site-packages\\matplotlib\\axes\\_base.py:498\u001b[0m, in \u001b[0;36m_process_plot_var_args._plot_args\u001b[1;34m(self, tup, kwargs, return_kwargs)\u001b[0m\n\u001b[0;32m    495\u001b[0m     \u001b[39mself\u001b[39m\u001b[39m.\u001b[39maxes\u001b[39m.\u001b[39myaxis\u001b[39m.\u001b[39mupdate_units(y)\n\u001b[0;32m    497\u001b[0m \u001b[39mif\u001b[39;00m x\u001b[39m.\u001b[39mshape[\u001b[39m0\u001b[39m] \u001b[39m!=\u001b[39m y\u001b[39m.\u001b[39mshape[\u001b[39m0\u001b[39m]:\n\u001b[1;32m--> 498\u001b[0m     \u001b[39mraise\u001b[39;00m \u001b[39mValueError\u001b[39;00m(\u001b[39mf\u001b[39m\u001b[39m\"\u001b[39m\u001b[39mx and y must have same first dimension, but \u001b[39m\u001b[39m\"\u001b[39m\n\u001b[0;32m    499\u001b[0m                      \u001b[39mf\u001b[39m\u001b[39m\"\u001b[39m\u001b[39mhave shapes \u001b[39m\u001b[39m{\u001b[39;00mx\u001b[39m.\u001b[39mshape\u001b[39m}\u001b[39;00m\u001b[39m and \u001b[39m\u001b[39m{\u001b[39;00my\u001b[39m.\u001b[39mshape\u001b[39m}\u001b[39;00m\u001b[39m\"\u001b[39m)\n\u001b[0;32m    500\u001b[0m \u001b[39mif\u001b[39;00m x\u001b[39m.\u001b[39mndim \u001b[39m>\u001b[39m \u001b[39m2\u001b[39m \u001b[39mor\u001b[39;00m y\u001b[39m.\u001b[39mndim \u001b[39m>\u001b[39m \u001b[39m2\u001b[39m:\n\u001b[0;32m    501\u001b[0m     \u001b[39mraise\u001b[39;00m \u001b[39mValueError\u001b[39;00m(\u001b[39mf\u001b[39m\u001b[39m\"\u001b[39m\u001b[39mx and y can be no greater than 2D, but have \u001b[39m\u001b[39m\"\u001b[39m\n\u001b[0;32m    502\u001b[0m                      \u001b[39mf\u001b[39m\u001b[39m\"\u001b[39m\u001b[39mshapes \u001b[39m\u001b[39m{\u001b[39;00mx\u001b[39m.\u001b[39mshape\u001b[39m}\u001b[39;00m\u001b[39m and \u001b[39m\u001b[39m{\u001b[39;00my\u001b[39m.\u001b[39mshape\u001b[39m}\u001b[39;00m\u001b[39m\"\u001b[39m)\n",
      "\u001b[1;31mValueError\u001b[0m: x and y must have same first dimension, but have shapes (6734,) and (16594,)"
     ]
    },
    {
     "data": {
      "image/png": "[encoded data removed]",
      "text/plain": [
       "<Figure size 504x252 with 1 Axes>"
      ]
     },
     "metadata": {
      "needs_background": "light"
     },
     "output_type": "display_data"
    }
   ],
   "source": [
    "plt.rcParams[\"figure.figsize\"] = [7.00, 3.50]\n",
    "plt.rcParams[\"figure.autolayout\"] = True\n",
    "xs = att.TimeUS\n",
    "ys = [att.Pitch, att_M1_5.Pitch]\n",
    "for y in ys:\n",
    "    plt.plot(xs, y)\n",
    "\n",
    "plt.legend(ys, labels = ['Pitch_NoFault', 'Pitch_Fault_5'])\n",
    "\n",
    "plt.show()\n",
    "\n",
    "\n",
    "#plt.plot(att.TimeUS, [att.Pitch, att.DesPitch])"
   ]
  },
  {
   "cell_type": "code",
   "execution_count": null,
   "metadata": {},
   "outputs": [],
   "source": []
  },
  {
   "cell_type": "code",
   "execution_count": 12,
   "metadata": {},
   "outputs": [
    {
     "name": "stdout",
     "output_type": "stream",
     "text": [
      "LineNo        int64\n",
      "TimeUS        int64\n",
      "DesRoll     float64\n",
      "Roll        float64\n",
      "DesPitch    float64\n",
      "Pitch       float64\n",
      "DesYaw      float64\n",
      "Yaw         float64\n",
      "dtype: object\n"
     ]
    }
   ],
   "source": [
    "print(att.dtypes)"
   ]
  }
 ],
 "metadata": {
  "kernelspec": {
   "display_name": "Python 3",
   "language": "python",
   "name": "python3"
  },
  "language_info": {
   "codemirror_mode": {
    "name": "ipython",
    "version": 3
   },
   "file_extension": ".py",
   "mimetype": "text/x-python",
   "name": "python",
   "nbconvert_exporter": "python",
   "pygments_lexer": "ipython3",
   "version": "3.10.2"
  },
  "orig_nbformat": 4,
  "vscode": {
   "interpreter": {
    "hash": "369f2c481f4da34e4445cda3fffd2e751bd1c4d706f27375911949ba6bb62e1c"
   }
  }
 },
 "nbformat": 4,
 "nbformat_minor": 2
}
