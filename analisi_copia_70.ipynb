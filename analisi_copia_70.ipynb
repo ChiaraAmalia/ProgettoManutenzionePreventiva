{
 "cells": [
  {
   "attachments": {},
   "cell_type": "markdown",
   "metadata": {},
   "source": [
    "IMPORTAZIONE LIBRERIE"
   ]
  },
  {
   "cell_type": "code",
   "execution_count": 1,
   "metadata": {},
   "outputs": [],
   "source": [
    "import os\n",
    "import pandas as pd\n",
    "import matplotlib.pyplot as plt\n",
    "import numpy as np\n",
    "import glob\n",
    "import array \n",
    "import scipy.signal as signal\n",
    "#Processing libraries\n",
    "from sklearn.preprocessing import StandardScaler,MinMaxScaler\n",
    "import seaborn as sns\n",
    "from scipy.stats import zscore\n",
    "from sklearn.multiclass import OneVsRestClassifier\n",
    "\n",
    "# Model libraries\n",
    "from sklearn.linear_model import LogisticRegression, SGDClassifier, Perceptron\n",
    "from sklearn.neighbors import KNeighborsClassifier\n",
    "from sklearn.svm import SVC, LinearSVC, NuSVC\n",
    "from sklearn.tree import DecisionTreeClassifier\n",
    "from sklearn.ensemble import RandomForestClassifier, AdaBoostClassifier, GradientBoostingClassifier, ExtraTreesClassifier, VotingClassifier\n",
    "from sklearn.neural_network import MLPClassifier\n",
    "from sklearn.discriminant_analysis import LinearDiscriminantAnalysis, QuadraticDiscriminantAnalysis\n",
    "from sklearn.naive_bayes import GaussianNB\n",
    "from sklearn.decomposition import PCA\n",
    "from imblearn.over_sampling import SMOTE\n",
    "\n",
    "# Testing libraries\n",
    "from sklearn.model_selection import train_test_split, cross_val_score, StratifiedKFold, GridSearchCV, learning_curve\n",
    "from sklearn.metrics import accuracy_score, log_loss, confusion_matrix, classification_report, roc_curve, auc\n",
    "\n",
    "# remove warnings\n",
    "import warnings\n",
    "warnings.filterwarnings('ignore')"
   ]
  },
  {
   "attachments": {},
   "cell_type": "markdown",
   "metadata": {},
   "source": [
    "CAMBIO PATH PER ANALISI RISPETTO AL LOG DI VOLO CONSIDERAT"
   ]
  },
  {
   "cell_type": "code",
   "execution_count": 2,
   "metadata": {},
   "outputs": [
    {
     "name": "stdout",
     "output_type": "stream",
     "text": [
      "c:\\Users\\chiar\\OneDrive\\Desktop\\MantenzionePreventiva\\ProgettoManutenzionePreventiva\n"
     ]
    }
   ],
   "source": [
    "path_file = os.path.abspath(os.getcwd())\n",
    "print(path_file)\n",
    "os.chdir(path_file)"
   ]
  },
  {
   "attachments": {},
   "cell_type": "markdown",
   "metadata": {},
   "source": [
    "ARRAY CHE CONTERRA' I DATAFRAME DI CIASCUN VOLO (PER UN TOTALE DI 18)"
   ]
  },
  {
   "cell_type": "code",
   "execution_count": 3,
   "metadata": {},
   "outputs": [],
   "source": [
    "data_path = os.path.join(path_file,'*.csv') #lista di tutti gli elementi di estensione csv nella cartella path\n",
    "csv_list = glob.glob(data_path) #converte data path in un output Unix-like (ls) (*.csv -> lista di elementi con estensione csv)\n",
    "dataframe_collection = []\n",
    "df_1 = pd.DataFrame()\n",
    "\n",
    "# ciclo per scorrere tutti i csv\n",
    "for csv_file in csv_list: # ciclo che scorre i csv nella cartella path\n",
    "    df = pd.read_csv(csv_file) \n",
    "    #df = df.to_numpy()\n",
    "    #df = df.to_records(index=False)\n",
    "    #dataframe_collection.append(df)\n",
    "    df_1 = df_1.append(df,ignore_index=True)\n",
    "    #print(df)\n",
    "\n",
    "# ciclo per scorrere tutti i csv\n",
    "for csv_file in csv_list: # ciclo che scorre i csv nella cartella path\n",
    "    df = pd.read_csv(csv_file) \n",
    "    #df = df.to_numpy()\n",
    "    df = df.to_records(index=False)\n",
    "    dataframe_collection.append(df)\n",
    "\n",
    "#prova = pd.DataFrame(dataframe_collection)\n"
   ]
  },
  {
   "cell_type": "code",
   "execution_count": 4,
   "metadata": {},
   "outputs": [
    {
     "name": "stdout",
     "output_type": "stream",
     "text": [
      "      tempo  <>(GyrX)  var(GyrX)  kurt(GyrX)  RMS(GyrX)  freq1(GyrX)  \\\n",
      "0       0.0 -0.032100   0.017081   -0.399284   0.134398         78.0   \n",
      "1       1.0 -0.032346   0.017054   -0.400010   0.134356        102.0   \n",
      "2       2.0 -0.032590   0.017026   -0.400594   0.134314         98.0   \n",
      "3       3.0 -0.032832   0.016999   -0.401113   0.134271        102.0   \n",
      "4       4.0 -0.033265   0.017017   -0.412325   0.134447        102.0   \n",
      "...     ...       ...        ...         ...        ...          ...   \n",
      "1344   62.0 -0.048472   0.006254   -0.082119   0.092673          0.0   \n",
      "1345   63.0 -0.048289   0.006253   -0.081993   0.092571          0.0   \n",
      "1346   64.0 -0.048212   0.006240   -0.075446   0.092463          0.0   \n",
      "1347   65.0 -0.048179   0.006225   -0.068067   0.092367          0.0   \n",
      "1348   66.0 -0.048194   0.006211   -0.061448   0.092295          0.0   \n",
      "\n",
      "      freq2(GyrX)  amp1(GyrX)  amp2(GyrX)  <>(GyrY)  ...  amp2(RPM(ESC_5))  \\\n",
      "0            96.0    3.596543    3.414090 -0.014483  ...       5812.008175   \n",
      "1            80.0    3.601798    3.359201 -0.014131  ...       5704.453240   \n",
      "2            79.0    3.785400    3.155365 -0.013642  ...       5587.855979   \n",
      "3            71.0    3.964024    3.257887 -0.013156  ...       5462.279375   \n",
      "4            87.0    4.069144    2.898697 -0.013003  ...       5327.792013   \n",
      "...           ...         ...         ...       ...  ...               ...   \n",
      "1344        119.0   13.705592    4.427470  0.036188  ...      13757.613392   \n",
      "1345        118.0   13.703035    4.344276  0.036631  ...      13259.009540   \n",
      "1346        119.0   13.655833    4.213446  0.037145  ...      12751.414008   \n",
      "1347        130.0   13.590221    4.061607  0.037632  ...      12235.461935   \n",
      "1348        113.0   13.503484    3.886491  0.038055  ...      11711.766618   \n",
      "\n",
      "      <>(Curr(ESC_5))  var(Curr(ESC_5))  kurt(Curr(ESC_5))  RMS(Curr(ESC_5))  \\\n",
      "0            3.227550          0.201562          -1.034645          3.258537   \n",
      "1            3.229687          0.202596          -1.035832          3.260813   \n",
      "2            3.231813          0.203615          -1.037158          3.263074   \n",
      "3            3.233927          0.204620          -1.038609          3.265321   \n",
      "4            3.236028          0.205610          -1.040173          3.267554   \n",
      "...               ...               ...                ...               ...   \n",
      "1344         3.538935          0.562466          -1.024534          3.617342   \n",
      "1345         3.540628          0.562292          -1.018466          3.618975   \n",
      "1346         3.542313          0.562112          -1.012392          3.620599   \n",
      "1347         3.543990          0.561928          -1.006311          3.622215   \n",
      "1348         3.545659          0.561739          -1.000224          3.623823   \n",
      "\n",
      "      freq1(Curr(ESC_5))  freq2(Curr(ESC_5))  amp1(Curr(ESC_5))  \\\n",
      "0                  120.0               119.0          15.414952   \n",
      "1                  128.0               127.0          15.447674   \n",
      "2                  136.0               134.0          15.463306   \n",
      "3                  130.0               128.0          15.462261   \n",
      "4                  138.0               135.0          15.444971   \n",
      "...                  ...                 ...                ...   \n",
      "1344               108.0               109.0          20.020166   \n",
      "1345               110.0               111.0          20.217965   \n",
      "1346               108.0               109.0          20.375260   \n",
      "1347               108.0               109.0          20.489324   \n",
      "1348               110.0               111.0          20.557632   \n",
      "\n",
      "      amp2(Curr(ESC_5))  Guasto  \n",
      "0              8.888416       2  \n",
      "1              8.483140       2  \n",
      "2              8.173170       2  \n",
      "3              8.871637       2  \n",
      "4              9.516132       2  \n",
      "...                 ...     ...  \n",
      "1344          14.751039       0  \n",
      "1345          15.384214       0  \n",
      "1346          16.025541       0  \n",
      "1347          16.674333       0  \n",
      "1348          17.329899       0  \n",
      "\n",
      "[1349 rows x 170 columns]\n"
     ]
    }
   ],
   "source": [
    "print(df_1)"
   ]
  },
  {
   "cell_type": "code",
   "execution_count": 5,
   "metadata": {},
   "outputs": [
    {
     "name": "stdout",
     "output_type": "stream",
     "text": [
      "      tempo  <>(GyrX)  var(GyrX)  kurt(GyrX)  RMS(GyrX)  freq1(GyrX)  \\\n",
      "0       1.0 -0.035554   0.027477    1.465293   0.169302         83.0   \n",
      "1      66.0 -0.055574   0.025789   -0.877162   0.169751          0.0   \n",
      "2      50.0 -0.129602   0.032395   -0.702055   0.221610          0.0   \n",
      "3      83.0 -0.015786   0.017492    3.584369   0.133045          0.0   \n",
      "4       9.0 -0.014257   0.006134   -0.313065   0.079502         86.0   \n",
      "...     ...       ...        ...         ...        ...          ...   \n",
      "1344   13.0 -0.027534   0.018403    4.277618   0.138242         86.0   \n",
      "1345   15.0 -0.021563   0.009735    2.528592   0.100862         58.0   \n",
      "1346   40.0 -0.055745   0.027183   -0.964832   0.173842          0.0   \n",
      "1347   54.0  0.002146   0.007276   -0.354393   0.085221          0.0   \n",
      "1348   98.0 -0.054516   0.016342   -0.541786   0.138844          0.0   \n",
      "\n",
      "      freq2(GyrX)  amp1(GyrX)  amp2(GyrX)  <>(GyrY)  ...  amp2(RPM(ESC_5))  \\\n",
      "0            82.0    8.222915    4.483560 -0.018301  ...       6112.874365   \n",
      "1            77.0   25.021943    3.015462 -0.017663  ...       9467.652902   \n",
      "2           126.0   22.790126    4.745657  0.000144  ...       4203.926249   \n",
      "3           116.0   16.100116    6.618032 -0.013865  ...       7736.898709   \n",
      "4            80.0    2.028674    1.624877  0.042854  ...       8746.217881   \n",
      "...           ...         ...         ...       ...  ...               ...   \n",
      "1344          0.0    7.691705    7.275753 -0.008991  ...      14650.845405   \n",
      "1345         78.0    5.018325    4.681992 -0.008108  ...       5226.899904   \n",
      "1346         77.0   20.024310    3.074904 -0.016243  ...       6764.786634   \n",
      "1347        109.0    4.600068    3.408564  0.014684  ...       9659.590364   \n",
      "1348        123.0    3.240923    2.612877  0.011884  ...       6702.845460   \n",
      "\n",
      "      <>(Curr(ESC_5))  var(Curr(ESC_5))  kurt(Curr(ESC_5))  RMS(Curr(ESC_5))  \\\n",
      "0            3.818892          0.090956           0.371606          3.830749   \n",
      "1            4.894125          0.599455          -0.906707          4.954843   \n",
      "2            3.445910          0.510365           0.369984          3.519004   \n",
      "3            3.221705          0.077725          -1.008903          3.233718   \n",
      "4            3.117194          0.289575          -0.815632          3.163174   \n",
      "...               ...               ...                ...               ...   \n",
      "1344         3.200247          0.085946          -1.028404          3.213611   \n",
      "1345         3.413060          0.504165          -0.267104          3.485938   \n",
      "1346         4.803811          0.508247          -0.595843          4.856289   \n",
      "1347         3.994765          0.793038          -1.266559          4.092582   \n",
      "1348         3.453096          0.346894          -0.994243          3.502855   \n",
      "\n",
      "      freq1(Curr(ESC_5))  freq2(Curr(ESC_5))  amp1(Curr(ESC_5))  \\\n",
      "0                  127.0               126.0          13.713702   \n",
      "1                   99.0                97.0          25.733270   \n",
      "2                   93.0                94.0           5.762731   \n",
      "3                  144.0               141.0          14.420551   \n",
      "4                  128.0               125.0          36.148858   \n",
      "...                  ...                 ...                ...   \n",
      "1344               119.0               121.0           8.171292   \n",
      "1345               136.0               137.0           9.769554   \n",
      "1346                96.0                93.0          20.760730   \n",
      "1347               165.0               166.0          40.776288   \n",
      "1348               159.0               160.0          14.287081   \n",
      "\n",
      "      amp2(Curr(ESC_5))  Guasto  \n",
      "0              4.638154       2  \n",
      "1              9.767765       2  \n",
      "2              4.528368       0  \n",
      "3              8.399411       2  \n",
      "4              6.528011       1  \n",
      "...                 ...     ...  \n",
      "1344           7.796741       2  \n",
      "1345           9.297958       1  \n",
      "1346          10.350844       2  \n",
      "1347          26.947884       1  \n",
      "1348          13.505498       2  \n",
      "\n",
      "[1349 rows x 170 columns]\n"
     ]
    }
   ],
   "source": [
    "df_1 = df_1.sample(frac=1).reset_index(drop=True)\n",
    "print(df_1)"
   ]
  },
  {
   "cell_type": "code",
   "execution_count": 6,
   "metadata": {},
   "outputs": [
    {
     "name": "stdout",
     "output_type": "stream",
     "text": [
      "      <>(GyrX)  var(GyrX)  kurt(GyrX)  RMS(GyrX)  freq1(GyrX)  freq2(GyrX)  \\\n",
      "0    -0.035554   0.027477    1.465293   0.169302         83.0         82.0   \n",
      "1    -0.055574   0.025789   -0.877162   0.169751          0.0         77.0   \n",
      "2    -0.129602   0.032395   -0.702055   0.221610          0.0        126.0   \n",
      "3    -0.015786   0.017492    3.584369   0.133045          0.0        116.0   \n",
      "4    -0.014257   0.006134   -0.313065   0.079502         86.0         80.0   \n",
      "...        ...        ...         ...        ...          ...          ...   \n",
      "1344 -0.027534   0.018403    4.277618   0.138242         86.0          0.0   \n",
      "1345 -0.021563   0.009735    2.528592   0.100862         58.0         78.0   \n",
      "1346 -0.055745   0.027183   -0.964832   0.173842          0.0         77.0   \n",
      "1347  0.002146   0.007276   -0.354393   0.085221          0.0        109.0   \n",
      "1348 -0.054516   0.016342   -0.541786   0.138844          0.0        123.0   \n",
      "\n",
      "      amp1(GyrX)  amp2(GyrX)  <>(GyrY)  var(GyrY)  ...  amp2(RPM(ESC_5))  \\\n",
      "0       8.222915    4.483560 -0.018301   0.008335  ...       6112.874365   \n",
      "1      25.021943    3.015462 -0.017663   0.007880  ...       9467.652902   \n",
      "2      22.790126    4.745657  0.000144   0.005546  ...       4203.926249   \n",
      "3      16.100116    6.618032 -0.013865   0.013125  ...       7736.898709   \n",
      "4       2.028674    1.624877  0.042854   0.013177  ...       8746.217881   \n",
      "...          ...         ...       ...        ...  ...               ...   \n",
      "1344    7.691705    7.275753 -0.008991   0.014446  ...      14650.845405   \n",
      "1345    5.018325    4.681992 -0.008108   0.006480  ...       5226.899904   \n",
      "1346   20.024310    3.074904 -0.016243   0.007830  ...       6764.786634   \n",
      "1347    4.600068    3.408564  0.014684   0.005555  ...       9659.590364   \n",
      "1348    3.240923    2.612877  0.011884   0.024937  ...       6702.845460   \n",
      "\n",
      "      <>(Curr(ESC_5))  var(Curr(ESC_5))  kurt(Curr(ESC_5))  RMS(Curr(ESC_5))  \\\n",
      "0            3.818892          0.090956           0.371606          3.830749   \n",
      "1            4.894125          0.599455          -0.906707          4.954843   \n",
      "2            3.445910          0.510365           0.369984          3.519004   \n",
      "3            3.221705          0.077725          -1.008903          3.233718   \n",
      "4            3.117194          0.289575          -0.815632          3.163174   \n",
      "...               ...               ...                ...               ...   \n",
      "1344         3.200247          0.085946          -1.028404          3.213611   \n",
      "1345         3.413060          0.504165          -0.267104          3.485938   \n",
      "1346         4.803811          0.508247          -0.595843          4.856289   \n",
      "1347         3.994765          0.793038          -1.266559          4.092582   \n",
      "1348         3.453096          0.346894          -0.994243          3.502855   \n",
      "\n",
      "      freq1(Curr(ESC_5))  freq2(Curr(ESC_5))  amp1(Curr(ESC_5))  \\\n",
      "0                  127.0               126.0          13.713702   \n",
      "1                   99.0                97.0          25.733270   \n",
      "2                   93.0                94.0           5.762731   \n",
      "3                  144.0               141.0          14.420551   \n",
      "4                  128.0               125.0          36.148858   \n",
      "...                  ...                 ...                ...   \n",
      "1344               119.0               121.0           8.171292   \n",
      "1345               136.0               137.0           9.769554   \n",
      "1346                96.0                93.0          20.760730   \n",
      "1347               165.0               166.0          40.776288   \n",
      "1348               159.0               160.0          14.287081   \n",
      "\n",
      "      amp2(Curr(ESC_5))  Guasto  \n",
      "0              4.638154       2  \n",
      "1              9.767765       2  \n",
      "2              4.528368       0  \n",
      "3              8.399411       2  \n",
      "4              6.528011       1  \n",
      "...                 ...     ...  \n",
      "1344           7.796741       2  \n",
      "1345           9.297958       1  \n",
      "1346          10.350844       2  \n",
      "1347          26.947884       1  \n",
      "1348          13.505498       2  \n",
      "\n",
      "[1349 rows x 169 columns]\n"
     ]
    }
   ],
   "source": [
    "df_1 = df_1.drop(['tempo'], axis=1)\n",
    "print(df_1)"
   ]
  },
  {
   "cell_type": "code",
   "execution_count": 7,
   "metadata": {},
   "outputs": [
    {
     "name": "stdout",
     "output_type": "stream",
     "text": [
      "Index(['<>(RPM(ESC_5))', 'RMS(RPM(ESC_5))'], dtype='object')\n",
      "Index(['<>(GyrX)', 'var(GyrX)', 'kurt(GyrX)', 'RMS(GyrX)', 'freq1(GyrX)',\n",
      "       'freq2(GyrX)', 'amp1(GyrX)', 'amp2(GyrX)', '<>(GyrY)', 'var(GyrY)',\n",
      "       ...\n",
      "       'amp2(RPM(ESC_5))', '<>(Curr(ESC_5))', 'var(Curr(ESC_5))',\n",
      "       'kurt(Curr(ESC_5))', 'RMS(Curr(ESC_5))', 'freq1(Curr(ESC_5))',\n",
      "       'freq2(Curr(ESC_5))', 'amp1(Curr(ESC_5))', 'amp2(Curr(ESC_5))',\n",
      "       'Guasto'],\n",
      "      dtype='object', length=167)\n"
     ]
    }
   ],
   "source": [
    "correlated_features = set()\n",
    "correlation = df_1[df_1.columns[1:]].corr()['Guasto'][:].abs()\n",
    "correlation = correlation.loc[lambda x : ((x > 0.7) & (x < 1))]\n",
    "index = correlation.index\n",
    "print(index)\n",
    "df_1 = df_1.drop([col for col in df_1.columns if col in index],axis=1)\n",
    "print(df_1.columns)"
   ]
  },
  {
   "cell_type": "code",
   "execution_count": 8,
   "metadata": {},
   "outputs": [
    {
     "name": "stdout",
     "output_type": "stream",
     "text": [
      "     <>(GyrX)  var(GyrX)  kurt(GyrX)  RMS(GyrX)  freq1(GyrX)  freq2(GyrX)  \\\n",
      "340 -0.056104   0.027261   -0.963934   0.174179          0.0         81.0   \n",
      "\n",
      "     amp1(GyrX)  amp2(GyrX)  <>(GyrY)  var(GyrY)  ...  amp2(RPM(ESC_5))  \\\n",
      "340   19.451347    2.115155  -0.01608   0.007801  ...       6612.534625   \n",
      "\n",
      "     <>(Curr(ESC_5))  var(Curr(ESC_5))  kurt(Curr(ESC_5))  RMS(Curr(ESC_5))  \\\n",
      "340          4.79653          0.500476          -0.568933          4.848287   \n",
      "\n",
      "     freq1(Curr(ESC_5))  freq2(Curr(ESC_5))  amp1(Curr(ESC_5))  \\\n",
      "340                97.0                94.0          20.020782   \n",
      "\n",
      "     amp2(Curr(ESC_5))  Guasto  \n",
      "340           10.46142       2  \n",
      "\n",
      "[1 rows x 167 columns]\n"
     ]
    }
   ],
   "source": [
    "index_list = [340]\n",
    "df_test = df_1.query('index in @index_list')\n",
    "#df_test = pd.DataFrame(df_test)\n",
    "print(df_test)"
   ]
  },
  {
   "cell_type": "code",
   "execution_count": 9,
   "metadata": {},
   "outputs": [],
   "source": [
    "# Drop values to avoid multicolinearity\n",
    "df_test = df_test.drop(['Guasto'], axis=1)"
   ]
  },
  {
   "cell_type": "code",
   "execution_count": 10,
   "metadata": {},
   "outputs": [
    {
     "name": "stdout",
     "output_type": "stream",
     "text": [
      "      <>(GyrX)  var(GyrX)  kurt(GyrX)  RMS(GyrX)  freq1(GyrX)  freq2(GyrX)  \\\n",
      "0    -0.035554   0.027477    1.465293   0.169302         83.0         82.0   \n",
      "1    -0.055574   0.025789   -0.877162   0.169751          0.0         77.0   \n",
      "2    -0.129602   0.032395   -0.702055   0.221610          0.0        126.0   \n",
      "3    -0.015786   0.017492    3.584369   0.133045          0.0        116.0   \n",
      "4    -0.014257   0.006134   -0.313065   0.079502         86.0         80.0   \n",
      "...        ...        ...         ...        ...          ...          ...   \n",
      "1344 -0.027534   0.018403    4.277618   0.138242         86.0          0.0   \n",
      "1345 -0.021563   0.009735    2.528592   0.100862         58.0         78.0   \n",
      "1346 -0.055745   0.027183   -0.964832   0.173842          0.0         77.0   \n",
      "1347  0.002146   0.007276   -0.354393   0.085221          0.0        109.0   \n",
      "1348 -0.054516   0.016342   -0.541786   0.138844          0.0        123.0   \n",
      "\n",
      "      amp1(GyrX)  amp2(GyrX)  <>(GyrY)  var(GyrY)  ...  amp2(RPM(ESC_5))  \\\n",
      "0       8.222915    4.483560 -0.018301   0.008335  ...       6112.874365   \n",
      "1      25.021943    3.015462 -0.017663   0.007880  ...       9467.652902   \n",
      "2      22.790126    4.745657  0.000144   0.005546  ...       4203.926249   \n",
      "3      16.100116    6.618032 -0.013865   0.013125  ...       7736.898709   \n",
      "4       2.028674    1.624877  0.042854   0.013177  ...       8746.217881   \n",
      "...          ...         ...       ...        ...  ...               ...   \n",
      "1344    7.691705    7.275753 -0.008991   0.014446  ...      14650.845405   \n",
      "1345    5.018325    4.681992 -0.008108   0.006480  ...       5226.899904   \n",
      "1346   20.024310    3.074904 -0.016243   0.007830  ...       6764.786634   \n",
      "1347    4.600068    3.408564  0.014684   0.005555  ...       9659.590364   \n",
      "1348    3.240923    2.612877  0.011884   0.024937  ...       6702.845460   \n",
      "\n",
      "      <>(Curr(ESC_5))  var(Curr(ESC_5))  kurt(Curr(ESC_5))  RMS(Curr(ESC_5))  \\\n",
      "0            3.818892          0.090956           0.371606          3.830749   \n",
      "1            4.894125          0.599455          -0.906707          4.954843   \n",
      "2            3.445910          0.510365           0.369984          3.519004   \n",
      "3            3.221705          0.077725          -1.008903          3.233718   \n",
      "4            3.117194          0.289575          -0.815632          3.163174   \n",
      "...               ...               ...                ...               ...   \n",
      "1344         3.200247          0.085946          -1.028404          3.213611   \n",
      "1345         3.413060          0.504165          -0.267104          3.485938   \n",
      "1346         4.803811          0.508247          -0.595843          4.856289   \n",
      "1347         3.994765          0.793038          -1.266559          4.092582   \n",
      "1348         3.453096          0.346894          -0.994243          3.502855   \n",
      "\n",
      "      freq1(Curr(ESC_5))  freq2(Curr(ESC_5))  amp1(Curr(ESC_5))  \\\n",
      "0                  127.0               126.0          13.713702   \n",
      "1                   99.0                97.0          25.733270   \n",
      "2                   93.0                94.0           5.762731   \n",
      "3                  144.0               141.0          14.420551   \n",
      "4                  128.0               125.0          36.148858   \n",
      "...                  ...                 ...                ...   \n",
      "1344               119.0               121.0           8.171292   \n",
      "1345               136.0               137.0           9.769554   \n",
      "1346                96.0                93.0          20.760730   \n",
      "1347               165.0               166.0          40.776288   \n",
      "1348               159.0               160.0          14.287081   \n",
      "\n",
      "      amp2(Curr(ESC_5))  Guasto  \n",
      "0              4.638154       2  \n",
      "1              9.767765       2  \n",
      "2              4.528368       0  \n",
      "3              8.399411       2  \n",
      "4              6.528011       1  \n",
      "...                 ...     ...  \n",
      "1344           7.796741       2  \n",
      "1345           9.297958       1  \n",
      "1346          10.350844       2  \n",
      "1347          26.947884       1  \n",
      "1348          13.505498       2  \n",
      "\n",
      "[1348 rows x 167 columns]\n"
     ]
    }
   ],
   "source": [
    "#df_1 = df_1.drop([df_1.index[1330], df_1.index[1331]])\n",
    "df_1 = df_1.drop([df_1.index[340]])\n",
    "print(df_1)"
   ]
  },
  {
   "attachments": {},
   "cell_type": "markdown",
   "metadata": {},
   "source": [
    "### Bilanciamento del dataset"
   ]
  },
  {
   "cell_type": "code",
   "execution_count": 11,
   "metadata": {},
   "outputs": [],
   "source": [
    "x = df_1.iloc[:,:-1]\n",
    "y = df_1.iloc[:,-1:]"
   ]
  },
  {
   "cell_type": "code",
   "execution_count": 12,
   "metadata": {},
   "outputs": [
    {
     "name": "stdout",
     "output_type": "stream",
     "text": [
      "      <>(GyrX)  var(GyrX)  kurt(GyrX)  RMS(GyrX)  freq1(GyrX)  freq2(GyrX)  \\\n",
      "0    -0.035554   0.027477    1.465293   0.169302    83.000000    82.000000   \n",
      "1    -0.055574   0.025789   -0.877162   0.169751     0.000000    77.000000   \n",
      "2    -0.129602   0.032395   -0.702055   0.221610     0.000000   126.000000   \n",
      "3    -0.015786   0.017492    3.584369   0.133045     0.000000   116.000000   \n",
      "4    -0.014257   0.006134   -0.313065   0.079502    86.000000    80.000000   \n",
      "...        ...        ...         ...        ...          ...          ...   \n",
      "1615 -0.024936   0.009756    2.388179   0.101744    81.554302    61.777151   \n",
      "1616  0.006309   0.007564   -0.458162   0.087084     0.000000    84.117866   \n",
      "1617  0.006476   0.007568   -0.458685   0.087118     0.000000    83.333611   \n",
      "1618 -0.121512   0.038459   -0.385610   0.230490    78.215821    57.892090   \n",
      "1619 -0.008157   0.011725    2.358361   0.108449    60.000000    68.583991   \n",
      "\n",
      "      amp1(GyrX)  amp2(GyrX)  <>(GyrY)  var(GyrY)  ...  amp1(RPM(ESC_5))  \\\n",
      "0       8.222915    4.483560 -0.018301   0.008335  ...      10663.141115   \n",
      "1      25.021943    3.015462 -0.017663   0.007880  ...      11349.110369   \n",
      "2      22.790126    4.745657  0.000144   0.005546  ...       5883.194277   \n",
      "3      16.100116    6.618032 -0.013865   0.013125  ...      11215.259207   \n",
      "4       2.028674    1.624877  0.042854   0.013177  ...      14291.271943   \n",
      "...          ...         ...       ...        ...  ...               ...   \n",
      "1615    5.715121    4.290186 -0.008420   0.006255  ...      12140.940028   \n",
      "1616    3.271103    1.983973  0.017674   0.005759  ...      12724.567015   \n",
      "1617    3.240015    1.964660  0.017803   0.005765  ...      13107.840678   \n",
      "1618    8.015733    6.008606  0.040754   0.010405  ...      18047.452338   \n",
      "1619    5.141798    2.982712  0.062523   0.011069  ...      22146.001337   \n",
      "\n",
      "      amp2(RPM(ESC_5))  <>(Curr(ESC_5))  var(Curr(ESC_5))  kurt(Curr(ESC_5))  \\\n",
      "0          6112.874365         3.818892          0.090956           0.371606   \n",
      "1          9467.652902         4.894125          0.599455          -0.906707   \n",
      "2          4203.926249         3.445910          0.510365           0.369984   \n",
      "3          7736.898709         3.221705          0.077725          -1.008903   \n",
      "4          8746.217881         3.117194          0.289575          -0.815632   \n",
      "...                ...              ...               ...                ...   \n",
      "1615       5686.083240         3.398358          0.490834          -0.255104   \n",
      "1616       8611.290914         4.036362          0.837915          -1.412553   \n",
      "1617       8357.377039         4.037481          0.839461          -1.416728   \n",
      "1618      11757.539881         3.269134          0.583978          -0.909829   \n",
      "1619       9121.326605         3.513679          0.735643          -0.667589   \n",
      "\n",
      "      RMS(Curr(ESC_5))  freq1(Curr(ESC_5))  freq2(Curr(ESC_5))  \\\n",
      "0             3.830749          127.000000          126.000000   \n",
      "1             4.954843           99.000000           97.000000   \n",
      "2             3.519004           93.000000           94.000000   \n",
      "3             3.233718          144.000000          141.000000   \n",
      "4             3.163174          128.000000          125.000000   \n",
      "...                ...                 ...                 ...   \n",
      "1615          3.469636          134.891396          135.891396   \n",
      "1616          4.138586          143.223573          139.223573   \n",
      "1617          4.139863          141.238056          137.238056   \n",
      "1618          3.357041          139.000000          138.000000   \n",
      "1619          3.616585          107.472003          105.472003   \n",
      "\n",
      "      amp1(Curr(ESC_5))  amp2(Curr(ESC_5))  \n",
      "0             13.713702           4.638154  \n",
      "1             25.733270           9.767765  \n",
      "2              5.762731           4.528368  \n",
      "3             14.420551           8.399411  \n",
      "4             36.148858           6.528011  \n",
      "...                 ...                ...  \n",
      "1615          11.286782           7.675826  \n",
      "1616          53.490603          21.336372  \n",
      "1617          54.072494          20.840137  \n",
      "1618          54.817120          33.659463  \n",
      "1619          17.123387           5.880666  \n",
      "\n",
      "[1620 rows x 166 columns]\n"
     ]
    }
   ],
   "source": [
    "oversample = SMOTE()\n",
    "x, y = oversample.fit_resample(x,y)\n",
    "print(x)"
   ]
  },
  {
   "attachments": {},
   "cell_type": "markdown",
   "metadata": {},
   "source": [
    "# Selezione feature più importanti"
   ]
  },
  {
   "cell_type": "code",
   "execution_count": 13,
   "metadata": {},
   "outputs": [
    {
     "name": "stdout",
     "output_type": "stream",
     "text": [
      "SelectKBest(k=70, score_func=<function f_regression at 0x000002BA37405120>)\n",
      "[ True  True  True False  True False False False  True  True False  True\n",
      "  True False  True  True False  True  True  True False False  True False\n",
      "  True False False False  True False  True  True  True  True  True  True\n",
      " False False False False False False False False False False  True  True\n",
      " False  True  True  True False False False False False  True False  True\n",
      "  True  True  True  True False False False False False False False False\n",
      "  True False False  True  True  True  True  True  True  True False  True\n",
      " False False False False False False  True False  True  True False False\n",
      " False  True False  True False False False  True  True False False  True\n",
      " False False False False  True  True False False  True  True False False\n",
      "  True False  True False  True  True False False False False  True False\n",
      " False False False False False False  True False False False False False\n",
      " False False  True False False False False False  True  True False False\n",
      "  True  True  True  True False  True  True  True False False]\n"
     ]
    }
   ],
   "source": [
    "from sklearn.feature_selection import SelectKBest, mutual_info_classif, f_classif, f_regression\n",
    "fvalue_Best = SelectKBest(score_func=f_regression, k=70)\n",
    "fit = fvalue_Best.fit(x, y)\n",
    "print(fit)\n",
    "print(fvalue_Best.get_support())"
   ]
  },
  {
   "cell_type": "code",
   "execution_count": 14,
   "metadata": {},
   "outputs": [
    {
     "name": "stdout",
     "output_type": "stream",
     "text": [
      "         Input_Features   F_Score\n",
      "34           kurt(AccY)  5.294430\n",
      "28          freq1(AccX)  3.436175\n",
      "12          freq1(GyrY)  3.112095\n",
      "11            RMS(GyrY)  2.822848\n",
      "153    kurt(RPM(ESC_5))  2.696693\n",
      "93    freq2(RPM(ESC_1))  2.686305\n",
      "92    freq1(RPM(ESC_1))  2.680150\n",
      "9             var(GyrY)  2.670566\n",
      "14           amp1(GyrY)  2.461874\n",
      "159    var(Curr(ESC_5))  2.251246\n",
      "104      <>(RPM(ESC_2))  1.897530\n",
      "8              <>(GyrY)  1.809157\n",
      "78     amp1(RPM(ESC_0))  1.774679\n",
      "152     var(RPM(ESC_5))  1.765943\n",
      "107     RMS(RPM(ESC_2))  1.602876\n",
      "22           amp1(GyrZ)  1.494824\n",
      "32             <>(AccY)  1.443500\n",
      "62          amp1(Pitch)  1.220665\n",
      "76    freq1(RPM(ESC_0))  1.140811\n",
      "30           amp1(AccX)  1.112018\n",
      "17            var(GyrZ)  1.025869\n",
      "80      <>(Curr(ESC_0))  0.994960\n",
      "77    freq2(RPM(ESC_0))  0.993452\n",
      "19            RMS(GyrZ)  0.963156\n",
      "4           freq1(GyrX)  0.891734\n",
      "57           var(Pitch)  0.889289\n",
      "81     var(Curr(ESC_0))  0.722362\n",
      "156    amp1(RPM(ESC_5))  0.704150\n",
      "97     var(Curr(ESC_1))  0.660118\n",
      "15           amp2(GyrY)  0.626311\n",
      "83     RMS(Curr(ESC_0))  0.600595\n",
      "59           RMS(Pitch)  0.553057\n",
      "0              <>(GyrX)  0.541753\n",
      "125   freq2(RPM(ESC_3))  0.354841\n",
      "124   freq1(RPM(ESC_3))  0.348977\n",
      "158     <>(Curr(ESC_5))  0.340680\n",
      "18           kurt(GyrZ)  0.235332\n",
      "113    var(Curr(ESC_2))  0.219175\n",
      "103   amp2(Curr(ESC_1))  0.201969\n",
      "138    kurt(RPM(ESC_4))  0.180460\n",
      "1             var(GyrX)  0.138318\n",
      "146   kurt(Curr(ESC_4))  0.136338\n",
      "35            RMS(AccY)  0.129787\n",
      "47           amp2(AccZ)  0.115860\n",
      "61         freq2(Pitch)  0.083012\n",
      "122    kurt(RPM(ESC_3))  0.079772\n",
      "46           amp1(AccZ)  0.078772\n",
      "90     kurt(RPM(ESC_1))  0.078672\n",
      "24             <>(AccX)  0.070392\n",
      "157    amp2(RPM(ESC_5))  0.013787\n",
      "60         freq1(Pitch) -0.030078\n",
      "72       <>(RPM(ESC_0)) -0.031801\n",
      "161    RMS(Curr(ESC_5)) -0.033913\n",
      "31           amp2(AccX) -0.037471\n",
      "130   kurt(Curr(ESC_3)) -0.054146\n",
      "50           kurt(Roll) -0.065685\n",
      "51            RMS(Roll) -0.072231\n",
      "99     RMS(Curr(ESC_1)) -0.085234\n",
      "163  freq2(Curr(ESC_5)) -0.107893\n",
      "2            kurt(GyrX) -0.141073\n"
     ]
    }
   ],
   "source": [
    "features_score = pd.DataFrame(fit.scores_)\n",
    "features_score = zscore(features_score)\n",
    "features = pd.DataFrame(x.columns)\n",
    "feature_score = pd.concat([features,features_score],axis=1)\n",
    "# Assigning column names\n",
    "feature_score.columns = [\"Input_Features\",\"F_Score\"]\n",
    "print(feature_score.nlargest(60,columns=\"F_Score\"))"
   ]
  },
  {
   "cell_type": "code",
   "execution_count": 15,
   "metadata": {},
   "outputs": [
    {
     "name": "stdout",
     "output_type": "stream",
     "text": [
      "[3, 5, 6, 7, 10, 13, 16, 20, 21, 23, 25, 26, 27, 29, 36, 37, 38, 39, 40, 41, 42, 43, 44, 45, 48, 52, 53, 54, 55, 56, 58, 64, 65, 66, 67, 68, 69, 70, 71, 73, 74, 82, 84, 85, 86, 87, 88, 89, 91, 94, 95, 96, 98, 100, 101, 102, 105, 106, 108, 109, 110, 111, 114, 115, 118, 119, 121, 123, 126, 127, 128, 129, 131, 132, 133, 134, 135, 136, 137, 139, 140, 141, 142, 143, 144, 145, 147, 148, 149, 150, 151, 154, 155, 160, 164, 165]\n"
     ]
    }
   ],
   "source": [
    "i=0\n",
    "index_false=[]\n",
    "for el in list(fvalue_Best.get_support()):\n",
    "    if not el:\n",
    "        index_false.append(i)\n",
    "    i=i+1\n",
    "print(index_false)"
   ]
  },
  {
   "cell_type": "code",
   "execution_count": 16,
   "metadata": {},
   "outputs": [
    {
     "name": "stdout",
     "output_type": "stream",
     "text": [
      "      <>(GyrX)  var(GyrX)  kurt(GyrX)  freq1(GyrX)  <>(GyrY)  var(GyrY)  \\\n",
      "0    -0.035554   0.027477    1.465293    83.000000 -0.018301   0.008335   \n",
      "1    -0.055574   0.025789   -0.877162     0.000000 -0.017663   0.007880   \n",
      "2    -0.129602   0.032395   -0.702055     0.000000  0.000144   0.005546   \n",
      "3    -0.015786   0.017492    3.584369     0.000000 -0.013865   0.013125   \n",
      "4    -0.014257   0.006134   -0.313065    86.000000  0.042854   0.013177   \n",
      "...        ...        ...         ...          ...       ...        ...   \n",
      "1615 -0.024936   0.009756    2.388179    81.554302 -0.008420   0.006255   \n",
      "1616  0.006309   0.007564   -0.458162     0.000000  0.017674   0.005759   \n",
      "1617  0.006476   0.007568   -0.458685     0.000000  0.017803   0.005765   \n",
      "1618 -0.121512   0.038459   -0.385610    78.215821  0.040754   0.010405   \n",
      "1619 -0.008157   0.011725    2.358361    60.000000  0.062523   0.011069   \n",
      "\n",
      "      RMS(GyrY)  freq1(GyrY)  amp1(GyrY)  amp2(GyrY)  ...  kurt(Curr(ESC_4))  \\\n",
      "0      0.092986    67.000000    3.634382    2.770190  ...          -1.077281   \n",
      "1      0.090405   112.000000   10.449182    6.791591  ...          -0.736924   \n",
      "2      0.074379    83.000000    2.737913    1.622535  ...           0.435373   \n",
      "3      0.115269     0.000000    4.422408    4.364563  ...          -1.482029   \n",
      "4      0.122379   100.000000   12.412108    2.632227  ...          -0.576676   \n",
      "...         ...          ...         ...         ...  ...                ...   \n",
      "1615   0.079432   106.548661    5.742399    5.003279  ...          -1.238235   \n",
      "1616   0.077818    86.540695    1.823172    1.458233  ...          -0.922845   \n",
      "1617   0.077887    88.570834    1.613712    1.351195  ...          -0.927291   \n",
      "1618   0.109723   102.568359    3.673927    2.316992  ...          -0.655318   \n",
      "1619   0.122268    95.685331    2.332021    1.739080  ...          -0.114550   \n",
      "\n",
      "      var(RPM(ESC_5))  kurt(RPM(ESC_5))  amp1(RPM(ESC_5))  amp2(RPM(ESC_5))  \\\n",
      "0        6.961188e+05          0.097592      10663.141115       6112.874365   \n",
      "1        7.521719e+05          0.055415      11349.110369       9467.652902   \n",
      "2        7.933536e+05         -0.562456       5883.194277       4203.926249   \n",
      "3        4.325719e+05          0.041816      11215.259207       7736.898709   \n",
      "4        1.203354e+06         -0.534901      14291.271943       8746.217881   \n",
      "...               ...               ...               ...               ...   \n",
      "1615     9.656155e+05         -0.852248      12140.940028       5686.083240   \n",
      "1616     2.323655e+06          0.607024      12724.567015       8611.290914   \n",
      "1617     2.327870e+06          0.595396      13107.840678       8357.377039   \n",
      "1618     8.990499e+05         -1.513511      18047.452338      11757.539881   \n",
      "1619     1.096472e+06         -1.097870      22146.001337       9121.326605   \n",
      "\n",
      "      <>(Curr(ESC_5))  var(Curr(ESC_5))  RMS(Curr(ESC_5))  freq1(Curr(ESC_5))  \\\n",
      "0            3.818892          0.090956          3.830749          127.000000   \n",
      "1            4.894125          0.599455          4.954843           99.000000   \n",
      "2            3.445910          0.510365          3.519004           93.000000   \n",
      "3            3.221705          0.077725          3.233718          144.000000   \n",
      "4            3.117194          0.289575          3.163174          128.000000   \n",
      "...               ...               ...               ...                 ...   \n",
      "1615         3.398358          0.490834          3.469636          134.891396   \n",
      "1616         4.036362          0.837915          4.138586          143.223573   \n",
      "1617         4.037481          0.839461          4.139863          141.238056   \n",
      "1618         3.269134          0.583978          3.357041          139.000000   \n",
      "1619         3.513679          0.735643          3.616585          107.472003   \n",
      "\n",
      "      freq2(Curr(ESC_5))  \n",
      "0             126.000000  \n",
      "1              97.000000  \n",
      "2              94.000000  \n",
      "3             141.000000  \n",
      "4             125.000000  \n",
      "...                  ...  \n",
      "1615          135.891396  \n",
      "1616          139.223573  \n",
      "1617          137.238056  \n",
      "1618          138.000000  \n",
      "1619          105.472003  \n",
      "\n",
      "[1620 rows x 70 columns]\n"
     ]
    }
   ],
   "source": [
    "x=x.drop(x.columns[index_false],axis = 1)\n",
    "print(x)"
   ]
  },
  {
   "cell_type": "code",
   "execution_count": 17,
   "metadata": {},
   "outputs": [
    {
     "name": "stdout",
     "output_type": "stream",
     "text": [
      "     <>(GyrX)  var(GyrX)  kurt(GyrX)  freq1(GyrX)  <>(GyrY)  var(GyrY)  \\\n",
      "340 -0.056104   0.027261   -0.963934          0.0  -0.01608   0.007801   \n",
      "\n",
      "     RMS(GyrY)  freq1(GyrY)  amp1(GyrY)  amp2(GyrY)  ...  kurt(Curr(ESC_4))  \\\n",
      "340   0.089665        110.0    6.266058    4.781293  ...          -0.588091   \n",
      "\n",
      "     var(RPM(ESC_5))  kurt(RPM(ESC_5))  amp1(RPM(ESC_5))  amp2(RPM(ESC_5))  \\\n",
      "340    745609.492566         -0.114142      12411.162933       6612.534625   \n",
      "\n",
      "     <>(Curr(ESC_5))  var(Curr(ESC_5))  RMS(Curr(ESC_5))  freq1(Curr(ESC_5))  \\\n",
      "340          4.79653          0.500476          4.848287                97.0   \n",
      "\n",
      "     freq2(Curr(ESC_5))  \n",
      "340                94.0  \n",
      "\n",
      "[1 rows x 70 columns]\n"
     ]
    }
   ],
   "source": [
    "df_test=df_test.drop(df_test.columns[index_false],axis = 1)\n",
    "print(df_test)"
   ]
  },
  {
   "cell_type": "code",
   "execution_count": 18,
   "metadata": {},
   "outputs": [
    {
     "name": "stdout",
     "output_type": "stream",
     "text": [
      "      <>(GyrX)  var(GyrX)  kurt(GyrX)  freq1(GyrX)  <>(GyrY)  var(GyrZ)  \\\n",
      "0    -0.035554   0.027477    1.465293    83.000000 -0.018301   0.006960   \n",
      "1    -0.055574   0.025789   -0.877162     0.000000 -0.017663   0.043928   \n",
      "2    -0.129602   0.032395   -0.702055     0.000000  0.000144   0.008039   \n",
      "3    -0.015786   0.017492    3.584369     0.000000 -0.013865   0.004772   \n",
      "4    -0.014257   0.006134   -0.313065    86.000000  0.042854   0.008696   \n",
      "...        ...        ...         ...          ...       ...        ...   \n",
      "1615 -0.024936   0.009756    2.388179    81.554302 -0.008420   0.004681   \n",
      "1616  0.006309   0.007564   -0.458162     0.000000  0.017674   0.005906   \n",
      "1617  0.006476   0.007568   -0.458685     0.000000  0.017803   0.005911   \n",
      "1618 -0.121512   0.038459   -0.385610    78.215821  0.040754   0.004683   \n",
      "1619 -0.008157   0.011725    2.358361    60.000000  0.062523   0.004824   \n",
      "\n",
      "      kurt(GyrZ)  RMS(GyrZ)  amp1(GyrZ)  <>(AccX)  ...  var(Curr(ESC_1))  \\\n",
      "0      -0.965500   0.168092    0.859417 -0.180124  ...          1.284539   \n",
      "1       0.434398   0.219625    0.959856 -0.248907  ...          0.354364   \n",
      "2      -1.360984   0.162550    2.112257 -0.351849  ...          0.193428   \n",
      "3      -0.736580   0.146897    0.579116 -0.042026  ...          0.568770   \n",
      "4      -1.434468   0.154110    1.751922  0.108588  ...          0.513144   \n",
      "...          ...        ...         ...       ...  ...               ...   \n",
      "1615   -1.382664   0.111369    2.511957 -0.060306  ...          0.552938   \n",
      "1616   -0.911959   0.161833    0.874840  0.019297  ...          2.080925   \n",
      "1617   -0.911047   0.161981    0.877030  0.019123  ...          2.081840   \n",
      "1618   -1.218143   0.126489    0.831477  0.137645  ...          0.543899   \n",
      "1619   -1.419805   0.109267    0.976681  0.112151  ...          0.489205   \n",
      "\n",
      "      RMS(Curr(ESC_1))  amp2(Curr(ESC_1))  var(Curr(ESC_2))  \\\n",
      "0             2.833354           8.488311          0.119902   \n",
      "1             2.563035          13.450090          0.527993   \n",
      "2             2.102970           8.729700          0.224793   \n",
      "3             2.539022          17.262251          0.195688   \n",
      "4             2.467442          16.332299          0.460626   \n",
      "...                ...                ...               ...   \n",
      "1615          2.471236          18.097116          0.303111   \n",
      "1616          3.126440          14.287020          0.344000   \n",
      "1617          3.129424          15.004191          0.344741   \n",
      "1618          2.730395          11.770354          0.444945   \n",
      "1619          2.865530          17.586909          1.134357   \n",
      "\n",
      "      freq1(Curr(ESC_2))  kurt(RPM(ESC_3))  kurt(Curr(ESC_3))  \\\n",
      "0             111.000000         -0.538936          -1.162445   \n",
      "1              81.000000         -0.442693          -1.143284   \n",
      "2             129.000000         -0.498870           0.022130   \n",
      "3             124.000000          0.433435          -0.322158   \n",
      "4             109.000000         -1.132470          -1.171434   \n",
      "...                  ...               ...                ...   \n",
      "1615          129.000000         -1.005728           0.556515   \n",
      "1616          150.223573         -0.041628          -1.841566   \n",
      "1617          150.523889         -0.049268          -1.842081   \n",
      "1618           94.381346         -0.624183          -0.801465   \n",
      "1619          133.842666         -0.442172          -0.078356   \n",
      "\n",
      "      kurt(RPM(ESC_4))  amp2(RPM(ESC_5))  freq1(Curr(ESC_5))  \n",
      "0             0.855177       6112.874365          127.000000  \n",
      "1             0.397496       9467.652902           99.000000  \n",
      "2             0.167684       4203.926249           93.000000  \n",
      "3            -0.042429       7736.898709          144.000000  \n",
      "4            -0.726127       8746.217881          128.000000  \n",
      "...                ...               ...                 ...  \n",
      "1615         -0.925535       5686.083240          134.891396  \n",
      "1616          0.179788       8611.290914          143.223573  \n",
      "1617          0.172900       8357.377039          141.238056  \n",
      "1618         -1.241260      11757.539881          139.000000  \n",
      "1619         -0.962690       9121.326605          107.472003  \n",
      "\n",
      "[1620 rows x 28 columns]\n"
     ]
    }
   ],
   "source": [
    "correlated_features = set()\n",
    "correlation_matrix = x.corr()\n",
    "\n",
    "for i in range(len(correlation_matrix.columns)):\n",
    "    for j in range(i):\n",
    "        if (correlation_matrix.iloc[i, j] > 0.8) | (correlation_matrix.iloc[i, j] < -0.5):\n",
    "            colname = correlation_matrix.columns[i]\n",
    "            correlated_features.add(colname)\n",
    "\n",
    "x = x.drop([col for col in x.columns if col in correlated_features],axis=1)\n",
    "print(x)"
   ]
  },
  {
   "cell_type": "code",
   "execution_count": 19,
   "metadata": {},
   "outputs": [
    {
     "name": "stdout",
     "output_type": "stream",
     "text": [
      "     <>(GyrX)  var(GyrX)  kurt(GyrX)  freq1(GyrX)  <>(GyrY)  var(GyrZ)  \\\n",
      "340 -0.056104   0.027261   -0.963934          0.0  -0.01608   0.027671   \n",
      "\n",
      "     kurt(GyrZ)  RMS(GyrZ)  amp1(GyrZ)  <>(AccX)  ...  var(Curr(ESC_1))  \\\n",
      "340    1.159139   0.195182    0.889998 -0.246965  ...           0.29935   \n",
      "\n",
      "     RMS(Curr(ESC_1))  amp2(Curr(ESC_1))  var(Curr(ESC_2))  \\\n",
      "340          2.621111           6.106965           0.43651   \n",
      "\n",
      "     freq1(Curr(ESC_2))  kurt(RPM(ESC_3))  kurt(Curr(ESC_3))  \\\n",
      "340                78.0          -0.43875          -0.943089   \n",
      "\n",
      "     kurt(RPM(ESC_4))  amp2(RPM(ESC_5))  freq1(Curr(ESC_5))  \n",
      "340          0.559403       6612.534625                97.0  \n",
      "\n",
      "[1 rows x 28 columns]\n"
     ]
    }
   ],
   "source": [
    "df_test=df_test.drop([col for col in df_test.columns if col in correlated_features],axis=1)\n",
    "print(df_test)"
   ]
  },
  {
   "cell_type": "code",
   "execution_count": null,
   "metadata": {},
   "outputs": [],
   "source": [
    "plt.figure(figsize=(30,15))\n",
    "ax = sns.heatmap(x[x.columns].corr(),cmap=\"Blues\",annot=True,annot_kws={\"size\": 18})"
   ]
  },
  {
   "attachments": {},
   "cell_type": "markdown",
   "metadata": {},
   "source": [
    "### Separazione del dataset in training e test"
   ]
  },
  {
   "cell_type": "code",
   "execution_count": 21,
   "metadata": {},
   "outputs": [
    {
     "name": "stdout",
     "output_type": "stream",
     "text": [
      "(1296, 28)\n",
      "(324, 28)\n",
      "(1296, 1)\n",
      "(324, 1)\n"
     ]
    }
   ],
   "source": [
    "# Random state\n",
    "rs = 42\n",
    "\n",
    "# Split the data to check which algorithms learn better (later on we can check )\n",
    "x_train, x_test, y_train, y_test = train_test_split(x, y, test_size=0.2, random_state=rs)\n",
    "y_train = y_train.astype(int)\n",
    "y_test = y_test.astype(int)\n",
    "\n",
    "# look at the shape of the data (many problems can arise from wrong shape)\n",
    "print(x_train.shape)\n",
    "print(x_test.shape)\n",
    "print(y_train.shape)\n",
    "print(y_test.shape)"
   ]
  },
  {
   "cell_type": "code",
   "execution_count": 22,
   "metadata": {},
   "outputs": [],
   "source": [
    "from sklearn.calibration import CalibratedClassifierCV\n",
    "\n",
    "# List of classifiers:\n",
    "classifiers = [\n",
    "    LogisticRegression(random_state = rs),\n",
    "    SVC(probability=True),\n",
    "    MLPClassifier(random_state=rs), # Multi Layer Perceptron\n",
    "    SGDClassifier(random_state=rs) # Stochastic Gradient Descent \n",
    "]\n",
    "\n",
    "# List of results that will occure:\n",
    "clf_name = [] # names of the classifiers\n",
    "model_results = pd.DataFrame.copy(y_test) #resulting of prediction from the models\n",
    "\n",
    "kfold = StratifiedKFold(n_splits=5) #cross-validation\n",
    "cv_results = [] # scores from cross validation\n",
    "cv_acc = [] # mean accuracy from cross validation, need to maximize\n",
    "cv_std = [] # standard deviation from cross validation, need to minimise\n",
    "\n",
    "cnfm = [] #confusion matrix\n",
    "clr = [] #classification report\n",
    "roc_auc = [] #roc curve:\n",
    "roc_tpr = []\n",
    "roc_fpr = []"
   ]
  },
  {
   "attachments": {},
   "cell_type": "markdown",
   "metadata": {},
   "source": [
    "### Classificazione"
   ]
  },
  {
   "cell_type": "code",
   "execution_count": 23,
   "metadata": {},
   "outputs": [
    {
     "name": "stdout",
     "output_type": "stream",
     "text": [
      "Cross-Validation: [0.80769231 0.77606178 0.83783784 0.81081081 0.84942085]\n",
      "Accuracy: 0.87 \t ---> LogisticRegression \n",
      "Test: 2    1\n",
      "Name: Guasto_test, dtype: int64\n"
     ]
    },
    {
     "data": {
      "image/png": "[encoded data removed]",
      "text/plain": [
       "<Figure size 432x288 with 1 Axes>"
      ]
     },
     "metadata": {
      "needs_background": "light"
     },
     "output_type": "display_data"
    },
    {
     "name": "stdout",
     "output_type": "stream",
     "text": [
      "----------------------------------------------------\n",
      "Cross-Validation: [0.69230769 0.67953668 0.63320463 0.62162162 0.6988417 ]\n",
      "Accuracy: 0.67 \t ---> SVC \n",
      "Test: 2    1\n",
      "Name: Guasto_test, dtype: int64\n"
     ]
    },
    {
     "data": {
      "image/png": "[encoded data removed]",
      "text/plain": [
       "<Figure size 432x288 with 1 Axes>"
      ]
     },
     "metadata": {
      "needs_background": "light"
     },
     "output_type": "display_data"
    },
    {
     "name": "stdout",
     "output_type": "stream",
     "text": [
      "----------------------------------------------------\n",
      "Cross-Validation: [0.76538462 0.7992278  0.88803089 0.59073359 0.84942085]\n",
      "Accuracy: 0.9 \t ---> MLPClassifier \n",
      "Test: 2    1\n",
      "Name: Guasto_test, dtype: int64\n"
     ]
    },
    {
     "data": {
      "image/png": "[encoded data removed]",
      "text/plain": [
       "<Figure size 432x288 with 1 Axes>"
      ]
     },
     "metadata": {
      "needs_background": "light"
     },
     "output_type": "display_data"
    },
    {
     "name": "stdout",
     "output_type": "stream",
     "text": [
      "----------------------------------------------------\n",
      "Cross-Validation: [0.6        0.73359073 0.42084942 0.6988417  0.51737452]\n",
      "Accuracy: 0.58 \t ---> SGDClassifier \n",
      "Test: 1    1\n",
      "Name: Guasto_test, dtype: int64\n"
     ]
    },
    {
     "data": {
      "image/png": "[encoded data removed]",
      "text/plain": [
       "<Figure size 432x288 with 1 Axes>"
      ]
     },
     "metadata": {
      "needs_background": "light"
     },
     "output_type": "display_data"
    },
    {
     "name": "stdout",
     "output_type": "stream",
     "text": [
      "----------------------------------------------------\n"
     ]
    }
   ],
   "source": [
    "from itertools import cycle\n",
    "from sklearn.metrics import roc_auc_score\n",
    "from sklearn.preprocessing import LabelBinarizer\n",
    "\n",
    "n_classes = 3\n",
    "\n",
    "j=0\n",
    "# Training the algorithms and results\n",
    "for clf in classifiers:\n",
    "    name = clf.__class__.__name__\n",
    "    clf_name.append(name)\n",
    "    \n",
    "    \n",
    "    #fitting and predictions\n",
    "    model = clf.fit(x_train, y_train.values.ravel())\n",
    "    y_pred = model.predict(x_test)\n",
    "    model_results[name] = y_pred\n",
    "    \n",
    "    #accuracy and log loss\n",
    "    cv_results.append(cross_val_score(clf, x_train, y_train.values.ravel(), scoring = \"accuracy\",cv = kfold)) # qui invece abbiamo cross validation\n",
    "    acc = round(accuracy_score(y_test.values.ravel(), y_pred), 2) # accuratezza semplice con training e test\n",
    "    train_pred = clf.predict(x_test)\n",
    "    print(f'Cross-Validation: {cross_val_score(clf, x_train, y_train.values.ravel(), scoring = \"accuracy\",cv = kfold)}') \n",
    "    \n",
    "    print(f'Accuracy: {acc} \\t ---> {name} ')\n",
    "\n",
    "    guasto_pred = pd.Series(model.predict(df_test), name='Guasto_test')\n",
    "    conteggio = guasto_pred.value_counts()\n",
    "    print(f'Test: {conteggio}')    \n",
    "    \n",
    "    #confusion matrix, clasification report, roc curve\n",
    "    cnfm.append(confusion_matrix(y_test.values.ravel(), y_pred))\n",
    "    clr.append(classification_report(y_test.values.ravel(), y_pred))\n",
    "    #fpr, tpr, thresholds = roc_curve(y_pred, y_test.values.ravel(), pos_label=1)\n",
    "\n",
    "    if j != 2:\n",
    "        clf = OneVsRestClassifier(clf)\n",
    "        y_score = clf.fit(x_train, y_train).decision_function(x_test)\n",
    "    else:\n",
    "        y_score = clf.fit(x_train, y_train).predict_proba(x_test)\n",
    "\n",
    "       \n",
    "\n",
    "    lb = LabelBinarizer()\n",
    "    y_true_bin = lb.fit_transform(y_test)\n",
    "\n",
    "    fpr = dict()\n",
    "    tpr = dict()\n",
    "    roc_auc = dict()\n",
    "    for i in range(n_classes):\n",
    "        fpr[i], tpr[i], _ = roc_curve(y_true_bin[:, i], y_score[:, i])\n",
    "        roc_auc[i] = auc(fpr[i], tpr[i])\n",
    "    colors = cycle(['blue', 'red', 'green'])\n",
    "    for i, color in zip(range(n_classes), colors):\n",
    "        plt.plot(fpr[i], tpr[i], color=color, lw=1.5,\n",
    "                label='ROC curve of class {0} (area = {1:0.2f})'\n",
    "                ''.format(i, roc_auc[i]))\n",
    "    plt.plot([0, 1], [0, 1], 'k--', lw=1.5)\n",
    "    plt.xlim([-0.05, 1.0])\n",
    "    plt.ylim([0.0, 1.05])\n",
    "    plt.xlabel('False Positive Rate')\n",
    "    plt.ylabel('True Positive Rate')\n",
    "    plt.title('Receiver operating characteristic for multi-class data')\n",
    "    plt.legend(loc=\"lower right\")\n",
    "    plt.show()\n",
    "    \n",
    "    j += 1\n",
    "\n",
    "    print(\"----------------------------------------------------\")\n",
    "\n",
    "for i in cv_results:\n",
    "    cv_acc.append(i.mean())\n",
    "    cv_std.append(i.std())\n"
   ]
  },
  {
   "attachments": {},
   "cell_type": "markdown",
   "metadata": {},
   "source": [
    "### Matrici di confusione"
   ]
  },
  {
   "cell_type": "code",
   "execution_count": 24,
   "metadata": {},
   "outputs": [
    {
     "data": {
      "image/png": "[encoded data removed]",
      "text/plain": [
       "<Figure size 1440x1080 with 8 Axes>"
      ]
     },
     "metadata": {
      "needs_background": "light"
     },
     "output_type": "display_data"
    }
   ],
   "source": [
    "import seaborn as sns\n",
    "# Confusion matrixes (not-normalized confusion matrix)\n",
    "plt.figure(figsize=(20,15))\n",
    "sns.set(font_scale=1.4)\n",
    "for i in range(len(classifiers)):\n",
    "    plt.subplot(3,3,i+1) #adjust this acourding to the number of algorithms\n",
    "    sns.heatmap(cnfm[i], annot=True, fmt=\"d\",cmap=\"Reds\")\n",
    "    plt.subplots_adjust(hspace = 0.5)\n",
    "    plt.xlabel('Predicted')\n",
    "    plt.ylabel('Actual')\n",
    "    plt.title(clf_name[i])"
   ]
  },
  {
   "attachments": {},
   "cell_type": "markdown",
   "metadata": {},
   "source": [
    "Cross Validation Score"
   ]
  },
  {
   "cell_type": "code",
   "execution_count": 25,
   "metadata": {},
   "outputs": [
    {
     "data": {
      "text/plain": [
       "Text(0.5, 1.0, 'Cross validation scores')"
      ]
     },
     "execution_count": 25,
     "metadata": {},
     "output_type": "execute_result"
    },
    {
     "data": {
      "image/png": "[encoded data removed]",
      "text/plain": [
       "<Figure size 864x432 with 1 Axes>"
      ]
     },
     "metadata": {},
     "output_type": "display_data"
    }
   ],
   "source": [
    "# Cross validation accuracy results graph\n",
    "cv_res = pd.DataFrame({\"CrossValMeans\":cv_acc, \"CrossValerrors\": cv_std,\"Algorithm\":clf_name})\n",
    "\n",
    "plt.figure(figsize=(12,6))\n",
    "sns.barplot(x=\"CrossValMeans\",y=\"Algorithm\",data = cv_res, palette=\"Set2\",orient = \"h\",**{'xerr':cv_std})\n",
    "plt.xlabel(\"Mean Accuracy\")\n",
    "plt.title(\"Cross validation scores\")"
   ]
  },
  {
   "attachments": {},
   "cell_type": "markdown",
   "metadata": {},
   "source": [
    "Report Classificazione"
   ]
  },
  {
   "cell_type": "code",
   "execution_count": 26,
   "metadata": {},
   "outputs": [
    {
     "name": "stdout",
     "output_type": "stream",
     "text": [
      "LogisticRegression Classification Report:\n",
      "              precision    recall  f1-score   support\n",
      "\n",
      "           0       0.89      0.76      0.82        94\n",
      "           1       0.82      0.87      0.84       107\n",
      "           2       0.91      0.96      0.93       123\n",
      "\n",
      "    accuracy                           0.87       324\n",
      "   macro avg       0.87      0.86      0.86       324\n",
      "weighted avg       0.87      0.87      0.87       324\n",
      "\n",
      "SVC Classification Report:\n",
      "              precision    recall  f1-score   support\n",
      "\n",
      "           0       0.72      0.80      0.76        94\n",
      "           1       0.57      0.56      0.57       107\n",
      "           2       0.70      0.66      0.68       123\n",
      "\n",
      "    accuracy                           0.67       324\n",
      "   macro avg       0.67      0.67      0.67       324\n",
      "weighted avg       0.67      0.67      0.67       324\n",
      "\n",
      "MLPClassifier Classification Report:\n",
      "              precision    recall  f1-score   support\n",
      "\n",
      "           0       0.81      0.96      0.88        94\n",
      "           1       0.90      0.86      0.88       107\n",
      "           2       1.00      0.90      0.95       123\n",
      "\n",
      "    accuracy                           0.90       324\n",
      "   macro avg       0.90      0.91      0.90       324\n",
      "weighted avg       0.91      0.90      0.91       324\n",
      "\n",
      "SGDClassifier Classification Report:\n",
      "              precision    recall  f1-score   support\n",
      "\n",
      "           0       0.62      0.67      0.64        94\n",
      "           1       0.49      0.89      0.63       107\n",
      "           2       1.00      0.24      0.38       123\n",
      "\n",
      "    accuracy                           0.58       324\n",
      "   macro avg       0.70      0.60      0.55       324\n",
      "weighted avg       0.72      0.58      0.54       324\n",
      "\n"
     ]
    }
   ],
   "source": [
    "#Classification reports\n",
    "for i in range(len(classifiers)):\n",
    "    print (f\"{clf_name[i]} Classification Report:\" )\n",
    "    print (clr[i])"
   ]
  }
 ],
 "metadata": {
  "kernelspec": {
   "display_name": "Python 3",
   "language": "python",
   "name": "python3"
  },
  "language_info": {
   "codemirror_mode": {
    "name": "ipython",
    "version": 3
   },
   "file_extension": ".py",
   "mimetype": "text/x-python",
   "name": "python",
   "nbconvert_exporter": "python",
   "pygments_lexer": "ipython3",
   "version": "3.10.2"
  },
  "orig_nbformat": 4,
  "vscode": {
   "interpreter": {
    "hash": "369f2c481f4da34e4445cda3fffd2e751bd1c4d706f27375911949ba6bb62e1c"
   }
  }
 },
 "nbformat": 4,
 "nbformat_minor": 2
}
