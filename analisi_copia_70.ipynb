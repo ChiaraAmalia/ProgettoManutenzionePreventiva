{
 "cells": [
  {
   "attachments": {},
   "cell_type": "markdown",
   "metadata": {},
   "source": [
    "IMPORTAZIONE LIBRERIE"
   ]
  },
  {
   "cell_type": "code",
   "execution_count": 1,
   "metadata": {},
   "outputs": [],
   "source": [
    "import os\n",
    "import pandas as pd\n",
    "import matplotlib.pyplot as plt\n",
    "import numpy as np\n",
    "import glob\n",
    "import array \n",
    "import scipy.signal as signal\n",
    "#Processing libraries\n",
    "from sklearn.preprocessing import StandardScaler,MinMaxScaler\n",
    "import seaborn as sns\n",
    "from scipy.stats import zscore\n",
    "from sklearn.multiclass import OneVsRestClassifier\n",
    "\n",
    "# Model libraries\n",
    "from sklearn.linear_model import LogisticRegression, SGDClassifier, Perceptron\n",
    "from sklearn.neighbors import KNeighborsClassifier\n",
    "from sklearn.svm import SVC, LinearSVC, NuSVC\n",
    "from sklearn.tree import DecisionTreeClassifier\n",
    "from sklearn.ensemble import RandomForestClassifier, AdaBoostClassifier, GradientBoostingClassifier, ExtraTreesClassifier, VotingClassifier\n",
    "from sklearn.neural_network import MLPClassifier\n",
    "from sklearn.discriminant_analysis import LinearDiscriminantAnalysis, QuadraticDiscriminantAnalysis\n",
    "from sklearn.naive_bayes import GaussianNB\n",
    "from sklearn.decomposition import PCA\n",
    "from imblearn.over_sampling import SMOTE\n",
    "\n",
    "# Testing libraries\n",
    "from sklearn.model_selection import train_test_split, cross_val_score, StratifiedKFold, GridSearchCV, learning_curve\n",
    "from sklearn.metrics import accuracy_score, log_loss, confusion_matrix, classification_report, roc_curve, auc\n",
    "\n",
    "# remove warnings\n",
    "import warnings\n",
    "warnings.filterwarnings('ignore')"
   ]
  },
  {
   "attachments": {},
   "cell_type": "markdown",
   "metadata": {},
   "source": [
    "CAMBIO PATH PER ANALISI RISPETTO AL LOG DI VOLO CONSIDERAT"
   ]
  },
  {
   "cell_type": "code",
   "execution_count": 2,
   "metadata": {},
   "outputs": [
    {
     "name": "stdout",
     "output_type": "stream",
     "text": [
      "c:\\Users\\chiar\\OneDrive\\Desktop\\MantenzionePreventiva\\ProgettoManutenzionePreventiva\n"
     ]
    }
   ],
   "source": [
    "path_file = os.path.abspath(os.getcwd())\n",
    "print(path_file)\n",
    "os.chdir(path_file)"
   ]
  },
  {
   "attachments": {},
   "cell_type": "markdown",
   "metadata": {},
   "source": [
    "ARRAY CHE CONTERRA' I DATAFRAME DI CIASCUN VOLO (PER UN TOTALE DI 18)"
   ]
  },
  {
   "cell_type": "code",
   "execution_count": 3,
   "metadata": {},
   "outputs": [],
   "source": [
    "data_path = os.path.join(path_file,'*.csv') #lista di tutti gli elementi di estensione csv nella cartella path\n",
    "csv_list = glob.glob(data_path) #converte data path in un output Unix-like (ls) (*.csv -> lista di elementi con estensione csv)\n",
    "dataframe_collection = []\n",
    "df_1 = pd.DataFrame()\n",
    "\n",
    "# ciclo per scorrere tutti i csv\n",
    "for csv_file in csv_list: # ciclo che scorre i csv nella cartella path\n",
    "    df = pd.read_csv(csv_file) \n",
    "    #df = df.to_numpy()\n",
    "    #df = df.to_records(index=False)\n",
    "    #dataframe_collection.append(df)\n",
    "    df_1 = df_1.append(df,ignore_index=True)\n",
    "    #print(df)\n",
    "\n",
    "# ciclo per scorrere tutti i csv\n",
    "for csv_file in csv_list: # ciclo che scorre i csv nella cartella path\n",
    "    df = pd.read_csv(csv_file) \n",
    "    #df = df.to_numpy()\n",
    "    df = df.to_records(index=False)\n",
    "    dataframe_collection.append(df)\n",
    "\n",
    "#prova = pd.DataFrame(dataframe_collection)\n"
   ]
  },
  {
   "cell_type": "code",
   "execution_count": 4,
   "metadata": {},
   "outputs": [
    {
     "name": "stdout",
     "output_type": "stream",
     "text": [
      "      tempo  <>(GyrX)  var(GyrX)  kurt(GyrX)  RMS(GyrX)  freq1(GyrX)  \\\n",
      "0       0.0 -0.032100   0.017081   -0.399284   0.134398         78.0   \n",
      "1       1.0 -0.032346   0.017054   -0.400010   0.134356        102.0   \n",
      "2       2.0 -0.032590   0.017026   -0.400594   0.134314         98.0   \n",
      "3       3.0 -0.032832   0.016999   -0.401113   0.134271        102.0   \n",
      "4       4.0 -0.033265   0.017017   -0.412325   0.134447        102.0   \n",
      "...     ...       ...        ...         ...        ...          ...   \n",
      "1344   62.0 -0.048472   0.006254   -0.082119   0.092673          0.0   \n",
      "1345   63.0 -0.048289   0.006253   -0.081993   0.092571          0.0   \n",
      "1346   64.0 -0.048212   0.006240   -0.075446   0.092463          0.0   \n",
      "1347   65.0 -0.048179   0.006225   -0.068067   0.092367          0.0   \n",
      "1348   66.0 -0.048194   0.006211   -0.061448   0.092295          0.0   \n",
      "\n",
      "      freq2(GyrX)  amp1(GyrX)  amp2(GyrX)  <>(GyrY)  ...  amp2(RPM(ESC_5))  \\\n",
      "0            96.0    3.596543    3.414090 -0.014483  ...       5812.008175   \n",
      "1            80.0    3.601798    3.359201 -0.014131  ...       5704.453240   \n",
      "2            79.0    3.785400    3.155365 -0.013642  ...       5587.855979   \n",
      "3            71.0    3.964024    3.257887 -0.013156  ...       5462.279375   \n",
      "4            87.0    4.069144    2.898697 -0.013003  ...       5327.792013   \n",
      "...           ...         ...         ...       ...  ...               ...   \n",
      "1344        119.0   13.705592    4.427470  0.036188  ...      13757.613392   \n",
      "1345        118.0   13.703035    4.344276  0.036631  ...      13259.009540   \n",
      "1346        119.0   13.655833    4.213446  0.037145  ...      12751.414008   \n",
      "1347        130.0   13.590221    4.061607  0.037632  ...      12235.461935   \n",
      "1348        113.0   13.503484    3.886491  0.038055  ...      11711.766618   \n",
      "\n",
      "      <>(Curr(ESC_5))  var(Curr(ESC_5))  kurt(Curr(ESC_5))  RMS(Curr(ESC_5))  \\\n",
      "0            3.227550          0.201562          -1.034645          3.258537   \n",
      "1            3.229687          0.202596          -1.035832          3.260813   \n",
      "2            3.231813          0.203615          -1.037158          3.263074   \n",
      "3            3.233927          0.204620          -1.038609          3.265321   \n",
      "4            3.236028          0.205610          -1.040173          3.267554   \n",
      "...               ...               ...                ...               ...   \n",
      "1344         3.538935          0.562466          -1.024534          3.617342   \n",
      "1345         3.540628          0.562292          -1.018466          3.618975   \n",
      "1346         3.542313          0.562112          -1.012392          3.620599   \n",
      "1347         3.543990          0.561928          -1.006311          3.622215   \n",
      "1348         3.545659          0.561739          -1.000224          3.623823   \n",
      "\n",
      "      freq1(Curr(ESC_5))  freq2(Curr(ESC_5))  amp1(Curr(ESC_5))  \\\n",
      "0                  120.0               119.0          15.414952   \n",
      "1                  128.0               127.0          15.447674   \n",
      "2                  136.0               134.0          15.463306   \n",
      "3                  130.0               128.0          15.462261   \n",
      "4                  138.0               135.0          15.444971   \n",
      "...                  ...                 ...                ...   \n",
      "1344               108.0               109.0          20.020166   \n",
      "1345               110.0               111.0          20.217965   \n",
      "1346               108.0               109.0          20.375260   \n",
      "1347               108.0               109.0          20.489324   \n",
      "1348               110.0               111.0          20.557632   \n",
      "\n",
      "      amp2(Curr(ESC_5))  Guasto  \n",
      "0              8.888416       2  \n",
      "1              8.483140       2  \n",
      "2              8.173170       2  \n",
      "3              8.871637       2  \n",
      "4              9.516132       2  \n",
      "...                 ...     ...  \n",
      "1344          14.751039       0  \n",
      "1345          15.384214       0  \n",
      "1346          16.025541       0  \n",
      "1347          16.674333       0  \n",
      "1348          17.329899       0  \n",
      "\n",
      "[1349 rows x 170 columns]\n"
     ]
    }
   ],
   "source": [
    "print(df_1)"
   ]
  },
  {
   "cell_type": "code",
   "execution_count": 5,
   "metadata": {},
   "outputs": [
    {
     "name": "stdout",
     "output_type": "stream",
     "text": [
      "      tempo  <>(GyrX)  var(GyrX)  kurt(GyrX)  RMS(GyrX)  freq1(GyrX)  \\\n",
      "0       5.0 -0.036849   0.027360    1.475030   0.169236         78.0   \n",
      "1      25.0 -0.041448   0.026756    1.533863   0.168532         77.0   \n",
      "2       7.0 -0.042940   0.019510   -0.894137   0.145942         83.0   \n",
      "3      57.0 -0.044568   0.009104    0.702076   0.105205          0.0   \n",
      "4      30.0 -0.044876   0.009636    0.541254   0.107819          0.0   \n",
      "...     ...       ...        ...         ...        ...          ...   \n",
      "1344   43.0 -0.042699   0.017952   -0.732960   0.140461         91.0   \n",
      "1345   18.0  0.007105   0.007584   -0.464406   0.087256          0.0   \n",
      "1346   75.0 -0.009756   0.056919    1.966266   0.238497         97.0   \n",
      "1347   24.0 -0.117957   0.039775   -0.464927   0.231480         56.0   \n",
      "1348   52.0 -0.034695   0.020102   -0.192095   0.145795         81.0   \n",
      "\n",
      "      freq2(GyrX)  amp1(GyrX)  amp2(GyrX)  <>(GyrY)  ...  amp2(RPM(ESC_5))  \\\n",
      "0            77.0    8.089259    4.625110 -0.017003  ...       5900.951510   \n",
      "1            76.0    8.993663    4.295596 -0.011517  ...       5149.728929   \n",
      "2            61.0    8.342013    3.336372  0.015934  ...       9763.716608   \n",
      "3           108.0   10.327746    4.843898  0.054275  ...      11455.317946   \n",
      "4            77.0    7.716513    4.120397  0.050039  ...      10999.805081   \n",
      "...           ...         ...         ...       ...  ...               ...   \n",
      "1344         89.0   13.360749    3.368970  0.012400  ...       8553.175983   \n",
      "1345         85.0    3.113019    1.939590  0.018656  ...       7803.309431   \n",
      "1346         96.0   11.743167    9.073536 -0.040524  ...      10880.660758   \n",
      "1347         79.0    6.249397    5.218452  0.044787  ...      11209.580637   \n",
      "1348        106.0    8.735750    5.806976  0.018561  ...       4223.515490   \n",
      "\n",
      "      <>(Curr(ESC_5))  var(Curr(ESC_5))  kurt(Curr(ESC_5))  RMS(Curr(ESC_5))  \\\n",
      "0            3.821152          0.090382           0.412559          3.832927   \n",
      "1            3.848963          0.099988           0.392917          3.861895   \n",
      "2            3.247095          0.541751          -1.051262          3.329244   \n",
      "3            3.436201          0.572660          -1.338945          3.518343   \n",
      "4            3.397244          0.590354          -1.471921          3.482825   \n",
      "...               ...               ...                ...               ...   \n",
      "1344         3.297690          0.518084          -0.819106          3.375134   \n",
      "1345         4.041789          0.845393          -1.432533          4.144775   \n",
      "1346         3.839249          0.226403          -0.677097          3.868553   \n",
      "1347         3.227920          0.570430          -0.901015          3.314872   \n",
      "1348         3.618784          0.092993           0.517560          3.631578   \n",
      "\n",
      "      freq1(Curr(ESC_5))  freq2(Curr(ESC_5))  amp1(Curr(ESC_5))  \\\n",
      "0                  129.0               128.0          15.113786   \n",
      "1                  131.0               130.0          22.080119   \n",
      "2                  105.0               103.0          41.529211   \n",
      "3                  131.0               128.0          29.462759   \n",
      "4                  126.0               124.0          41.192670   \n",
      "...                  ...                 ...                ...   \n",
      "1344               115.0               113.0          20.551000   \n",
      "1345               142.0               138.0          55.819000   \n",
      "1346               170.0               168.0          52.382834   \n",
      "1347               131.0               130.0          58.692064   \n",
      "1348               129.0               127.0          23.791195   \n",
      "\n",
      "      amp2(Curr(ESC_5))  Guasto  \n",
      "0              5.678969       2  \n",
      "1             10.037631       2  \n",
      "2              7.379113       0  \n",
      "3              9.368250       0  \n",
      "4              7.291942       0  \n",
      "...                 ...     ...  \n",
      "1344           9.195596       0  \n",
      "1345          18.059849       1  \n",
      "1346          17.434840       2  \n",
      "1347          24.098829       1  \n",
      "1348          11.821515       2  \n",
      "\n",
      "[1349 rows x 170 columns]\n"
     ]
    }
   ],
   "source": [
    "df_1 = df_1.sample(frac=1).reset_index(drop=True)\n",
    "print(df_1)"
   ]
  },
  {
   "cell_type": "code",
   "execution_count": 6,
   "metadata": {},
   "outputs": [
    {
     "name": "stdout",
     "output_type": "stream",
     "text": [
      "      <>(GyrX)  var(GyrX)  kurt(GyrX)  RMS(GyrX)  freq1(GyrX)  freq2(GyrX)  \\\n",
      "0    -0.036849   0.027360    1.475030   0.169236         78.0         77.0   \n",
      "1    -0.041448   0.026756    1.533863   0.168532         77.0         76.0   \n",
      "2    -0.042940   0.019510   -0.894137   0.145942         83.0         61.0   \n",
      "3    -0.044568   0.009104    0.702076   0.105205          0.0        108.0   \n",
      "4    -0.044876   0.009636    0.541254   0.107819          0.0         77.0   \n",
      "...        ...        ...         ...        ...          ...          ...   \n",
      "1344 -0.042699   0.017952   -0.732960   0.140461         91.0         89.0   \n",
      "1345  0.007105   0.007584   -0.464406   0.087256          0.0         85.0   \n",
      "1346 -0.009756   0.056919    1.966266   0.238497         97.0         96.0   \n",
      "1347 -0.117957   0.039775   -0.464927   0.231480         56.0         79.0   \n",
      "1348 -0.034695   0.020102   -0.192095   0.145795         81.0        106.0   \n",
      "\n",
      "      amp1(GyrX)  amp2(GyrX)  <>(GyrY)  var(GyrY)  ...  amp2(RPM(ESC_5))  \\\n",
      "0       8.089259    4.625110 -0.017003   0.008552  ...       5900.951510   \n",
      "1       8.993663    4.295596 -0.011517   0.009121  ...       5149.728929   \n",
      "2       8.342013    3.336372  0.015934   0.003177  ...       9763.716608   \n",
      "3      10.327746    4.843898  0.054275   0.004896  ...      11455.317946   \n",
      "4       7.716513    4.120397  0.050039   0.004899  ...      10999.805081   \n",
      "...          ...         ...       ...        ...  ...               ...   \n",
      "1344   13.360749    3.368970  0.012400   0.003089  ...       8553.175983   \n",
      "1345    3.113019    1.939590  0.018656   0.005722  ...       7803.309431   \n",
      "1346   11.743167    9.073536 -0.040524   0.035106  ...      10880.660758   \n",
      "1347    6.249397    5.218452  0.044787   0.010430  ...      11209.580637   \n",
      "1348    8.735750    5.806976  0.018561   0.006441  ...       4223.515490   \n",
      "\n",
      "      <>(Curr(ESC_5))  var(Curr(ESC_5))  kurt(Curr(ESC_5))  RMS(Curr(ESC_5))  \\\n",
      "0            3.821152          0.090382           0.412559          3.832927   \n",
      "1            3.848963          0.099988           0.392917          3.861895   \n",
      "2            3.247095          0.541751          -1.051262          3.329244   \n",
      "3            3.436201          0.572660          -1.338945          3.518343   \n",
      "4            3.397244          0.590354          -1.471921          3.482825   \n",
      "...               ...               ...                ...               ...   \n",
      "1344         3.297690          0.518084          -0.819106          3.375134   \n",
      "1345         4.041789          0.845393          -1.432533          4.144775   \n",
      "1346         3.839249          0.226403          -0.677097          3.868553   \n",
      "1347         3.227920          0.570430          -0.901015          3.314872   \n",
      "1348         3.618784          0.092993           0.517560          3.631578   \n",
      "\n",
      "      freq1(Curr(ESC_5))  freq2(Curr(ESC_5))  amp1(Curr(ESC_5))  \\\n",
      "0                  129.0               128.0          15.113786   \n",
      "1                  131.0               130.0          22.080119   \n",
      "2                  105.0               103.0          41.529211   \n",
      "3                  131.0               128.0          29.462759   \n",
      "4                  126.0               124.0          41.192670   \n",
      "...                  ...                 ...                ...   \n",
      "1344               115.0               113.0          20.551000   \n",
      "1345               142.0               138.0          55.819000   \n",
      "1346               170.0               168.0          52.382834   \n",
      "1347               131.0               130.0          58.692064   \n",
      "1348               129.0               127.0          23.791195   \n",
      "\n",
      "      amp2(Curr(ESC_5))  Guasto  \n",
      "0              5.678969       2  \n",
      "1             10.037631       2  \n",
      "2              7.379113       0  \n",
      "3              9.368250       0  \n",
      "4              7.291942       0  \n",
      "...                 ...     ...  \n",
      "1344           9.195596       0  \n",
      "1345          18.059849       1  \n",
      "1346          17.434840       2  \n",
      "1347          24.098829       1  \n",
      "1348          11.821515       2  \n",
      "\n",
      "[1349 rows x 169 columns]\n"
     ]
    }
   ],
   "source": [
    "df_1 = df_1.drop(['tempo'], axis=1)\n",
    "print(df_1)"
   ]
  },
  {
   "cell_type": "code",
   "execution_count": 7,
   "metadata": {},
   "outputs": [
    {
     "name": "stdout",
     "output_type": "stream",
     "text": [
      "Index(['<>(RPM(ESC_5))', 'RMS(RPM(ESC_5))'], dtype='object')\n",
      "Index(['<>(GyrX)', 'var(GyrX)', 'kurt(GyrX)', 'RMS(GyrX)', 'freq1(GyrX)',\n",
      "       'freq2(GyrX)', 'amp1(GyrX)', 'amp2(GyrX)', '<>(GyrY)', 'var(GyrY)',\n",
      "       ...\n",
      "       'amp2(RPM(ESC_5))', '<>(Curr(ESC_5))', 'var(Curr(ESC_5))',\n",
      "       'kurt(Curr(ESC_5))', 'RMS(Curr(ESC_5))', 'freq1(Curr(ESC_5))',\n",
      "       'freq2(Curr(ESC_5))', 'amp1(Curr(ESC_5))', 'amp2(Curr(ESC_5))',\n",
      "       'Guasto'],\n",
      "      dtype='object', length=167)\n"
     ]
    }
   ],
   "source": [
    "correlated_features = set()\n",
    "correlation = df_1[df_1.columns[1:]].corr()['Guasto'][:].abs()\n",
    "correlation = correlation.loc[lambda x : ((x > 0.7) & (x < 1))]\n",
    "index = correlation.index\n",
    "print(index)\n",
    "df_1 = df_1.drop([col for col in df_1.columns if col in index],axis=1)\n",
    "print(df_1.columns)"
   ]
  },
  {
   "cell_type": "code",
   "execution_count": 8,
   "metadata": {},
   "outputs": [
    {
     "name": "stdout",
     "output_type": "stream",
     "text": [
      "     <>(GyrX)  var(GyrX)  kurt(GyrX)  RMS(GyrX)  freq1(GyrX)  freq2(GyrX)  \\\n",
      "340  0.023199   0.047987    3.059677   0.219992         75.0         74.0   \n",
      "\n",
      "     amp1(GyrX)  amp2(GyrX)  <>(GyrY)  var(GyrY)  ...  amp2(RPM(ESC_5))  \\\n",
      "340   14.671424    7.194008 -0.046644   0.039103  ...       5384.404535   \n",
      "\n",
      "     <>(Curr(ESC_5))  var(Curr(ESC_5))  kurt(Curr(ESC_5))  RMS(Curr(ESC_5))  \\\n",
      "340         3.780511          0.231265          -0.827439          3.810893   \n",
      "\n",
      "     freq1(Curr(ESC_5))  freq2(Curr(ESC_5))  amp1(Curr(ESC_5))  \\\n",
      "340               157.0               158.0          17.117404   \n",
      "\n",
      "     amp2(Curr(ESC_5))  Guasto  \n",
      "340          11.805089       2  \n",
      "\n",
      "[1 rows x 167 columns]\n"
     ]
    }
   ],
   "source": [
    "index_list = [340]\n",
    "df_test = df_1.query('index in @index_list')\n",
    "#df_test = pd.DataFrame(df_test)\n",
    "print(df_test)"
   ]
  },
  {
   "cell_type": "code",
   "execution_count": 9,
   "metadata": {},
   "outputs": [],
   "source": [
    "# Drop values to avoid multicolinearity\n",
    "df_test = df_test.drop(['Guasto'], axis=1)"
   ]
  },
  {
   "cell_type": "code",
   "execution_count": 10,
   "metadata": {},
   "outputs": [
    {
     "name": "stdout",
     "output_type": "stream",
     "text": [
      "      <>(GyrX)  var(GyrX)  kurt(GyrX)  RMS(GyrX)  freq1(GyrX)  freq2(GyrX)  \\\n",
      "0    -0.036849   0.027360    1.475030   0.169236         78.0         77.0   \n",
      "1    -0.041448   0.026756    1.533863   0.168532         77.0         76.0   \n",
      "2    -0.042940   0.019510   -0.894137   0.145942         83.0         61.0   \n",
      "3    -0.044568   0.009104    0.702076   0.105205          0.0        108.0   \n",
      "4    -0.044876   0.009636    0.541254   0.107819          0.0         77.0   \n",
      "...        ...        ...         ...        ...          ...          ...   \n",
      "1344 -0.042699   0.017952   -0.732960   0.140461         91.0         89.0   \n",
      "1345  0.007105   0.007584   -0.464406   0.087256          0.0         85.0   \n",
      "1346 -0.009756   0.056919    1.966266   0.238497         97.0         96.0   \n",
      "1347 -0.117957   0.039775   -0.464927   0.231480         56.0         79.0   \n",
      "1348 -0.034695   0.020102   -0.192095   0.145795         81.0        106.0   \n",
      "\n",
      "      amp1(GyrX)  amp2(GyrX)  <>(GyrY)  var(GyrY)  ...  amp2(RPM(ESC_5))  \\\n",
      "0       8.089259    4.625110 -0.017003   0.008552  ...       5900.951510   \n",
      "1       8.993663    4.295596 -0.011517   0.009121  ...       5149.728929   \n",
      "2       8.342013    3.336372  0.015934   0.003177  ...       9763.716608   \n",
      "3      10.327746    4.843898  0.054275   0.004896  ...      11455.317946   \n",
      "4       7.716513    4.120397  0.050039   0.004899  ...      10999.805081   \n",
      "...          ...         ...       ...        ...  ...               ...   \n",
      "1344   13.360749    3.368970  0.012400   0.003089  ...       8553.175983   \n",
      "1345    3.113019    1.939590  0.018656   0.005722  ...       7803.309431   \n",
      "1346   11.743167    9.073536 -0.040524   0.035106  ...      10880.660758   \n",
      "1347    6.249397    5.218452  0.044787   0.010430  ...      11209.580637   \n",
      "1348    8.735750    5.806976  0.018561   0.006441  ...       4223.515490   \n",
      "\n",
      "      <>(Curr(ESC_5))  var(Curr(ESC_5))  kurt(Curr(ESC_5))  RMS(Curr(ESC_5))  \\\n",
      "0            3.821152          0.090382           0.412559          3.832927   \n",
      "1            3.848963          0.099988           0.392917          3.861895   \n",
      "2            3.247095          0.541751          -1.051262          3.329244   \n",
      "3            3.436201          0.572660          -1.338945          3.518343   \n",
      "4            3.397244          0.590354          -1.471921          3.482825   \n",
      "...               ...               ...                ...               ...   \n",
      "1344         3.297690          0.518084          -0.819106          3.375134   \n",
      "1345         4.041789          0.845393          -1.432533          4.144775   \n",
      "1346         3.839249          0.226403          -0.677097          3.868553   \n",
      "1347         3.227920          0.570430          -0.901015          3.314872   \n",
      "1348         3.618784          0.092993           0.517560          3.631578   \n",
      "\n",
      "      freq1(Curr(ESC_5))  freq2(Curr(ESC_5))  amp1(Curr(ESC_5))  \\\n",
      "0                  129.0               128.0          15.113786   \n",
      "1                  131.0               130.0          22.080119   \n",
      "2                  105.0               103.0          41.529211   \n",
      "3                  131.0               128.0          29.462759   \n",
      "4                  126.0               124.0          41.192670   \n",
      "...                  ...                 ...                ...   \n",
      "1344               115.0               113.0          20.551000   \n",
      "1345               142.0               138.0          55.819000   \n",
      "1346               170.0               168.0          52.382834   \n",
      "1347               131.0               130.0          58.692064   \n",
      "1348               129.0               127.0          23.791195   \n",
      "\n",
      "      amp2(Curr(ESC_5))  Guasto  \n",
      "0              5.678969       2  \n",
      "1             10.037631       2  \n",
      "2              7.379113       0  \n",
      "3              9.368250       0  \n",
      "4              7.291942       0  \n",
      "...                 ...     ...  \n",
      "1344           9.195596       0  \n",
      "1345          18.059849       1  \n",
      "1346          17.434840       2  \n",
      "1347          24.098829       1  \n",
      "1348          11.821515       2  \n",
      "\n",
      "[1348 rows x 167 columns]\n"
     ]
    }
   ],
   "source": [
    "#df_1 = df_1.drop([df_1.index[1330], df_1.index[1331]])\n",
    "df_1 = df_1.drop([df_1.index[340]])\n",
    "print(df_1)"
   ]
  },
  {
   "attachments": {},
   "cell_type": "markdown",
   "metadata": {},
   "source": [
    "### Bilanciamento del dataset"
   ]
  },
  {
   "cell_type": "code",
   "execution_count": 11,
   "metadata": {},
   "outputs": [],
   "source": [
    "x = df_1.iloc[:,:-1]\n",
    "y = df_1.iloc[:,-1:]"
   ]
  },
  {
   "cell_type": "code",
   "execution_count": 12,
   "metadata": {},
   "outputs": [
    {
     "name": "stdout",
     "output_type": "stream",
     "text": [
      "      <>(GyrX)  var(GyrX)  kurt(GyrX)  RMS(GyrX)  freq1(GyrX)  freq2(GyrX)  \\\n",
      "0    -0.036849   0.027360    1.475030   0.169236    78.000000    77.000000   \n",
      "1    -0.041448   0.026756    1.533863   0.168532    77.000000    76.000000   \n",
      "2    -0.042940   0.019510   -0.894137   0.145942    83.000000    61.000000   \n",
      "3    -0.044568   0.009104    0.702076   0.105205     0.000000   108.000000   \n",
      "4    -0.044876   0.009636    0.541254   0.107819     0.000000    77.000000   \n",
      "...        ...        ...         ...        ...          ...          ...   \n",
      "1615 -0.002277   0.011471    2.767782   0.106980    57.568428    60.582429   \n",
      "1616 -0.026533   0.009830    2.283048   0.102509    94.396917    67.931278   \n",
      "1617 -0.024390   0.007106   -0.531280   0.087652   100.507384    76.261076   \n",
      "1618 -0.014693   0.006134   -0.325721   0.079583    78.286600    73.491867   \n",
      "1619  0.002568   0.010970    3.326966   0.104624    66.436792    74.869722   \n",
      "\n",
      "      amp1(GyrX)  amp2(GyrX)  <>(GyrY)  var(GyrY)  ...  amp1(RPM(ESC_5))  \\\n",
      "0       8.089259    4.625110 -0.017003   0.008552  ...      10321.934150   \n",
      "1       8.993663    4.295596 -0.011517   0.009121  ...       6647.214806   \n",
      "2       8.342013    3.336372  0.015934   0.003177  ...      11396.600835   \n",
      "3      10.327746    4.843898  0.054275   0.004896  ...      50350.141498   \n",
      "4       7.716513    4.120397  0.050039   0.004899  ...      41725.819540   \n",
      "...          ...         ...       ...        ...  ...               ...   \n",
      "1615    5.453800    2.472246  0.065748   0.011340  ...      16247.082591   \n",
      "1616    5.317754    4.895064 -0.008498   0.006194  ...      11576.614398   \n",
      "1617    3.406028    2.696623  0.046001   0.012534  ...      14878.420005   \n",
      "1618    3.270973    2.671432  0.042700   0.013105  ...      14608.809386   \n",
      "1619    5.058427    4.608191  0.066225   0.011649  ...      11684.339010   \n",
      "\n",
      "      amp2(RPM(ESC_5))  <>(Curr(ESC_5))  var(Curr(ESC_5))  kurt(Curr(ESC_5))  \\\n",
      "0          5900.951510         3.821152          0.090382           0.412559   \n",
      "1          5149.728929         3.848963          0.099988           0.392917   \n",
      "2          9763.716608         3.247095          0.541751          -1.051262   \n",
      "3         11455.317946         3.436201          0.572660          -1.338945   \n",
      "4         10999.805081         3.397244          0.590354          -1.471921   \n",
      "...                ...              ...               ...                ...   \n",
      "1615       9801.079870         3.458363          0.704591          -0.692497   \n",
      "1616       6279.971364         3.393707          0.486267          -0.248031   \n",
      "1617      13976.687250         3.129750          0.270499          -0.667065   \n",
      "1618       8433.881405         3.117739          0.287920          -0.802978   \n",
      "1619      11113.487835         3.426466          0.688829          -0.716113   \n",
      "\n",
      "      RMS(Curr(ESC_5))  freq1(Curr(ESC_5))  freq2(Curr(ESC_5))  \\\n",
      "0             3.832927          129.000000          128.000000   \n",
      "1             3.861895          131.000000          130.000000   \n",
      "2             3.329244          105.000000          103.000000   \n",
      "3             3.518343          131.000000          128.000000   \n",
      "4             3.482825          126.000000          124.000000   \n",
      "...                ...                 ...                 ...   \n",
      "1615          3.558505          103.000000          102.000000   \n",
      "1616          3.464426          130.890602          131.890602   \n",
      "1617          3.172560          130.753692          128.753692   \n",
      "1618          3.163451          130.983733          127.983733   \n",
      "1619          3.525278           95.145597           93.145597   \n",
      "\n",
      "      amp1(Curr(ESC_5))  amp2(Curr(ESC_5))  \n",
      "0             15.113786           5.678969  \n",
      "1             22.080119          10.037631  \n",
      "2             41.529211           7.379113  \n",
      "3             29.462759           9.368250  \n",
      "4             41.192670           7.291942  \n",
      "...                 ...                ...  \n",
      "1615          14.713926           8.186564  \n",
      "1616          12.985507           8.634893  \n",
      "1617          29.435345           8.287121  \n",
      "1618          35.733826           6.583125  \n",
      "1619          12.045753           9.839045  \n",
      "\n",
      "[1620 rows x 166 columns]\n"
     ]
    }
   ],
   "source": [
    "oversample = SMOTE()\n",
    "x, y = oversample.fit_resample(x,y)\n",
    "print(x)"
   ]
  },
  {
   "attachments": {},
   "cell_type": "markdown",
   "metadata": {},
   "source": [
    "# Selezione feature più importanti"
   ]
  },
  {
   "cell_type": "code",
   "execution_count": 13,
   "metadata": {},
   "outputs": [
    {
     "name": "stdout",
     "output_type": "stream",
     "text": [
      "SelectKBest(k=70, score_func=<function f_regression at 0x000002CA42209120>)\n",
      "[ True  True  True False  True False False False  True  True False  True\n",
      "  True False  True  True False  True  True  True False False  True False\n",
      "  True False False False  True False  True  True  True  True  True  True\n",
      " False False False False False False False False False False  True  True\n",
      " False  True  True  True False False False False False  True False  True\n",
      "  True  True  True  True False False False False False False False False\n",
      "  True False False  True  True  True  True  True  True  True False  True\n",
      " False False False False False False  True False  True  True False False\n",
      " False  True False  True False False False  True  True False False  True\n",
      " False False False False  True  True False False  True  True False False\n",
      "  True False  True  True  True  True False False False False  True False\n",
      " False False False False False False  True False False False False False\n",
      " False False  True False False False False False  True  True False False\n",
      "  True  True  True  True False  True False  True False False]\n"
     ]
    }
   ],
   "source": [
    "from sklearn.feature_selection import SelectKBest, mutual_info_classif, f_classif, f_regression\n",
    "fvalue_Best = SelectKBest(score_func=f_regression, k=70)\n",
    "fit = fvalue_Best.fit(x, y)\n",
    "print(fit)\n",
    "print(fvalue_Best.get_support())"
   ]
  },
  {
   "cell_type": "code",
   "execution_count": 14,
   "metadata": {},
   "outputs": [
    {
     "name": "stdout",
     "output_type": "stream",
     "text": [
      "        Input_Features   F_Score\n",
      "34          kurt(AccY)  5.280715\n",
      "28         freq1(AccX)  3.487066\n",
      "12         freq1(GyrY)  3.189833\n",
      "93   freq2(RPM(ESC_1))  2.837357\n",
      "92   freq1(RPM(ESC_1))  2.824289\n",
      "11           RMS(GyrY)  2.791276\n",
      "9            var(GyrY)  2.656238\n",
      "153   kurt(RPM(ESC_5))  2.479706\n",
      "14          amp1(GyrY)  2.437710\n",
      "159   var(Curr(ESC_5))  1.975479\n",
      "104     <>(RPM(ESC_2))  1.969631\n",
      "8             <>(GyrY)  1.829898\n",
      "22          amp1(GyrZ)  1.804344\n",
      "78    amp1(RPM(ESC_0))  1.720507\n",
      "152    var(RPM(ESC_5))  1.712039\n",
      "107    RMS(RPM(ESC_2))  1.691435\n",
      "32            <>(AccY)  1.503902\n",
      "62         amp1(Pitch)  1.235446\n",
      "80     <>(Curr(ESC_0))  1.088797\n",
      "17           var(GyrZ)  1.062456\n",
      "19           RMS(GyrZ)  1.018959\n",
      "30          amp1(AccX)  0.993707\n",
      "4          freq1(GyrX)  0.930232\n",
      "76   freq1(RPM(ESC_0))  0.895499\n",
      "57          var(Pitch)  0.881140\n",
      "77   freq2(RPM(ESC_0))  0.748643\n",
      "15          amp2(GyrY)  0.702643\n",
      "83    RMS(Curr(ESC_0))  0.692093\n",
      "156   amp1(RPM(ESC_5))  0.671195\n",
      "97    var(Curr(ESC_1))  0.668584\n",
      "0             <>(GyrX)  0.592278\n",
      "59          RMS(Pitch)  0.533624\n",
      "81    var(Curr(ESC_0))  0.476588\n",
      "158    <>(Curr(ESC_5))  0.413418\n",
      "146  kurt(Curr(ESC_4))  0.307119\n",
      "138   kurt(RPM(ESC_4))  0.217579\n",
      "90    kurt(RPM(ESC_1))  0.204185\n",
      "18          kurt(GyrZ)  0.198887\n",
      "125  freq2(RPM(ESC_3))  0.183064\n",
      "124  freq1(RPM(ESC_3))  0.178637\n",
      "1            var(GyrX)  0.146105\n",
      "35           RMS(AccY)  0.131934\n",
      "47          amp2(AccZ)  0.121117\n",
      "103  amp2(Curr(ESC_1))  0.109176\n",
      "24            <>(AccX)  0.104429\n",
      "122   kurt(RPM(ESC_3))  0.080391\n",
      "60        freq1(Pitch)  0.065787\n",
      "113   var(Curr(ESC_2))  0.063377\n",
      "61        freq2(Pitch)  0.061796\n",
      "161   RMS(Curr(ESC_5))  0.034784\n",
      "99    RMS(Curr(ESC_1))  0.029399\n",
      "157   amp2(RPM(ESC_5)) -0.001770\n",
      "46          amp1(AccZ) -0.025088\n",
      "72      <>(RPM(ESC_0)) -0.030298\n",
      "51           RMS(Roll) -0.041267\n",
      "31          amp2(AccX) -0.042080\n",
      "50          kurt(Roll) -0.046041\n",
      "112    <>(Curr(ESC_2)) -0.081963\n",
      "130  kurt(Curr(ESC_3)) -0.084898\n",
      "33           var(AccY) -0.101551\n"
     ]
    }
   ],
   "source": [
    "features_score = pd.DataFrame(fit.scores_)\n",
    "features_score = zscore(features_score)\n",
    "features = pd.DataFrame(x.columns)\n",
    "feature_score = pd.concat([features,features_score],axis=1)\n",
    "# Assigning column names\n",
    "feature_score.columns = [\"Input_Features\",\"F_Score\"]\n",
    "print(feature_score.nlargest(60,columns=\"F_Score\"))"
   ]
  },
  {
   "cell_type": "code",
   "execution_count": 15,
   "metadata": {},
   "outputs": [
    {
     "name": "stdout",
     "output_type": "stream",
     "text": [
      "[3, 5, 6, 7, 10, 13, 16, 20, 21, 23, 25, 26, 27, 29, 36, 37, 38, 39, 40, 41, 42, 43, 44, 45, 48, 52, 53, 54, 55, 56, 58, 64, 65, 66, 67, 68, 69, 70, 71, 73, 74, 82, 84, 85, 86, 87, 88, 89, 91, 94, 95, 96, 98, 100, 101, 102, 105, 106, 108, 109, 110, 111, 114, 115, 118, 119, 121, 126, 127, 128, 129, 131, 132, 133, 134, 135, 136, 137, 139, 140, 141, 142, 143, 144, 145, 147, 148, 149, 150, 151, 154, 155, 160, 162, 164, 165]\n"
     ]
    }
   ],
   "source": [
    "i=0\n",
    "index_false=[]\n",
    "for el in list(fvalue_Best.get_support()):\n",
    "    if not el:\n",
    "        index_false.append(i)\n",
    "    i=i+1\n",
    "print(index_false)"
   ]
  },
  {
   "cell_type": "code",
   "execution_count": 16,
   "metadata": {},
   "outputs": [
    {
     "name": "stdout",
     "output_type": "stream",
     "text": [
      "      <>(GyrX)  var(GyrX)  kurt(GyrX)  freq1(GyrX)  <>(GyrY)  var(GyrY)  \\\n",
      "0    -0.036849   0.027360    1.475030    78.000000 -0.017003   0.008552   \n",
      "1    -0.041448   0.026756    1.533863    77.000000 -0.011517   0.009121   \n",
      "2    -0.042940   0.019510   -0.894137    83.000000  0.015934   0.003177   \n",
      "3    -0.044568   0.009104    0.702076     0.000000  0.054275   0.004896   \n",
      "4    -0.044876   0.009636    0.541254     0.000000  0.050039   0.004899   \n",
      "...        ...        ...         ...          ...       ...        ...   \n",
      "1615 -0.002277   0.011471    2.767782    57.568428  0.065748   0.011340   \n",
      "1616 -0.026533   0.009830    2.283048    94.396917 -0.008498   0.006194   \n",
      "1617 -0.024390   0.007106   -0.531280   100.507384  0.046001   0.012534   \n",
      "1618 -0.014693   0.006134   -0.325721    78.286600  0.042700   0.013105   \n",
      "1619  0.002568   0.010970    3.326966    66.436792  0.066225   0.011649   \n",
      "\n",
      "      RMS(GyrY)  freq1(GyrY)  amp1(GyrY)  amp2(GyrY)  ...  kurt(RPM(ESC_4))  \\\n",
      "0      0.093902    70.000000    4.142459    2.704764  ...          0.904027   \n",
      "1      0.096069     0.000000    6.713703    4.516826  ...          1.148294   \n",
      "2      0.058495    69.000000    2.660548    1.795890  ...         -0.952344   \n",
      "3      0.088488   118.000000    3.007018    2.390404  ...         -0.578786   \n",
      "4      0.085964   109.000000    2.947520    1.322223  ...         -0.782928   \n",
      "...         ...          ...         ...         ...  ...               ...   \n",
      "1615   0.125030    66.000000    1.813545    1.607923  ...         -1.074806   \n",
      "1616   0.079061   106.178120    6.388319    4.346939  ...         -0.895041   \n",
      "1617   0.120905   113.507384   18.636850    1.536553  ...         -0.502446   \n",
      "1618   0.122034   106.856700   12.896625    2.644610  ...         -0.709669   \n",
      "1619   0.126500    90.386972    1.806942    1.704947  ...         -1.138099   \n",
      "\n",
      "      kurt(Curr(ESC_4))  var(RPM(ESC_5))  kurt(RPM(ESC_5))  amp1(RPM(ESC_5))  \\\n",
      "0             -1.051630     6.948534e+05          0.132551      10321.934150   \n",
      "1             -0.922706     6.806150e+05          0.329890       6647.214806   \n",
      "2             -0.715150     9.366014e+05         -1.086078      11396.600835   \n",
      "3             -0.748326     1.638359e+06         -1.575901      50350.141498   \n",
      "4             -0.823936     1.649904e+06         -1.667468      41725.819540   \n",
      "...                 ...              ...               ...               ...   \n",
      "1615          -0.041201     1.057420e+06         -1.126042      16247.082591   \n",
      "1616          -1.192653     9.589343e+05         -0.819246      11576.614398   \n",
      "1617          -0.366975     1.160308e+06         -0.294714      14878.420005   \n",
      "1618          -0.559143     1.201295e+06         -0.518636      14608.809386   \n",
      "1619           0.009159     1.034106e+06         -1.142969      11684.339010   \n",
      "\n",
      "      amp2(RPM(ESC_5))  <>(Curr(ESC_5))  var(Curr(ESC_5))  RMS(Curr(ESC_5))  \\\n",
      "0          5900.951510         3.821152          0.090382          3.832927   \n",
      "1          5149.728929         3.848963          0.099988          3.861895   \n",
      "2          9763.716608         3.247095          0.541751          3.329244   \n",
      "3         11455.317946         3.436201          0.572660          3.518343   \n",
      "4         10999.805081         3.397244          0.590354          3.482825   \n",
      "...                ...              ...               ...               ...   \n",
      "1615       9801.079870         3.458363          0.704591          3.558505   \n",
      "1616       6279.971364         3.393707          0.486267          3.464426   \n",
      "1617      13976.687250         3.129750          0.270499          3.172560   \n",
      "1618       8433.881405         3.117739          0.287920          3.163451   \n",
      "1619      11113.487835         3.426466          0.688829          3.525278   \n",
      "\n",
      "      freq2(Curr(ESC_5))  \n",
      "0             128.000000  \n",
      "1             130.000000  \n",
      "2             103.000000  \n",
      "3             128.000000  \n",
      "4             124.000000  \n",
      "...                  ...  \n",
      "1615          102.000000  \n",
      "1616          131.890602  \n",
      "1617          128.753692  \n",
      "1618          127.983733  \n",
      "1619           93.145597  \n",
      "\n",
      "[1620 rows x 70 columns]\n"
     ]
    }
   ],
   "source": [
    "x=x.drop(x.columns[index_false],axis = 1)\n",
    "print(x)"
   ]
  },
  {
   "cell_type": "code",
   "execution_count": 17,
   "metadata": {},
   "outputs": [
    {
     "name": "stdout",
     "output_type": "stream",
     "text": [
      "     <>(GyrX)  var(GyrX)  kurt(GyrX)  freq1(GyrX)  <>(GyrY)  var(GyrY)  \\\n",
      "340  0.023199   0.047987    3.059677         75.0 -0.046644   0.039103   \n",
      "\n",
      "     RMS(GyrY)  freq1(GyrY)  amp1(GyrY)  amp2(GyrY)  ...  kurt(RPM(ESC_4))  \\\n",
      "340   0.202913          0.0   36.018392    6.630036  ...         -1.323063   \n",
      "\n",
      "     kurt(Curr(ESC_4))  var(RPM(ESC_5))  kurt(RPM(ESC_5))  amp1(RPM(ESC_5))  \\\n",
      "340           -1.48014    448746.126656         -0.486134        9480.80502   \n",
      "\n",
      "     amp2(RPM(ESC_5))  <>(Curr(ESC_5))  var(Curr(ESC_5))  RMS(Curr(ESC_5))  \\\n",
      "340       5384.404535         3.780511          0.231265          3.810893   \n",
      "\n",
      "     freq2(Curr(ESC_5))  \n",
      "340               158.0  \n",
      "\n",
      "[1 rows x 70 columns]\n"
     ]
    }
   ],
   "source": [
    "df_test=df_test.drop(df_test.columns[index_false],axis = 1)\n",
    "print(df_test)"
   ]
  },
  {
   "cell_type": "code",
   "execution_count": 18,
   "metadata": {},
   "outputs": [
    {
     "name": "stdout",
     "output_type": "stream",
     "text": [
      "      <>(GyrX)  var(GyrX)  kurt(GyrX)  freq1(GyrX)  <>(GyrY)  var(GyrZ)  \\\n",
      "0    -0.036849   0.027360    1.475030    78.000000 -0.017003   0.006975   \n",
      "1    -0.041448   0.026756    1.533863    77.000000 -0.011517   0.007137   \n",
      "2    -0.042940   0.019510   -0.894137    83.000000  0.015934   0.006485   \n",
      "3    -0.044568   0.009104    0.702076     0.000000  0.054275   0.006010   \n",
      "4    -0.044876   0.009636    0.541254     0.000000  0.050039   0.006226   \n",
      "...        ...        ...         ...          ...       ...        ...   \n",
      "1615 -0.002277   0.011471    2.767782    57.568428  0.065748   0.004452   \n",
      "1616 -0.026533   0.009830    2.283048    94.396917 -0.008498   0.004624   \n",
      "1617 -0.024390   0.007106   -0.531280   100.507384  0.046001   0.008196   \n",
      "1618 -0.014693   0.006134   -0.325721    78.286600  0.042700   0.008652   \n",
      "1619  0.002568   0.010970    3.326966    66.436792  0.066225   0.004423   \n",
      "\n",
      "      kurt(GyrZ)  RMS(GyrZ)  amp1(GyrZ)  <>(AccX)  ...  var(Curr(ESC_1))  \\\n",
      "0      -1.001582   0.167255    1.065945 -0.181547  ...          1.280494   \n",
      "1      -1.168774   0.163102    0.980563 -0.189281  ...          1.247259   \n",
      "2      -1.627656   0.129323    0.576820 -0.106713  ...          0.311399   \n",
      "3      -1.423049   0.120961    4.138535 -0.019197  ...          0.208752   \n",
      "4      -1.472815   0.124672    2.332224 -0.035970  ...          0.218441   \n",
      "...          ...        ...         ...       ...  ...               ...   \n",
      "1615   -1.439290   0.111678    1.657332  0.098096  ...          0.499173   \n",
      "1616   -1.362118   0.111206    2.900201 -0.061543  ...          0.552722   \n",
      "1617   -1.369838   0.149876    3.410365  0.117214  ...          0.516349   \n",
      "1618   -1.428550   0.153803    1.864604  0.109019  ...          0.513696   \n",
      "1619   -1.396600   0.113258    1.823732  0.083890  ...          0.500925   \n",
      "\n",
      "      RMS(Curr(ESC_1))  amp2(Curr(ESC_1))  var(Curr(ESC_2))  \\\n",
      "0             2.822684          10.408799          0.124525   \n",
      "1             2.777518           9.473881          0.144354   \n",
      "2             2.652000           8.263989          0.598878   \n",
      "3             2.685212           7.400846          0.856458   \n",
      "4             2.705115          14.352579          0.872611   \n",
      "...                ...                ...               ...   \n",
      "1615          2.891101          20.013388          1.135967   \n",
      "1616          2.462155          15.204014          0.300398   \n",
      "1617          2.413331          12.142472          0.443868   \n",
      "1618          2.463163          15.836247          0.459397   \n",
      "1619          2.910068          11.769184          1.163586   \n",
      "\n",
      "      freq1(Curr(ESC_2))  kurt(RPM(ESC_3))  kurt(Curr(ESC_3))  \\\n",
      "0             109.000000         -0.537624          -1.167994   \n",
      "1             115.000000         -0.524998          -1.178605   \n",
      "2             118.000000         -0.871909          -0.489367   \n",
      "3             127.000000         -1.693994           1.135858   \n",
      "4             117.000000         -1.775594           0.921205   \n",
      "...                  ...               ...                ...   \n",
      "1615          135.000000         -0.554796          -0.170334   \n",
      "1616          129.356241         -0.974007           0.573082   \n",
      "1617          112.768459         -0.940094          -1.028268   \n",
      "1618          105.286600         -1.118331          -1.161622   \n",
      "1619          135.773944         -0.618234          -0.224167   \n",
      "\n",
      "      kurt(RPM(ESC_4))  amp2(RPM(ESC_5))  freq2(Curr(ESC_5))  \n",
      "0             0.904027       5900.951510          128.000000  \n",
      "1             1.148294       5149.728929          130.000000  \n",
      "2            -0.952344       9763.716608          103.000000  \n",
      "3            -0.578786      11455.317946          128.000000  \n",
      "4            -0.782928      10999.805081          124.000000  \n",
      "...                ...               ...                 ...  \n",
      "1615         -1.074806       9801.079870          102.000000  \n",
      "1616         -0.895041       6279.971364          131.890602  \n",
      "1617         -0.502446      13976.687250          128.753692  \n",
      "1618         -0.709669       8433.881405          127.983733  \n",
      "1619         -1.138099      11113.487835           93.145597  \n",
      "\n",
      "[1620 rows x 29 columns]\n"
     ]
    }
   ],
   "source": [
    "correlated_features = set()\n",
    "correlation_matrix = x.corr()\n",
    "\n",
    "for i in range(len(correlation_matrix.columns)):\n",
    "    for j in range(i):\n",
    "        if (correlation_matrix.iloc[i, j] > 0.8) | (correlation_matrix.iloc[i, j] < -0.5):\n",
    "            colname = correlation_matrix.columns[i]\n",
    "            correlated_features.add(colname)\n",
    "\n",
    "x = x.drop([col for col in x.columns if col in correlated_features],axis=1)\n",
    "print(x)"
   ]
  },
  {
   "cell_type": "code",
   "execution_count": 19,
   "metadata": {},
   "outputs": [
    {
     "name": "stdout",
     "output_type": "stream",
     "text": [
      "     <>(GyrX)  var(GyrX)  kurt(GyrX)  freq1(GyrX)  <>(GyrY)  var(GyrZ)  \\\n",
      "340  0.023199   0.047987    3.059677         75.0 -0.046644   0.020126   \n",
      "\n",
      "     kurt(GyrZ)  RMS(GyrZ)  amp1(GyrZ)  <>(AccX)  ...  var(Curr(ESC_1))  \\\n",
      "340   -1.687782   0.218161     1.86287  0.071148  ...          1.027177   \n",
      "\n",
      "     RMS(Curr(ESC_1))  amp2(Curr(ESC_1))  var(Curr(ESC_2))  \\\n",
      "340          3.073783          25.764462          0.336639   \n",
      "\n",
      "     freq1(Curr(ESC_2))  kurt(RPM(ESC_3))  kurt(Curr(ESC_3))  \\\n",
      "340               114.0         -0.871119          -0.703774   \n",
      "\n",
      "     kurt(RPM(ESC_4))  amp2(RPM(ESC_5))  freq2(Curr(ESC_5))  \n",
      "340         -1.323063       5384.404535               158.0  \n",
      "\n",
      "[1 rows x 29 columns]\n"
     ]
    }
   ],
   "source": [
    "df_test=df_test.drop([col for col in df_test.columns if col in correlated_features],axis=1)\n",
    "print(df_test)"
   ]
  },
  {
   "cell_type": "code",
   "execution_count": null,
   "metadata": {},
   "outputs": [],
   "source": [
    "plt.figure(figsize=(30,15))\n",
    "ax = sns.heatmap(x[x.columns].corr(),cmap=\"Blues\",annot=True,annot_kws={\"size\": 18})"
   ]
  },
  {
   "attachments": {},
   "cell_type": "markdown",
   "metadata": {},
   "source": [
    "### Separazione del dataset in training e test"
   ]
  },
  {
   "cell_type": "code",
   "execution_count": 42,
   "metadata": {},
   "outputs": [
    {
     "name": "stdout",
     "output_type": "stream",
     "text": [
      "(1296, 29)\n",
      "(324, 29)\n",
      "(1296, 1)\n",
      "(324, 1)\n"
     ]
    }
   ],
   "source": [
    "# Random state\n",
    "rs = 42\n",
    "\n",
    "# Split the data to check which algorithms learn better (later on we can check )\n",
    "x_train, x_test, y_train, y_test = train_test_split(x, y, test_size=0.2, random_state=rs)\n",
    "y_train = y_train.astype(int)\n",
    "y_test = y_test.astype(int)\n",
    "\n",
    "# look at the shape of the data (many problems can arise from wrong shape)\n",
    "print(x_train.shape)\n",
    "print(x_test.shape)\n",
    "print(y_train.shape)\n",
    "print(y_test.shape)"
   ]
  },
  {
   "cell_type": "code",
   "execution_count": 43,
   "metadata": {},
   "outputs": [],
   "source": [
    "from sklearn.calibration import CalibratedClassifierCV\n",
    "\n",
    "# List of classifiers:\n",
    "classifiers = [\n",
    "    LogisticRegression(random_state = rs),\n",
    "    SVC(probability=True),\n",
    "    MLPClassifier(random_state=rs), # Multi Layer Perceptron\n",
    "    SGDClassifier(random_state=rs) # Stochastic Gradient Descent \n",
    "]\n",
    "\n",
    "# List of results that will occure:\n",
    "clf_name = [] # names of the classifiers\n",
    "model_results = pd.DataFrame.copy(y_test) #resulting of prediction from the models\n",
    "\n",
    "kfold = StratifiedKFold(n_splits=5) #cross-validation\n",
    "cv_results = [] # scores from cross validation\n",
    "cv_acc = [] # mean accuracy from cross validation, need to maximize\n",
    "cv_std = [] # standard deviation from cross validation, need to minimise\n",
    "\n",
    "cnfm = [] #confusion matrix\n",
    "clr = [] #classification report\n",
    "roc_auc = [] #roc curve:\n",
    "roc_tpr = []\n",
    "roc_fpr = []"
   ]
  },
  {
   "attachments": {},
   "cell_type": "markdown",
   "metadata": {},
   "source": [
    "### Classificazione"
   ]
  },
  {
   "cell_type": "code",
   "execution_count": 44,
   "metadata": {},
   "outputs": [
    {
     "name": "stdout",
     "output_type": "stream",
     "text": [
      "Cross-Validation: [0.83846154 0.84555985 0.86100386 0.84555985 0.82625483]\n",
      "Accuracy: 0.84 \t ---> LogisticRegression \n",
      "Test: 2    1\n",
      "Name: Guasto_test, dtype: int64\n",
      "----------------------------------------------------\n",
      "Cross-Validation: [0.60769231 0.62548263 0.65637066 0.64478764 0.67567568]\n",
      "Accuracy: 0.66 \t ---> SVC \n",
      "Test: 2    1\n",
      "Name: Guasto_test, dtype: int64\n",
      "----------------------------------------------------\n",
      "Cross-Validation: [0.75       0.63706564 0.81467181 0.84942085 0.76061776]\n",
      "Accuracy: 0.81 \t ---> MLPClassifier \n",
      "Test: 2    1\n",
      "Name: Guasto_test, dtype: int64\n",
      "----------------------------------------------------\n",
      "Cross-Validation: [0.41153846 0.75675676 0.59459459 0.58301158 0.65250965]\n",
      "Accuracy: 0.56 \t ---> SGDClassifier \n",
      "Test: 2    1\n",
      "Name: Guasto_test, dtype: int64\n",
      "----------------------------------------------------\n"
     ]
    }
   ],
   "source": [
    "# Training the algorithms and results\n",
    "for clf in classifiers:\n",
    "    name = clf.__class__.__name__\n",
    "    clf_name.append(name)\n",
    "    \n",
    "    #fitting and predictions\n",
    "    model = clf.fit(x_train, y_train.values.ravel())\n",
    "    y_pred = model.predict(x_test)\n",
    "    model_results[name] = y_pred\n",
    "    \n",
    "    #accuracy and log loss\n",
    "    cv_results.append(cross_val_score(clf, x_train, y_train.values.ravel(), scoring = \"accuracy\",cv = kfold)) # qui invece abbiamo cross validation\n",
    "    acc = round(accuracy_score(y_test.values.ravel(), y_pred), 2) # accuratezza semplice con training e test\n",
    "    train_pred = clf.predict(x_test)\n",
    "    print(f'Cross-Validation: {cross_val_score(clf, x_train, y_train.values.ravel(), scoring = \"accuracy\",cv = kfold)}') \n",
    "    \n",
    "    print(f'Accuracy: {acc} \\t ---> {name} ')\n",
    "\n",
    "    guasto_pred = pd.Series(model.predict(df_test), name='Guasto_test')\n",
    "    conteggio = guasto_pred.value_counts()\n",
    "    print(f'Test: {conteggio}')\n",
    "\n",
    "    print(\"----------------------------------------------------\")\n",
    "    \n",
    "    \n",
    "    #confusion matrix, clasification report, roc curve\n",
    "    cnfm.append(confusion_matrix(y_test.values.ravel(), y_pred))\n",
    "    clr.append(classification_report(y_test.values.ravel(), y_pred))\n",
    "    fpr, tpr, thresholds = roc_curve(y_pred, y_test.values.ravel(), pos_label=1)\n",
    "    roc_auc.append(auc(fpr, tpr))\n",
    "    roc_tpr.append(tpr)\n",
    "    roc_fpr.append(fpr)\n",
    "    \n",
    "    i += 1\n",
    "\n",
    "for i in cv_results:\n",
    "    cv_acc.append(i.mean())\n",
    "    cv_std.append(i.std())\n"
   ]
  },
  {
   "attachments": {},
   "cell_type": "markdown",
   "metadata": {},
   "source": [
    "### Matrici di confusione"
   ]
  },
  {
   "cell_type": "code",
   "execution_count": 45,
   "metadata": {},
   "outputs": [
    {
     "data": {
      "image/png": "[encoded data removed]",
      "text/plain": [
       "<Figure size 1440x1080 with 8 Axes>"
      ]
     },
     "metadata": {},
     "output_type": "display_data"
    }
   ],
   "source": [
    "import seaborn as sns\n",
    "# Confusion matrixes (not-normalized confusion matrix)\n",
    "plt.figure(figsize=(20,15))\n",
    "sns.set(font_scale=1.4)\n",
    "for i in range(len(classifiers)):\n",
    "    plt.subplot(3,3,i+1) #adjust this acourding to the number of algorithms\n",
    "    sns.heatmap(cnfm[i], annot=True, fmt=\"d\",cmap=\"Reds\")\n",
    "    plt.subplots_adjust(hspace = 0.5)\n",
    "    plt.xlabel('Predicted')\n",
    "    plt.ylabel('Actual')\n",
    "    plt.title(clf_name[i])"
   ]
  },
  {
   "attachments": {},
   "cell_type": "markdown",
   "metadata": {},
   "source": [
    "Cross Validation Score"
   ]
  },
  {
   "cell_type": "code",
   "execution_count": 46,
   "metadata": {},
   "outputs": [
    {
     "data": {
      "text/plain": [
       "Text(0.5, 1.0, 'Cross validation scores')"
      ]
     },
     "execution_count": 46,
     "metadata": {},
     "output_type": "execute_result"
    },
    {
     "data": {
      "image/png": "[encoded data removed]",
      "text/plain": [
       "<Figure size 864x432 with 1 Axes>"
      ]
     },
     "metadata": {},
     "output_type": "display_data"
    }
   ],
   "source": [
    "# Cross validation accuracy results graph\n",
    "cv_res = pd.DataFrame({\"CrossValMeans\":cv_acc, \"CrossValerrors\": cv_std,\"Algorithm\":clf_name})\n",
    "\n",
    "plt.figure(figsize=(12,6))\n",
    "sns.barplot(x=\"CrossValMeans\",y=\"Algorithm\",data = cv_res, palette=\"Set2\",orient = \"h\",**{'xerr':cv_std})\n",
    "plt.xlabel(\"Mean Accuracy\")\n",
    "plt.title(\"Cross validation scores\")"
   ]
  },
  {
   "attachments": {},
   "cell_type": "markdown",
   "metadata": {},
   "source": [
    "Report Classificazione"
   ]
  },
  {
   "cell_type": "code",
   "execution_count": 47,
   "metadata": {},
   "outputs": [
    {
     "name": "stdout",
     "output_type": "stream",
     "text": [
      "LogisticRegression Classification Report:\n",
      "              precision    recall  f1-score   support\n",
      "\n",
      "           0       0.80      0.72      0.76        99\n",
      "           1       0.80      0.83      0.82       109\n",
      "           2       0.92      0.96      0.94       116\n",
      "\n",
      "    accuracy                           0.84       324\n",
      "   macro avg       0.84      0.84      0.84       324\n",
      "weighted avg       0.84      0.84      0.84       324\n",
      "\n",
      "SVC Classification Report:\n",
      "              precision    recall  f1-score   support\n",
      "\n",
      "           0       0.75      0.80      0.77        99\n",
      "           1       0.59      0.50      0.54       109\n",
      "           2       0.64      0.71      0.67       116\n",
      "\n",
      "    accuracy                           0.66       324\n",
      "   macro avg       0.66      0.67      0.66       324\n",
      "weighted avg       0.66      0.66      0.66       324\n",
      "\n",
      "MLPClassifier Classification Report:\n",
      "              precision    recall  f1-score   support\n",
      "\n",
      "           0       1.00      0.56      0.71        99\n",
      "           1       0.78      0.85      0.82       109\n",
      "           2       0.77      1.00      0.87       116\n",
      "\n",
      "    accuracy                           0.81       324\n",
      "   macro avg       0.85      0.80      0.80       324\n",
      "weighted avg       0.85      0.81      0.80       324\n",
      "\n",
      "SGDClassifier Classification Report:\n",
      "              precision    recall  f1-score   support\n",
      "\n",
      "           0       0.79      0.70      0.74        99\n",
      "           1       0.00      0.00      0.00       109\n",
      "           2       0.48      0.98      0.65       116\n",
      "\n",
      "    accuracy                           0.56       324\n",
      "   macro avg       0.42      0.56      0.46       324\n",
      "weighted avg       0.41      0.56      0.46       324\n",
      "\n"
     ]
    }
   ],
   "source": [
    "#Classification reports\n",
    "for i in range(len(classifiers)):\n",
    "    print (f\"{clf_name[i]} Classification Report:\" )\n",
    "    print (clr[i])"
   ]
  }
 ],
 "metadata": {
  "kernelspec": {
   "display_name": "Python 3",
   "language": "python",
   "name": "python3"
  },
  "language_info": {
   "codemirror_mode": {
    "name": "ipython",
    "version": 3
   },
   "file_extension": ".py",
   "mimetype": "text/x-python",
   "name": "python",
   "nbconvert_exporter": "python",
   "pygments_lexer": "ipython3",
   "version": "3.10.2"
  },
  "orig_nbformat": 4,
  "vscode": {
   "interpreter": {
    "hash": "369f2c481f4da34e4445cda3fffd2e751bd1c4d706f27375911949ba6bb62e1c"
   }
  }
 },
 "nbformat": 4,
 "nbformat_minor": 2
}
