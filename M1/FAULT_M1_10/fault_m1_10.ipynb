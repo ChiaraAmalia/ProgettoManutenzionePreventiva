{
 "cells": [
  {
   "attachments": {},
   "cell_type": "markdown",
   "metadata": {},
   "source": [
    "IMPORTAZIONE LIBRERIE"
   ]
  },
  {
   "cell_type": "code",
   "execution_count": 1,
   "metadata": {},
   "outputs": [],
   "source": [
    "import os\n",
    "import pandas as pd\n",
    "import matplotlib.pyplot as plt\n",
    "import numpy as np"
   ]
  },
  {
   "attachments": {},
   "cell_type": "markdown",
   "metadata": {},
   "source": [
    "CAMBIO PATH PER ANALISI RISPETTO AL LOG DI VOLO CONSIDERATO"
   ]
  },
  {
   "cell_type": "code",
   "execution_count": 2,
   "metadata": {},
   "outputs": [
    {
     "name": "stdout",
     "output_type": "stream",
     "text": [
      "c:\\Users\\chiar\\OneDrive\\Desktop\\MantenzionePreventiva\\ProgettoManutenzionePreventiva\\M1\\FAULT_M1_10\n"
     ]
    }
   ],
   "source": [
    "path_file = os.path.abspath(os.getcwd())\n",
    "print(path_file)\n",
    "os.chdir(path_file)"
   ]
  },
  {
   "attachments": {},
   "cell_type": "markdown",
   "metadata": {},
   "source": [
    "VOLO M1 FAULT 10%"
   ]
  },
  {
   "cell_type": "code",
   "execution_count": 3,
   "metadata": {},
   "outputs": [
    {
     "data": {
      "text/html": [
       "<div>\n",
       "<style scoped>\n",
       "    .dataframe tbody tr th:only-of-type {\n",
       "        vertical-align: middle;\n",
       "    }\n",
       "\n",
       "    .dataframe tbody tr th {\n",
       "        vertical-align: top;\n",
       "    }\n",
       "\n",
       "    .dataframe thead th {\n",
       "        text-align: right;\n",
       "    }\n",
       "</style>\n",
       "<table border=\"1\" class=\"dataframe\">\n",
       "  <thead>\n",
       "    <tr style=\"text-align: right;\">\n",
       "      <th></th>\n",
       "      <th>TimeUS</th>\n",
       "      <th>C9</th>\n",
       "      <th>C10</th>\n",
       "      <th>C11</th>\n",
       "      <th>C12</th>\n",
       "      <th>C13</th>\n",
       "      <th>C14</th>\n",
       "    </tr>\n",
       "  </thead>\n",
       "  <tbody>\n",
       "    <tr>\n",
       "      <th>594</th>\n",
       "      <td>1648579931</td>\n",
       "      <td>1467</td>\n",
       "      <td>1420</td>\n",
       "      <td>1429</td>\n",
       "      <td>1459</td>\n",
       "      <td>1448</td>\n",
       "      <td>1441</td>\n",
       "    </tr>\n",
       "    <tr>\n",
       "      <th>597</th>\n",
       "      <td>1648611573</td>\n",
       "      <td>1436</td>\n",
       "      <td>1483</td>\n",
       "      <td>1442</td>\n",
       "      <td>1478</td>\n",
       "      <td>1413</td>\n",
       "      <td>1504</td>\n",
       "    </tr>\n",
       "    <tr>\n",
       "      <th>598</th>\n",
       "      <td>1648622390</td>\n",
       "      <td>1441</td>\n",
       "      <td>1490</td>\n",
       "      <td>1452</td>\n",
       "      <td>1479</td>\n",
       "      <td>1423</td>\n",
       "      <td>1506</td>\n",
       "    </tr>\n",
       "    <tr>\n",
       "      <th>599</th>\n",
       "      <td>1648632751</td>\n",
       "      <td>1473</td>\n",
       "      <td>1470</td>\n",
       "      <td>1445</td>\n",
       "      <td>1496</td>\n",
       "      <td>1444</td>\n",
       "      <td>1498</td>\n",
       "    </tr>\n",
       "    <tr>\n",
       "      <th>600</th>\n",
       "      <td>1648643260</td>\n",
       "      <td>1493</td>\n",
       "      <td>1459</td>\n",
       "      <td>1402</td>\n",
       "      <td>1542</td>\n",
       "      <td>1418</td>\n",
       "      <td>1530</td>\n",
       "    </tr>\n",
       "    <tr>\n",
       "      <th>...</th>\n",
       "      <td>...</td>\n",
       "      <td>...</td>\n",
       "      <td>...</td>\n",
       "      <td>...</td>\n",
       "      <td>...</td>\n",
       "      <td>...</td>\n",
       "      <td>...</td>\n",
       "    </tr>\n",
       "    <tr>\n",
       "      <th>9745</th>\n",
       "      <td>1749449310</td>\n",
       "      <td>1588</td>\n",
       "      <td>1411</td>\n",
       "      <td>1523</td>\n",
       "      <td>1488</td>\n",
       "      <td>1505</td>\n",
       "      <td>1507</td>\n",
       "    </tr>\n",
       "    <tr>\n",
       "      <th>9746</th>\n",
       "      <td>1749459761</td>\n",
       "      <td>1576</td>\n",
       "      <td>1423</td>\n",
       "      <td>1531</td>\n",
       "      <td>1477</td>\n",
       "      <td>1501</td>\n",
       "      <td>1508</td>\n",
       "    </tr>\n",
       "    <tr>\n",
       "      <th>9747</th>\n",
       "      <td>1749470298</td>\n",
       "      <td>1555</td>\n",
       "      <td>1447</td>\n",
       "      <td>1515</td>\n",
       "      <td>1492</td>\n",
       "      <td>1459</td>\n",
       "      <td>1545</td>\n",
       "    </tr>\n",
       "    <tr>\n",
       "      <th>9748</th>\n",
       "      <td>1749480739</td>\n",
       "      <td>1516</td>\n",
       "      <td>1484</td>\n",
       "      <td>1534</td>\n",
       "      <td>1465</td>\n",
       "      <td>1440</td>\n",
       "      <td>1556</td>\n",
       "    </tr>\n",
       "    <tr>\n",
       "      <th>9749</th>\n",
       "      <td>1749491176</td>\n",
       "      <td>1555</td>\n",
       "      <td>1431</td>\n",
       "      <td>1525</td>\n",
       "      <td>1465</td>\n",
       "      <td>1478</td>\n",
       "      <td>1513</td>\n",
       "    </tr>\n",
       "  </tbody>\n",
       "</table>\n",
       "<p>5448 rows × 7 columns</p>\n",
       "</div>"
      ],
      "text/plain": [
       "          TimeUS    C9   C10   C11   C12   C13   C14\n",
       "594   1648579931  1467  1420  1429  1459  1448  1441\n",
       "597   1648611573  1436  1483  1442  1478  1413  1504\n",
       "598   1648622390  1441  1490  1452  1479  1423  1506\n",
       "599   1648632751  1473  1470  1445  1496  1444  1498\n",
       "600   1648643260  1493  1459  1402  1542  1418  1530\n",
       "...          ...   ...   ...   ...   ...   ...   ...\n",
       "9745  1749449310  1588  1411  1523  1488  1505  1507\n",
       "9746  1749459761  1576  1423  1531  1477  1501  1508\n",
       "9747  1749470298  1555  1447  1515  1492  1459  1545\n",
       "9748  1749480739  1516  1484  1534  1465  1440  1556\n",
       "9749  1749491176  1555  1431  1525  1465  1478  1513\n",
       "\n",
       "[5448 rows x 7 columns]"
      ]
     },
     "metadata": {},
     "output_type": "display_data"
    }
   ],
   "source": [
    "rcou_m1_fault10 = pd.read_csv(\"RCOU.csv\")\n",
    "rcou_m1_fault10 = rcou_m1_fault10.drop(['LineNo','C1', 'C2', 'C3', 'C4', 'C5', 'C6', 'C7', 'C8'], axis=1)\n",
    "\n",
    "rcou_m1_fault10 = rcou_m1_fault10[((rcou_m1_fault10['C9'] >= 1400) & (rcou_m1_fault10['C10'] >= 1400) & (rcou_m1_fault10['C11'] >= 1400) & (rcou_m1_fault10['C12'] >= 1400) & (rcou_m1_fault10['C13'] >= 1400) & (rcou_m1_fault10['C14']>= 1400))]\n",
    "\n",
    "pd.set_option('display.max_rows',700)\n",
    "display(rcou_m1_fault10)"
   ]
  },
  {
   "cell_type": "code",
   "execution_count": 4,
   "metadata": {},
   "outputs": [
    {
     "name": "stdout",
     "output_type": "stream",
     "text": [
      "          TimeUS  Roll  Pitch    Yaw\n",
      "595   1648588414 -1.13   1.58  19.94\n",
      "596   1648598616 -1.03   1.62  19.93\n",
      "597   1648609223 -1.08   1.67  19.93\n",
      "598   1648619701 -1.08   1.68  19.93\n",
      "599   1648630504 -1.05   1.69  19.92\n",
      "...          ...   ...    ...    ...\n",
      "9748  1749447326 -1.54   0.06   6.15\n",
      "9749  1749457351 -1.53   0.06   6.15\n",
      "9750  1749468272 -1.50   0.07   6.16\n",
      "9751  1749478311 -1.41   0.00   6.13\n",
      "9752  1749489170 -1.21  -0.05   6.14\n",
      "\n",
      "[9158 rows x 4 columns]\n"
     ]
    }
   ],
   "source": [
    "xkf1_m1_fault10 = pd.read_csv(\"XKF1_0.csv\")\n",
    "xkf1_m1_fault10 = xkf1_m1_fault10.drop(['LineNo','C','VN','VE','VD','dPD','PN','PE','PD','GX','GY','GZ','OH'], axis=1)\n",
    "xkf1_m1_fault10 = xkf1_m1_fault10[((xkf1_m1_fault10['TimeUS'] >= 1648579931) & (xkf1_m1_fault10['TimeUS'] <= 1749491176))]\n",
    "print(xkf1_m1_fault10)"
   ]
  },
  {
   "cell_type": "code",
   "execution_count": 5,
   "metadata": {},
   "outputs": [
    {
     "name": "stdout",
     "output_type": "stream",
     "text": [
      "          TimeUS  DesRoll  Roll  DesPitch  Pitch  DesYaw    Yaw\n",
      "597   1648589763    -0.04 -1.13     -0.42   1.58   19.79  19.94\n",
      "598   1648600108    -0.04 -1.03     -0.43   1.62   19.79  19.93\n",
      "599   1648610781    -0.04 -1.08     -0.45   1.67   19.79  19.93\n",
      "600   1648621728    -0.05 -1.08     -0.45   1.68   19.79  19.93\n",
      "601   1648631845    -0.06 -1.05     -0.46   1.69   19.79  19.92\n",
      "...          ...      ...   ...       ...    ...     ...    ...\n",
      "9751  1749448579     0.73 -1.54     -0.31   0.06    8.12   6.15\n",
      "9752  1749459114     0.74 -1.53     -0.32   0.06    8.12   6.15\n",
      "9753  1749469562     0.75 -1.50     -0.34   0.07    8.12   6.16\n",
      "9754  1749479836     0.76 -1.41     -0.34   0.00    8.12   6.13\n",
      "9755  1749490199     0.75 -1.21     -0.33  -0.05    8.12   6.14\n",
      "\n",
      "[9159 rows x 7 columns]\n"
     ]
    }
   ],
   "source": [
    "att_m1_fault10 = pd.read_csv(\"ATT.csv\")\n",
    "att_m1_fault10 = att_m1_fault10.drop(['LineNo','ErrRP', 'ErrYaw', 'AEKF'], axis=1)\n",
    "#att = att[(att['TimeUS'] - att['TimeUS'].iat[0])]\n",
    "att_m1_fault10 = att_m1_fault10[((att_m1_fault10['TimeUS'] >= 1648579931) & (att_m1_fault10['TimeUS'] <= 1749491176))]\n",
    "print(att_m1_fault10)"
   ]
  },
  {
   "cell_type": "code",
   "execution_count": 6,
   "metadata": {},
   "outputs": [
    {
     "name": "stdout",
     "output_type": "stream",
     "text": [
      "          TimeUS  DesRoll  Roll  DesPitch  Pitch  DesYaw    Yaw\n",
      "0     1648589763    -0.04 -1.13     -0.42   1.58   19.79  19.94\n",
      "1     1648600108    -0.04 -1.03     -0.43   1.62   19.79  19.93\n",
      "2     1648610781    -0.04 -1.08     -0.45   1.67   19.79  19.93\n",
      "3     1648621728    -0.05 -1.08     -0.45   1.68   19.79  19.93\n",
      "4     1648631845    -0.06 -1.05     -0.46   1.69   19.79  19.92\n",
      "...          ...      ...   ...       ...    ...     ...    ...\n",
      "9154  1749448579     0.73 -1.54     -0.31   0.06    8.12   6.15\n",
      "9155  1749459114     0.74 -1.53     -0.32   0.06    8.12   6.15\n",
      "9156  1749469562     0.75 -1.50     -0.34   0.07    8.12   6.16\n",
      "9157  1749479836     0.76 -1.41     -0.34   0.00    8.12   6.13\n",
      "9158  1749490199     0.75 -1.21     -0.33  -0.05    8.12   6.14\n",
      "\n",
      "[9159 rows x 7 columns]\n"
     ]
    }
   ],
   "source": [
    "att_m1_fault10 = pd.merge_asof(att_m1_fault10,xkf1_m1_fault10, on=\"TimeUS\", by=[\"Roll\",\"Pitch\",\"Yaw\"], tolerance=100000)\n",
    "print(att_m1_fault10)"
   ]
  },
  {
   "cell_type": "code",
   "execution_count": 7,
   "metadata": {},
   "outputs": [
    {
     "name": "stdout",
     "output_type": "stream",
     "text": [
      "         TimeUS   RPM  Curr\n",
      "54   1648723327  3896  3.19\n",
      "55   1648835311  5342  3.73\n",
      "56   1648951745  5931  3.46\n",
      "57   1649061187  6114  3.42\n",
      "58   1649165235  6122  3.68\n",
      "..          ...   ...   ...\n",
      "897  1749047076  6246  3.40\n",
      "898  1749156980  6076  2.90\n",
      "899  1749265284  5870  2.39\n",
      "900  1749365503  5711  2.88\n",
      "901  1749472547  5617  3.20\n",
      "\n",
      "[848 rows x 3 columns]\n"
     ]
    }
   ],
   "source": [
    "esc_0_m1_fault10 = pd.read_csv(\"ESC_0.csv\")\n",
    "esc_0_m1_fault10 = esc_0_m1_fault10.drop(['LineNo','Instance', 'RawRPM', 'Volt', 'Temp', 'CTot', 'MotTemp', 'Err'], axis=1)\n",
    "#att = att[(att['TimeUS'] - att['TimeUS'].iat[0])]\n",
    "esc_0_m1_fault10 = esc_0_m1_fault10[((esc_0_m1_fault10['TimeUS'] >= 1648579931) & (esc_0_m1_fault10['TimeUS'] <= 1749491176))]\n",
    "print(esc_0_m1_fault10)"
   ]
  },
  {
   "cell_type": "code",
   "execution_count": 8,
   "metadata": {},
   "outputs": [
    {
     "name": "stdout",
     "output_type": "stream",
     "text": [
      "           TimeUS      GyrX      GyrY      GyrZ      AccX      AccY       AccZ\n",
      "2360   1648581601 -0.211782  0.056831 -0.012994  0.336502  0.421589  -9.942896\n",
      "2361   1648584188 -0.107283  0.080737 -0.008679  0.274276  0.472594  -9.818870\n",
      "2362   1648586823  0.120394  0.054659 -0.015943  0.228785  0.488832  -9.716087\n",
      "2363   1648589594  0.248535  0.001177 -0.019928  0.194952  0.497481  -9.714005\n",
      "2364   1648592629 -0.031576  0.018236  0.000477  0.181488  0.572292  -9.844906\n",
      "...           ...       ...       ...       ...       ...       ...        ...\n",
      "37156  1749479584  0.122205 -0.055954 -0.036314  0.623647  0.846220 -10.381050\n",
      "37157  1749482701  0.219854 -0.080906 -0.021819  0.592933  0.738165 -10.306070\n",
      "37158  1749485100  0.255042 -0.051175 -0.008229  0.590397  0.681750 -10.253930\n",
      "37159  1749488276  0.252755 -0.054167 -0.000385  0.561656  0.693142 -10.216080\n",
      "37160  1749490094  0.281972 -0.070295  0.031691  0.373961  0.684964 -10.319860\n",
      "\n",
      "[34801 rows x 7 columns]\n"
     ]
    }
   ],
   "source": [
    "imu_2_m1_fault10 = pd.read_csv(\"IMU_2.csv\")\n",
    "imu_2_m1_fault10 = imu_2_m1_fault10.drop(['LineNo','I', 'EG', 'EA', 'T', 'GH', 'AH', 'GHz', 'AHz'], axis=1)\n",
    "#att = att[(att['TimeUS'] - att['TimeUS'].iat[0])]\n",
    "imu_2_m1_fault10 = imu_2_m1_fault10[((imu_2_m1_fault10['TimeUS'] >= 1648579931) & (imu_2_m1_fault10['TimeUS'] <= 1749491176))]\n",
    "print(imu_2_m1_fault10)"
   ]
  },
  {
   "cell_type": "code",
   "execution_count": 9,
   "metadata": {},
   "outputs": [
    {
     "name": "stdout",
     "output_type": "stream",
     "text": [
      "          TimeUS  DesRoll  Roll  DesPitch  Pitch  DesYaw    Yaw      GyrX  \\\n",
      "0     1648589763    -0.04 -1.13     -0.42   1.58   19.79  19.94  0.248535   \n",
      "1     1648600108    -0.04 -1.03     -0.43   1.62   19.79  19.93  0.199361   \n",
      "2     1648610781    -0.04 -1.08     -0.45   1.67   19.79  19.93  0.000928   \n",
      "3     1648621728    -0.05 -1.08     -0.45   1.68   19.79  19.93  0.000334   \n",
      "4     1648631845    -0.06 -1.05     -0.46   1.69   19.79  19.92  0.051054   \n",
      "...          ...      ...   ...       ...    ...     ...    ...       ...   \n",
      "9154  1749448579     0.73 -1.54     -0.31   0.06    8.12   6.15  0.107550   \n",
      "9155  1749459114     0.74 -1.53     -0.32   0.06    8.12   6.15  0.082013   \n",
      "9156  1749469562     0.75 -1.50     -0.34   0.07    8.12   6.16  0.085620   \n",
      "9157  1749479836     0.76 -1.41     -0.34   0.00    8.12   6.13  0.122205   \n",
      "9158  1749490199     0.75 -1.21     -0.33  -0.05    8.12   6.14  0.281972   \n",
      "\n",
      "          GyrY      GyrZ      AccX      AccY       AccZ  \n",
      "0     0.001177 -0.019928  0.194952  0.497481  -9.714005  \n",
      "1     0.042658 -0.005499  0.257367  0.616977  -9.743183  \n",
      "2     0.068364 -0.007488  0.560028  0.513381  -9.965117  \n",
      "3     0.028345  0.013505  0.619316  0.394761 -10.030270  \n",
      "4     0.042268 -0.011276  0.366420  0.278175  -9.786865  \n",
      "...        ...       ...       ...       ...        ...  \n",
      "9154  0.101805 -0.056706  0.280196  0.302985 -10.009310  \n",
      "9155  0.043879 -0.007208 -0.008736  0.355807  -9.742041  \n",
      "9156  0.037289  0.004832  0.279985  0.842019 -10.113180  \n",
      "9157 -0.055954 -0.036314  0.623647  0.846220 -10.381050  \n",
      "9158 -0.070295  0.031691  0.373961  0.684964 -10.319860  \n",
      "\n",
      "[9159 rows x 13 columns]\n"
     ]
    }
   ],
   "source": [
    "m1_fault10 = pd.merge_asof(att_m1_fault10, imu_2_m1_fault10, on=\"TimeUS\",  tolerance= 100000)\n",
    "print(m1_fault10)"
   ]
  },
  {
   "cell_type": "code",
   "execution_count": 10,
   "metadata": {},
   "outputs": [
    {
     "name": "stdout",
     "output_type": "stream",
     "text": [
      "         TimeUS   RPM  Curr  DesRoll  Roll  DesPitch  Pitch  DesYaw    Yaw  \\\n",
      "0    1648723327  3896  3.19    -0.10 -0.87     -0.66   1.73   19.79  20.02   \n",
      "1    1648835311  5342  3.73    -0.70 -0.05     -1.01   1.00   19.80  20.02   \n",
      "2    1648951745  5931  3.46    -1.49  0.43     -1.76  -0.76   19.81  20.70   \n",
      "3    1649061187  6114  3.42    -2.48  0.28     -1.84  -2.67   19.81  21.96   \n",
      "4    1649165235  6122  3.68    -3.54 -0.21     -1.40  -3.43   19.79  23.71   \n",
      "..          ...   ...   ...      ...   ...       ...    ...     ...    ...   \n",
      "843  1749047076  6246  3.40     0.48  0.13     -0.72  -0.87    8.12   8.62   \n",
      "844  1749156980  6076  2.90     0.24 -0.29     -0.28  -1.04    8.13   7.50   \n",
      "845  1749265284  5870  2.39     0.34 -1.21      0.09  -0.44    8.13   6.76   \n",
      "846  1749365503  5711  2.88     0.63 -1.83     -0.08  -0.31    8.13   6.40   \n",
      "847  1749472547  5617  3.20     0.75 -1.50     -0.34   0.07    8.12   6.16   \n",
      "\n",
      "         GyrX      GyrY      GyrZ      AccX      AccY       AccZ  \n",
      "0    0.026227 -0.113615  0.038095  0.406893  0.488138 -10.612440  \n",
      "1    0.105761 -0.221288  0.025084  0.265259  0.599888 -11.398830  \n",
      "2    0.048252 -0.262935  0.151144  0.521869  1.025952 -11.681150  \n",
      "3   -0.086826 -0.160426  0.248172 -0.469114  0.404245 -11.096480  \n",
      "4   -0.056206 -0.073151  0.305723  0.027555  0.893987 -10.492620  \n",
      "..        ...       ...       ...       ...       ...        ...  \n",
      "843 -0.137480 -0.105703 -0.193616 -0.259674  0.306004  -9.329334  \n",
      "844 -0.146848  0.105827 -0.145384 -0.176891  0.190438 -10.045920  \n",
      "845 -0.123504  0.120790 -0.061905 -0.308129  0.321157  -9.623186  \n",
      "846 -0.044640 -0.017848 -0.029559 -0.237925  0.459492  -9.389385  \n",
      "847  0.085620  0.037289  0.004832  0.279985  0.842019 -10.113180  \n",
      "\n",
      "[848 rows x 15 columns]\n"
     ]
    }
   ],
   "source": [
    "m1_fault10 = pd.merge_asof(esc_0_m1_fault10, m1_fault10, on=\"TimeUS\",  tolerance= 100000)\n",
    "print(m1_fault10)"
   ]
  },
  {
   "cell_type": "code",
   "execution_count": 11,
   "metadata": {},
   "outputs": [
    {
     "name": "stdout",
     "output_type": "stream",
     "text": [
      "        TimeUS   RPM  Curr  DesRoll  Roll  DesPitch  Pitch  DesYaw    Yaw  \\\n",
      "0            0  3896  3.19    -0.10 -0.87     -0.66   1.73   19.79  20.02   \n",
      "1       111984  5342  3.73    -0.70 -0.05     -1.01   1.00   19.80  20.02   \n",
      "2       228418  5931  3.46    -1.49  0.43     -1.76  -0.76   19.81  20.70   \n",
      "3       337860  6114  3.42    -2.48  0.28     -1.84  -2.67   19.81  21.96   \n",
      "4       441908  6122  3.68    -3.54 -0.21     -1.40  -3.43   19.79  23.71   \n",
      "..         ...   ...   ...      ...   ...       ...    ...     ...    ...   \n",
      "843  100323749  6246  3.40     0.48  0.13     -0.72  -0.87    8.12   8.62   \n",
      "844  100433653  6076  2.90     0.24 -0.29     -0.28  -1.04    8.13   7.50   \n",
      "845  100541957  5870  2.39     0.34 -1.21      0.09  -0.44    8.13   6.76   \n",
      "846  100642176  5711  2.88     0.63 -1.83     -0.08  -0.31    8.13   6.40   \n",
      "847  100749220  5617  3.20     0.75 -1.50     -0.34   0.07    8.12   6.16   \n",
      "\n",
      "         GyrX      GyrY      GyrZ      AccX      AccY       AccZ  Guasto  \n",
      "0    0.026227 -0.113615  0.038095  0.406893  0.488138 -10.612440       2  \n",
      "1    0.105761 -0.221288  0.025084  0.265259  0.599888 -11.398830       2  \n",
      "2    0.048252 -0.262935  0.151144  0.521869  1.025952 -11.681150       2  \n",
      "3   -0.086826 -0.160426  0.248172 -0.469114  0.404245 -11.096480       2  \n",
      "4   -0.056206 -0.073151  0.305723  0.027555  0.893987 -10.492620       2  \n",
      "..        ...       ...       ...       ...       ...        ...     ...  \n",
      "843 -0.137480 -0.105703 -0.193616 -0.259674  0.306004  -9.329334       2  \n",
      "844 -0.146848  0.105827 -0.145384 -0.176891  0.190438 -10.045920       2  \n",
      "845 -0.123504  0.120790 -0.061905 -0.308129  0.321157  -9.623186       2  \n",
      "846 -0.044640 -0.017848 -0.029559 -0.237925  0.459492  -9.389385       2  \n",
      "847  0.085620  0.037289  0.004832  0.279985  0.842019 -10.113180       2  \n",
      "\n",
      "[848 rows x 16 columns]\n"
     ]
    }
   ],
   "source": [
    "m1_fault10[\"TimeUS\"] = m1_fault10[\"TimeUS\"] - m1_fault10.iloc[0][\"TimeUS\"]\n",
    "m1_fault10[\"TimeUS\"] = m1_fault10[\"TimeUS\"].astype(int)\n",
    "m1_fault10[\"Guasto\"] = 2\n",
    "print(m1_fault10)"
   ]
  },
  {
   "cell_type": "code",
   "execution_count": 12,
   "metadata": {},
   "outputs": [
    {
     "name": "stdout",
     "output_type": "stream",
     "text": [
      "c:\\Users\\chiar\\OneDrive\\Desktop\\MantenzionePreventiva\\ProgettoManutenzionePreventiva\\\n"
     ]
    }
   ],
   "source": [
    "path_file = path_file.replace(r\"M1\\FAULT_M1_10\", \"\")\n",
    "os.chdir(path_file)\n",
    "m1_fault10.to_csv('m1_fault10.csv', index=False)\n",
    "print(path_file)"
   ]
  }
 ],
 "metadata": {
  "kernelspec": {
   "display_name": "Python 3",
   "language": "python",
   "name": "python3"
  },
  "language_info": {
   "codemirror_mode": {
    "name": "ipython",
    "version": 3
   },
   "file_extension": ".py",
   "mimetype": "text/x-python",
   "name": "python",
   "nbconvert_exporter": "python",
   "pygments_lexer": "ipython3",
   "version": "3.10.2"
  },
  "orig_nbformat": 4,
  "vscode": {
   "interpreter": {
    "hash": "369f2c481f4da34e4445cda3fffd2e751bd1c4d706f27375911949ba6bb62e1c"
   }
  }
 },
 "nbformat": 4,
 "nbformat_minor": 2
}
