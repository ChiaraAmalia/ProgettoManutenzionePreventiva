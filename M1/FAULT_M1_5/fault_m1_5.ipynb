{
 "cells": [
  {
   "attachments": {},
   "cell_type": "markdown",
   "metadata": {},
   "source": [
    "IMPORTAZIONE LIBRERIE"
   ]
  },
  {
   "cell_type": "code",
   "execution_count": 1,
   "metadata": {},
   "outputs": [],
   "source": [
    "import os\n",
    "import pandas as pd\n",
    "import matplotlib.pyplot as plt\n",
    "import numpy as np"
   ]
  },
  {
   "attachments": {},
   "cell_type": "markdown",
   "metadata": {},
   "source": [
    "CAMBIO PATH PER ANALISI RISPETTO AL LOG DI VOLO CONSIDERATO"
   ]
  },
  {
   "cell_type": "code",
   "execution_count": 2,
   "metadata": {},
   "outputs": [
    {
     "name": "stdout",
     "output_type": "stream",
     "text": [
      "c:\\Users\\chiar\\OneDrive\\Desktop\\MantenzionePreventiva\\ProgettoManutenzionePreventiva\\M1\\FAULT_M1_5\n"
     ]
    }
   ],
   "source": [
    "path_file = os.path.abspath(os.getcwd())\n",
    "print(path_file)\n",
    "os.chdir(path_file)"
   ]
  },
  {
   "attachments": {},
   "cell_type": "markdown",
   "metadata": {},
   "source": [
    "VOLO M1 FAULT 5%"
   ]
  },
  {
   "cell_type": "code",
   "execution_count": 3,
   "metadata": {},
   "outputs": [
    {
     "data": {
      "text/html": [
       "<div>\n",
       "<style scoped>\n",
       "    .dataframe tbody tr th:only-of-type {\n",
       "        vertical-align: middle;\n",
       "    }\n",
       "\n",
       "    .dataframe tbody tr th {\n",
       "        vertical-align: top;\n",
       "    }\n",
       "\n",
       "    .dataframe thead th {\n",
       "        text-align: right;\n",
       "    }\n",
       "</style>\n",
       "<table border=\"1\" class=\"dataframe\">\n",
       "  <thead>\n",
       "    <tr style=\"text-align: right;\">\n",
       "      <th></th>\n",
       "      <th>TimeUS</th>\n",
       "      <th>C9</th>\n",
       "      <th>C10</th>\n",
       "      <th>C11</th>\n",
       "      <th>C12</th>\n",
       "      <th>C13</th>\n",
       "      <th>C14</th>\n",
       "    </tr>\n",
       "  </thead>\n",
       "  <tbody>\n",
       "    <tr>\n",
       "      <th>6501</th>\n",
       "      <td>192587140</td>\n",
       "      <td>1412</td>\n",
       "      <td>1504</td>\n",
       "      <td>1504</td>\n",
       "      <td>1412</td>\n",
       "      <td>1456</td>\n",
       "      <td>1465</td>\n",
       "    </tr>\n",
       "    <tr>\n",
       "      <th>6502</th>\n",
       "      <td>192597516</td>\n",
       "      <td>1523</td>\n",
       "      <td>1403</td>\n",
       "      <td>1461</td>\n",
       "      <td>1472</td>\n",
       "      <td>1514</td>\n",
       "      <td>1414</td>\n",
       "    </tr>\n",
       "    <tr>\n",
       "      <th>6504</th>\n",
       "      <td>192618155</td>\n",
       "      <td>1546</td>\n",
       "      <td>1402</td>\n",
       "      <td>1436</td>\n",
       "      <td>1518</td>\n",
       "      <td>1504</td>\n",
       "      <td>1451</td>\n",
       "    </tr>\n",
       "    <tr>\n",
       "      <th>6505</th>\n",
       "      <td>192629042</td>\n",
       "      <td>1532</td>\n",
       "      <td>1433</td>\n",
       "      <td>1464</td>\n",
       "      <td>1504</td>\n",
       "      <td>1509</td>\n",
       "      <td>1459</td>\n",
       "    </tr>\n",
       "    <tr>\n",
       "      <th>6506</th>\n",
       "      <td>192639550</td>\n",
       "      <td>1527</td>\n",
       "      <td>1452</td>\n",
       "      <td>1484</td>\n",
       "      <td>1496</td>\n",
       "      <td>1517</td>\n",
       "      <td>1463</td>\n",
       "    </tr>\n",
       "    <tr>\n",
       "      <th>...</th>\n",
       "      <td>...</td>\n",
       "      <td>...</td>\n",
       "      <td>...</td>\n",
       "      <td>...</td>\n",
       "      <td>...</td>\n",
       "      <td>...</td>\n",
       "      <td>...</td>\n",
       "    </tr>\n",
       "    <tr>\n",
       "      <th>14821</th>\n",
       "      <td>284568994</td>\n",
       "      <td>1626</td>\n",
       "      <td>1408</td>\n",
       "      <td>1580</td>\n",
       "      <td>1467</td>\n",
       "      <td>1505</td>\n",
       "      <td>1546</td>\n",
       "    </tr>\n",
       "    <tr>\n",
       "      <th>14822</th>\n",
       "      <td>284579056</td>\n",
       "      <td>1623</td>\n",
       "      <td>1404</td>\n",
       "      <td>1545</td>\n",
       "      <td>1500</td>\n",
       "      <td>1468</td>\n",
       "      <td>1573</td>\n",
       "    </tr>\n",
       "    <tr>\n",
       "      <th>14823</th>\n",
       "      <td>284589530</td>\n",
       "      <td>1586</td>\n",
       "      <td>1441</td>\n",
       "      <td>1553</td>\n",
       "      <td>1480</td>\n",
       "      <td>1440</td>\n",
       "      <td>1586</td>\n",
       "    </tr>\n",
       "    <tr>\n",
       "      <th>14824</th>\n",
       "      <td>284599918</td>\n",
       "      <td>1557</td>\n",
       "      <td>1458</td>\n",
       "      <td>1561</td>\n",
       "      <td>1453</td>\n",
       "      <td>1425</td>\n",
       "      <td>1583</td>\n",
       "    </tr>\n",
       "    <tr>\n",
       "      <th>14825</th>\n",
       "      <td>284612550</td>\n",
       "      <td>1560</td>\n",
       "      <td>1427</td>\n",
       "      <td>1576</td>\n",
       "      <td>1407</td>\n",
       "      <td>1464</td>\n",
       "      <td>1529</td>\n",
       "    </tr>\n",
       "  </tbody>\n",
       "</table>\n",
       "<p>6857 rows × 7 columns</p>\n",
       "</div>"
      ],
      "text/plain": [
       "          TimeUS    C9   C10   C11   C12   C13   C14\n",
       "6501   192587140  1412  1504  1504  1412  1456  1465\n",
       "6502   192597516  1523  1403  1461  1472  1514  1414\n",
       "6504   192618155  1546  1402  1436  1518  1504  1451\n",
       "6505   192629042  1532  1433  1464  1504  1509  1459\n",
       "6506   192639550  1527  1452  1484  1496  1517  1463\n",
       "...          ...   ...   ...   ...   ...   ...   ...\n",
       "14821  284568994  1626  1408  1580  1467  1505  1546\n",
       "14822  284579056  1623  1404  1545  1500  1468  1573\n",
       "14823  284589530  1586  1441  1553  1480  1440  1586\n",
       "14824  284599918  1557  1458  1561  1453  1425  1583\n",
       "14825  284612550  1560  1427  1576  1407  1464  1529\n",
       "\n",
       "[6857 rows x 7 columns]"
      ]
     },
     "metadata": {},
     "output_type": "display_data"
    }
   ],
   "source": [
    "rcou_m1_fault5 = pd.read_csv(\"RCOU.csv\")\n",
    "rcou_m1_fault5 = rcou_m1_fault5.drop(['LineNo','C1', 'C2', 'C3', 'C4', 'C5', 'C6', 'C7', 'C8'], axis=1)\n",
    "\n",
    "rcou_m1_fault5 = rcou_m1_fault5[((rcou_m1_fault5['C9'] >= 1400) & (rcou_m1_fault5['C10'] >= 1400) & (rcou_m1_fault5['C11'] >= 1400) & (rcou_m1_fault5['C12'] >= 1400) & (rcou_m1_fault5['C13'] >= 1400) & (rcou_m1_fault5['C14']>= 1400))]\n",
    "\n",
    "pd.set_option('display.max_rows',700)\n",
    "display(rcou_m1_fault5)"
   ]
  },
  {
   "cell_type": "code",
   "execution_count": 4,
   "metadata": {},
   "outputs": [
    {
     "name": "stdout",
     "output_type": "stream",
     "text": [
      "          TimeUS  Roll  Pitch    Yaw\n",
      "6504   192595222  1.22   0.09  19.61\n",
      "6505   192605218  1.32   0.12  19.61\n",
      "6506   192615996  1.29   0.15  19.61\n",
      "6507   192626797  1.24   0.14  19.62\n",
      "6508   192637378  1.23   0.12  19.62\n",
      "...          ...   ...    ...    ...\n",
      "14825  284566773  1.28   0.19  19.28\n",
      "14826  284576961  1.35   0.18  19.19\n",
      "14827  284586972  1.39   0.11  19.12\n",
      "14828  284597792  1.44   0.02  19.05\n",
      "14829  284610260  1.63  -0.17  18.93\n",
      "\n",
      "[8326 rows x 4 columns]\n"
     ]
    }
   ],
   "source": [
    "xkf1_m1_fault5 = pd.read_csv(\"XKF1_0.csv\")\n",
    "xkf1_m1_fault5 = xkf1_m1_fault5.drop(['LineNo','C','VN','VE','VD','dPD','PN','PE','PD','GX','GY','GZ','OH'], axis=1)\n",
    "xkf1_m1_fault5 = xkf1_m1_fault5[((xkf1_m1_fault5['TimeUS'] >= 192587140) & (xkf1_m1_fault5['TimeUS'] <= 284612550))]\n",
    "print(xkf1_m1_fault5)"
   ]
  },
  {
   "cell_type": "code",
   "execution_count": 5,
   "metadata": {},
   "outputs": [
    {
     "name": "stdout",
     "output_type": "stream",
     "text": [
      "          TimeUS  DesRoll  Roll  DesPitch  Pitch  DesYaw    Yaw\n",
      "6504   192596660    -0.04  1.22      0.01   0.09   19.50  19.61\n",
      "6505   192607207    -0.02  1.32      0.00   0.12   19.50  19.61\n",
      "6506   192617586    -0.01  1.29      0.00   0.15   19.50  19.61\n",
      "6507   192628189     0.00  1.24      0.00   0.14   19.50  19.62\n",
      "6508   192638708     0.01  1.23      0.00   0.12   19.50  19.62\n",
      "...          ...      ...   ...       ...    ...     ...    ...\n",
      "14830  284568350     4.72  1.28     -2.06   0.19   16.97  19.28\n",
      "14831  284578343     4.71  1.35     -2.01   0.18   16.97  19.19\n",
      "14832  284588791     4.69  1.39     -1.96   0.11   16.98  19.12\n",
      "14833  284599135     4.67  1.44     -1.93   0.02   16.98  19.05\n",
      "14834  284611707     4.66  1.63     -1.91  -0.17   16.98  18.93\n",
      "\n",
      "[8331 rows x 7 columns]\n"
     ]
    }
   ],
   "source": [
    "att_m1_fault5 = pd.read_csv(\"ATT.csv\")\n",
    "att_m1_fault5 = att_m1_fault5.drop(['LineNo','ErrRP', 'ErrYaw', 'AEKF'], axis=1)\n",
    "att_m1_fault5 = att_m1_fault5[((att_m1_fault5['TimeUS'] >= 192587140) & (att_m1_fault5['TimeUS'] <= 284612550))]\n",
    "print(att_m1_fault5)"
   ]
  },
  {
   "cell_type": "code",
   "execution_count": 6,
   "metadata": {},
   "outputs": [
    {
     "name": "stdout",
     "output_type": "stream",
     "text": [
      "         TimeUS  DesRoll  Roll  DesPitch  Pitch  DesYaw    Yaw\n",
      "0     192596660    -0.04  1.22      0.01   0.09   19.50  19.61\n",
      "1     192607207    -0.02  1.32      0.00   0.12   19.50  19.61\n",
      "2     192617586    -0.01  1.29      0.00   0.15   19.50  19.61\n",
      "3     192628189     0.00  1.24      0.00   0.14   19.50  19.62\n",
      "4     192638708     0.01  1.23      0.00   0.12   19.50  19.62\n",
      "...         ...      ...   ...       ...    ...     ...    ...\n",
      "8326  284568350     4.72  1.28     -2.06   0.19   16.97  19.28\n",
      "8327  284578343     4.71  1.35     -2.01   0.18   16.97  19.19\n",
      "8328  284588791     4.69  1.39     -1.96   0.11   16.98  19.12\n",
      "8329  284599135     4.67  1.44     -1.93   0.02   16.98  19.05\n",
      "8330  284611707     4.66  1.63     -1.91  -0.17   16.98  18.93\n",
      "\n",
      "[8331 rows x 7 columns]\n"
     ]
    }
   ],
   "source": [
    "att_m1_fault5 = pd.merge_asof(att_m1_fault5,xkf1_m1_fault5, on=\"TimeUS\", by=[\"Roll\",\"Pitch\",\"Yaw\"], tolerance=100000)\n",
    "print(att_m1_fault5)"
   ]
  },
  {
   "cell_type": "code",
   "execution_count": 7,
   "metadata": {},
   "outputs": [
    {
     "name": "stdout",
     "output_type": "stream",
     "text": [
      "         TimeUS   RPM  Curr\n",
      "484   192612722  4165  3.31\n",
      "485   192844581  4740  4.10\n",
      "486   192947503  5736  4.03\n",
      "487   193056466  6223  3.52\n",
      "488   193163762  6139  3.84\n",
      "...         ...   ...   ...\n",
      "1246  284121608  6119  3.89\n",
      "1247  284220989  6226  3.85\n",
      "1248  284333569  6141  4.00\n",
      "1249  284444212  6116  3.61\n",
      "1250  284552951  6168  3.39\n",
      "\n",
      "[767 rows x 3 columns]\n"
     ]
    }
   ],
   "source": [
    "esc_0_m1_fault5 = pd.read_csv(\"ESC_0.csv\")\n",
    "esc_0_m1_fault5 = esc_0_m1_fault5.drop(['LineNo','Instance', 'RawRPM', 'Volt', 'Temp', 'CTot', 'MotTemp', 'Err'], axis=1)\n",
    "esc_0_m1_fault5 = esc_0_m1_fault5[((esc_0_m1_fault5['TimeUS'] >= 192587140) & (esc_0_m1_fault5['TimeUS'] <= 284612550))]\n",
    "print(esc_0_m1_fault5)"
   ]
  },
  {
   "cell_type": "code",
   "execution_count": 8,
   "metadata": {},
   "outputs": [
    {
     "name": "stdout",
     "output_type": "stream",
     "text": [
      "          TimeUS      GyrX      GyrY      GyrZ      AccX      AccY       AccZ\n",
      "25732  192589114 -0.211117  0.025207  0.011475 -0.186976 -0.192846 -10.137350\n",
      "25733  192591625  0.099821  0.095934  0.002081 -0.203514 -0.214899  -9.982902\n",
      "25734  192594526  0.195722  0.045351 -0.005243 -0.187521 -0.228367  -9.965014\n",
      "25735  192596496 -0.070339 -0.047737 -0.002205 -0.190865 -0.188905 -10.091400\n",
      "25736  192599546 -0.177986  0.015901  0.013372 -0.196611 -0.080671 -10.134050\n",
      "...          ...       ...       ...       ...       ...       ...        ...\n",
      "57373  284593970  0.259907 -0.198636 -0.122656 -0.002287  0.265491 -11.939520\n",
      "57374  284596356  0.158154 -0.124800 -0.127751  0.132627  0.148764 -12.199270\n",
      "57375  284598958  0.098933 -0.153223 -0.138708  0.238617 -0.011134 -12.169920\n",
      "57376  284608781  0.144989 -0.223607 -0.138273  0.159941 -0.284778 -12.303610\n",
      "57377  284611544  0.135807 -0.186823 -0.127937  0.030477 -0.284847 -12.342080\n",
      "\n",
      "[31646 rows x 7 columns]\n"
     ]
    }
   ],
   "source": [
    "imu_2_m1_fault5 = pd.read_csv(\"IMU_2.csv\")\n",
    "imu_2_m1_fault5 = imu_2_m1_fault5.drop(['LineNo','I', 'EG', 'EA', 'T', 'GH', 'AH', 'GHz', 'AHz'], axis=1)\n",
    "imu_2_m1_fault5 = imu_2_m1_fault5[((imu_2_m1_fault5['TimeUS'] >= 192587140) & (imu_2_m1_fault5['TimeUS'] <= 284612550))]\n",
    "print(imu_2_m1_fault5)"
   ]
  },
  {
   "cell_type": "code",
   "execution_count": 9,
   "metadata": {},
   "outputs": [
    {
     "name": "stdout",
     "output_type": "stream",
     "text": [
      "         TimeUS  DesRoll  Roll  DesPitch  Pitch  DesYaw    Yaw      GyrX  \\\n",
      "0     192596660    -0.04  1.22      0.01   0.09   19.50  19.61 -0.070339   \n",
      "1     192607207    -0.02  1.32      0.00   0.12   19.50  19.61  0.118610   \n",
      "2     192617586    -0.01  1.29      0.00   0.15   19.50  19.61  0.072522   \n",
      "3     192628189     0.00  1.24      0.00   0.14   19.50  19.62  0.014681   \n",
      "4     192638708     0.01  1.23      0.00   0.12   19.50  19.62  0.011245   \n",
      "...         ...      ...   ...       ...    ...     ...    ...       ...   \n",
      "8326  284568350     4.72  1.28     -2.06   0.19   16.97  19.28  0.145244   \n",
      "8327  284578343     4.71  1.35     -2.01   0.18   16.97  19.19  0.148275   \n",
      "8328  284588791     4.69  1.39     -1.96   0.11   16.98  19.12  0.118448   \n",
      "8329  284599135     4.67  1.44     -1.93   0.02   16.98  19.05  0.098933   \n",
      "8330  284611707     4.66  1.63     -1.91  -0.17   16.98  18.93  0.135807   \n",
      "\n",
      "          GyrY      GyrZ      AccX      AccY       AccZ  \n",
      "0    -0.047737 -0.002205 -0.190865 -0.188905 -10.091400  \n",
      "1     0.007953  0.005114 -0.051203 -0.152950 -10.025860  \n",
      "2     0.035166  0.002486  0.040518 -0.076648 -10.091070  \n",
      "3    -0.015625  0.004571  0.098660 -0.126964  -9.923847  \n",
      "4    -0.043333 -0.006217  0.064173 -0.158102  -9.808122  \n",
      "...        ...       ...       ...       ...        ...  \n",
      "8326 -0.048850 -0.140063  0.290580  0.411499 -10.269670  \n",
      "8327 -0.003250 -0.139863  0.086183  0.625735 -10.579030  \n",
      "8328 -0.069018 -0.125505 -0.055540  0.536289 -11.242990  \n",
      "8329 -0.153223 -0.138708  0.238617 -0.011134 -12.169920  \n",
      "8330 -0.186823 -0.127937  0.030477 -0.284847 -12.342080  \n",
      "\n",
      "[8331 rows x 13 columns]\n"
     ]
    }
   ],
   "source": [
    "m1_fault5 = pd.merge_asof(att_m1_fault5, imu_2_m1_fault5, on=\"TimeUS\",  tolerance= 100000)\n",
    "print(m1_fault5)"
   ]
  },
  {
   "cell_type": "code",
   "execution_count": 10,
   "metadata": {},
   "outputs": [
    {
     "name": "stdout",
     "output_type": "stream",
     "text": [
      "        TimeUS   RPM  Curr  DesRoll  Roll  DesPitch  Pitch  DesYaw    Yaw  \\\n",
      "0    192612722  4165  3.31    -0.02  1.32      0.00   0.12   19.50  19.61   \n",
      "1    192844581  4740  4.10    -0.42  1.00      0.08  -0.28   19.50  19.71   \n",
      "2    192947503  5736  4.03    -0.58  0.81      0.04   0.26   19.50  20.14   \n",
      "3    193056466  6223  3.52    -0.69  0.29      0.14   0.57   19.50  21.09   \n",
      "4    193163762  6139  3.84    -0.77  0.04     -0.05   0.97   19.50  22.18   \n",
      "..         ...   ...   ...      ...   ...       ...    ...     ...    ...   \n",
      "762  284121608  6119  3.89     5.05  1.15     -2.35  -0.57   16.95  21.25   \n",
      "763  284220989  6226  3.85     4.99  1.20     -2.34  -0.96   16.95  21.30   \n",
      "764  284333569  6141  4.00     4.85  1.04     -2.46  -0.74   16.94  20.97   \n",
      "765  284444212  6116  3.61     4.61  1.38     -2.36  -0.57   16.95  20.35   \n",
      "766  284552951  6168  3.39     4.72  1.11     -2.16   0.30   16.96  19.49   \n",
      "\n",
      "         GyrX      GyrY      GyrZ      AccX      AccY       AccZ  \n",
      "0    0.118610  0.007953  0.005114 -0.051203 -0.152950 -10.025860  \n",
      "1    0.051833 -0.043301  0.037572 -0.236918  0.269149 -11.162780  \n",
      "2   -0.041744  0.044305  0.121913  0.323343  0.113782 -11.959560  \n",
      "3   -0.101852  0.067234  0.174519 -0.324770  0.341861 -11.886220  \n",
      "4    0.063140  0.020376  0.181229 -0.073019  0.181373 -10.738670  \n",
      "..        ...       ...       ...       ...       ...        ...  \n",
      "762  0.087617 -0.082808  0.084674  0.007646  0.434559 -10.427710  \n",
      "763 -0.198512  0.081648 -0.045543 -0.101174  0.304892  -9.383451  \n",
      "764 -0.073484  0.008164 -0.070546 -0.189559  0.393743  -9.662591  \n",
      "765  0.030501  0.040311 -0.129541 -0.469755  0.018193  -9.643804  \n",
      "766 -0.011193  0.113155 -0.142260  0.411920  0.578380  -9.790403  \n",
      "\n",
      "[767 rows x 15 columns]\n"
     ]
    }
   ],
   "source": [
    "m1_fault5 = pd.merge_asof(esc_0_m1_fault5, m1_fault5, on=\"TimeUS\",  tolerance= 100000)\n",
    "print(m1_fault5)"
   ]
  },
  {
   "cell_type": "code",
   "execution_count": 11,
   "metadata": {},
   "outputs": [
    {
     "name": "stdout",
     "output_type": "stream",
     "text": [
      "       TimeUS   RPM  Curr  DesRoll  Roll  DesPitch  Pitch  DesYaw    Yaw  \\\n",
      "0           0  4165  3.31    -0.02  1.32      0.00   0.12   19.50  19.61   \n",
      "1      231859  4740  4.10    -0.42  1.00      0.08  -0.28   19.50  19.71   \n",
      "2      334781  5736  4.03    -0.58  0.81      0.04   0.26   19.50  20.14   \n",
      "3      443744  6223  3.52    -0.69  0.29      0.14   0.57   19.50  21.09   \n",
      "4      551040  6139  3.84    -0.77  0.04     -0.05   0.97   19.50  22.18   \n",
      "..        ...   ...   ...      ...   ...       ...    ...     ...    ...   \n",
      "762  91508886  6119  3.89     5.05  1.15     -2.35  -0.57   16.95  21.25   \n",
      "763  91608267  6226  3.85     4.99  1.20     -2.34  -0.96   16.95  21.30   \n",
      "764  91720847  6141  4.00     4.85  1.04     -2.46  -0.74   16.94  20.97   \n",
      "765  91831490  6116  3.61     4.61  1.38     -2.36  -0.57   16.95  20.35   \n",
      "766  91940229  6168  3.39     4.72  1.11     -2.16   0.30   16.96  19.49   \n",
      "\n",
      "         GyrX      GyrY      GyrZ      AccX      AccY       AccZ  Guasto  \n",
      "0    0.118610  0.007953  0.005114 -0.051203 -0.152950 -10.025860       1  \n",
      "1    0.051833 -0.043301  0.037572 -0.236918  0.269149 -11.162780       1  \n",
      "2   -0.041744  0.044305  0.121913  0.323343  0.113782 -11.959560       1  \n",
      "3   -0.101852  0.067234  0.174519 -0.324770  0.341861 -11.886220       1  \n",
      "4    0.063140  0.020376  0.181229 -0.073019  0.181373 -10.738670       1  \n",
      "..        ...       ...       ...       ...       ...        ...     ...  \n",
      "762  0.087617 -0.082808  0.084674  0.007646  0.434559 -10.427710       1  \n",
      "763 -0.198512  0.081648 -0.045543 -0.101174  0.304892  -9.383451       1  \n",
      "764 -0.073484  0.008164 -0.070546 -0.189559  0.393743  -9.662591       1  \n",
      "765  0.030501  0.040311 -0.129541 -0.469755  0.018193  -9.643804       1  \n",
      "766 -0.011193  0.113155 -0.142260  0.411920  0.578380  -9.790403       1  \n",
      "\n",
      "[767 rows x 16 columns]\n"
     ]
    }
   ],
   "source": [
    "m1_fault5[\"TimeUS\"] = m1_fault5[\"TimeUS\"] - m1_fault5.iloc[0][\"TimeUS\"]\n",
    "m1_fault5[\"TimeUS\"] = m1_fault5[\"TimeUS\"].astype(int)\n",
    "m1_fault5[\"Guasto\"] = 1\n",
    "print(m1_fault5)"
   ]
  },
  {
   "cell_type": "code",
   "execution_count": 12,
   "metadata": {},
   "outputs": [
    {
     "name": "stdout",
     "output_type": "stream",
     "text": [
      "c:\\Users\\chiar\\OneDrive\\Desktop\\MantenzionePreventiva\\ProgettoManutenzionePreventiva\\\n"
     ]
    }
   ],
   "source": [
    "path_file = path_file.replace(r\"M1\\FAULT_M1_5\", \"\")\n",
    "os.chdir(path_file)\n",
    "m1_fault5.to_csv('m1_fault5.csv', index=False)\n",
    "print(path_file)"
   ]
  }
 ],
 "metadata": {
  "kernelspec": {
   "display_name": "Python 3",
   "language": "python",
   "name": "python3"
  },
  "language_info": {
   "codemirror_mode": {
    "name": "ipython",
    "version": 3
   },
   "file_extension": ".py",
   "mimetype": "text/x-python",
   "name": "python",
   "nbconvert_exporter": "python",
   "pygments_lexer": "ipython3",
   "version": "3.10.2"
  },
  "orig_nbformat": 4,
  "vscode": {
   "interpreter": {
    "hash": "369f2c481f4da34e4445cda3fffd2e751bd1c4d706f27375911949ba6bb62e1c"
   }
  }
 },
 "nbformat": 4,
 "nbformat_minor": 2
}
